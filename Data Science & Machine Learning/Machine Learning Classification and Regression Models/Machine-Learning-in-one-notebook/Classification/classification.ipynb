{
 "cells": [
  {
   "cell_type": "markdown",
   "metadata": {},
   "source": [
    "# Classification Problems"
   ]
  },
  {
   "cell_type": "code",
   "execution_count": 1,
   "metadata": {
    "tags": []
   },
   "outputs": [],
   "source": [
    "import numpy as np\n",
    "import pandas as pd \n",
    "import statsmodels.api as sm\n",
    "import statsmodels.formula.api as smf\n",
    "import seaborn as sns\n",
    "from sklearn.preprocessing import scale \n",
    "from sklearn.model_selection import train_test_split, GridSearchCV, cross_val_score\n",
    "from sklearn.metrics import confusion_matrix, accuracy_score, classification_report\n",
    "from sklearn.metrics import roc_auc_score,roc_curve\n",
    "import statsmodels.formula.api as smf\n",
    "import matplotlib.pyplot as plt\n",
    "from sklearn.neighbors import KNeighborsClassifier\n",
    "from sklearn.discriminant_analysis import LinearDiscriminantAnalysis\n",
    "from sklearn.linear_model import LogisticRegression\n",
    "from sklearn.svm import SVC\n",
    "    from sklearn.naive_bayes import GaussianNB\n",
    "    from sklearn import tree\n",
    "from sklearn.ensemble import RandomForestClassifier\n",
    "from sklearn.ensemble import GradientBoostingClassifier\n",
    "from xgboost import XGBClassifier\n",
    "from lightgbm import LGBMClassifier\n",
    "from catboost import CatBoostClassifier\n",
    "\n",
    "from warnings import filterwarnings\n",
    "filterwarnings('ignore')"
   ]
  },
  {
   "cell_type": "markdown",
   "metadata": {},
   "source": [
    "# Logistic Regression"
   ]
  },
  {
   "cell_type": "markdown",
   "metadata": {},
   "source": [
    "## Model "
   ]
  },
  {
   "cell_type": "code",
   "execution_count": 2,
   "metadata": {
    "tags": []
   },
   "outputs": [
    {
     "data": {
      "text/html": [
       "<div>\n",
       "<style scoped>\n",
       "    .dataframe tbody tr th:only-of-type {\n",
       "        vertical-align: middle;\n",
       "    }\n",
       "\n",
       "    .dataframe tbody tr th {\n",
       "        vertical-align: top;\n",
       "    }\n",
       "\n",
       "    .dataframe thead th {\n",
       "        text-align: right;\n",
       "    }\n",
       "</style>\n",
       "<table border=\"1\" class=\"dataframe\">\n",
       "  <thead>\n",
       "    <tr style=\"text-align: right;\">\n",
       "      <th></th>\n",
       "      <th>Pregnancies</th>\n",
       "      <th>Glucose</th>\n",
       "      <th>BloodPressure</th>\n",
       "      <th>SkinThickness</th>\n",
       "      <th>Insulin</th>\n",
       "      <th>BMI</th>\n",
       "      <th>DiabetesPedigreeFunction</th>\n",
       "      <th>Age</th>\n",
       "      <th>Outcome</th>\n",
       "    </tr>\n",
       "  </thead>\n",
       "  <tbody>\n",
       "    <tr>\n",
       "      <th>0</th>\n",
       "      <td>6</td>\n",
       "      <td>148</td>\n",
       "      <td>72</td>\n",
       "      <td>35</td>\n",
       "      <td>0</td>\n",
       "      <td>33.6</td>\n",
       "      <td>0.627</td>\n",
       "      <td>50</td>\n",
       "      <td>1</td>\n",
       "    </tr>\n",
       "    <tr>\n",
       "      <th>1</th>\n",
       "      <td>1</td>\n",
       "      <td>85</td>\n",
       "      <td>66</td>\n",
       "      <td>29</td>\n",
       "      <td>0</td>\n",
       "      <td>26.6</td>\n",
       "      <td>0.351</td>\n",
       "      <td>31</td>\n",
       "      <td>0</td>\n",
       "    </tr>\n",
       "    <tr>\n",
       "      <th>2</th>\n",
       "      <td>8</td>\n",
       "      <td>183</td>\n",
       "      <td>64</td>\n",
       "      <td>0</td>\n",
       "      <td>0</td>\n",
       "      <td>23.3</td>\n",
       "      <td>0.672</td>\n",
       "      <td>32</td>\n",
       "      <td>1</td>\n",
       "    </tr>\n",
       "    <tr>\n",
       "      <th>3</th>\n",
       "      <td>1</td>\n",
       "      <td>89</td>\n",
       "      <td>66</td>\n",
       "      <td>23</td>\n",
       "      <td>94</td>\n",
       "      <td>28.1</td>\n",
       "      <td>0.167</td>\n",
       "      <td>21</td>\n",
       "      <td>0</td>\n",
       "    </tr>\n",
       "    <tr>\n",
       "      <th>4</th>\n",
       "      <td>0</td>\n",
       "      <td>137</td>\n",
       "      <td>40</td>\n",
       "      <td>35</td>\n",
       "      <td>168</td>\n",
       "      <td>43.1</td>\n",
       "      <td>2.288</td>\n",
       "      <td>33</td>\n",
       "      <td>1</td>\n",
       "    </tr>\n",
       "  </tbody>\n",
       "</table>\n",
       "</div>"
      ],
      "text/plain": [
       "   Pregnancies  Glucose  BloodPressure  SkinThickness  Insulin   BMI  \\\n",
       "0            6      148             72             35        0  33.6   \n",
       "1            1       85             66             29        0  26.6   \n",
       "2            8      183             64              0        0  23.3   \n",
       "3            1       89             66             23       94  28.1   \n",
       "4            0      137             40             35      168  43.1   \n",
       "\n",
       "   DiabetesPedigreeFunction  Age  Outcome  \n",
       "0                     0.627   50        1  \n",
       "1                     0.351   31        0  \n",
       "2                     0.672   32        1  \n",
       "3                     0.167   21        0  \n",
       "4                     2.288   33        1  "
      ]
     },
     "execution_count": 2,
     "metadata": {},
     "output_type": "execute_result"
    }
   ],
   "source": [
    "diabetes = pd.read_csv(\"diabetes.csv\")\n",
    "df = diabetes.copy()\n",
    "df = df.dropna()\n",
    "df.head()"
   ]
  },
  {
   "cell_type": "code",
   "execution_count": 3,
   "metadata": {
    "tags": []
   },
   "outputs": [
    {
     "name": "stdout",
     "output_type": "stream",
     "text": [
      "<class 'pandas.core.frame.DataFrame'>\n",
      "RangeIndex: 768 entries, 0 to 767\n",
      "Data columns (total 9 columns):\n",
      " #   Column                    Non-Null Count  Dtype  \n",
      "---  ------                    --------------  -----  \n",
      " 0   Pregnancies               768 non-null    int64  \n",
      " 1   Glucose                   768 non-null    int64  \n",
      " 2   BloodPressure             768 non-null    int64  \n",
      " 3   SkinThickness             768 non-null    int64  \n",
      " 4   Insulin                   768 non-null    int64  \n",
      " 5   BMI                       768 non-null    float64\n",
      " 6   DiabetesPedigreeFunction  768 non-null    float64\n",
      " 7   Age                       768 non-null    int64  \n",
      " 8   Outcome                   768 non-null    int64  \n",
      "dtypes: float64(2), int64(7)\n",
      "memory usage: 54.1 KB\n"
     ]
    }
   ],
   "source": [
    "df.info()"
   ]
  },
  {
   "cell_type": "code",
   "execution_count": 4,
   "metadata": {
    "tags": []
   },
   "outputs": [
    {
     "data": {
      "text/plain": [
       "Outcome\n",
       "0    500\n",
       "1    268\n",
       "Name: count, dtype: int64"
      ]
     },
     "execution_count": 4,
     "metadata": {},
     "output_type": "execute_result"
    }
   ],
   "source": [
    "df[\"Outcome\"].value_counts()"
   ]
  },
  {
   "cell_type": "code",
   "execution_count": 5,
   "metadata": {
    "tags": []
   },
   "outputs": [
    {
     "data": {
      "image/png": "[encoded data removed]",
      "text/plain": [
       "<Figure size 640x480 with 1 Axes>"
      ]
     },
     "metadata": {},
     "output_type": "display_data"
    }
   ],
   "source": [
    "df[\"Outcome\"].value_counts().plot.barh();"
   ]
  },
  {
   "cell_type": "code",
   "execution_count": 6,
   "metadata": {
    "tags": []
   },
   "outputs": [
    {
     "data": {
      "text/html": [
       "<div>\n",
       "<style scoped>\n",
       "    .dataframe tbody tr th:only-of-type {\n",
       "        vertical-align: middle;\n",
       "    }\n",
       "\n",
       "    .dataframe tbody tr th {\n",
       "        vertical-align: top;\n",
       "    }\n",
       "\n",
       "    .dataframe thead th {\n",
       "        text-align: right;\n",
       "    }\n",
       "</style>\n",
       "<table border=\"1\" class=\"dataframe\">\n",
       "  <thead>\n",
       "    <tr style=\"text-align: right;\">\n",
       "      <th></th>\n",
       "      <th>count</th>\n",
       "      <th>mean</th>\n",
       "      <th>std</th>\n",
       "      <th>min</th>\n",
       "      <th>25%</th>\n",
       "      <th>50%</th>\n",
       "      <th>75%</th>\n",
       "      <th>max</th>\n",
       "    </tr>\n",
       "  </thead>\n",
       "  <tbody>\n",
       "    <tr>\n",
       "      <th>Pregnancies</th>\n",
       "      <td>768.0</td>\n",
       "      <td>3.845052</td>\n",
       "      <td>3.369578</td>\n",
       "      <td>0.000</td>\n",
       "      <td>1.00000</td>\n",
       "      <td>3.0000</td>\n",
       "      <td>6.00000</td>\n",
       "      <td>17.00</td>\n",
       "    </tr>\n",
       "    <tr>\n",
       "      <th>Glucose</th>\n",
       "      <td>768.0</td>\n",
       "      <td>120.894531</td>\n",
       "      <td>31.972618</td>\n",
       "      <td>0.000</td>\n",
       "      <td>99.00000</td>\n",
       "      <td>117.0000</td>\n",
       "      <td>140.25000</td>\n",
       "      <td>199.00</td>\n",
       "    </tr>\n",
       "    <tr>\n",
       "      <th>BloodPressure</th>\n",
       "      <td>768.0</td>\n",
       "      <td>69.105469</td>\n",
       "      <td>19.355807</td>\n",
       "      <td>0.000</td>\n",
       "      <td>62.00000</td>\n",
       "      <td>72.0000</td>\n",
       "      <td>80.00000</td>\n",
       "      <td>122.00</td>\n",
       "    </tr>\n",
       "    <tr>\n",
       "      <th>SkinThickness</th>\n",
       "      <td>768.0</td>\n",
       "      <td>20.536458</td>\n",
       "      <td>15.952218</td>\n",
       "      <td>0.000</td>\n",
       "      <td>0.00000</td>\n",
       "      <td>23.0000</td>\n",
       "      <td>32.00000</td>\n",
       "      <td>99.00</td>\n",
       "    </tr>\n",
       "    <tr>\n",
       "      <th>Insulin</th>\n",
       "      <td>768.0</td>\n",
       "      <td>79.799479</td>\n",
       "      <td>115.244002</td>\n",
       "      <td>0.000</td>\n",
       "      <td>0.00000</td>\n",
       "      <td>30.5000</td>\n",
       "      <td>127.25000</td>\n",
       "      <td>846.00</td>\n",
       "    </tr>\n",
       "    <tr>\n",
       "      <th>BMI</th>\n",
       "      <td>768.0</td>\n",
       "      <td>31.992578</td>\n",
       "      <td>7.884160</td>\n",
       "      <td>0.000</td>\n",
       "      <td>27.30000</td>\n",
       "      <td>32.0000</td>\n",
       "      <td>36.60000</td>\n",
       "      <td>67.10</td>\n",
       "    </tr>\n",
       "    <tr>\n",
       "      <th>DiabetesPedigreeFunction</th>\n",
       "      <td>768.0</td>\n",
       "      <td>0.471876</td>\n",
       "      <td>0.331329</td>\n",
       "      <td>0.078</td>\n",
       "      <td>0.24375</td>\n",
       "      <td>0.3725</td>\n",
       "      <td>0.62625</td>\n",
       "      <td>2.42</td>\n",
       "    </tr>\n",
       "    <tr>\n",
       "      <th>Age</th>\n",
       "      <td>768.0</td>\n",
       "      <td>33.240885</td>\n",
       "      <td>11.760232</td>\n",
       "      <td>21.000</td>\n",
       "      <td>24.00000</td>\n",
       "      <td>29.0000</td>\n",
       "      <td>41.00000</td>\n",
       "      <td>81.00</td>\n",
       "    </tr>\n",
       "    <tr>\n",
       "      <th>Outcome</th>\n",
       "      <td>768.0</td>\n",
       "      <td>0.348958</td>\n",
       "      <td>0.476951</td>\n",
       "      <td>0.000</td>\n",
       "      <td>0.00000</td>\n",
       "      <td>0.0000</td>\n",
       "      <td>1.00000</td>\n",
       "      <td>1.00</td>\n",
       "    </tr>\n",
       "  </tbody>\n",
       "</table>\n",
       "</div>"
      ],
      "text/plain": [
       "                          count        mean         std     min       25%  \\\n",
       "Pregnancies               768.0    3.845052    3.369578   0.000   1.00000   \n",
       "Glucose                   768.0  120.894531   31.972618   0.000  99.00000   \n",
       "BloodPressure             768.0   69.105469   19.355807   0.000  62.00000   \n",
       "SkinThickness             768.0   20.536458   15.952218   0.000   0.00000   \n",
       "Insulin                   768.0   79.799479  115.244002   0.000   0.00000   \n",
       "BMI                       768.0   31.992578    7.884160   0.000  27.30000   \n",
       "DiabetesPedigreeFunction  768.0    0.471876    0.331329   0.078   0.24375   \n",
       "Age                       768.0   33.240885   11.760232  21.000  24.00000   \n",
       "Outcome                   768.0    0.348958    0.476951   0.000   0.00000   \n",
       "\n",
       "                               50%        75%     max  \n",
       "Pregnancies                 3.0000    6.00000   17.00  \n",
       "Glucose                   117.0000  140.25000  199.00  \n",
       "BloodPressure              72.0000   80.00000  122.00  \n",
       "SkinThickness              23.0000   32.00000   99.00  \n",
       "Insulin                    30.5000  127.25000  846.00  \n",
       "BMI                        32.0000   36.60000   67.10  \n",
       "DiabetesPedigreeFunction    0.3725    0.62625    2.42  \n",
       "Age                        29.0000   41.00000   81.00  \n",
       "Outcome                     0.0000    1.00000    1.00  "
      ]
     },
     "execution_count": 6,
     "metadata": {},
     "output_type": "execute_result"
    }
   ],
   "source": [
    "df.describe().T"
   ]
  },
  {
   "cell_type": "code",
   "execution_count": 8,
   "metadata": {
    "tags": []
   },
   "outputs": [],
   "source": [
    "y = df[\"Outcome\"]\n",
    "X = df.drop([\"Outcome\"], axis = 1)"
   ]
  },
  {
   "cell_type": "code",
   "execution_count": 13,
   "metadata": {
    "tags": []
   },
   "outputs": [],
   "source": [
    "# StatsModel"
   ]
  },
  {
   "cell_type": "code",
   "execution_count": 22,
   "metadata": {
    "tags": []
   },
   "outputs": [],
   "source": [
    "loj = sm.Logit(y, X)"
   ]
  },
  {
   "cell_type": "code",
   "execution_count": 26,
   "metadata": {
    "tags": []
   },
   "outputs": [
    {
     "name": "stdout",
     "output_type": "stream",
     "text": [
      "Optimization terminated successfully.\n",
      "         Current function value: 0.608498\n",
      "         Iterations 5\n"
     ]
    }
   ],
   "source": [
    "loj_model = loj.fit()"
   ]
  },
  {
   "cell_type": "code",
   "execution_count": 27,
   "metadata": {
    "tags": []
   },
   "outputs": [
    {
     "data": {
      "text/html": [
       "<table class=\"simpletable\">\n",
       "<caption>Logit Regression Results</caption>\n",
       "<tr>\n",
       "  <th>Dep. Variable:</th>        <td>Outcome</td>     <th>  No. Observations:  </th>  <td>   768</td>  \n",
       "</tr>\n",
       "<tr>\n",
       "  <th>Model:</th>                 <td>Logit</td>      <th>  Df Residuals:      </th>  <td>   760</td>  \n",
       "</tr>\n",
       "<tr>\n",
       "  <th>Method:</th>                 <td>MLE</td>       <th>  Df Model:          </th>  <td>     7</td>  \n",
       "</tr>\n",
       "<tr>\n",
       "  <th>Date:</th>            <td>Wed, 19 Feb 2025</td> <th>  Pseudo R-squ.:     </th>  <td>0.05922</td> \n",
       "</tr>\n",
       "<tr>\n",
       "  <th>Time:</th>                <td>16:34:32</td>     <th>  Log-Likelihood:    </th> <td> -467.33</td> \n",
       "</tr>\n",
       "<tr>\n",
       "  <th>converged:</th>             <td>True</td>       <th>  LL-Null:           </th> <td> -496.74</td> \n",
       "</tr>\n",
       "<tr>\n",
       "  <th>Covariance Type:</th>     <td>nonrobust</td>    <th>  LLR p-value:       </th> <td>2.583e-10</td>\n",
       "</tr>\n",
       "</table>\n",
       "<table class=\"simpletable\">\n",
       "<tr>\n",
       "              <td></td>                <th>coef</th>     <th>std err</th>      <th>z</th>      <th>P>|z|</th>  <th>[0.025</th>    <th>0.975]</th>  \n",
       "</tr>\n",
       "<tr>\n",
       "  <th>Pregnancies</th>              <td>    0.1284</td> <td>    0.029</td> <td>    4.484</td> <td> 0.000</td> <td>    0.072</td> <td>    0.185</td>\n",
       "</tr>\n",
       "<tr>\n",
       "  <th>Glucose</th>                  <td>    0.0129</td> <td>    0.003</td> <td>    4.757</td> <td> 0.000</td> <td>    0.008</td> <td>    0.018</td>\n",
       "</tr>\n",
       "<tr>\n",
       "  <th>BloodPressure</th>            <td>   -0.0303</td> <td>    0.005</td> <td>   -6.481</td> <td> 0.000</td> <td>   -0.039</td> <td>   -0.021</td>\n",
       "</tr>\n",
       "<tr>\n",
       "  <th>SkinThickness</th>            <td>    0.0002</td> <td>    0.006</td> <td>    0.032</td> <td> 0.974</td> <td>   -0.012</td> <td>    0.012</td>\n",
       "</tr>\n",
       "<tr>\n",
       "  <th>Insulin</th>                  <td>    0.0007</td> <td>    0.001</td> <td>    0.942</td> <td> 0.346</td> <td>   -0.001</td> <td>    0.002</td>\n",
       "</tr>\n",
       "<tr>\n",
       "  <th>BMI</th>                      <td>   -0.0048</td> <td>    0.011</td> <td>   -0.449</td> <td> 0.653</td> <td>   -0.026</td> <td>    0.016</td>\n",
       "</tr>\n",
       "<tr>\n",
       "  <th>DiabetesPedigreeFunction</th> <td>    0.3203</td> <td>    0.240</td> <td>    1.335</td> <td> 0.182</td> <td>   -0.150</td> <td>    0.790</td>\n",
       "</tr>\n",
       "<tr>\n",
       "  <th>Age</th>                      <td>   -0.0156</td> <td>    0.008</td> <td>   -1.852</td> <td> 0.064</td> <td>   -0.032</td> <td>    0.001</td>\n",
       "</tr>\n",
       "</table>"
      ],
      "text/latex": [
       "\\begin{center}\n",
       "\\begin{tabular}{lclc}\n",
       "\\toprule\n",
       "\\textbf{Dep. Variable:}           &     Outcome      & \\textbf{  No. Observations:  } &      768    \\\\\n",
       "\\textbf{Model:}                   &      Logit       & \\textbf{  Df Residuals:      } &      760    \\\\\n",
       "\\textbf{Method:}                  &       MLE        & \\textbf{  Df Model:          } &        7    \\\\\n",
       "\\textbf{Date:}                    & Wed, 19 Feb 2025 & \\textbf{  Pseudo R-squ.:     } &  0.05922    \\\\\n",
       "\\textbf{Time:}                    &     16:34:32     & \\textbf{  Log-Likelihood:    } &   -467.33   \\\\\n",
       "\\textbf{converged:}               &       True       & \\textbf{  LL-Null:           } &   -496.74   \\\\\n",
       "\\textbf{Covariance Type:}         &    nonrobust     & \\textbf{  LLR p-value:       } & 2.583e-10   \\\\\n",
       "\\bottomrule\n",
       "\\end{tabular}\n",
       "\\begin{tabular}{lcccccc}\n",
       "                                  & \\textbf{coef} & \\textbf{std err} & \\textbf{z} & \\textbf{P$> |$z$|$} & \\textbf{[0.025} & \\textbf{0.975]}  \\\\\n",
       "\\midrule\n",
       "\\textbf{Pregnancies}              &       0.1284  &        0.029     &     4.484  &         0.000        &        0.072    &        0.185     \\\\\n",
       "\\textbf{Glucose}                  &       0.0129  &        0.003     &     4.757  &         0.000        &        0.008    &        0.018     \\\\\n",
       "\\textbf{BloodPressure}            &      -0.0303  &        0.005     &    -6.481  &         0.000        &       -0.039    &       -0.021     \\\\\n",
       "\\textbf{SkinThickness}            &       0.0002  &        0.006     &     0.032  &         0.974        &       -0.012    &        0.012     \\\\\n",
       "\\textbf{Insulin}                  &       0.0007  &        0.001     &     0.942  &         0.346        &       -0.001    &        0.002     \\\\\n",
       "\\textbf{BMI}                      &      -0.0048  &        0.011     &    -0.449  &         0.653        &       -0.026    &        0.016     \\\\\n",
       "\\textbf{DiabetesPedigreeFunction} &       0.3203  &        0.240     &     1.335  &         0.182        &       -0.150    &        0.790     \\\\\n",
       "\\textbf{Age}                      &      -0.0156  &        0.008     &    -1.852  &         0.064        &       -0.032    &        0.001     \\\\\n",
       "\\bottomrule\n",
       "\\end{tabular}\n",
       "%\\caption{Logit Regression Results}\n",
       "\\end{center}"
      ],
      "text/plain": [
       "<class 'statsmodels.iolib.summary.Summary'>\n",
       "\"\"\"\n",
       "                           Logit Regression Results                           \n",
       "==============================================================================\n",
       "Dep. Variable:                Outcome   No. Observations:                  768\n",
       "Model:                          Logit   Df Residuals:                      760\n",
       "Method:                           MLE   Df Model:                            7\n",
       "Date:                Wed, 19 Feb 2025   Pseudo R-squ.:                 0.05922\n",
       "Time:                        16:34:32   Log-Likelihood:                -467.33\n",
       "converged:                       True   LL-Null:                       -496.74\n",
       "Covariance Type:            nonrobust   LLR p-value:                 2.583e-10\n",
       "============================================================================================\n",
       "                               coef    std err          z      P>|z|      [0.025      0.975]\n",
       "--------------------------------------------------------------------------------------------\n",
       "Pregnancies                  0.1284      0.029      4.484      0.000       0.072       0.185\n",
       "Glucose                      0.0129      0.003      4.757      0.000       0.008       0.018\n",
       "BloodPressure               -0.0303      0.005     -6.481      0.000      -0.039      -0.021\n",
       "SkinThickness                0.0002      0.006      0.032      0.974      -0.012       0.012\n",
       "Insulin                      0.0007      0.001      0.942      0.346      -0.001       0.002\n",
       "BMI                         -0.0048      0.011     -0.449      0.653      -0.026       0.016\n",
       "DiabetesPedigreeFunction     0.3203      0.240      1.335      0.182      -0.150       0.790\n",
       "Age                         -0.0156      0.008     -1.852      0.064      -0.032       0.001\n",
       "============================================================================================\n",
       "\"\"\""
      ]
     },
     "execution_count": 27,
     "metadata": {},
     "output_type": "execute_result"
    }
   ],
   "source": [
    "loj_model.summary()"
   ]
  },
  {
   "cell_type": "code",
   "execution_count": 28,
   "metadata": {
    "tags": []
   },
   "outputs": [],
   "source": [
    "# ScikitLearn"
   ]
  },
  {
   "cell_type": "code",
   "execution_count": 29,
   "metadata": {
    "tags": []
   },
   "outputs": [],
   "source": [
    "from sklearn.linear_model import LogisticRegression"
   ]
  },
  {
   "cell_type": "code",
   "execution_count": 30,
   "metadata": {
    "tags": []
   },
   "outputs": [],
   "source": [
    "loj = LogisticRegression(solver=\"liblinear\")"
   ]
  },
  {
   "cell_type": "code",
   "execution_count": 31,
   "metadata": {
    "tags": []
   },
   "outputs": [],
   "source": [
    "loj_model = loj.fit(X, y)"
   ]
  },
  {
   "cell_type": "code",
   "execution_count": 32,
   "metadata": {
    "tags": []
   },
   "outputs": [
    {
     "data": {
      "text/plain": [
       "array([-5.88679617])"
      ]
     },
     "execution_count": 32,
     "metadata": {},
     "output_type": "execute_result"
    }
   ],
   "source": [
    "loj_model.intercept_"
   ]
  },
  {
   "cell_type": "code",
   "execution_count": 33,
   "metadata": {
    "tags": []
   },
   "outputs": [
    {
     "data": {
      "text/plain": [
       "array([[ 1.16994476e-01,  2.83733435e-02, -1.68981359e-02,\n",
       "         7.55145090e-04, -6.41407258e-04,  5.97201268e-02,\n",
       "         6.76128123e-01,  7.23498971e-03]])"
      ]
     },
     "execution_count": 33,
     "metadata": {},
     "output_type": "execute_result"
    }
   ],
   "source": [
    "loj_model.coef_"
   ]
  },
  {
   "cell_type": "markdown",
   "metadata": {},
   "source": [
    "## Model Optimization & Fine-Tuning"
   ]
  },
  {
   "cell_type": "code",
   "execution_count": 34,
   "metadata": {
    "tags": []
   },
   "outputs": [],
   "source": [
    "y_pred = loj_model.predict(X)"
   ]
  },
  {
   "cell_type": "code",
   "execution_count": 35,
   "metadata": {
    "tags": []
   },
   "outputs": [
    {
     "data": {
      "text/plain": [
       "array([[448,  52],\n",
       "       [121, 147]], dtype=int64)"
      ]
     },
     "execution_count": 35,
     "metadata": {},
     "output_type": "execute_result"
    }
   ],
   "source": [
    "confusion_matrix(y, y_pred)"
   ]
  },
  {
   "cell_type": "code",
   "execution_count": 45,
   "metadata": {
    "tags": []
   },
   "outputs": [
    {
     "data": {
      "text/plain": [
       "0.7747395833333334"
      ]
     },
     "execution_count": 45,
     "metadata": {},
     "output_type": "execute_result"
    }
   ],
   "source": [
    "accuracy_score(y, y_pred)"
   ]
  },
  {
   "cell_type": "code",
   "execution_count": 37,
   "metadata": {
    "tags": []
   },
   "outputs": [
    {
     "name": "stdout",
     "output_type": "stream",
     "text": [
      "              precision    recall  f1-score   support\n",
      "\n",
      "           0       0.79      0.90      0.84       500\n",
      "           1       0.74      0.55      0.63       268\n",
      "\n",
      "    accuracy                           0.77       768\n",
      "   macro avg       0.76      0.72      0.73       768\n",
      "weighted avg       0.77      0.77      0.77       768\n",
      "\n"
     ]
    }
   ],
   "source": [
    "print(classification_report(y, y_pred))"
   ]
  },
  {
   "cell_type": "code",
   "execution_count": 38,
   "metadata": {
    "tags": []
   },
   "outputs": [
    {
     "data": {
      "text/plain": [
       "array([1, 0, 1, 0, 1], dtype=int64)"
      ]
     },
     "execution_count": 38,
     "metadata": {},
     "output_type": "execute_result"
    }
   ],
   "source": [
    "loj_model.predict(X)[0:5]"
   ]
  },
  {
   "cell_type": "code",
   "execution_count": 39,
   "metadata": {
    "tags": []
   },
   "outputs": [
    {
     "data": {
      "text/plain": [
       "array([[0.3505852 , 0.6494148 ],\n",
       "       [0.91692518, 0.08307482],\n",
       "       [0.22489628, 0.77510372],\n",
       "       [0.92127453, 0.07872547],\n",
       "       [0.16759435, 0.83240565],\n",
       "       [0.79886109, 0.20113891],\n",
       "       [0.8800353 , 0.1199647 ],\n",
       "       [0.27795677, 0.72204323],\n",
       "       [0.32053464, 0.67946536],\n",
       "       [0.92264521, 0.07735479]])"
      ]
     },
     "execution_count": 39,
     "metadata": {},
     "output_type": "execute_result"
    }
   ],
   "source": [
    "loj_model.predict_proba(X)[0:10]"
   ]
  },
  {
   "cell_type": "code",
   "execution_count": 40,
   "metadata": {
    "tags": []
   },
   "outputs": [
    {
     "data": {
      "text/plain": [
       "0    1\n",
       "1    0\n",
       "2    1\n",
       "3    0\n",
       "4    1\n",
       "5    0\n",
       "6    1\n",
       "7    0\n",
       "8    1\n",
       "9    1\n",
       "Name: Outcome, dtype: int64"
      ]
     },
     "execution_count": 40,
     "metadata": {},
     "output_type": "execute_result"
    }
   ],
   "source": [
    "y[0:10]"
   ]
  },
  {
   "cell_type": "code",
   "execution_count": 41,
   "metadata": {
    "tags": []
   },
   "outputs": [],
   "source": [
    "y_probs = loj_model.predict_proba(X)\n",
    "y_probs = y_probs[:,1]"
   ]
  },
  {
   "cell_type": "code",
   "execution_count": 43,
   "metadata": {
    "tags": []
   },
   "outputs": [],
   "source": [
    "y_pred = [1 if i > 0.5 else 0 for i in y_probs] "
   ]
  },
  {
   "cell_type": "code",
   "execution_count": 44,
   "metadata": {
    "tags": []
   },
   "outputs": [
    {
     "data": {
      "text/plain": [
       "[1, 0, 1, 0, 1, 0, 0, 1, 1, 0]"
      ]
     },
     "execution_count": 44,
     "metadata": {},
     "output_type": "execute_result"
    }
   ],
   "source": [
    "y_pred[0:10]"
   ]
  },
  {
   "cell_type": "code",
   "execution_count": 46,
   "metadata": {
    "tags": []
   },
   "outputs": [
    {
     "data": {
      "text/plain": [
       "array([[448,  52],\n",
       "       [121, 147]], dtype=int64)"
      ]
     },
     "execution_count": 46,
     "metadata": {},
     "output_type": "execute_result"
    }
   ],
   "source": [
    "confusion_matrix(y, y_pred)"
   ]
  },
  {
   "cell_type": "code",
   "execution_count": 47,
   "metadata": {
    "tags": []
   },
   "outputs": [
    {
     "data": {
      "text/plain": [
       "0.7747395833333334"
      ]
     },
     "execution_count": 47,
     "metadata": {},
     "output_type": "execute_result"
    }
   ],
   "source": [
    "accuracy_score(y, y_pred)"
   ]
  },
  {
   "cell_type": "code",
   "execution_count": 48,
   "metadata": {
    "tags": []
   },
   "outputs": [
    {
     "name": "stdout",
     "output_type": "stream",
     "text": [
      "              precision    recall  f1-score   support\n",
      "\n",
      "           0       0.79      0.90      0.84       500\n",
      "           1       0.74      0.55      0.63       268\n",
      "\n",
      "    accuracy                           0.77       768\n",
      "   macro avg       0.76      0.72      0.73       768\n",
      "weighted avg       0.77      0.77      0.77       768\n",
      "\n"
     ]
    }
   ],
   "source": [
    "print(classification_report(y, y_pred))"
   ]
  },
  {
   "cell_type": "code",
   "execution_count": 49,
   "metadata": {
    "tags": []
   },
   "outputs": [
    {
     "data": {
      "image/png": "[encoded data removed]",
      "text/plain": [
       "<Figure size 640x480 with 1 Axes>"
      ]
     },
     "metadata": {},
     "output_type": "display_data"
    }
   ],
   "source": [
    "logit_roc_auc = roc_auc_score(y, loj_model.predict(X))\n",
    "\n",
    "fpr, tpr, thresholds = roc_curve(y, loj_model.predict_proba(X)[:,1])\n",
    "plt.figure()\n",
    "plt.plot(fpr, tpr, label='AUC (area = %0.2f)' % logit_roc_auc)\n",
    "plt.plot([0, 1], [0, 1],'r--')\n",
    "plt.xlim([0.0, 1.0])\n",
    "plt.ylim([0.0, 1.05])\n",
    "plt.xlabel('False Positive Oranı')\n",
    "plt.ylabel('True Positive Oranı')\n",
    "plt.title('ROC')\n",
    "plt.show()"
   ]
  },
  {
   "cell_type": "code",
   "execution_count": 50,
   "metadata": {
    "tags": []
   },
   "outputs": [],
   "source": [
    "X_train, X_test, y_train, y_test = train_test_split(X, y, test_size=0.25, random_state=42)"
   ]
  },
  {
   "cell_type": "code",
   "execution_count": 52,
   "metadata": {
    "tags": []
   },
   "outputs": [],
   "source": [
    "loj = LogisticRegression(solver=\"liblinear\")\n",
    "loj_model= loj.fit(X_train,y_train)"
   ]
  },
  {
   "cell_type": "code",
   "execution_count": 55,
   "metadata": {
    "tags": []
   },
   "outputs": [
    {
     "data": {
      "text/plain": [
       "0.7447916666666666"
      ]
     },
     "execution_count": 55,
     "metadata": {},
     "output_type": "execute_result"
    }
   ],
   "source": [
    "accuracy_score(y_test, loj_model.predict(X_test))"
   ]
  },
  {
   "cell_type": "code",
   "execution_count": 58,
   "metadata": {
    "tags": []
   },
   "outputs": [
    {
     "data": {
      "text/plain": [
       "0.7397368421052632"
      ]
     },
     "execution_count": 58,
     "metadata": {},
     "output_type": "execute_result"
    }
   ],
   "source": [
    "cross_val_score(loj_model, X_test, y_test, cv = 10).mean()"
   ]
  },
  {
   "cell_type": "markdown",
   "metadata": {},
   "source": [
    "# Gaussian Naive Bayes"
   ]
  },
  {
   "cell_type": "code",
   "execution_count": 78,
   "metadata": {
    "tags": []
   },
   "outputs": [],
   "source": [
    "df = diabetes.copy()\n",
    "df = df.dropna()\n",
    "y = df[\"Outcome\"]\n",
    "X = df.drop(['Outcome'], axis=1)\n",
    "X_train, X_test, y_train, y_test = train_test_split(X, y, \n",
    "                                                    test_size=0.30, \n",
    "                                                    random_state=42)"
   ]
  },
  {
   "cell_type": "code",
   "execution_count": 70,
   "metadata": {
    "tags": []
   },
   "outputs": [],
   "source": [
    "from sklearn.naive_bayes import GaussianNB"
   ]
  },
  {
   "cell_type": "code",
   "execution_count": 71,
   "metadata": {
    "tags": []
   },
   "outputs": [],
   "source": [
    "nb = GaussianNB()"
   ]
  },
  {
   "cell_type": "code",
   "execution_count": 72,
   "metadata": {
    "tags": []
   },
   "outputs": [],
   "source": [
    "nb_model = nb.fit(X_train, y_train)"
   ]
  },
  {
   "cell_type": "code",
   "execution_count": 73,
   "metadata": {
    "tags": []
   },
   "outputs": [
    {
     "data": {
      "text/plain": [
       "array([0, 0, 0, 0, 1, 1, 0, 0, 0, 1], dtype=int64)"
      ]
     },
     "execution_count": 73,
     "metadata": {},
     "output_type": "execute_result"
    }
   ],
   "source": [
    "nb_model.predict(X_test)[0:10]"
   ]
  },
  {
   "cell_type": "code",
   "execution_count": 74,
   "metadata": {
    "tags": []
   },
   "outputs": [
    {
     "data": {
      "text/plain": [
       "array([[0.73815858, 0.26184142],\n",
       "       [0.94027894, 0.05972106],\n",
       "       [0.97242831, 0.02757169],\n",
       "       [0.82840069, 0.17159931],\n",
       "       [0.47153473, 0.52846527],\n",
       "       [0.47274458, 0.52725542],\n",
       "       [0.99607705, 0.00392295],\n",
       "       [0.69925055, 0.30074945],\n",
       "       [0.53838117, 0.46161883],\n",
       "       [0.25004536, 0.74995464]])"
      ]
     },
     "execution_count": 74,
     "metadata": {},
     "output_type": "execute_result"
    }
   ],
   "source": [
    "nb_model.predict_proba(X_test)[0:10]"
   ]
  },
  {
   "cell_type": "code",
   "execution_count": 75,
   "metadata": {
    "tags": []
   },
   "outputs": [],
   "source": [
    "y_pred = nb_model.predict(X_test)"
   ]
  },
  {
   "cell_type": "code",
   "execution_count": 76,
   "metadata": {
    "tags": []
   },
   "outputs": [
    {
     "data": {
      "text/plain": [
       "0.7445887445887446"
      ]
     },
     "execution_count": 76,
     "metadata": {},
     "output_type": "execute_result"
    }
   ],
   "source": [
    "accuracy_score(y_test, y_pred)"
   ]
  },
  {
   "cell_type": "code",
   "execution_count": 77,
   "metadata": {
    "tags": []
   },
   "outputs": [
    {
     "data": {
      "text/plain": [
       "0.775"
      ]
     },
     "execution_count": 77,
     "metadata": {},
     "output_type": "execute_result"
    }
   ],
   "source": [
    "cross_val_score(nb_model, X_test, y_test, cv = 10).mean()"
   ]
  },
  {
   "cell_type": "markdown",
   "metadata": {},
   "source": [
    "# KNN"
   ]
  },
  {
   "cell_type": "markdown",
   "metadata": {},
   "source": [
    "## Model Optimization & Fine-Tuning"
   ]
  },
  {
   "cell_type": "code",
   "execution_count": 80,
   "metadata": {
    "tags": []
   },
   "outputs": [],
   "source": [
    "df = diabetes.copy()\n",
    "df = df.dropna()\n",
    "y = df[\"Outcome\"]\n",
    "X = df.drop(['Outcome'], axis=1)\n",
    "X_train, X_test, y_train, y_test = train_test_split(X, y, \n",
    "                                                    test_size=0.30, \n",
    "                                                    random_state=42)"
   ]
  },
  {
   "cell_type": "code",
   "execution_count": 82,
   "metadata": {
    "tags": []
   },
   "outputs": [],
   "source": [
    "knn = KNeighborsClassifier()\n",
    "knn_model = knn.fit(X_train, y_train)"
   ]
  },
  {
   "cell_type": "code",
   "execution_count": 83,
   "metadata": {
    "tags": []
   },
   "outputs": [],
   "source": [
    "y_pred = knn_model.predict(X_test)"
   ]
  },
  {
   "cell_type": "code",
   "execution_count": 84,
   "metadata": {
    "tags": []
   },
   "outputs": [
    {
     "data": {
      "text/plain": [
       "0.6883116883116883"
      ]
     },
     "execution_count": 84,
     "metadata": {},
     "output_type": "execute_result"
    }
   ],
   "source": [
    "accuracy_score(y_test, y_pred)"
   ]
  },
  {
   "cell_type": "code",
   "execution_count": 85,
   "metadata": {
    "tags": []
   },
   "outputs": [
    {
     "data": {
      "text/plain": [
       "0.6755434782608696"
      ]
     },
     "execution_count": 85,
     "metadata": {},
     "output_type": "execute_result"
    }
   ],
   "source": [
    "cross_val_score(knn_model, X_test, y_test, cv = 10).mean()"
   ]
  },
  {
   "cell_type": "code",
   "execution_count": 86,
   "metadata": {
    "tags": []
   },
   "outputs": [],
   "source": [
    "knn_params = {\"n_neighbors\": np.arange(1,50)}"
   ]
  },
  {
   "cell_type": "code",
   "execution_count": 87,
   "metadata": {
    "tags": []
   },
   "outputs": [],
   "source": [
    "knn = KNeighborsClassifier()"
   ]
  },
  {
   "cell_type": "code",
   "execution_count": 89,
   "metadata": {
    "tags": []
   },
   "outputs": [],
   "source": [
    "knn_cv = GridSearchCV(knn , knn_params, cv=10)"
   ]
  },
  {
   "cell_type": "code",
   "execution_count": 92,
   "metadata": {
    "tags": []
   },
   "outputs": [
    {
     "data": {
      "text/html": [
       "<style>#sk-container-id-2 {color: black;}#sk-container-id-2 pre{padding: 0;}#sk-container-id-2 div.sk-toggleable {background-color: white;}#sk-container-id-2 label.sk-toggleable__label {cursor: pointer;display: block;width: 100%;margin-bottom: 0;padding: 0.3em;box-sizing: border-box;text-align: center;}#sk-container-id-2 label.sk-toggleable__label-arrow:before {content: \"▸\";float: left;margin-right: 0.25em;color: #696969;}#sk-container-id-2 label.sk-toggleable__label-arrow:hover:before {color: black;}#sk-container-id-2 div.sk-estimator:hover label.sk-toggleable__label-arrow:before {color: black;}#sk-container-id-2 div.sk-toggleable__content {max-height: 0;max-width: 0;overflow: hidden;text-align: left;background-color: #f0f8ff;}#sk-container-id-2 div.sk-toggleable__content pre {margin: 0.2em;color: black;border-radius: 0.25em;background-color: #f0f8ff;}#sk-container-id-2 input.sk-toggleable__control:checked~div.sk-toggleable__content {max-height: 200px;max-width: 100%;overflow: auto;}#sk-container-id-2 input.sk-toggleable__control:checked~label.sk-toggleable__label-arrow:before {content: \"▾\";}#sk-container-id-2 div.sk-estimator input.sk-toggleable__control:checked~label.sk-toggleable__label {background-color: #d4ebff;}#sk-container-id-2 div.sk-label input.sk-toggleable__control:checked~label.sk-toggleable__label {background-color: #d4ebff;}#sk-container-id-2 input.sk-hidden--visually {border: 0;clip: rect(1px 1px 1px 1px);clip: rect(1px, 1px, 1px, 1px);height: 1px;margin: -1px;overflow: hidden;padding: 0;position: absolute;width: 1px;}#sk-container-id-2 div.sk-estimator {font-family: monospace;background-color: #f0f8ff;border: 1px dotted black;border-radius: 0.25em;box-sizing: border-box;margin-bottom: 0.5em;}#sk-container-id-2 div.sk-estimator:hover {background-color: #d4ebff;}#sk-container-id-2 div.sk-parallel-item::after {content: \"\";width: 100%;border-bottom: 1px solid gray;flex-grow: 1;}#sk-container-id-2 div.sk-label:hover label.sk-toggleable__label {background-color: #d4ebff;}#sk-container-id-2 div.sk-serial::before {content: \"\";position: absolute;border-left: 1px solid gray;box-sizing: border-box;top: 0;bottom: 0;left: 50%;z-index: 0;}#sk-container-id-2 div.sk-serial {display: flex;flex-direction: column;align-items: center;background-color: white;padding-right: 0.2em;padding-left: 0.2em;position: relative;}#sk-container-id-2 div.sk-item {position: relative;z-index: 1;}#sk-container-id-2 div.sk-parallel {display: flex;align-items: stretch;justify-content: center;background-color: white;position: relative;}#sk-container-id-2 div.sk-item::before, #sk-container-id-2 div.sk-parallel-item::before {content: \"\";position: absolute;border-left: 1px solid gray;box-sizing: border-box;top: 0;bottom: 0;left: 50%;z-index: -1;}#sk-container-id-2 div.sk-parallel-item {display: flex;flex-direction: column;z-index: 1;position: relative;background-color: white;}#sk-container-id-2 div.sk-parallel-item:first-child::after {align-self: flex-end;width: 50%;}#sk-container-id-2 div.sk-parallel-item:last-child::after {align-self: flex-start;width: 50%;}#sk-container-id-2 div.sk-parallel-item:only-child::after {width: 0;}#sk-container-id-2 div.sk-dashed-wrapped {border: 1px dashed gray;margin: 0 0.4em 0.5em 0.4em;box-sizing: border-box;padding-bottom: 0.4em;background-color: white;}#sk-container-id-2 div.sk-label label {font-family: monospace;font-weight: bold;display: inline-block;line-height: 1.2em;}#sk-container-id-2 div.sk-label-container {text-align: center;}#sk-container-id-2 div.sk-container {/* jupyter's `normalize.less` sets `[hidden] { display: none; }` but bootstrap.min.css set `[hidden] { display: none !important; }` so we also need the `!important` here to be able to override the default hidden behavior on the sphinx rendered scikit-learn.org. See: https://github.com/scikit-learn/scikit-learn/issues/21755 */display: inline-block !important;position: relative;}#sk-container-id-2 div.sk-text-repr-fallback {display: none;}</style><div id=\"sk-container-id-2\" class=\"sk-top-container\"><div class=\"sk-text-repr-fallback\"><pre>GridSearchCV(cv=10, estimator=KNeighborsClassifier(),\n",
       "             param_grid={&#x27;n_neighbors&#x27;: array([ 1,  2,  3,  4,  5,  6,  7,  8,  9, 10, 11, 12, 13, 14, 15, 16, 17,\n",
       "       18, 19, 20, 21, 22, 23, 24, 25, 26, 27, 28, 29, 30, 31, 32, 33, 34,\n",
       "       35, 36, 37, 38, 39, 40, 41, 42, 43, 44, 45, 46, 47, 48, 49])})</pre><b>In a Jupyter environment, please rerun this cell to show the HTML representation or trust the notebook. <br />On GitHub, the HTML representation is unable to render, please try loading this page with nbviewer.org.</b></div><div class=\"sk-container\" hidden><div class=\"sk-item sk-dashed-wrapped\"><div class=\"sk-label-container\"><div class=\"sk-label sk-toggleable\"><input class=\"sk-toggleable__control sk-hidden--visually\" id=\"sk-estimator-id-2\" type=\"checkbox\" ><label for=\"sk-estimator-id-2\" class=\"sk-toggleable__label sk-toggleable__label-arrow\">GridSearchCV</label><div class=\"sk-toggleable__content\"><pre>GridSearchCV(cv=10, estimator=KNeighborsClassifier(),\n",
       "             param_grid={&#x27;n_neighbors&#x27;: array([ 1,  2,  3,  4,  5,  6,  7,  8,  9, 10, 11, 12, 13, 14, 15, 16, 17,\n",
       "       18, 19, 20, 21, 22, 23, 24, 25, 26, 27, 28, 29, 30, 31, 32, 33, 34,\n",
       "       35, 36, 37, 38, 39, 40, 41, 42, 43, 44, 45, 46, 47, 48, 49])})</pre></div></div></div><div class=\"sk-parallel\"><div class=\"sk-parallel-item\"><div class=\"sk-item\"><div class=\"sk-label-container\"><div class=\"sk-label sk-toggleable\"><input class=\"sk-toggleable__control sk-hidden--visually\" id=\"sk-estimator-id-3\" type=\"checkbox\" ><label for=\"sk-estimator-id-3\" class=\"sk-toggleable__label sk-toggleable__label-arrow\">estimator: KNeighborsClassifier</label><div class=\"sk-toggleable__content\"><pre>KNeighborsClassifier()</pre></div></div></div><div class=\"sk-serial\"><div class=\"sk-item\"><div class=\"sk-estimator sk-toggleable\"><input class=\"sk-toggleable__control sk-hidden--visually\" id=\"sk-estimator-id-4\" type=\"checkbox\" ><label for=\"sk-estimator-id-4\" class=\"sk-toggleable__label sk-toggleable__label-arrow\">KNeighborsClassifier</label><div class=\"sk-toggleable__content\"><pre>KNeighborsClassifier()</pre></div></div></div></div></div></div></div></div></div></div>"
      ],
      "text/plain": [
       "GridSearchCV(cv=10, estimator=KNeighborsClassifier(),\n",
       "             param_grid={'n_neighbors': array([ 1,  2,  3,  4,  5,  6,  7,  8,  9, 10, 11, 12, 13, 14, 15, 16, 17,\n",
       "       18, 19, 20, 21, 22, 23, 24, 25, 26, 27, 28, 29, 30, 31, 32, 33, 34,\n",
       "       35, 36, 37, 38, 39, 40, 41, 42, 43, 44, 45, 46, 47, 48, 49])})"
      ]
     },
     "execution_count": 92,
     "metadata": {},
     "output_type": "execute_result"
    }
   ],
   "source": [
    "knn_cv.fit(X_train, y_train)"
   ]
  },
  {
   "cell_type": "code",
   "execution_count": 93,
   "metadata": {
    "tags": []
   },
   "outputs": [
    {
     "name": "stdout",
     "output_type": "stream",
     "text": [
      "best score:0.748637316561845\n",
      "best parameters:{'n_neighbors': 11}\n"
     ]
    }
   ],
   "source": [
    "print(\"best score:\" + str(knn_cv.best_score_))\n",
    "print(\"best parameters:\" + str(knn_cv.best_params_))"
   ]
  },
  {
   "cell_type": "code",
   "execution_count": 94,
   "metadata": {
    "tags": []
   },
   "outputs": [],
   "source": [
    "knn = KNeighborsClassifier(11)"
   ]
  },
  {
   "cell_type": "code",
   "execution_count": 95,
   "metadata": {
    "tags": []
   },
   "outputs": [],
   "source": [
    "knn_tuned = knn_cv.fit(X_train, y_train)"
   ]
  },
  {
   "cell_type": "code",
   "execution_count": 96,
   "metadata": {
    "tags": []
   },
   "outputs": [
    {
     "data": {
      "text/plain": [
       "0.7316017316017316"
      ]
     },
     "execution_count": 96,
     "metadata": {},
     "output_type": "execute_result"
    }
   ],
   "source": [
    "knn_tuned.score(X_test, y_test)"
   ]
  },
  {
   "cell_type": "code",
   "execution_count": 99,
   "metadata": {
    "tags": []
   },
   "outputs": [],
   "source": [
    "y_pred = knn_tuned.predict(X_test)"
   ]
  },
  {
   "cell_type": "code",
   "execution_count": 100,
   "metadata": {
    "tags": []
   },
   "outputs": [
    {
     "data": {
      "text/plain": [
       "0.7316017316017316"
      ]
     },
     "execution_count": 100,
     "metadata": {},
     "output_type": "execute_result"
    }
   ],
   "source": [
    "accuracy_score(y_test, y_pred)"
   ]
  },
  {
   "cell_type": "markdown",
   "metadata": {},
   "source": [
    "# SVM (Support Vector Machine's)"
   ]
  },
  {
   "cell_type": "code",
   "execution_count": 101,
   "metadata": {
    "tags": []
   },
   "outputs": [],
   "source": [
    "df = diabetes.copy()\n",
    "df = df.dropna()\n",
    "y = df[\"Outcome\"]\n",
    "X = df.drop(['Outcome'], axis=1)\n",
    "X_train, X_test, y_train, y_test = train_test_split(X, y, \n",
    "                                                    test_size=0.30, \n",
    "                                                    random_state=42)"
   ]
  },
  {
   "cell_type": "code",
   "execution_count": 103,
   "metadata": {
    "tags": []
   },
   "outputs": [],
   "source": [
    "svm_model = SVC(kernel=\"linear\").fit(X_train,y_train)"
   ]
  },
  {
   "cell_type": "code",
   "execution_count": 104,
   "metadata": {
    "tags": []
   },
   "outputs": [],
   "source": [
    "y_pred = svm_model.predict(X_test)"
   ]
  },
  {
   "cell_type": "code",
   "execution_count": 105,
   "metadata": {
    "tags": []
   },
   "outputs": [
    {
     "data": {
      "text/plain": [
       "0.7445887445887446"
      ]
     },
     "execution_count": 105,
     "metadata": {},
     "output_type": "execute_result"
    }
   ],
   "source": [
    "accuracy_score(y_test, y_pred)"
   ]
  },
  {
   "cell_type": "code",
   "execution_count": 106,
   "metadata": {
    "tags": []
   },
   "outputs": [
    {
     "data": {
      "text/plain": [
       "0.6755434782608696"
      ]
     },
     "execution_count": 106,
     "metadata": {},
     "output_type": "execute_result"
    }
   ],
   "source": [
    "cross_val_score(knn_model, X_test, y_test, cv = 10).mean()"
   ]
  },
  {
   "cell_type": "markdown",
   "metadata": {},
   "source": [
    "## Model Optimization & Fine-Tuning\n"
   ]
  },
  {
   "cell_type": "code",
   "execution_count": 107,
   "metadata": {
    "tags": []
   },
   "outputs": [],
   "source": [
    "svc_params = {\"C\": np.arange(1,10)}\n",
    "svc = SVC(kernel=\"linear\")"
   ]
  },
  {
   "cell_type": "code",
   "execution_count": 108,
   "metadata": {
    "tags": []
   },
   "outputs": [],
   "source": [
    "svc_cv_model = GridSearchCV(svc, svc_params, cv=10, n_jobs=-1,verbose=2)"
   ]
  },
  {
   "cell_type": "code",
   "execution_count": 109,
   "metadata": {
    "tags": []
   },
   "outputs": [
    {
     "name": "stdout",
     "output_type": "stream",
     "text": [
      "Fitting 10 folds for each of 9 candidates, totalling 90 fits\n"
     ]
    },
    {
     "data": {
      "text/html": [
       "<style>#sk-container-id-3 {color: black;}#sk-container-id-3 pre{padding: 0;}#sk-container-id-3 div.sk-toggleable {background-color: white;}#sk-container-id-3 label.sk-toggleable__label {cursor: pointer;display: block;width: 100%;margin-bottom: 0;padding: 0.3em;box-sizing: border-box;text-align: center;}#sk-container-id-3 label.sk-toggleable__label-arrow:before {content: \"▸\";float: left;margin-right: 0.25em;color: #696969;}#sk-container-id-3 label.sk-toggleable__label-arrow:hover:before {color: black;}#sk-container-id-3 div.sk-estimator:hover label.sk-toggleable__label-arrow:before {color: black;}#sk-container-id-3 div.sk-toggleable__content {max-height: 0;max-width: 0;overflow: hidden;text-align: left;background-color: #f0f8ff;}#sk-container-id-3 div.sk-toggleable__content pre {margin: 0.2em;color: black;border-radius: 0.25em;background-color: #f0f8ff;}#sk-container-id-3 input.sk-toggleable__control:checked~div.sk-toggleable__content {max-height: 200px;max-width: 100%;overflow: auto;}#sk-container-id-3 input.sk-toggleable__control:checked~label.sk-toggleable__label-arrow:before {content: \"▾\";}#sk-container-id-3 div.sk-estimator input.sk-toggleable__control:checked~label.sk-toggleable__label {background-color: #d4ebff;}#sk-container-id-3 div.sk-label input.sk-toggleable__control:checked~label.sk-toggleable__label {background-color: #d4ebff;}#sk-container-id-3 input.sk-hidden--visually {border: 0;clip: rect(1px 1px 1px 1px);clip: rect(1px, 1px, 1px, 1px);height: 1px;margin: -1px;overflow: hidden;padding: 0;position: absolute;width: 1px;}#sk-container-id-3 div.sk-estimator {font-family: monospace;background-color: #f0f8ff;border: 1px dotted black;border-radius: 0.25em;box-sizing: border-box;margin-bottom: 0.5em;}#sk-container-id-3 div.sk-estimator:hover {background-color: #d4ebff;}#sk-container-id-3 div.sk-parallel-item::after {content: \"\";width: 100%;border-bottom: 1px solid gray;flex-grow: 1;}#sk-container-id-3 div.sk-label:hover label.sk-toggleable__label {background-color: #d4ebff;}#sk-container-id-3 div.sk-serial::before {content: \"\";position: absolute;border-left: 1px solid gray;box-sizing: border-box;top: 0;bottom: 0;left: 50%;z-index: 0;}#sk-container-id-3 div.sk-serial {display: flex;flex-direction: column;align-items: center;background-color: white;padding-right: 0.2em;padding-left: 0.2em;position: relative;}#sk-container-id-3 div.sk-item {position: relative;z-index: 1;}#sk-container-id-3 div.sk-parallel {display: flex;align-items: stretch;justify-content: center;background-color: white;position: relative;}#sk-container-id-3 div.sk-item::before, #sk-container-id-3 div.sk-parallel-item::before {content: \"\";position: absolute;border-left: 1px solid gray;box-sizing: border-box;top: 0;bottom: 0;left: 50%;z-index: -1;}#sk-container-id-3 div.sk-parallel-item {display: flex;flex-direction: column;z-index: 1;position: relative;background-color: white;}#sk-container-id-3 div.sk-parallel-item:first-child::after {align-self: flex-end;width: 50%;}#sk-container-id-3 div.sk-parallel-item:last-child::after {align-self: flex-start;width: 50%;}#sk-container-id-3 div.sk-parallel-item:only-child::after {width: 0;}#sk-container-id-3 div.sk-dashed-wrapped {border: 1px dashed gray;margin: 0 0.4em 0.5em 0.4em;box-sizing: border-box;padding-bottom: 0.4em;background-color: white;}#sk-container-id-3 div.sk-label label {font-family: monospace;font-weight: bold;display: inline-block;line-height: 1.2em;}#sk-container-id-3 div.sk-label-container {text-align: center;}#sk-container-id-3 div.sk-container {/* jupyter's `normalize.less` sets `[hidden] { display: none; }` but bootstrap.min.css set `[hidden] { display: none !important; }` so we also need the `!important` here to be able to override the default hidden behavior on the sphinx rendered scikit-learn.org. See: https://github.com/scikit-learn/scikit-learn/issues/21755 */display: inline-block !important;position: relative;}#sk-container-id-3 div.sk-text-repr-fallback {display: none;}</style><div id=\"sk-container-id-3\" class=\"sk-top-container\"><div class=\"sk-text-repr-fallback\"><pre>GridSearchCV(cv=10, estimator=SVC(kernel=&#x27;linear&#x27;), n_jobs=-1,\n",
       "             param_grid={&#x27;C&#x27;: array([1, 2, 3, 4, 5, 6, 7, 8, 9])}, verbose=2)</pre><b>In a Jupyter environment, please rerun this cell to show the HTML representation or trust the notebook. <br />On GitHub, the HTML representation is unable to render, please try loading this page with nbviewer.org.</b></div><div class=\"sk-container\" hidden><div class=\"sk-item sk-dashed-wrapped\"><div class=\"sk-label-container\"><div class=\"sk-label sk-toggleable\"><input class=\"sk-toggleable__control sk-hidden--visually\" id=\"sk-estimator-id-5\" type=\"checkbox\" ><label for=\"sk-estimator-id-5\" class=\"sk-toggleable__label sk-toggleable__label-arrow\">GridSearchCV</label><div class=\"sk-toggleable__content\"><pre>GridSearchCV(cv=10, estimator=SVC(kernel=&#x27;linear&#x27;), n_jobs=-1,\n",
       "             param_grid={&#x27;C&#x27;: array([1, 2, 3, 4, 5, 6, 7, 8, 9])}, verbose=2)</pre></div></div></div><div class=\"sk-parallel\"><div class=\"sk-parallel-item\"><div class=\"sk-item\"><div class=\"sk-label-container\"><div class=\"sk-label sk-toggleable\"><input class=\"sk-toggleable__control sk-hidden--visually\" id=\"sk-estimator-id-6\" type=\"checkbox\" ><label for=\"sk-estimator-id-6\" class=\"sk-toggleable__label sk-toggleable__label-arrow\">estimator: SVC</label><div class=\"sk-toggleable__content\"><pre>SVC(kernel=&#x27;linear&#x27;)</pre></div></div></div><div class=\"sk-serial\"><div class=\"sk-item\"><div class=\"sk-estimator sk-toggleable\"><input class=\"sk-toggleable__control sk-hidden--visually\" id=\"sk-estimator-id-7\" type=\"checkbox\" ><label for=\"sk-estimator-id-7\" class=\"sk-toggleable__label sk-toggleable__label-arrow\">SVC</label><div class=\"sk-toggleable__content\"><pre>SVC(kernel=&#x27;linear&#x27;)</pre></div></div></div></div></div></div></div></div></div></div>"
      ],
      "text/plain": [
       "GridSearchCV(cv=10, estimator=SVC(kernel='linear'), n_jobs=-1,\n",
       "             param_grid={'C': array([1, 2, 3, 4, 5, 6, 7, 8, 9])}, verbose=2)"
      ]
     },
     "execution_count": 109,
     "metadata": {},
     "output_type": "execute_result"
    }
   ],
   "source": [
    "svc_cv_model.fit(X_train, y_train)"
   ]
  },
  {
   "cell_type": "code",
   "execution_count": 110,
   "metadata": {
    "tags": []
   },
   "outputs": [
    {
     "name": "stdout",
     "output_type": "stream",
     "text": [
      "best parameters:{'C': 5}\n"
     ]
    }
   ],
   "source": [
    "print(\"best parameters:\" + str(svc_cv_model.best_params_))"
   ]
  },
  {
   "cell_type": "code",
   "execution_count": 111,
   "metadata": {
    "tags": []
   },
   "outputs": [],
   "source": [
    "svc_tuned = SVC(kernel=\"linear\", C=5).fit(X_train,y_train)"
   ]
  },
  {
   "cell_type": "code",
   "execution_count": 112,
   "metadata": {
    "tags": []
   },
   "outputs": [],
   "source": [
    "y_pred = svc_tuned.predict(X_test)"
   ]
  },
  {
   "cell_type": "code",
   "execution_count": 113,
   "metadata": {
    "tags": []
   },
   "outputs": [
    {
     "data": {
      "text/plain": [
       "0.7445887445887446"
      ]
     },
     "execution_count": 113,
     "metadata": {},
     "output_type": "execute_result"
    }
   ],
   "source": [
    "accuracy_score(y_test, y_pred)"
   ]
  },
  {
   "cell_type": "markdown",
   "metadata": {},
   "source": [
    "# RBF SVC (Non-Linear SVC)"
   ]
  },
  {
   "cell_type": "markdown",
   "metadata": {},
   "source": [
    "When SVC() is called, if no kernel parameter is specified, the “rbf” kernel is used by default."
   ]
  },
  {
   "cell_type": "code",
   "execution_count": 120,
   "metadata": {
    "tags": []
   },
   "outputs": [],
   "source": [
    "df = diabetes.copy()\n",
    "df = df.dropna()\n",
    "y = df[\"Outcome\"]\n",
    "X = df.drop(['Outcome'], axis=1)\n",
    "X_train, X_test, y_train, y_test = train_test_split(X, y, \n",
    "                                                    test_size=0.30, \n",
    "                                                    random_state=42)"
   ]
  },
  {
   "cell_type": "code",
   "execution_count": 121,
   "metadata": {
    "tags": []
   },
   "outputs": [],
   "source": [
    "svc_model = SVC().fit(X_train,y_train)"
   ]
  },
  {
   "cell_type": "code",
   "execution_count": 122,
   "metadata": {
    "tags": []
   },
   "outputs": [],
   "source": [
    "y_pred = svc_model.predict(X_test)"
   ]
  },
  {
   "cell_type": "code",
   "execution_count": 123,
   "metadata": {
    "tags": []
   },
   "outputs": [
    {
     "data": {
      "text/plain": [
       "0.7359307359307359"
      ]
     },
     "execution_count": 123,
     "metadata": {},
     "output_type": "execute_result"
    }
   ],
   "source": [
    "accuracy_score(y_test, y_pred)"
   ]
  },
  {
   "cell_type": "markdown",
   "metadata": {},
   "source": [
    "## Model Optimization & Fine-Tuning\n"
   ]
  },
  {
   "cell_type": "code",
   "execution_count": 124,
   "metadata": {
    "tags": []
   },
   "outputs": [],
   "source": [
    "svc_params = {\"C\": [0.0001, 0.001, 0.1,1,5,10,50,100],\n",
    "             \"gamma\": [0.0001, 0.001, 0.1,1,5,10,50,100]}"
   ]
  },
  {
   "cell_type": "code",
   "execution_count": 125,
   "metadata": {
    "tags": []
   },
   "outputs": [],
   "source": [
    "svc = SVC()"
   ]
  },
  {
   "cell_type": "code",
   "execution_count": 126,
   "metadata": {
    "tags": []
   },
   "outputs": [],
   "source": [
    "svc_cv_model = GridSearchCV(svc, svc_params, cv=10, n_jobs=-1,verbose=2)"
   ]
  },
  {
   "cell_type": "code",
   "execution_count": 127,
   "metadata": {
    "tags": []
   },
   "outputs": [
    {
     "name": "stdout",
     "output_type": "stream",
     "text": [
      "Fitting 10 folds for each of 64 candidates, totalling 640 fits\n"
     ]
    },
    {
     "data": {
      "text/html": [
       "<style>#sk-container-id-4 {color: black;}#sk-container-id-4 pre{padding: 0;}#sk-container-id-4 div.sk-toggleable {background-color: white;}#sk-container-id-4 label.sk-toggleable__label {cursor: pointer;display: block;width: 100%;margin-bottom: 0;padding: 0.3em;box-sizing: border-box;text-align: center;}#sk-container-id-4 label.sk-toggleable__label-arrow:before {content: \"▸\";float: left;margin-right: 0.25em;color: #696969;}#sk-container-id-4 label.sk-toggleable__label-arrow:hover:before {color: black;}#sk-container-id-4 div.sk-estimator:hover label.sk-toggleable__label-arrow:before {color: black;}#sk-container-id-4 div.sk-toggleable__content {max-height: 0;max-width: 0;overflow: hidden;text-align: left;background-color: #f0f8ff;}#sk-container-id-4 div.sk-toggleable__content pre {margin: 0.2em;color: black;border-radius: 0.25em;background-color: #f0f8ff;}#sk-container-id-4 input.sk-toggleable__control:checked~div.sk-toggleable__content {max-height: 200px;max-width: 100%;overflow: auto;}#sk-container-id-4 input.sk-toggleable__control:checked~label.sk-toggleable__label-arrow:before {content: \"▾\";}#sk-container-id-4 div.sk-estimator input.sk-toggleable__control:checked~label.sk-toggleable__label {background-color: #d4ebff;}#sk-container-id-4 div.sk-label input.sk-toggleable__control:checked~label.sk-toggleable__label {background-color: #d4ebff;}#sk-container-id-4 input.sk-hidden--visually {border: 0;clip: rect(1px 1px 1px 1px);clip: rect(1px, 1px, 1px, 1px);height: 1px;margin: -1px;overflow: hidden;padding: 0;position: absolute;width: 1px;}#sk-container-id-4 div.sk-estimator {font-family: monospace;background-color: #f0f8ff;border: 1px dotted black;border-radius: 0.25em;box-sizing: border-box;margin-bottom: 0.5em;}#sk-container-id-4 div.sk-estimator:hover {background-color: #d4ebff;}#sk-container-id-4 div.sk-parallel-item::after {content: \"\";width: 100%;border-bottom: 1px solid gray;flex-grow: 1;}#sk-container-id-4 div.sk-label:hover label.sk-toggleable__label {background-color: #d4ebff;}#sk-container-id-4 div.sk-serial::before {content: \"\";position: absolute;border-left: 1px solid gray;box-sizing: border-box;top: 0;bottom: 0;left: 50%;z-index: 0;}#sk-container-id-4 div.sk-serial {display: flex;flex-direction: column;align-items: center;background-color: white;padding-right: 0.2em;padding-left: 0.2em;position: relative;}#sk-container-id-4 div.sk-item {position: relative;z-index: 1;}#sk-container-id-4 div.sk-parallel {display: flex;align-items: stretch;justify-content: center;background-color: white;position: relative;}#sk-container-id-4 div.sk-item::before, #sk-container-id-4 div.sk-parallel-item::before {content: \"\";position: absolute;border-left: 1px solid gray;box-sizing: border-box;top: 0;bottom: 0;left: 50%;z-index: -1;}#sk-container-id-4 div.sk-parallel-item {display: flex;flex-direction: column;z-index: 1;position: relative;background-color: white;}#sk-container-id-4 div.sk-parallel-item:first-child::after {align-self: flex-end;width: 50%;}#sk-container-id-4 div.sk-parallel-item:last-child::after {align-self: flex-start;width: 50%;}#sk-container-id-4 div.sk-parallel-item:only-child::after {width: 0;}#sk-container-id-4 div.sk-dashed-wrapped {border: 1px dashed gray;margin: 0 0.4em 0.5em 0.4em;box-sizing: border-box;padding-bottom: 0.4em;background-color: white;}#sk-container-id-4 div.sk-label label {font-family: monospace;font-weight: bold;display: inline-block;line-height: 1.2em;}#sk-container-id-4 div.sk-label-container {text-align: center;}#sk-container-id-4 div.sk-container {/* jupyter's `normalize.less` sets `[hidden] { display: none; }` but bootstrap.min.css set `[hidden] { display: none !important; }` so we also need the `!important` here to be able to override the default hidden behavior on the sphinx rendered scikit-learn.org. See: https://github.com/scikit-learn/scikit-learn/issues/21755 */display: inline-block !important;position: relative;}#sk-container-id-4 div.sk-text-repr-fallback {display: none;}</style><div id=\"sk-container-id-4\" class=\"sk-top-container\"><div class=\"sk-text-repr-fallback\"><pre>GridSearchCV(cv=10, estimator=SVC(), n_jobs=-1,\n",
       "             param_grid={&#x27;C&#x27;: [0.0001, 0.001, 0.1, 1, 5, 10, 50, 100],\n",
       "                         &#x27;gamma&#x27;: [0.0001, 0.001, 0.1, 1, 5, 10, 50, 100]},\n",
       "             verbose=2)</pre><b>In a Jupyter environment, please rerun this cell to show the HTML representation or trust the notebook. <br />On GitHub, the HTML representation is unable to render, please try loading this page with nbviewer.org.</b></div><div class=\"sk-container\" hidden><div class=\"sk-item sk-dashed-wrapped\"><div class=\"sk-label-container\"><div class=\"sk-label sk-toggleable\"><input class=\"sk-toggleable__control sk-hidden--visually\" id=\"sk-estimator-id-8\" type=\"checkbox\" ><label for=\"sk-estimator-id-8\" class=\"sk-toggleable__label sk-toggleable__label-arrow\">GridSearchCV</label><div class=\"sk-toggleable__content\"><pre>GridSearchCV(cv=10, estimator=SVC(), n_jobs=-1,\n",
       "             param_grid={&#x27;C&#x27;: [0.0001, 0.001, 0.1, 1, 5, 10, 50, 100],\n",
       "                         &#x27;gamma&#x27;: [0.0001, 0.001, 0.1, 1, 5, 10, 50, 100]},\n",
       "             verbose=2)</pre></div></div></div><div class=\"sk-parallel\"><div class=\"sk-parallel-item\"><div class=\"sk-item\"><div class=\"sk-label-container\"><div class=\"sk-label sk-toggleable\"><input class=\"sk-toggleable__control sk-hidden--visually\" id=\"sk-estimator-id-9\" type=\"checkbox\" ><label for=\"sk-estimator-id-9\" class=\"sk-toggleable__label sk-toggleable__label-arrow\">estimator: SVC</label><div class=\"sk-toggleable__content\"><pre>SVC()</pre></div></div></div><div class=\"sk-serial\"><div class=\"sk-item\"><div class=\"sk-estimator sk-toggleable\"><input class=\"sk-toggleable__control sk-hidden--visually\" id=\"sk-estimator-id-10\" type=\"checkbox\" ><label for=\"sk-estimator-id-10\" class=\"sk-toggleable__label sk-toggleable__label-arrow\">SVC</label><div class=\"sk-toggleable__content\"><pre>SVC()</pre></div></div></div></div></div></div></div></div></div></div>"
      ],
      "text/plain": [
       "GridSearchCV(cv=10, estimator=SVC(), n_jobs=-1,\n",
       "             param_grid={'C': [0.0001, 0.001, 0.1, 1, 5, 10, 50, 100],\n",
       "                         'gamma': [0.0001, 0.001, 0.1, 1, 5, 10, 50, 100]},\n",
       "             verbose=2)"
      ]
     },
     "execution_count": 127,
     "metadata": {},
     "output_type": "execute_result"
    }
   ],
   "source": [
    "svc_cv_model.fit(X_train, y_train)"
   ]
  },
  {
   "cell_type": "code",
   "execution_count": 128,
   "metadata": {
    "tags": []
   },
   "outputs": [
    {
     "name": "stdout",
     "output_type": "stream",
     "text": [
      "best parameters:{'C': 10, 'gamma': 0.0001}\n"
     ]
    }
   ],
   "source": [
    "print(\"best parameters:\" + str(svc_cv_model.best_params_))"
   ]
  },
  {
   "cell_type": "code",
   "execution_count": 132,
   "metadata": {
    "tags": []
   },
   "outputs": [],
   "source": [
    "svc_tuned = SVC(C=10, gamma=0.0001).fit(X_train, y_train)"
   ]
  },
  {
   "cell_type": "code",
   "execution_count": 133,
   "metadata": {
    "tags": []
   },
   "outputs": [
    {
     "data": {
      "text/plain": [
       "0.7359307359307359"
      ]
     },
     "execution_count": 133,
     "metadata": {},
     "output_type": "execute_result"
    }
   ],
   "source": [
    "y_pred = svc_tuned.predict(X_test)\n",
    "accuracy_score(y_test, y_pred)"
   ]
  },
  {
   "cell_type": "markdown",
   "metadata": {},
   "source": [
    "# Artificial Neural Networks (ANN)"
   ]
  },
  {
   "cell_type": "code",
   "execution_count": 140,
   "metadata": {
    "tags": []
   },
   "outputs": [],
   "source": [
    "df = diabetes.copy()\n",
    "df = df.dropna()\n",
    "y = df[\"Outcome\"]\n",
    "X = df.drop(['Outcome'], axis=1)\n",
    "X_train, X_test, y_train, y_test = train_test_split(X, y, \n",
    "                                                    test_size=0.30, \n",
    "                                                    random_state=42)"
   ]
  },
  {
   "cell_type": "code",
   "execution_count": 141,
   "metadata": {
    "tags": []
   },
   "outputs": [],
   "source": [
    "from sklearn.preprocessing import StandardScaler"
   ]
  },
  {
   "cell_type": "code",
   "execution_count": 142,
   "metadata": {
    "tags": []
   },
   "outputs": [],
   "source": [
    "scaler = StandardScaler()"
   ]
  },
  {
   "cell_type": "code",
   "execution_count": 143,
   "metadata": {
    "tags": []
   },
   "outputs": [],
   "source": [
    "X_train_scaled = scaler.fit_transform(X_train)"
   ]
  },
  {
   "cell_type": "code",
   "execution_count": 144,
   "metadata": {
    "tags": []
   },
   "outputs": [],
   "source": [
    "X_test_scaled = scaler.transform(X_test)"
   ]
  },
  {
   "cell_type": "code",
   "execution_count": 145,
   "metadata": {
    "tags": []
   },
   "outputs": [],
   "source": [
    "from sklearn.neural_network import MLPClassifier"
   ]
  },
  {
   "cell_type": "code",
   "execution_count": 147,
   "metadata": {
    "tags": []
   },
   "outputs": [],
   "source": [
    "mlpc = MLPClassifier().fit(X_train_scaled, y_train)"
   ]
  },
  {
   "cell_type": "code",
   "execution_count": 149,
   "metadata": {
    "tags": []
   },
   "outputs": [
    {
     "data": {
      "text/plain": [
       "0.7186147186147186"
      ]
     },
     "execution_count": 149,
     "metadata": {},
     "output_type": "execute_result"
    }
   ],
   "source": [
    "y_pred = mlpc.predict(X_test_scaled)\n",
    "accuracy_score(y_test, y_pred)"
   ]
  },
  {
   "cell_type": "markdown",
   "metadata": {},
   "source": [
    "## Model Optimization & Fine-Tuning\n"
   ]
  },
  {
   "cell_type": "code",
   "execution_count": 154,
   "metadata": {
    "tags": []
   },
   "outputs": [],
   "source": [
    "mlpc_params = {\"alpha\": [0.1, 0.01, 0.02, 0.005, 0.0001,0.00001],\n",
    "              \"hidden_layer_sizes\": [(10,10,10),\n",
    "                                     (100,100,100),\n",
    "                                     (100,100),\n",
    "                                     (3,5),\n",
    "                                     (5, 3)],\n",
    "              \"solver\" : [\"lbfgs\",\"adam\",\"sgd\"],\n",
    "              \"activation\": [\"relu\",\"logistic\"]}"
   ]
  },
  {
   "cell_type": "code",
   "execution_count": 155,
   "metadata": {
    "tags": []
   },
   "outputs": [
    {
     "name": "stdout",
     "output_type": "stream",
     "text": [
      "Fitting 10 folds for each of 180 candidates, totalling 1800 fits\n"
     ]
    },
    {
     "data": {
      "text/html": [
       "<style>#sk-container-id-7 {color: black;}#sk-container-id-7 pre{padding: 0;}#sk-container-id-7 div.sk-toggleable {background-color: white;}#sk-container-id-7 label.sk-toggleable__label {cursor: pointer;display: block;width: 100%;margin-bottom: 0;padding: 0.3em;box-sizing: border-box;text-align: center;}#sk-container-id-7 label.sk-toggleable__label-arrow:before {content: \"▸\";float: left;margin-right: 0.25em;color: #696969;}#sk-container-id-7 label.sk-toggleable__label-arrow:hover:before {color: black;}#sk-container-id-7 div.sk-estimator:hover label.sk-toggleable__label-arrow:before {color: black;}#sk-container-id-7 div.sk-toggleable__content {max-height: 0;max-width: 0;overflow: hidden;text-align: left;background-color: #f0f8ff;}#sk-container-id-7 div.sk-toggleable__content pre {margin: 0.2em;color: black;border-radius: 0.25em;background-color: #f0f8ff;}#sk-container-id-7 input.sk-toggleable__control:checked~div.sk-toggleable__content {max-height: 200px;max-width: 100%;overflow: auto;}#sk-container-id-7 input.sk-toggleable__control:checked~label.sk-toggleable__label-arrow:before {content: \"▾\";}#sk-container-id-7 div.sk-estimator input.sk-toggleable__control:checked~label.sk-toggleable__label {background-color: #d4ebff;}#sk-container-id-7 div.sk-label input.sk-toggleable__control:checked~label.sk-toggleable__label {background-color: #d4ebff;}#sk-container-id-7 input.sk-hidden--visually {border: 0;clip: rect(1px 1px 1px 1px);clip: rect(1px, 1px, 1px, 1px);height: 1px;margin: -1px;overflow: hidden;padding: 0;position: absolute;width: 1px;}#sk-container-id-7 div.sk-estimator {font-family: monospace;background-color: #f0f8ff;border: 1px dotted black;border-radius: 0.25em;box-sizing: border-box;margin-bottom: 0.5em;}#sk-container-id-7 div.sk-estimator:hover {background-color: #d4ebff;}#sk-container-id-7 div.sk-parallel-item::after {content: \"\";width: 100%;border-bottom: 1px solid gray;flex-grow: 1;}#sk-container-id-7 div.sk-label:hover label.sk-toggleable__label {background-color: #d4ebff;}#sk-container-id-7 div.sk-serial::before {content: \"\";position: absolute;border-left: 1px solid gray;box-sizing: border-box;top: 0;bottom: 0;left: 50%;z-index: 0;}#sk-container-id-7 div.sk-serial {display: flex;flex-direction: column;align-items: center;background-color: white;padding-right: 0.2em;padding-left: 0.2em;position: relative;}#sk-container-id-7 div.sk-item {position: relative;z-index: 1;}#sk-container-id-7 div.sk-parallel {display: flex;align-items: stretch;justify-content: center;background-color: white;position: relative;}#sk-container-id-7 div.sk-item::before, #sk-container-id-7 div.sk-parallel-item::before {content: \"\";position: absolute;border-left: 1px solid gray;box-sizing: border-box;top: 0;bottom: 0;left: 50%;z-index: -1;}#sk-container-id-7 div.sk-parallel-item {display: flex;flex-direction: column;z-index: 1;position: relative;background-color: white;}#sk-container-id-7 div.sk-parallel-item:first-child::after {align-self: flex-end;width: 50%;}#sk-container-id-7 div.sk-parallel-item:last-child::after {align-self: flex-start;width: 50%;}#sk-container-id-7 div.sk-parallel-item:only-child::after {width: 0;}#sk-container-id-7 div.sk-dashed-wrapped {border: 1px dashed gray;margin: 0 0.4em 0.5em 0.4em;box-sizing: border-box;padding-bottom: 0.4em;background-color: white;}#sk-container-id-7 div.sk-label label {font-family: monospace;font-weight: bold;display: inline-block;line-height: 1.2em;}#sk-container-id-7 div.sk-label-container {text-align: center;}#sk-container-id-7 div.sk-container {/* jupyter's `normalize.less` sets `[hidden] { display: none; }` but bootstrap.min.css set `[hidden] { display: none !important; }` so we also need the `!important` here to be able to override the default hidden behavior on the sphinx rendered scikit-learn.org. See: https://github.com/scikit-learn/scikit-learn/issues/21755 */display: inline-block !important;position: relative;}#sk-container-id-7 div.sk-text-repr-fallback {display: none;}</style><div id=\"sk-container-id-7\" class=\"sk-top-container\"><div class=\"sk-text-repr-fallback\"><pre>GridSearchCV(cv=10, estimator=MLPClassifier(), n_jobs=-1,\n",
       "             param_grid={&#x27;activation&#x27;: [&#x27;relu&#x27;, &#x27;logistic&#x27;],\n",
       "                         &#x27;alpha&#x27;: [0.1, 0.01, 0.02, 0.005, 0.0001, 1e-05],\n",
       "                         &#x27;hidden_layer_sizes&#x27;: [(10, 10, 10), (100, 100, 100),\n",
       "                                                (100, 100), (3, 5), (5, 3)],\n",
       "                         &#x27;solver&#x27;: [&#x27;lbfgs&#x27;, &#x27;adam&#x27;, &#x27;sgd&#x27;]},\n",
       "             verbose=2)</pre><b>In a Jupyter environment, please rerun this cell to show the HTML representation or trust the notebook. <br />On GitHub, the HTML representation is unable to render, please try loading this page with nbviewer.org.</b></div><div class=\"sk-container\" hidden><div class=\"sk-item sk-dashed-wrapped\"><div class=\"sk-label-container\"><div class=\"sk-label sk-toggleable\"><input class=\"sk-toggleable__control sk-hidden--visually\" id=\"sk-estimator-id-13\" type=\"checkbox\" ><label for=\"sk-estimator-id-13\" class=\"sk-toggleable__label sk-toggleable__label-arrow\">GridSearchCV</label><div class=\"sk-toggleable__content\"><pre>GridSearchCV(cv=10, estimator=MLPClassifier(), n_jobs=-1,\n",
       "             param_grid={&#x27;activation&#x27;: [&#x27;relu&#x27;, &#x27;logistic&#x27;],\n",
       "                         &#x27;alpha&#x27;: [0.1, 0.01, 0.02, 0.005, 0.0001, 1e-05],\n",
       "                         &#x27;hidden_layer_sizes&#x27;: [(10, 10, 10), (100, 100, 100),\n",
       "                                                (100, 100), (3, 5), (5, 3)],\n",
       "                         &#x27;solver&#x27;: [&#x27;lbfgs&#x27;, &#x27;adam&#x27;, &#x27;sgd&#x27;]},\n",
       "             verbose=2)</pre></div></div></div><div class=\"sk-parallel\"><div class=\"sk-parallel-item\"><div class=\"sk-item\"><div class=\"sk-label-container\"><div class=\"sk-label sk-toggleable\"><input class=\"sk-toggleable__control sk-hidden--visually\" id=\"sk-estimator-id-14\" type=\"checkbox\" ><label for=\"sk-estimator-id-14\" class=\"sk-toggleable__label sk-toggleable__label-arrow\">estimator: MLPClassifier</label><div class=\"sk-toggleable__content\"><pre>MLPClassifier()</pre></div></div></div><div class=\"sk-serial\"><div class=\"sk-item\"><div class=\"sk-estimator sk-toggleable\"><input class=\"sk-toggleable__control sk-hidden--visually\" id=\"sk-estimator-id-15\" type=\"checkbox\" ><label for=\"sk-estimator-id-15\" class=\"sk-toggleable__label sk-toggleable__label-arrow\">MLPClassifier</label><div class=\"sk-toggleable__content\"><pre>MLPClassifier()</pre></div></div></div></div></div></div></div></div></div></div>"
      ],
      "text/plain": [
       "GridSearchCV(cv=10, estimator=MLPClassifier(), n_jobs=-1,\n",
       "             param_grid={'activation': ['relu', 'logistic'],\n",
       "                         'alpha': [0.1, 0.01, 0.02, 0.005, 0.0001, 1e-05],\n",
       "                         'hidden_layer_sizes': [(10, 10, 10), (100, 100, 100),\n",
       "                                                (100, 100), (3, 5), (5, 3)],\n",
       "                         'solver': ['lbfgs', 'adam', 'sgd']},\n",
       "             verbose=2)"
      ]
     },
     "execution_count": 155,
     "metadata": {},
     "output_type": "execute_result"
    }
   ],
   "source": [
    "mlpc = MLPClassifier()\n",
    "mlpc_cv_model = GridSearchCV(mlpc, mlpc_params,\n",
    "                         cv = 10,\n",
    "                         n_jobs = -1,\n",
    "                         verbose = 2)\n",
    "\n",
    "mlpc_cv_model.fit(X_train_scaled, y_train)"
   ]
  },
  {
   "cell_type": "code",
   "execution_count": 181,
   "metadata": {
    "tags": []
   },
   "outputs": [
    {
     "name": "stdout",
     "output_type": "stream",
     "text": [
      "En iyi parametreler: {'activation': 'relu', 'alpha': 0.0001, 'hidden_layer_sizes': (100, 100), 'solver': 'sgd'}\n"
     ]
    }
   ],
   "source": [
    "print(\"En iyi parametreler: \" + str(mlpc_cv_model.best_params_))"
   ]
  },
  {
   "cell_type": "code",
   "execution_count": 190,
   "metadata": {
    "tags": []
   },
   "outputs": [],
   "source": [
    "mlpc_tuned = MLPClassifier(activation=\"relu\",\n",
    "                          alpha=0.0001,\n",
    "                          hidden_layer_sizes=(100, 100, 100),\n",
    "                          solver=\"sgd\",\n",
    "                          random_state=42)"
   ]
  },
  {
   "cell_type": "code",
   "execution_count": 191,
   "metadata": {
    "tags": []
   },
   "outputs": [
    {
     "data": {
      "text/html": [
       "<style>#sk-container-id-18 {color: black;}#sk-container-id-18 pre{padding: 0;}#sk-container-id-18 div.sk-toggleable {background-color: white;}#sk-container-id-18 label.sk-toggleable__label {cursor: pointer;display: block;width: 100%;margin-bottom: 0;padding: 0.3em;box-sizing: border-box;text-align: center;}#sk-container-id-18 label.sk-toggleable__label-arrow:before {content: \"▸\";float: left;margin-right: 0.25em;color: #696969;}#sk-container-id-18 label.sk-toggleable__label-arrow:hover:before {color: black;}#sk-container-id-18 div.sk-estimator:hover label.sk-toggleable__label-arrow:before {color: black;}#sk-container-id-18 div.sk-toggleable__content {max-height: 0;max-width: 0;overflow: hidden;text-align: left;background-color: #f0f8ff;}#sk-container-id-18 div.sk-toggleable__content pre {margin: 0.2em;color: black;border-radius: 0.25em;background-color: #f0f8ff;}#sk-container-id-18 input.sk-toggleable__control:checked~div.sk-toggleable__content {max-height: 200px;max-width: 100%;overflow: auto;}#sk-container-id-18 input.sk-toggleable__control:checked~label.sk-toggleable__label-arrow:before {content: \"▾\";}#sk-container-id-18 div.sk-estimator input.sk-toggleable__control:checked~label.sk-toggleable__label {background-color: #d4ebff;}#sk-container-id-18 div.sk-label input.sk-toggleable__control:checked~label.sk-toggleable__label {background-color: #d4ebff;}#sk-container-id-18 input.sk-hidden--visually {border: 0;clip: rect(1px 1px 1px 1px);clip: rect(1px, 1px, 1px, 1px);height: 1px;margin: -1px;overflow: hidden;padding: 0;position: absolute;width: 1px;}#sk-container-id-18 div.sk-estimator {font-family: monospace;background-color: #f0f8ff;border: 1px dotted black;border-radius: 0.25em;box-sizing: border-box;margin-bottom: 0.5em;}#sk-container-id-18 div.sk-estimator:hover {background-color: #d4ebff;}#sk-container-id-18 div.sk-parallel-item::after {content: \"\";width: 100%;border-bottom: 1px solid gray;flex-grow: 1;}#sk-container-id-18 div.sk-label:hover label.sk-toggleable__label {background-color: #d4ebff;}#sk-container-id-18 div.sk-serial::before {content: \"\";position: absolute;border-left: 1px solid gray;box-sizing: border-box;top: 0;bottom: 0;left: 50%;z-index: 0;}#sk-container-id-18 div.sk-serial {display: flex;flex-direction: column;align-items: center;background-color: white;padding-right: 0.2em;padding-left: 0.2em;position: relative;}#sk-container-id-18 div.sk-item {position: relative;z-index: 1;}#sk-container-id-18 div.sk-parallel {display: flex;align-items: stretch;justify-content: center;background-color: white;position: relative;}#sk-container-id-18 div.sk-item::before, #sk-container-id-18 div.sk-parallel-item::before {content: \"\";position: absolute;border-left: 1px solid gray;box-sizing: border-box;top: 0;bottom: 0;left: 50%;z-index: -1;}#sk-container-id-18 div.sk-parallel-item {display: flex;flex-direction: column;z-index: 1;position: relative;background-color: white;}#sk-container-id-18 div.sk-parallel-item:first-child::after {align-self: flex-end;width: 50%;}#sk-container-id-18 div.sk-parallel-item:last-child::after {align-self: flex-start;width: 50%;}#sk-container-id-18 div.sk-parallel-item:only-child::after {width: 0;}#sk-container-id-18 div.sk-dashed-wrapped {border: 1px dashed gray;margin: 0 0.4em 0.5em 0.4em;box-sizing: border-box;padding-bottom: 0.4em;background-color: white;}#sk-container-id-18 div.sk-label label {font-family: monospace;font-weight: bold;display: inline-block;line-height: 1.2em;}#sk-container-id-18 div.sk-label-container {text-align: center;}#sk-container-id-18 div.sk-container {/* jupyter's `normalize.less` sets `[hidden] { display: none; }` but bootstrap.min.css set `[hidden] { display: none !important; }` so we also need the `!important` here to be able to override the default hidden behavior on the sphinx rendered scikit-learn.org. See: https://github.com/scikit-learn/scikit-learn/issues/21755 */display: inline-block !important;position: relative;}#sk-container-id-18 div.sk-text-repr-fallback {display: none;}</style><div id=\"sk-container-id-18\" class=\"sk-top-container\"><div class=\"sk-text-repr-fallback\"><pre>MLPClassifier(hidden_layer_sizes=(100, 100, 100), random_state=42, solver=&#x27;sgd&#x27;)</pre><b>In a Jupyter environment, please rerun this cell to show the HTML representation or trust the notebook. <br />On GitHub, the HTML representation is unable to render, please try loading this page with nbviewer.org.</b></div><div class=\"sk-container\" hidden><div class=\"sk-item\"><div class=\"sk-estimator sk-toggleable\"><input class=\"sk-toggleable__control sk-hidden--visually\" id=\"sk-estimator-id-26\" type=\"checkbox\" checked><label for=\"sk-estimator-id-26\" class=\"sk-toggleable__label sk-toggleable__label-arrow\">MLPClassifier</label><div class=\"sk-toggleable__content\"><pre>MLPClassifier(hidden_layer_sizes=(100, 100, 100), random_state=42, solver=&#x27;sgd&#x27;)</pre></div></div></div></div></div>"
      ],
      "text/plain": [
       "MLPClassifier(hidden_layer_sizes=(100, 100, 100), random_state=42, solver='sgd')"
      ]
     },
     "execution_count": 191,
     "metadata": {},
     "output_type": "execute_result"
    }
   ],
   "source": [
    "mlpc_tuned.fit(X_train_scaled, y_train)"
   ]
  },
  {
   "cell_type": "code",
   "execution_count": 192,
   "metadata": {
    "tags": []
   },
   "outputs": [
    {
     "data": {
      "text/plain": [
       "0.7575757575757576"
      ]
     },
     "execution_count": 192,
     "metadata": {},
     "output_type": "execute_result"
    }
   ],
   "source": [
    "y_pred = mlpc_tuned.predict(X_test_scaled)\n",
    "accuracy_score(y_test, y_pred)"
   ]
  },
  {
   "cell_type": "markdown",
   "metadata": {},
   "source": [
    "#  CART (Classification and Regression Trees)"
   ]
  },
  {
   "cell_type": "code",
   "execution_count": 215,
   "metadata": {
    "tags": []
   },
   "outputs": [],
   "source": [
    "df = diabetes.copy()\n",
    "df = df.dropna()\n",
    "y = df[\"Outcome\"]\n",
    "X = df.drop(['Outcome'], axis=1)\n",
    "#X = df[\"Pregnancies\"]\n",
    "X= pd.DataFrame(X)\n",
    "X_train, X_test, y_train, y_test = train_test_split(X, y, \n",
    "                                                    test_size=0.30, \n",
    "                                                    random_state=42)"
   ]
  },
  {
   "cell_type": "code",
   "execution_count": 216,
   "metadata": {
    "tags": []
   },
   "outputs": [],
   "source": [
    "from sklearn.tree import DecisionTreeClassifier"
   ]
  },
  {
   "cell_type": "code",
   "execution_count": 217,
   "metadata": {
    "tags": []
   },
   "outputs": [],
   "source": [
    "cart = DecisionTreeClassifier()\n",
    "cart_model = cart.fit(X_train, y_train)"
   ]
  },
  {
   "cell_type": "code",
   "execution_count": 218,
   "metadata": {
    "tags": []
   },
   "outputs": [],
   "source": [
    "from skompiler import skompile"
   ]
  },
  {
   "cell_type": "code",
   "execution_count": 219,
   "metadata": {
    "collapsed": true,
    "jupyter": {
     "outputs_hidden": true
    },
    "tags": []
   },
   "outputs": [
    {
     "name": "stdout",
     "output_type": "stream",
     "text": [
      "((((((0 if x[6] <= 0.671999990940094 else 1 if x[6] <= 0.6974999904632568 else\n",
      "    0) if x[5] <= 31.40000057220459 else ((0 if x[3] <= 40.5 else 1) if x[1\n",
      "    ] <= 111.5 else ((1 if x[1] <= 123.0 else 0) if x[5] <= \n",
      "    37.39999961853027 else 0) if x[2] <= 72.0 else 1) if x[4] <= 9.0 else (\n",
      "    0 if x[6] <= 0.6395000219345093 else 1 if x[6] <= 0.6759999990463257 else\n",
      "    0) if x[0] <= 4.5 else 0 if x[6] <= 0.39149999618530273 else 1) if x[5] <=\n",
      "    49.10000038146973 else 1) if x[1] <= 127.5 else 1 if x[2] <= 56.0 else \n",
      "    (0 if x[7] <= 27.5 else 0 if x[3] <= 14.5 else 1) if x[5] <= \n",
      "    30.300000190734863 else 1 if x[5] <= 32.000000953674316 else ((0 if x[5\n",
      "    ] <= 33.75 else 1) if x[0] <= 0.5 else 1 if x[5] <= 32.45000076293945 else\n",
      "    0) if x[2] <= 85.0 else 1) if x[7] <= 28.5 else (1 if x[7] <= 29.5 else\n",
      "    (0 if x[1] <= 133.0 else (1 if x[5] <= 24.0 else 0) if x[2] <= 73.0 else\n",
      "    0) if x[2] <= 94.0 else 1 if x[2] <= 97.0 else 0) if x[5] <= \n",
      "    26.949999809265137 else (1 if x[1] <= 28.5 else 0 if x[0] <= 9.5 else 0 if\n",
      "    x[6] <= 0.29099999368190765 else 1 if x[5] <= 35.10000038146973 else 0) if\n",
      "    x[1] <= 94.5 else ((((0 if x[6] <= 0.24950000643730164 else 0 if x[2] <=\n",
      "    65.0 else 1) if x[5] <= 28.34999942779541 else 1 if x[5] <= \n",
      "    31.15000057220459 else 1 if x[2] <= 67.0 else 0 if x[7] <= 36.5 else 0 if\n",
      "    x[2] <= 71.0 else (1 if x[6] <= 0.13249999657273293 else 0) if x[6] <= \n",
      "    0.21000000089406967 else 1) if x[3] <= 26.5 else (((1 if x[0] <= 0.5 else\n",
      "    0) if x[0] <= 5.5 else 1) if x[2] <= 67.0 else 0 if x[2] <= 80.0 else 1 if\n",
      "    x[6] <= 0.27300000190734863 else 0) if x[1] <= 127.5 else (1 if x[0] <=\n",
      "    2.5 else 0) if x[3] <= 31.0 else 1) if x[2] <= 83.0 else ((0 if x[3] <=\n",
      "    39.5 else 0 if x[5] <= 33.5 else 1) if x[5] <= 41.19999885559082 else 1\n",
      "    ) if x[4] <= 124.0 else 0 if x[3] <= 19.5 else 1) if x[6] <= \n",
      "    0.527999997138977 else ((((0 if x[5] <= 27.59999942779541 else 1) if x[\n",
      "    7] <= 32.5 else 1) if x[1] <= 132.0 else 0) if x[5] <= \n",
      "    29.09999942779541 else 0 if x[7] <= 50.0 else 1) if x[5] <= \n",
      "    31.600000381469727 else ((1 if x[2] <= 87.0 else 0 if x[6] <= \n",
      "    0.7305000126361847 else 1) if x[3] <= 54.5 else 0) if x[6] <= \n",
      "    1.1489999890327454 else 1 if x[7] <= 36.0 else 0) if x[1] <= 154.5 else\n",
      "    (1 if x[5] <= 25.350000381469727 else 0 if x[6] <= 0.3684999942779541 else\n",
      "    (0 if x[6] <= 0.9229999780654907 else 1) if x[3] <= 16.5 else 1) if x[5\n",
      "    ] <= 28.700000762939453 else (((0 if x[7] <= 24.5 else 0 if x[6] <= \n",
      "    0.14100000262260437 else 1) if x[1] <= 164.5 else 0) if x[1] <= 165.5 else\n",
      "    (1 if x[6] <= 0.2695000022649765 else 0) if x[6] <= 0.2744999974966049 else\n",
      "    1) if x[6] <= 1.4275000095367432 else 1 if x[0] <= 3.5 else 0)\n",
      "\n"
     ]
    }
   ],
   "source": [
    "print(skompile(cart_model.predict).to(\"python/code\"))"
   ]
  },
  {
   "cell_type": "code",
   "execution_count": 220,
   "metadata": {
    "tags": []
   },
   "outputs": [
    {
     "data": {
      "text/plain": [
       "1"
      ]
     },
     "execution_count": 220,
     "metadata": {},
     "output_type": "execute_result"
    }
   ],
   "source": [
    "x = [7]\n",
    "(((0 if x[0] <= 0.5 else 0 if x[0] <= 1.5 else 0) if x[0] <= 2.5 else ((0 if\n",
    "    x[0] <= 3.5 else 0) if x[0] <= 4.5 else 0) if x[0] <= 5.5 else 0) if x[\n",
    "    0] <= 6.5 else (((1 if x[0] <= 7.5 else 1) if x[0] <= 8.5 else 1) if x[\n",
    "    0] <= 9.5 else 0 if x[0] <= 10.5 else 1 if x[0] <= 11.5 else 0 if x[0] <=\n",
    "    12.5 else 0) if x[0] <= 13.5 else 1)"
   ]
  },
  {
   "cell_type": "code",
   "execution_count": 221,
   "metadata": {
    "tags": []
   },
   "outputs": [
    {
     "data": {
      "text/plain": [
       "0.7056277056277056"
      ]
     },
     "execution_count": 221,
     "metadata": {},
     "output_type": "execute_result"
    }
   ],
   "source": [
    "y_pred = cart_model.predict(X_test)\n",
    "accuracy_score(y_test, y_pred)"
   ]
  },
  {
   "cell_type": "markdown",
   "metadata": {},
   "source": [
    "## Model Optimization & Fine-Tuning\n"
   ]
  },
  {
   "cell_type": "code",
   "execution_count": 222,
   "metadata": {
    "collapsed": true,
    "jupyter": {
     "outputs_hidden": true
    },
    "tags": []
   },
   "outputs": [
    {
     "data": {
      "text/plain": [
       "\u001b[1;31mType:\u001b[0m        DecisionTreeClassifier\n",
       "\u001b[1;31mString form:\u001b[0m DecisionTreeClassifier()\n",
       "\u001b[1;31mFile:\u001b[0m        c:\\users\\frkng\\.conda\\lib\\site-packages\\sklearn\\tree\\_classes.py\n",
       "\u001b[1;31mDocstring:\u001b[0m  \n",
       "A decision tree classifier.\n",
       "\n",
       "Read more in the :ref:`User Guide <tree>`.\n",
       "\n",
       "Parameters\n",
       "----------\n",
       "criterion : {\"gini\", \"entropy\", \"log_loss\"}, default=\"gini\"\n",
       "    The function to measure the quality of a split. Supported criteria are\n",
       "    \"gini\" for the Gini impurity and \"log_loss\" and \"entropy\" both for the\n",
       "    Shannon information gain, see :ref:`tree_mathematical_formulation`.\n",
       "\n",
       "splitter : {\"best\", \"random\"}, default=\"best\"\n",
       "    The strategy used to choose the split at each node. Supported\n",
       "    strategies are \"best\" to choose the best split and \"random\" to choose\n",
       "    the best random split.\n",
       "\n",
       "max_depth : int, default=None\n",
       "    The maximum depth of the tree. If None, then nodes are expanded until\n",
       "    all leaves are pure or until all leaves contain less than\n",
       "    min_samples_split samples.\n",
       "\n",
       "min_samples_split : int or float, default=2\n",
       "    The minimum number of samples required to split an internal node:\n",
       "\n",
       "    - If int, then consider `min_samples_split` as the minimum number.\n",
       "    - If float, then `min_samples_split` is a fraction and\n",
       "      `ceil(min_samples_split * n_samples)` are the minimum\n",
       "      number of samples for each split.\n",
       "\n",
       "    .. versionchanged:: 0.18\n",
       "       Added float values for fractions.\n",
       "\n",
       "min_samples_leaf : int or float, default=1\n",
       "    The minimum number of samples required to be at a leaf node.\n",
       "    A split point at any depth will only be considered if it leaves at\n",
       "    least ``min_samples_leaf`` training samples in each of the left and\n",
       "    right branches.  This may have the effect of smoothing the model,\n",
       "    especially in regression.\n",
       "\n",
       "    - If int, then consider `min_samples_leaf` as the minimum number.\n",
       "    - If float, then `min_samples_leaf` is a fraction and\n",
       "      `ceil(min_samples_leaf * n_samples)` are the minimum\n",
       "      number of samples for each node.\n",
       "\n",
       "    .. versionchanged:: 0.18\n",
       "       Added float values for fractions.\n",
       "\n",
       "min_weight_fraction_leaf : float, default=0.0\n",
       "    The minimum weighted fraction of the sum total of weights (of all\n",
       "    the input samples) required to be at a leaf node. Samples have\n",
       "    equal weight when sample_weight is not provided.\n",
       "\n",
       "max_features : int, float or {\"auto\", \"sqrt\", \"log2\"}, default=None\n",
       "    The number of features to consider when looking for the best split:\n",
       "\n",
       "        - If int, then consider `max_features` features at each split.\n",
       "        - If float, then `max_features` is a fraction and\n",
       "          `max(1, int(max_features * n_features_in_))` features are considered at\n",
       "          each split.\n",
       "        - If \"sqrt\", then `max_features=sqrt(n_features)`.\n",
       "        - If \"log2\", then `max_features=log2(n_features)`.\n",
       "        - If None, then `max_features=n_features`.\n",
       "\n",
       "    Note: the search for a split does not stop until at least one\n",
       "    valid partition of the node samples is found, even if it requires to\n",
       "    effectively inspect more than ``max_features`` features.\n",
       "\n",
       "random_state : int, RandomState instance or None, default=None\n",
       "    Controls the randomness of the estimator. The features are always\n",
       "    randomly permuted at each split, even if ``splitter`` is set to\n",
       "    ``\"best\"``. When ``max_features < n_features``, the algorithm will\n",
       "    select ``max_features`` at random at each split before finding the best\n",
       "    split among them. But the best found split may vary across different\n",
       "    runs, even if ``max_features=n_features``. That is the case, if the\n",
       "    improvement of the criterion is identical for several splits and one\n",
       "    split has to be selected at random. To obtain a deterministic behaviour\n",
       "    during fitting, ``random_state`` has to be fixed to an integer.\n",
       "    See :term:`Glossary <random_state>` for details.\n",
       "\n",
       "max_leaf_nodes : int, default=None\n",
       "    Grow a tree with ``max_leaf_nodes`` in best-first fashion.\n",
       "    Best nodes are defined as relative reduction in impurity.\n",
       "    If None then unlimited number of leaf nodes.\n",
       "\n",
       "min_impurity_decrease : float, default=0.0\n",
       "    A node will be split if this split induces a decrease of the impurity\n",
       "    greater than or equal to this value.\n",
       "\n",
       "    The weighted impurity decrease equation is the following::\n",
       "\n",
       "        N_t / N * (impurity - N_t_R / N_t * right_impurity\n",
       "                            - N_t_L / N_t * left_impurity)\n",
       "\n",
       "    where ``N`` is the total number of samples, ``N_t`` is the number of\n",
       "    samples at the current node, ``N_t_L`` is the number of samples in the\n",
       "    left child, and ``N_t_R`` is the number of samples in the right child.\n",
       "\n",
       "    ``N``, ``N_t``, ``N_t_R`` and ``N_t_L`` all refer to the weighted sum,\n",
       "    if ``sample_weight`` is passed.\n",
       "\n",
       "    .. versionadded:: 0.19\n",
       "\n",
       "class_weight : dict, list of dict or \"balanced\", default=None\n",
       "    Weights associated with classes in the form ``{class_label: weight}``.\n",
       "    If None, all classes are supposed to have weight one. For\n",
       "    multi-output problems, a list of dicts can be provided in the same\n",
       "    order as the columns of y.\n",
       "\n",
       "    Note that for multioutput (including multilabel) weights should be\n",
       "    defined for each class of every column in its own dict. For example,\n",
       "    for four-class multilabel classification weights should be\n",
       "    [{0: 1, 1: 1}, {0: 1, 1: 5}, {0: 1, 1: 1}, {0: 1, 1: 1}] instead of\n",
       "    [{1:1}, {2:5}, {3:1}, {4:1}].\n",
       "\n",
       "    The \"balanced\" mode uses the values of y to automatically adjust\n",
       "    weights inversely proportional to class frequencies in the input data\n",
       "    as ``n_samples / (n_classes * np.bincount(y))``\n",
       "\n",
       "    For multi-output, the weights of each column of y will be multiplied.\n",
       "\n",
       "    Note that these weights will be multiplied with sample_weight (passed\n",
       "    through the fit method) if sample_weight is specified.\n",
       "\n",
       "ccp_alpha : non-negative float, default=0.0\n",
       "    Complexity parameter used for Minimal Cost-Complexity Pruning. The\n",
       "    subtree with the largest cost complexity that is smaller than\n",
       "    ``ccp_alpha`` will be chosen. By default, no pruning is performed. See\n",
       "    :ref:`minimal_cost_complexity_pruning` for details.\n",
       "\n",
       "    .. versionadded:: 0.22\n",
       "\n",
       "Attributes\n",
       "----------\n",
       "classes_ : ndarray of shape (n_classes,) or list of ndarray\n",
       "    The classes labels (single output problem),\n",
       "    or a list of arrays of class labels (multi-output problem).\n",
       "\n",
       "feature_importances_ : ndarray of shape (n_features,)\n",
       "    The impurity-based feature importances.\n",
       "    The higher, the more important the feature.\n",
       "    The importance of a feature is computed as the (normalized)\n",
       "    total reduction of the criterion brought by that feature.  It is also\n",
       "    known as the Gini importance [4]_.\n",
       "\n",
       "    Warning: impurity-based feature importances can be misleading for\n",
       "    high cardinality features (many unique values). See\n",
       "    :func:`sklearn.inspection.permutation_importance` as an alternative.\n",
       "\n",
       "max_features_ : int\n",
       "    The inferred value of max_features.\n",
       "\n",
       "n_classes_ : int or list of int\n",
       "    The number of classes (for single output problems),\n",
       "    or a list containing the number of classes for each\n",
       "    output (for multi-output problems).\n",
       "\n",
       "n_features_in_ : int\n",
       "    Number of features seen during :term:`fit`.\n",
       "\n",
       "    .. versionadded:: 0.24\n",
       "\n",
       "feature_names_in_ : ndarray of shape (`n_features_in_`,)\n",
       "    Names of features seen during :term:`fit`. Defined only when `X`\n",
       "    has feature names that are all strings.\n",
       "\n",
       "    .. versionadded:: 1.0\n",
       "\n",
       "n_outputs_ : int\n",
       "    The number of outputs when ``fit`` is performed.\n",
       "\n",
       "tree_ : Tree instance\n",
       "    The underlying Tree object. Please refer to\n",
       "    ``help(sklearn.tree._tree.Tree)`` for attributes of Tree object and\n",
       "    :ref:`sphx_glr_auto_examples_tree_plot_unveil_tree_structure.py`\n",
       "    for basic usage of these attributes.\n",
       "\n",
       "See Also\n",
       "--------\n",
       "DecisionTreeRegressor : A decision tree regressor.\n",
       "\n",
       "Notes\n",
       "-----\n",
       "The default values for the parameters controlling the size of the trees\n",
       "(e.g. ``max_depth``, ``min_samples_leaf``, etc.) lead to fully grown and\n",
       "unpruned trees which can potentially be very large on some data sets. To\n",
       "reduce memory consumption, the complexity and size of the trees should be\n",
       "controlled by setting those parameter values.\n",
       "\n",
       "The :meth:`predict` method operates using the :func:`numpy.argmax`\n",
       "function on the outputs of :meth:`predict_proba`. This means that in\n",
       "case the highest predicted probabilities are tied, the classifier will\n",
       "predict the tied class with the lowest index in :term:`classes_`.\n",
       "\n",
       "References\n",
       "----------\n",
       "\n",
       ".. [1] https://en.wikipedia.org/wiki/Decision_tree_learning\n",
       "\n",
       ".. [2] L. Breiman, J. Friedman, R. Olshen, and C. Stone, \"Classification\n",
       "       and Regression Trees\", Wadsworth, Belmont, CA, 1984.\n",
       "\n",
       ".. [3] T. Hastie, R. Tibshirani and J. Friedman. \"Elements of Statistical\n",
       "       Learning\", Springer, 2009.\n",
       "\n",
       ".. [4] L. Breiman, and A. Cutler, \"Random Forests\",\n",
       "       https://www.stat.berkeley.edu/~breiman/RandomForests/cc_home.htm\n",
       "\n",
       "Examples\n",
       "--------\n",
       ">>> from sklearn.datasets import load_iris\n",
       ">>> from sklearn.model_selection import cross_val_score\n",
       ">>> from sklearn.tree import DecisionTreeClassifier\n",
       ">>> clf = DecisionTreeClassifier(random_state=0)\n",
       ">>> iris = load_iris()\n",
       ">>> cross_val_score(clf, iris.data, iris.target, cv=10)\n",
       "...                             # doctest: +SKIP\n",
       "...\n",
       "array([ 1.     ,  0.93...,  0.86...,  0.93...,  0.93...,\n",
       "        0.93...,  0.93...,  1.     ,  0.93...,  1.      ])"
      ]
     },
     "metadata": {},
     "output_type": "display_data"
    }
   ],
   "source": [
    "?cart_model"
   ]
  },
  {
   "cell_type": "code",
   "execution_count": 225,
   "metadata": {
    "tags": []
   },
   "outputs": [],
   "source": [
    "cart_params = {\"max_depth\": range(1,10),\n",
    "              \"min_samples_split\": list(range(2,50))}"
   ]
  },
  {
   "cell_type": "code",
   "execution_count": 228,
   "metadata": {
    "tags": []
   },
   "outputs": [
    {
     "name": "stdout",
     "output_type": "stream",
     "text": [
      "Fitting 10 folds for each of 432 candidates, totalling 4320 fits\n"
     ]
    }
   ],
   "source": [
    "cart = tree.DecisionTreeClassifier()\n",
    "cart_cv = GridSearchCV(cart, cart_params, cv = 10, n_jobs=-1, verbose = 2)\n",
    "cart_model = cart_cv.fit(X_train, y_train)"
   ]
  },
  {
   "cell_type": "code",
   "execution_count": 229,
   "metadata": {
    "tags": []
   },
   "outputs": [
    {
     "name": "stdout",
     "output_type": "stream",
     "text": [
      "En iyi parametreler: {'max_depth': 5, 'min_samples_split': 19}\n"
     ]
    }
   ],
   "source": [
    "print(\"En iyi parametreler: \" + str(cart_model.best_params_))"
   ]
  },
  {
   "cell_type": "code",
   "execution_count": 230,
   "metadata": {
    "tags": []
   },
   "outputs": [],
   "source": [
    "cart = tree.DecisionTreeClassifier(max_depth=5, min_samples_split=19)"
   ]
  },
  {
   "cell_type": "code",
   "execution_count": 231,
   "metadata": {
    "tags": []
   },
   "outputs": [],
   "source": [
    "cart_tuned = cart.fit(X_train, y_train)"
   ]
  },
  {
   "cell_type": "code",
   "execution_count": 232,
   "metadata": {
    "tags": []
   },
   "outputs": [
    {
     "data": {
      "text/plain": [
       "0.7532467532467533"
      ]
     },
     "execution_count": 232,
     "metadata": {},
     "output_type": "execute_result"
    }
   ],
   "source": [
    "y_pred = cart_model.predict(X_test)\n",
    "accuracy_score(y_test, y_pred)"
   ]
  },
  {
   "cell_type": "markdown",
   "metadata": {},
   "source": [
    "# RF (Random Forests)"
   ]
  },
  {
   "cell_type": "code",
   "execution_count": 233,
   "metadata": {
    "tags": []
   },
   "outputs": [],
   "source": [
    "df = diabetes.copy()\n",
    "df = df.dropna()\n",
    "y = df[\"Outcome\"]\n",
    "X = df.drop(['Outcome'], axis=1)\n",
    "#X = df[\"Pregnancies\"]\n",
    "X= pd.DataFrame(X)\n",
    "X_train, X_test, y_train, y_test = train_test_split(X, y, \n",
    "                                                    test_size=0.30, \n",
    "                                                    random_state=42)"
   ]
  },
  {
   "cell_type": "code",
   "execution_count": 234,
   "metadata": {
    "tags": []
   },
   "outputs": [],
   "source": [
    "from sklearn.ensemble import RandomForestClassifier"
   ]
  },
  {
   "cell_type": "code",
   "execution_count": 236,
   "metadata": {
    "tags": []
   },
   "outputs": [
    {
     "data": {
      "text/plain": [
       "0.7532467532467533"
      ]
     },
     "execution_count": 236,
     "metadata": {},
     "output_type": "execute_result"
    }
   ],
   "source": [
    "rf_model = RandomForestClassifier().fit(X_train, y_train)\n",
    "accuracy_score(y_test, y_pred)"
   ]
  },
  {
   "cell_type": "markdown",
   "metadata": {},
   "source": [
    "## Model Optimization & Fine-Tuning\n"
   ]
  },
  {
   "cell_type": "code",
   "execution_count": 237,
   "metadata": {
    "collapsed": true,
    "jupyter": {
     "outputs_hidden": true
    },
    "tags": []
   },
   "outputs": [
    {
     "data": {
      "text/plain": [
       "\u001b[1;31mType:\u001b[0m        RandomForestClassifier\n",
       "\u001b[1;31mString form:\u001b[0m RandomForestClassifier()\n",
       "\u001b[1;31mLength:\u001b[0m      100\n",
       "\u001b[1;31mFile:\u001b[0m        c:\\users\\frkng\\.conda\\lib\\site-packages\\sklearn\\ensemble\\_forest.py\n",
       "\u001b[1;31mDocstring:\u001b[0m  \n",
       "A random forest classifier.\n",
       "\n",
       "A random forest is a meta estimator that fits a number of decision tree\n",
       "classifiers on various sub-samples of the dataset and uses averaging to\n",
       "improve the predictive accuracy and control over-fitting.\n",
       "The sub-sample size is controlled with the `max_samples` parameter if\n",
       "`bootstrap=True` (default), otherwise the whole dataset is used to build\n",
       "each tree.\n",
       "\n",
       "For a comparison between tree-based ensemble models see the example\n",
       ":ref:`sphx_glr_auto_examples_ensemble_plot_forest_hist_grad_boosting_comparison.py`.\n",
       "\n",
       "Read more in the :ref:`User Guide <forest>`.\n",
       "\n",
       "Parameters\n",
       "----------\n",
       "n_estimators : int, default=100\n",
       "    The number of trees in the forest.\n",
       "\n",
       "    .. versionchanged:: 0.22\n",
       "       The default value of ``n_estimators`` changed from 10 to 100\n",
       "       in 0.22.\n",
       "\n",
       "criterion : {\"gini\", \"entropy\", \"log_loss\"}, default=\"gini\"\n",
       "    The function to measure the quality of a split. Supported criteria are\n",
       "    \"gini\" for the Gini impurity and \"log_loss\" and \"entropy\" both for the\n",
       "    Shannon information gain, see :ref:`tree_mathematical_formulation`.\n",
       "    Note: This parameter is tree-specific.\n",
       "\n",
       "max_depth : int, default=None\n",
       "    The maximum depth of the tree. If None, then nodes are expanded until\n",
       "    all leaves are pure or until all leaves contain less than\n",
       "    min_samples_split samples.\n",
       "\n",
       "min_samples_split : int or float, default=2\n",
       "    The minimum number of samples required to split an internal node:\n",
       "\n",
       "    - If int, then consider `min_samples_split` as the minimum number.\n",
       "    - If float, then `min_samples_split` is a fraction and\n",
       "      `ceil(min_samples_split * n_samples)` are the minimum\n",
       "      number of samples for each split.\n",
       "\n",
       "    .. versionchanged:: 0.18\n",
       "       Added float values for fractions.\n",
       "\n",
       "min_samples_leaf : int or float, default=1\n",
       "    The minimum number of samples required to be at a leaf node.\n",
       "    A split point at any depth will only be considered if it leaves at\n",
       "    least ``min_samples_leaf`` training samples in each of the left and\n",
       "    right branches.  This may have the effect of smoothing the model,\n",
       "    especially in regression.\n",
       "\n",
       "    - If int, then consider `min_samples_leaf` as the minimum number.\n",
       "    - If float, then `min_samples_leaf` is a fraction and\n",
       "      `ceil(min_samples_leaf * n_samples)` are the minimum\n",
       "      number of samples for each node.\n",
       "\n",
       "    .. versionchanged:: 0.18\n",
       "       Added float values for fractions.\n",
       "\n",
       "min_weight_fraction_leaf : float, default=0.0\n",
       "    The minimum weighted fraction of the sum total of weights (of all\n",
       "    the input samples) required to be at a leaf node. Samples have\n",
       "    equal weight when sample_weight is not provided.\n",
       "\n",
       "max_features : {\"sqrt\", \"log2\", None}, int or float, default=\"sqrt\"\n",
       "    The number of features to consider when looking for the best split:\n",
       "\n",
       "    - If int, then consider `max_features` features at each split.\n",
       "    - If float, then `max_features` is a fraction and\n",
       "      `max(1, int(max_features * n_features_in_))` features are considered at each\n",
       "      split.\n",
       "    - If \"sqrt\", then `max_features=sqrt(n_features)`.\n",
       "    - If \"log2\", then `max_features=log2(n_features)`.\n",
       "    - If None, then `max_features=n_features`.\n",
       "\n",
       "    .. versionchanged:: 1.1\n",
       "        The default of `max_features` changed from `\"auto\"` to `\"sqrt\"`.\n",
       "\n",
       "    Note: the search for a split does not stop until at least one\n",
       "    valid partition of the node samples is found, even if it requires to\n",
       "    effectively inspect more than ``max_features`` features.\n",
       "\n",
       "max_leaf_nodes : int, default=None\n",
       "    Grow trees with ``max_leaf_nodes`` in best-first fashion.\n",
       "    Best nodes are defined as relative reduction in impurity.\n",
       "    If None then unlimited number of leaf nodes.\n",
       "\n",
       "min_impurity_decrease : float, default=0.0\n",
       "    A node will be split if this split induces a decrease of the impurity\n",
       "    greater than or equal to this value.\n",
       "\n",
       "    The weighted impurity decrease equation is the following::\n",
       "\n",
       "        N_t / N * (impurity - N_t_R / N_t * right_impurity\n",
       "                            - N_t_L / N_t * left_impurity)\n",
       "\n",
       "    where ``N`` is the total number of samples, ``N_t`` is the number of\n",
       "    samples at the current node, ``N_t_L`` is the number of samples in the\n",
       "    left child, and ``N_t_R`` is the number of samples in the right child.\n",
       "\n",
       "    ``N``, ``N_t``, ``N_t_R`` and ``N_t_L`` all refer to the weighted sum,\n",
       "    if ``sample_weight`` is passed.\n",
       "\n",
       "    .. versionadded:: 0.19\n",
       "\n",
       "bootstrap : bool, default=True\n",
       "    Whether bootstrap samples are used when building trees. If False, the\n",
       "    whole dataset is used to build each tree.\n",
       "\n",
       "oob_score : bool or callable, default=False\n",
       "    Whether to use out-of-bag samples to estimate the generalization score.\n",
       "    By default, :func:`~sklearn.metrics.accuracy_score` is used.\n",
       "    Provide a callable with signature `metric(y_true, y_pred)` to use a\n",
       "    custom metric. Only available if `bootstrap=True`.\n",
       "\n",
       "n_jobs : int, default=None\n",
       "    The number of jobs to run in parallel. :meth:`fit`, :meth:`predict`,\n",
       "    :meth:`decision_path` and :meth:`apply` are all parallelized over the\n",
       "    trees. ``None`` means 1 unless in a :obj:`joblib.parallel_backend`\n",
       "    context. ``-1`` means using all processors. See :term:`Glossary\n",
       "    <n_jobs>` for more details.\n",
       "\n",
       "random_state : int, RandomState instance or None, default=None\n",
       "    Controls both the randomness of the bootstrapping of the samples used\n",
       "    when building trees (if ``bootstrap=True``) and the sampling of the\n",
       "    features to consider when looking for the best split at each node\n",
       "    (if ``max_features < n_features``).\n",
       "    See :term:`Glossary <random_state>` for details.\n",
       "\n",
       "verbose : int, default=0\n",
       "    Controls the verbosity when fitting and predicting.\n",
       "\n",
       "warm_start : bool, default=False\n",
       "    When set to ``True``, reuse the solution of the previous call to fit\n",
       "    and add more estimators to the ensemble, otherwise, just fit a whole\n",
       "    new forest. See :term:`Glossary <warm_start>` and\n",
       "    :ref:`gradient_boosting_warm_start` for details.\n",
       "\n",
       "class_weight : {\"balanced\", \"balanced_subsample\"}, dict or list of dicts,             default=None\n",
       "    Weights associated with classes in the form ``{class_label: weight}``.\n",
       "    If not given, all classes are supposed to have weight one. For\n",
       "    multi-output problems, a list of dicts can be provided in the same\n",
       "    order as the columns of y.\n",
       "\n",
       "    Note that for multioutput (including multilabel) weights should be\n",
       "    defined for each class of every column in its own dict. For example,\n",
       "    for four-class multilabel classification weights should be\n",
       "    [{0: 1, 1: 1}, {0: 1, 1: 5}, {0: 1, 1: 1}, {0: 1, 1: 1}] instead of\n",
       "    [{1:1}, {2:5}, {3:1}, {4:1}].\n",
       "\n",
       "    The \"balanced\" mode uses the values of y to automatically adjust\n",
       "    weights inversely proportional to class frequencies in the input data\n",
       "    as ``n_samples / (n_classes * np.bincount(y))``\n",
       "\n",
       "    The \"balanced_subsample\" mode is the same as \"balanced\" except that\n",
       "    weights are computed based on the bootstrap sample for every tree\n",
       "    grown.\n",
       "\n",
       "    For multi-output, the weights of each column of y will be multiplied.\n",
       "\n",
       "    Note that these weights will be multiplied with sample_weight (passed\n",
       "    through the fit method) if sample_weight is specified.\n",
       "\n",
       "ccp_alpha : non-negative float, default=0.0\n",
       "    Complexity parameter used for Minimal Cost-Complexity Pruning. The\n",
       "    subtree with the largest cost complexity that is smaller than\n",
       "    ``ccp_alpha`` will be chosen. By default, no pruning is performed. See\n",
       "    :ref:`minimal_cost_complexity_pruning` for details.\n",
       "\n",
       "    .. versionadded:: 0.22\n",
       "\n",
       "max_samples : int or float, default=None\n",
       "    If bootstrap is True, the number of samples to draw from X\n",
       "    to train each base estimator.\n",
       "\n",
       "    - If None (default), then draw `X.shape[0]` samples.\n",
       "    - If int, then draw `max_samples` samples.\n",
       "    - If float, then draw `max(round(n_samples * max_samples), 1)` samples. Thus,\n",
       "      `max_samples` should be in the interval `(0.0, 1.0]`.\n",
       "\n",
       "    .. versionadded:: 0.22\n",
       "\n",
       "Attributes\n",
       "----------\n",
       "estimator_ : :class:`~sklearn.tree.DecisionTreeClassifier`\n",
       "    The child estimator template used to create the collection of fitted\n",
       "    sub-estimators.\n",
       "\n",
       "    .. versionadded:: 1.2\n",
       "       `base_estimator_` was renamed to `estimator_`.\n",
       "\n",
       "base_estimator_ : DecisionTreeClassifier\n",
       "    The child estimator template used to create the collection of fitted\n",
       "    sub-estimators.\n",
       "\n",
       "    .. deprecated:: 1.2\n",
       "        `base_estimator_` is deprecated and will be removed in 1.4.\n",
       "        Use `estimator_` instead.\n",
       "\n",
       "estimators_ : list of DecisionTreeClassifier\n",
       "    The collection of fitted sub-estimators.\n",
       "\n",
       "classes_ : ndarray of shape (n_classes,) or a list of such arrays\n",
       "    The classes labels (single output problem), or a list of arrays of\n",
       "    class labels (multi-output problem).\n",
       "\n",
       "n_classes_ : int or list\n",
       "    The number of classes (single output problem), or a list containing the\n",
       "    number of classes for each output (multi-output problem).\n",
       "\n",
       "n_features_in_ : int\n",
       "    Number of features seen during :term:`fit`.\n",
       "\n",
       "    .. versionadded:: 0.24\n",
       "\n",
       "feature_names_in_ : ndarray of shape (`n_features_in_`,)\n",
       "    Names of features seen during :term:`fit`. Defined only when `X`\n",
       "    has feature names that are all strings.\n",
       "\n",
       "    .. versionadded:: 1.0\n",
       "\n",
       "n_outputs_ : int\n",
       "    The number of outputs when ``fit`` is performed.\n",
       "\n",
       "feature_importances_ : ndarray of shape (n_features,)\n",
       "    The impurity-based feature importances.\n",
       "    The higher, the more important the feature.\n",
       "    The importance of a feature is computed as the (normalized)\n",
       "    total reduction of the criterion brought by that feature.  It is also\n",
       "    known as the Gini importance.\n",
       "\n",
       "    Warning: impurity-based feature importances can be misleading for\n",
       "    high cardinality features (many unique values). See\n",
       "    :func:`sklearn.inspection.permutation_importance` as an alternative.\n",
       "\n",
       "oob_score_ : float\n",
       "    Score of the training dataset obtained using an out-of-bag estimate.\n",
       "    This attribute exists only when ``oob_score`` is True.\n",
       "\n",
       "oob_decision_function_ : ndarray of shape (n_samples, n_classes) or             (n_samples, n_classes, n_outputs)\n",
       "    Decision function computed with out-of-bag estimate on the training\n",
       "    set. If n_estimators is small it might be possible that a data point\n",
       "    was never left out during the bootstrap. In this case,\n",
       "    `oob_decision_function_` might contain NaN. This attribute exists\n",
       "    only when ``oob_score`` is True.\n",
       "\n",
       "See Also\n",
       "--------\n",
       "sklearn.tree.DecisionTreeClassifier : A decision tree classifier.\n",
       "sklearn.ensemble.ExtraTreesClassifier : Ensemble of extremely randomized\n",
       "    tree classifiers.\n",
       "sklearn.ensemble.HistGradientBoostingClassifier : A Histogram-based Gradient\n",
       "    Boosting Classification Tree, very fast for big datasets (n_samples >=\n",
       "    10_000).\n",
       "\n",
       "Notes\n",
       "-----\n",
       "The default values for the parameters controlling the size of the trees\n",
       "(e.g. ``max_depth``, ``min_samples_leaf``, etc.) lead to fully grown and\n",
       "unpruned trees which can potentially be very large on some data sets. To\n",
       "reduce memory consumption, the complexity and size of the trees should be\n",
       "controlled by setting those parameter values.\n",
       "\n",
       "The features are always randomly permuted at each split. Therefore,\n",
       "the best found split may vary, even with the same training data,\n",
       "``max_features=n_features`` and ``bootstrap=False``, if the improvement\n",
       "of the criterion is identical for several splits enumerated during the\n",
       "search of the best split. To obtain a deterministic behaviour during\n",
       "fitting, ``random_state`` has to be fixed.\n",
       "\n",
       "References\n",
       "----------\n",
       ".. [1] L. Breiman, \"Random Forests\", Machine Learning, 45(1), 5-32, 2001.\n",
       "\n",
       "Examples\n",
       "--------\n",
       ">>> from sklearn.ensemble import RandomForestClassifier\n",
       ">>> from sklearn.datasets import make_classification\n",
       ">>> X, y = make_classification(n_samples=1000, n_features=4,\n",
       "...                            n_informative=2, n_redundant=0,\n",
       "...                            random_state=0, shuffle=False)\n",
       ">>> clf = RandomForestClassifier(max_depth=2, random_state=0)\n",
       ">>> clf.fit(X, y)\n",
       "RandomForestClassifier(...)\n",
       ">>> print(clf.predict([[0, 0, 0, 0]]))\n",
       "[1]"
      ]
     },
     "metadata": {},
     "output_type": "display_data"
    }
   ],
   "source": [
    "?rf_model"
   ]
  },
  {
   "cell_type": "code",
   "execution_count": 238,
   "metadata": {
    "tags": []
   },
   "outputs": [],
   "source": [
    "rf_params = {\n",
    "    'n_estimators': [100, 200, 300],\n",
    "    'max_depth': [None, 10, 20, 30],              # Ağaç derinliği (None: sınırsız)\n",
    "    'min_samples_split': [2, 5, 10],\n",
    "    'min_samples_leaf': [1, 2, 4],                # Yaprak düğümde bulunması gereken minimum örnek sayısı\n",
    "    'max_features': ['auto', 'sqrt', 'log2']      # Her bölünmede dikkate alınacak özellik sayısı\n",
    "}"
   ]
  },
  {
   "cell_type": "code",
   "execution_count": null,
   "metadata": {
    "tags": []
   },
   "outputs": [],
   "source": [
    "rf_cv_model = GridSearchCV(estimator=rf_model,\n",
    "                           param_grid=rf_params,\n",
    "                           cv=5,   \n",
    "                           n_jobs=-1,\n",
    "                           verbose=2,\n",
    "                           scoring='accuracy')"
   ]
  },
  {
   "cell_type": "code",
   "execution_count": 245,
   "metadata": {
    "tags": []
   },
   "outputs": [
    {
     "name": "stdout",
     "output_type": "stream",
     "text": [
      "Fitting 5 folds for each of 324 candidates, totalling 1620 fits\n"
     ]
    },
    {
     "ename": "NameError",
     "evalue": "name 'grid_search' is not defined",
     "output_type": "error",
     "traceback": [
      "\u001b[1;31m---------------------------------------------------------------------------\u001b[0m",
      "\u001b[1;31mNameError\u001b[0m                                 Traceback (most recent call last)",
      "Cell \u001b[1;32mIn[245], line 3\u001b[0m\n\u001b[0;32m      1\u001b[0m rf_cv_model\u001b[38;5;241m.\u001b[39mfit(X_train, y_train)\n\u001b[1;32m----> 3\u001b[0m \u001b[38;5;28mprint\u001b[39m(\u001b[38;5;124m\"\u001b[39m\u001b[38;5;124mbest parameters:\u001b[39m\u001b[38;5;124m\"\u001b[39m, grid_search\u001b[38;5;241m.\u001b[39mbest_params_)\n\u001b[0;32m      4\u001b[0m \u001b[38;5;28mprint\u001b[39m(\u001b[38;5;124m\"\u001b[39m\u001b[38;5;124mbest cv score:\u001b[39m\u001b[38;5;124m\"\u001b[39m, grid_search\u001b[38;5;241m.\u001b[39mbest_score_)\n",
      "\u001b[1;31mNameError\u001b[0m: name 'grid_search' is not defined"
     ]
    }
   ],
   "source": [
    "rf_cv_model.fit(X_train, y_train)\n"
   ]
  },
  {
   "cell_type": "code",
   "execution_count": 246,
   "metadata": {
    "tags": []
   },
   "outputs": [
    {
     "name": "stdout",
     "output_type": "stream",
     "text": [
      "best parameters: {'max_depth': 20, 'max_features': 'log2', 'min_samples_leaf': 1, 'min_samples_split': 10, 'n_estimators': 100}\n",
      "best cv score: 0.7932848736587054\n"
     ]
    }
   ],
   "source": [
    "print(\"best parameters:\", rf_cv_model.best_params_)\n",
    "print(\"best cv score:\", rf_cv_model.best_score_)"
   ]
  },
  {
   "cell_type": "code",
   "execution_count": 247,
   "metadata": {
    "tags": []
   },
   "outputs": [
    {
     "data": {
      "text/plain": [
       "0.7445887445887446"
      ]
     },
     "execution_count": 247,
     "metadata": {},
     "output_type": "execute_result"
    }
   ],
   "source": [
    "rf_tuned = rf_cv_model.best_estimator_ # or you can enter the parameters manually by typing RandomForestClassifier()\n",
    "y_pred = rf_tuned.predict(X_test)\n",
    "accuracy_score(y_test, y_pred)"
   ]
  },
  {
   "cell_type": "code",
   "execution_count": 248,
   "metadata": {
    "tags": []
   },
   "outputs": [],
   "source": [
    "Importance = pd.DataFrame({\"Importance\": rf_tuned.feature_importances_*100},\n",
    "                         index = X_train.columns)"
   ]
  },
  {
   "cell_type": "code",
   "execution_count": 250,
   "metadata": {
    "tags": []
   },
   "outputs": [
    {
     "data": {
      "text/plain": [
       "Text(0.5, 0, 'Variable Significance Levels')"
      ]
     },
     "execution_count": 250,
     "metadata": {},
     "output_type": "execute_result"
    },
    {
     "data": {
      "image/png": "[encoded data removed]",
      "text/plain": [
       "<Figure size 640x480 with 1 Axes>"
      ]
     },
     "metadata": {},
     "output_type": "display_data"
    }
   ],
   "source": [
    "Importance.sort_values(by = \"Importance\",\n",
    "                       axis = 0,\n",
    "                       ascending = True).plot(kind =\"barh\", color = \"r\")\n",
    "\n",
    "plt.xlabel(\"Variable Significance Levels\")"
   ]
  },
  {
   "cell_type": "markdown",
   "metadata": {},
   "source": [
    " # (GBM) Gradient Boosting Machines"
   ]
  },
  {
   "cell_type": "code",
   "execution_count": 253,
   "metadata": {
    "tags": []
   },
   "outputs": [],
   "source": [
    "df = diabetes.copy()\n",
    "df = df.dropna()\n",
    "y = df[\"Outcome\"]\n",
    "X = df.drop(['Outcome'], axis=1)\n",
    "#X = df[\"Pregnancies\"]\n",
    "X= pd.DataFrame(X)\n",
    "X_train, X_test, y_train, y_test = train_test_split(X, y, \n",
    "                                                    test_size=0.30, \n",
    "                                                    random_state=42)"
   ]
  },
  {
   "cell_type": "code",
   "execution_count": 254,
   "metadata": {
    "tags": []
   },
   "outputs": [],
   "source": [
    "from sklearn.ensemble import GradientBoostingClassifier"
   ]
  },
  {
   "cell_type": "code",
   "execution_count": 258,
   "metadata": {
    "tags": []
   },
   "outputs": [],
   "source": [
    "gbm_model = GradientBoostingClassifier().fit(X_train, y_train)"
   ]
  },
  {
   "cell_type": "code",
   "execution_count": 259,
   "metadata": {
    "tags": []
   },
   "outputs": [
    {
     "data": {
      "text/plain": [
       "0.7489177489177489"
      ]
     },
     "execution_count": 259,
     "metadata": {},
     "output_type": "execute_result"
    }
   ],
   "source": [
    "y_pred = gbm_model.predict(X_test)\n",
    "accuracy_score(y_test, y_pred)"
   ]
  },
  {
   "cell_type": "markdown",
   "metadata": {},
   "source": [
    "## Model Optimization & Fine-Tuning\n"
   ]
  },
  {
   "cell_type": "code",
   "execution_count": 263,
   "metadata": {
    "collapsed": true,
    "jupyter": {
     "outputs_hidden": true
    },
    "tags": []
   },
   "outputs": [
    {
     "data": {
      "text/plain": [
       "\u001b[1;31mType:\u001b[0m        GradientBoostingClassifier\n",
       "\u001b[1;31mString form:\u001b[0m GradientBoostingClassifier()\n",
       "\u001b[1;31mLength:\u001b[0m      100\n",
       "\u001b[1;31mFile:\u001b[0m        c:\\users\\frkng\\.conda\\lib\\site-packages\\sklearn\\ensemble\\_gb.py\n",
       "\u001b[1;31mDocstring:\u001b[0m  \n",
       "Gradient Boosting for classification.\n",
       "\n",
       "This algorithm builds an additive model in a forward stage-wise fashion; it\n",
       "allows for the optimization of arbitrary differentiable loss functions. In\n",
       "each stage ``n_classes_`` regression trees are fit on the negative gradient\n",
       "of the loss function, e.g. binary or multiclass log loss. Binary\n",
       "classification is a special case where only a single regression tree is\n",
       "induced.\n",
       "\n",
       ":class:`sklearn.ensemble.HistGradientBoostingClassifier` is a much faster\n",
       "variant of this algorithm for intermediate datasets (`n_samples >= 10_000`).\n",
       "\n",
       "Read more in the :ref:`User Guide <gradient_boosting>`.\n",
       "\n",
       "Parameters\n",
       "----------\n",
       "loss : {'log_loss', 'exponential'}, default='log_loss'\n",
       "    The loss function to be optimized. 'log_loss' refers to binomial and\n",
       "    multinomial deviance, the same as used in logistic regression.\n",
       "    It is a good choice for classification with probabilistic outputs.\n",
       "    For loss 'exponential', gradient boosting recovers the AdaBoost algorithm.\n",
       "\n",
       "learning_rate : float, default=0.1\n",
       "    Learning rate shrinks the contribution of each tree by `learning_rate`.\n",
       "    There is a trade-off between learning_rate and n_estimators.\n",
       "    Values must be in the range `[0.0, inf)`.\n",
       "\n",
       "n_estimators : int, default=100\n",
       "    The number of boosting stages to perform. Gradient boosting\n",
       "    is fairly robust to over-fitting so a large number usually\n",
       "    results in better performance.\n",
       "    Values must be in the range `[1, inf)`.\n",
       "\n",
       "subsample : float, default=1.0\n",
       "    The fraction of samples to be used for fitting the individual base\n",
       "    learners. If smaller than 1.0 this results in Stochastic Gradient\n",
       "    Boosting. `subsample` interacts with the parameter `n_estimators`.\n",
       "    Choosing `subsample < 1.0` leads to a reduction of variance\n",
       "    and an increase in bias.\n",
       "    Values must be in the range `(0.0, 1.0]`.\n",
       "\n",
       "criterion : {'friedman_mse', 'squared_error'}, default='friedman_mse'\n",
       "    The function to measure the quality of a split. Supported criteria are\n",
       "    'friedman_mse' for the mean squared error with improvement score by\n",
       "    Friedman, 'squared_error' for mean squared error. The default value of\n",
       "    'friedman_mse' is generally the best as it can provide a better\n",
       "    approximation in some cases.\n",
       "\n",
       "    .. versionadded:: 0.18\n",
       "\n",
       "min_samples_split : int or float, default=2\n",
       "    The minimum number of samples required to split an internal node:\n",
       "\n",
       "    - If int, values must be in the range `[2, inf)`.\n",
       "    - If float, values must be in the range `(0.0, 1.0]` and `min_samples_split`\n",
       "      will be `ceil(min_samples_split * n_samples)`.\n",
       "\n",
       "    .. versionchanged:: 0.18\n",
       "       Added float values for fractions.\n",
       "\n",
       "min_samples_leaf : int or float, default=1\n",
       "    The minimum number of samples required to be at a leaf node.\n",
       "    A split point at any depth will only be considered if it leaves at\n",
       "    least ``min_samples_leaf`` training samples in each of the left and\n",
       "    right branches.  This may have the effect of smoothing the model,\n",
       "    especially in regression.\n",
       "\n",
       "    - If int, values must be in the range `[1, inf)`.\n",
       "    - If float, values must be in the range `(0.0, 1.0)` and `min_samples_leaf`\n",
       "      will be `ceil(min_samples_leaf * n_samples)`.\n",
       "\n",
       "    .. versionchanged:: 0.18\n",
       "       Added float values for fractions.\n",
       "\n",
       "min_weight_fraction_leaf : float, default=0.0\n",
       "    The minimum weighted fraction of the sum total of weights (of all\n",
       "    the input samples) required to be at a leaf node. Samples have\n",
       "    equal weight when sample_weight is not provided.\n",
       "    Values must be in the range `[0.0, 0.5]`.\n",
       "\n",
       "max_depth : int or None, default=3\n",
       "    Maximum depth of the individual regression estimators. The maximum\n",
       "    depth limits the number of nodes in the tree. Tune this parameter\n",
       "    for best performance; the best value depends on the interaction\n",
       "    of the input variables. If None, then nodes are expanded until\n",
       "    all leaves are pure or until all leaves contain less than\n",
       "    min_samples_split samples.\n",
       "    If int, values must be in the range `[1, inf)`.\n",
       "\n",
       "min_impurity_decrease : float, default=0.0\n",
       "    A node will be split if this split induces a decrease of the impurity\n",
       "    greater than or equal to this value.\n",
       "    Values must be in the range `[0.0, inf)`.\n",
       "\n",
       "    The weighted impurity decrease equation is the following::\n",
       "\n",
       "        N_t / N * (impurity - N_t_R / N_t * right_impurity\n",
       "                            - N_t_L / N_t * left_impurity)\n",
       "\n",
       "    where ``N`` is the total number of samples, ``N_t`` is the number of\n",
       "    samples at the current node, ``N_t_L`` is the number of samples in the\n",
       "    left child, and ``N_t_R`` is the number of samples in the right child.\n",
       "\n",
       "    ``N``, ``N_t``, ``N_t_R`` and ``N_t_L`` all refer to the weighted sum,\n",
       "    if ``sample_weight`` is passed.\n",
       "\n",
       "    .. versionadded:: 0.19\n",
       "\n",
       "init : estimator or 'zero', default=None\n",
       "    An estimator object that is used to compute the initial predictions.\n",
       "    ``init`` has to provide :term:`fit` and :term:`predict_proba`. If\n",
       "    'zero', the initial raw predictions are set to zero. By default, a\n",
       "    ``DummyEstimator`` predicting the classes priors is used.\n",
       "\n",
       "random_state : int, RandomState instance or None, default=None\n",
       "    Controls the random seed given to each Tree estimator at each\n",
       "    boosting iteration.\n",
       "    In addition, it controls the random permutation of the features at\n",
       "    each split (see Notes for more details).\n",
       "    It also controls the random splitting of the training data to obtain a\n",
       "    validation set if `n_iter_no_change` is not None.\n",
       "    Pass an int for reproducible output across multiple function calls.\n",
       "    See :term:`Glossary <random_state>`.\n",
       "\n",
       "max_features : {'sqrt', 'log2'}, int or float, default=None\n",
       "    The number of features to consider when looking for the best split:\n",
       "\n",
       "    - If int, values must be in the range `[1, inf)`.\n",
       "    - If float, values must be in the range `(0.0, 1.0]` and the features\n",
       "      considered at each split will be `max(1, int(max_features * n_features_in_))`.\n",
       "    - If 'sqrt', then `max_features=sqrt(n_features)`.\n",
       "    - If 'log2', then `max_features=log2(n_features)`.\n",
       "    - If None, then `max_features=n_features`.\n",
       "\n",
       "    Choosing `max_features < n_features` leads to a reduction of variance\n",
       "    and an increase in bias.\n",
       "\n",
       "    Note: the search for a split does not stop until at least one\n",
       "    valid partition of the node samples is found, even if it requires to\n",
       "    effectively inspect more than ``max_features`` features.\n",
       "\n",
       "verbose : int, default=0\n",
       "    Enable verbose output. If 1 then it prints progress and performance\n",
       "    once in a while (the more trees the lower the frequency). If greater\n",
       "    than 1 then it prints progress and performance for every tree.\n",
       "    Values must be in the range `[0, inf)`.\n",
       "\n",
       "max_leaf_nodes : int, default=None\n",
       "    Grow trees with ``max_leaf_nodes`` in best-first fashion.\n",
       "    Best nodes are defined as relative reduction in impurity.\n",
       "    Values must be in the range `[2, inf)`.\n",
       "    If `None`, then unlimited number of leaf nodes.\n",
       "\n",
       "warm_start : bool, default=False\n",
       "    When set to ``True``, reuse the solution of the previous call to fit\n",
       "    and add more estimators to the ensemble, otherwise, just erase the\n",
       "    previous solution. See :term:`the Glossary <warm_start>`.\n",
       "\n",
       "validation_fraction : float, default=0.1\n",
       "    The proportion of training data to set aside as validation set for\n",
       "    early stopping. Values must be in the range `(0.0, 1.0)`.\n",
       "    Only used if ``n_iter_no_change`` is set to an integer.\n",
       "\n",
       "    .. versionadded:: 0.20\n",
       "\n",
       "n_iter_no_change : int, default=None\n",
       "    ``n_iter_no_change`` is used to decide if early stopping will be used\n",
       "    to terminate training when validation score is not improving. By\n",
       "    default it is set to None to disable early stopping. If set to a\n",
       "    number, it will set aside ``validation_fraction`` size of the training\n",
       "    data as validation and terminate training when validation score is not\n",
       "    improving in all of the previous ``n_iter_no_change`` numbers of\n",
       "    iterations. The split is stratified.\n",
       "    Values must be in the range `[1, inf)`.\n",
       "\n",
       "    .. versionadded:: 0.20\n",
       "\n",
       "tol : float, default=1e-4\n",
       "    Tolerance for the early stopping. When the loss is not improving\n",
       "    by at least tol for ``n_iter_no_change`` iterations (if set to a\n",
       "    number), the training stops.\n",
       "    Values must be in the range `[0.0, inf)`.\n",
       "\n",
       "    .. versionadded:: 0.20\n",
       "\n",
       "ccp_alpha : non-negative float, default=0.0\n",
       "    Complexity parameter used for Minimal Cost-Complexity Pruning. The\n",
       "    subtree with the largest cost complexity that is smaller than\n",
       "    ``ccp_alpha`` will be chosen. By default, no pruning is performed.\n",
       "    Values must be in the range `[0.0, inf)`.\n",
       "    See :ref:`minimal_cost_complexity_pruning` for details.\n",
       "\n",
       "    .. versionadded:: 0.22\n",
       "\n",
       "Attributes\n",
       "----------\n",
       "n_estimators_ : int\n",
       "    The number of estimators as selected by early stopping (if\n",
       "    ``n_iter_no_change`` is specified). Otherwise it is set to\n",
       "    ``n_estimators``.\n",
       "\n",
       "    .. versionadded:: 0.20\n",
       "\n",
       "feature_importances_ : ndarray of shape (n_features,)\n",
       "    The impurity-based feature importances.\n",
       "    The higher, the more important the feature.\n",
       "    The importance of a feature is computed as the (normalized)\n",
       "    total reduction of the criterion brought by that feature.  It is also\n",
       "    known as the Gini importance.\n",
       "\n",
       "    Warning: impurity-based feature importances can be misleading for\n",
       "    high cardinality features (many unique values). See\n",
       "    :func:`sklearn.inspection.permutation_importance` as an alternative.\n",
       "\n",
       "oob_improvement_ : ndarray of shape (n_estimators,)\n",
       "    The improvement in loss on the out-of-bag samples\n",
       "    relative to the previous iteration.\n",
       "    ``oob_improvement_[0]`` is the improvement in\n",
       "    loss of the first stage over the ``init`` estimator.\n",
       "    Only available if ``subsample < 1.0``.\n",
       "\n",
       "oob_scores_ : ndarray of shape (n_estimators,)\n",
       "    The full history of the loss values on the out-of-bag\n",
       "    samples. Only available if `subsample < 1.0`.\n",
       "\n",
       "    .. versionadded:: 1.3\n",
       "\n",
       "oob_score_ : float\n",
       "    The last value of the loss on the out-of-bag samples. It is\n",
       "    the same as `oob_scores_[-1]`. Only available if `subsample < 1.0`.\n",
       "\n",
       "    .. versionadded:: 1.3\n",
       "\n",
       "train_score_ : ndarray of shape (n_estimators,)\n",
       "    The i-th score ``train_score_[i]`` is the loss of the\n",
       "    model at iteration ``i`` on the in-bag sample.\n",
       "    If ``subsample == 1`` this is the loss on the training data.\n",
       "\n",
       "init_ : estimator\n",
       "    The estimator that provides the initial predictions.\n",
       "    Set via the ``init`` argument or ``loss.init_estimator``.\n",
       "\n",
       "estimators_ : ndarray of DecisionTreeRegressor of             shape (n_estimators, ``loss_.K``)\n",
       "    The collection of fitted sub-estimators. ``loss_.K`` is 1 for binary\n",
       "    classification, otherwise n_classes.\n",
       "\n",
       "classes_ : ndarray of shape (n_classes,)\n",
       "    The classes labels.\n",
       "\n",
       "n_features_in_ : int\n",
       "    Number of features seen during :term:`fit`.\n",
       "\n",
       "    .. versionadded:: 0.24\n",
       "\n",
       "feature_names_in_ : ndarray of shape (`n_features_in_`,)\n",
       "    Names of features seen during :term:`fit`. Defined only when `X`\n",
       "    has feature names that are all strings.\n",
       "\n",
       "    .. versionadded:: 1.0\n",
       "\n",
       "n_classes_ : int\n",
       "    The number of classes.\n",
       "\n",
       "max_features_ : int\n",
       "    The inferred value of max_features.\n",
       "\n",
       "See Also\n",
       "--------\n",
       "HistGradientBoostingClassifier : Histogram-based Gradient Boosting\n",
       "    Classification Tree.\n",
       "sklearn.tree.DecisionTreeClassifier : A decision tree classifier.\n",
       "RandomForestClassifier : A meta-estimator that fits a number of decision\n",
       "    tree classifiers on various sub-samples of the dataset and uses\n",
       "    averaging to improve the predictive accuracy and control over-fitting.\n",
       "AdaBoostClassifier : A meta-estimator that begins by fitting a classifier\n",
       "    on the original dataset and then fits additional copies of the\n",
       "    classifier on the same dataset where the weights of incorrectly\n",
       "    classified instances are adjusted such that subsequent classifiers\n",
       "    focus more on difficult cases.\n",
       "\n",
       "Notes\n",
       "-----\n",
       "The features are always randomly permuted at each split. Therefore,\n",
       "the best found split may vary, even with the same training data and\n",
       "``max_features=n_features``, if the improvement of the criterion is\n",
       "identical for several splits enumerated during the search of the best\n",
       "split. To obtain a deterministic behaviour during fitting,\n",
       "``random_state`` has to be fixed.\n",
       "\n",
       "References\n",
       "----------\n",
       "J. Friedman, Greedy Function Approximation: A Gradient Boosting\n",
       "Machine, The Annals of Statistics, Vol. 29, No. 5, 2001.\n",
       "\n",
       "J. Friedman, Stochastic Gradient Boosting, 1999\n",
       "\n",
       "T. Hastie, R. Tibshirani and J. Friedman.\n",
       "Elements of Statistical Learning Ed. 2, Springer, 2009.\n",
       "\n",
       "Examples\n",
       "--------\n",
       "The following example shows how to fit a gradient boosting classifier with\n",
       "100 decision stumps as weak learners.\n",
       "\n",
       ">>> from sklearn.datasets import make_hastie_10_2\n",
       ">>> from sklearn.ensemble import GradientBoostingClassifier\n",
       "\n",
       ">>> X, y = make_hastie_10_2(random_state=0)\n",
       ">>> X_train, X_test = X[:2000], X[2000:]\n",
       ">>> y_train, y_test = y[:2000], y[2000:]\n",
       "\n",
       ">>> clf = GradientBoostingClassifier(n_estimators=100, learning_rate=1.0,\n",
       "...     max_depth=1, random_state=0).fit(X_train, y_train)\n",
       ">>> clf.score(X_test, y_test)\n",
       "0.913..."
      ]
     },
     "metadata": {},
     "output_type": "display_data"
    }
   ],
   "source": [
    "?gbm_model"
   ]
  },
  {
   "cell_type": "code",
   "execution_count": 264,
   "metadata": {
    "tags": []
   },
   "outputs": [],
   "source": [
    "gbm_params = {\n",
    "    'n_estimators': [100, 200, 300],\n",
    "    'learning_rate': [0.1, 0.05, 0.01],\n",
    "    'max_depth': [3, 5, 7],\n",
    "    'subsample': [0.8, 1.0],\n",
    "    'max_features': ['auto', 'sqrt', 'log2']\n",
    "}"
   ]
  },
  {
   "cell_type": "code",
   "execution_count": 266,
   "metadata": {
    "tags": []
   },
   "outputs": [],
   "source": [
    "gbm_cv_model = GridSearchCV(estimator=gbm_model,\n",
    "                           param_grid=gbm_params,\n",
    "                           cv=10,   \n",
    "                           n_jobs=-1,\n",
    "                           verbose=2,\n",
    "                           scoring='accuracy')"
   ]
  },
  {
   "cell_type": "code",
   "execution_count": 267,
   "metadata": {
    "tags": []
   },
   "outputs": [
    {
     "name": "stdout",
     "output_type": "stream",
     "text": [
      "Fitting 10 folds for each of 162 candidates, totalling 1620 fits\n"
     ]
    },
    {
     "data": {
      "text/html": [
       "<style>#sk-container-id-20 {color: black;}#sk-container-id-20 pre{padding: 0;}#sk-container-id-20 div.sk-toggleable {background-color: white;}#sk-container-id-20 label.sk-toggleable__label {cursor: pointer;display: block;width: 100%;margin-bottom: 0;padding: 0.3em;box-sizing: border-box;text-align: center;}#sk-container-id-20 label.sk-toggleable__label-arrow:before {content: \"▸\";float: left;margin-right: 0.25em;color: #696969;}#sk-container-id-20 label.sk-toggleable__label-arrow:hover:before {color: black;}#sk-container-id-20 div.sk-estimator:hover label.sk-toggleable__label-arrow:before {color: black;}#sk-container-id-20 div.sk-toggleable__content {max-height: 0;max-width: 0;overflow: hidden;text-align: left;background-color: #f0f8ff;}#sk-container-id-20 div.sk-toggleable__content pre {margin: 0.2em;color: black;border-radius: 0.25em;background-color: #f0f8ff;}#sk-container-id-20 input.sk-toggleable__control:checked~div.sk-toggleable__content {max-height: 200px;max-width: 100%;overflow: auto;}#sk-container-id-20 input.sk-toggleable__control:checked~label.sk-toggleable__label-arrow:before {content: \"▾\";}#sk-container-id-20 div.sk-estimator input.sk-toggleable__control:checked~label.sk-toggleable__label {background-color: #d4ebff;}#sk-container-id-20 div.sk-label input.sk-toggleable__control:checked~label.sk-toggleable__label {background-color: #d4ebff;}#sk-container-id-20 input.sk-hidden--visually {border: 0;clip: rect(1px 1px 1px 1px);clip: rect(1px, 1px, 1px, 1px);height: 1px;margin: -1px;overflow: hidden;padding: 0;position: absolute;width: 1px;}#sk-container-id-20 div.sk-estimator {font-family: monospace;background-color: #f0f8ff;border: 1px dotted black;border-radius: 0.25em;box-sizing: border-box;margin-bottom: 0.5em;}#sk-container-id-20 div.sk-estimator:hover {background-color: #d4ebff;}#sk-container-id-20 div.sk-parallel-item::after {content: \"\";width: 100%;border-bottom: 1px solid gray;flex-grow: 1;}#sk-container-id-20 div.sk-label:hover label.sk-toggleable__label {background-color: #d4ebff;}#sk-container-id-20 div.sk-serial::before {content: \"\";position: absolute;border-left: 1px solid gray;box-sizing: border-box;top: 0;bottom: 0;left: 50%;z-index: 0;}#sk-container-id-20 div.sk-serial {display: flex;flex-direction: column;align-items: center;background-color: white;padding-right: 0.2em;padding-left: 0.2em;position: relative;}#sk-container-id-20 div.sk-item {position: relative;z-index: 1;}#sk-container-id-20 div.sk-parallel {display: flex;align-items: stretch;justify-content: center;background-color: white;position: relative;}#sk-container-id-20 div.sk-item::before, #sk-container-id-20 div.sk-parallel-item::before {content: \"\";position: absolute;border-left: 1px solid gray;box-sizing: border-box;top: 0;bottom: 0;left: 50%;z-index: -1;}#sk-container-id-20 div.sk-parallel-item {display: flex;flex-direction: column;z-index: 1;position: relative;background-color: white;}#sk-container-id-20 div.sk-parallel-item:first-child::after {align-self: flex-end;width: 50%;}#sk-container-id-20 div.sk-parallel-item:last-child::after {align-self: flex-start;width: 50%;}#sk-container-id-20 div.sk-parallel-item:only-child::after {width: 0;}#sk-container-id-20 div.sk-dashed-wrapped {border: 1px dashed gray;margin: 0 0.4em 0.5em 0.4em;box-sizing: border-box;padding-bottom: 0.4em;background-color: white;}#sk-container-id-20 div.sk-label label {font-family: monospace;font-weight: bold;display: inline-block;line-height: 1.2em;}#sk-container-id-20 div.sk-label-container {text-align: center;}#sk-container-id-20 div.sk-container {/* jupyter's `normalize.less` sets `[hidden] { display: none; }` but bootstrap.min.css set `[hidden] { display: none !important; }` so we also need the `!important` here to be able to override the default hidden behavior on the sphinx rendered scikit-learn.org. See: https://github.com/scikit-learn/scikit-learn/issues/21755 */display: inline-block !important;position: relative;}#sk-container-id-20 div.sk-text-repr-fallback {display: none;}</style><div id=\"sk-container-id-20\" class=\"sk-top-container\"><div class=\"sk-text-repr-fallback\"><pre>GridSearchCV(cv=10, estimator=GradientBoostingClassifier(), n_jobs=-1,\n",
       "             param_grid={&#x27;learning_rate&#x27;: [0.1, 0.05, 0.01],\n",
       "                         &#x27;max_depth&#x27;: [3, 5, 7],\n",
       "                         &#x27;max_features&#x27;: [&#x27;auto&#x27;, &#x27;sqrt&#x27;, &#x27;log2&#x27;],\n",
       "                         &#x27;n_estimators&#x27;: [100, 200, 300],\n",
       "                         &#x27;subsample&#x27;: [0.8, 1.0]},\n",
       "             scoring=&#x27;accuracy&#x27;, verbose=2)</pre><b>In a Jupyter environment, please rerun this cell to show the HTML representation or trust the notebook. <br />On GitHub, the HTML representation is unable to render, please try loading this page with nbviewer.org.</b></div><div class=\"sk-container\" hidden><div class=\"sk-item sk-dashed-wrapped\"><div class=\"sk-label-container\"><div class=\"sk-label sk-toggleable\"><input class=\"sk-toggleable__control sk-hidden--visually\" id=\"sk-estimator-id-28\" type=\"checkbox\" ><label for=\"sk-estimator-id-28\" class=\"sk-toggleable__label sk-toggleable__label-arrow\">GridSearchCV</label><div class=\"sk-toggleable__content\"><pre>GridSearchCV(cv=10, estimator=GradientBoostingClassifier(), n_jobs=-1,\n",
       "             param_grid={&#x27;learning_rate&#x27;: [0.1, 0.05, 0.01],\n",
       "                         &#x27;max_depth&#x27;: [3, 5, 7],\n",
       "                         &#x27;max_features&#x27;: [&#x27;auto&#x27;, &#x27;sqrt&#x27;, &#x27;log2&#x27;],\n",
       "                         &#x27;n_estimators&#x27;: [100, 200, 300],\n",
       "                         &#x27;subsample&#x27;: [0.8, 1.0]},\n",
       "             scoring=&#x27;accuracy&#x27;, verbose=2)</pre></div></div></div><div class=\"sk-parallel\"><div class=\"sk-parallel-item\"><div class=\"sk-item\"><div class=\"sk-label-container\"><div class=\"sk-label sk-toggleable\"><input class=\"sk-toggleable__control sk-hidden--visually\" id=\"sk-estimator-id-29\" type=\"checkbox\" ><label for=\"sk-estimator-id-29\" class=\"sk-toggleable__label sk-toggleable__label-arrow\">estimator: GradientBoostingClassifier</label><div class=\"sk-toggleable__content\"><pre>GradientBoostingClassifier()</pre></div></div></div><div class=\"sk-serial\"><div class=\"sk-item\"><div class=\"sk-estimator sk-toggleable\"><input class=\"sk-toggleable__control sk-hidden--visually\" id=\"sk-estimator-id-30\" type=\"checkbox\" ><label for=\"sk-estimator-id-30\" class=\"sk-toggleable__label sk-toggleable__label-arrow\">GradientBoostingClassifier</label><div class=\"sk-toggleable__content\"><pre>GradientBoostingClassifier()</pre></div></div></div></div></div></div></div></div></div></div>"
      ],
      "text/plain": [
       "GridSearchCV(cv=10, estimator=GradientBoostingClassifier(), n_jobs=-1,\n",
       "             param_grid={'learning_rate': [0.1, 0.05, 0.01],\n",
       "                         'max_depth': [3, 5, 7],\n",
       "                         'max_features': ['auto', 'sqrt', 'log2'],\n",
       "                         'n_estimators': [100, 200, 300],\n",
       "                         'subsample': [0.8, 1.0]},\n",
       "             scoring='accuracy', verbose=2)"
      ]
     },
     "execution_count": 267,
     "metadata": {},
     "output_type": "execute_result"
    }
   ],
   "source": [
    "gbm_cv_model.fit(X_train, y_train)"
   ]
  },
  {
   "cell_type": "code",
   "execution_count": 268,
   "metadata": {
    "tags": []
   },
   "outputs": [
    {
     "name": "stdout",
     "output_type": "stream",
     "text": [
      "best parameters: {'learning_rate': 0.01, 'max_depth': 7, 'max_features': 'log2', 'n_estimators': 300, 'subsample': 0.8}\n",
      "best cv score: 0.787561146051712\n"
     ]
    }
   ],
   "source": [
    "\n",
    "print(\"best parameters:\", gbm_cv_model.best_params_)\n",
    "print(\"best cv score:\", gbm_cv_model.best_score_)"
   ]
  },
  {
   "cell_type": "code",
   "execution_count": 269,
   "metadata": {
    "tags": []
   },
   "outputs": [
    {
     "data": {
      "text/plain": [
       "0.7445887445887446"
      ]
     },
     "execution_count": 269,
     "metadata": {},
     "output_type": "execute_result"
    }
   ],
   "source": [
    "gbm_tuned = gbm_cv_model.best_estimator_ # or you can enter the parameters manually by typing GradientBoostingClassifier()\n",
    "y_pred = gbm_tuned.predict(X_test)\n",
    "accuracy_score(y_test, y_pred)"
   ]
  },
  {
   "cell_type": "markdown",
   "metadata": {},
   "source": [
    "#  XGBoost"
   ]
  },
  {
   "cell_type": "code",
   "execution_count": 270,
   "metadata": {
    "tags": []
   },
   "outputs": [],
   "source": [
    "df = diabetes.copy()\n",
    "df = df.dropna()\n",
    "y = df[\"Outcome\"]\n",
    "X = df.drop(['Outcome'], axis=1)\n",
    "#X = df[\"Pregnancies\"]\n",
    "X= pd.DataFrame(X)\n",
    "X_train, X_test, y_train, y_test = train_test_split(X, y, \n",
    "                                                    test_size=0.30, \n",
    "                                                    random_state=42)"
   ]
  },
  {
   "cell_type": "code",
   "execution_count": 271,
   "metadata": {
    "tags": []
   },
   "outputs": [],
   "source": [
    "#!pip install xgboost\n",
    "from xgboost import XGBClassifier"
   ]
  },
  {
   "cell_type": "code",
   "execution_count": 272,
   "metadata": {
    "tags": []
   },
   "outputs": [],
   "source": [
    "xgb_model = XGBClassifier().fit(X_train, y_train)"
   ]
  },
  {
   "cell_type": "code",
   "execution_count": 273,
   "metadata": {
    "tags": []
   },
   "outputs": [
    {
     "data": {
      "text/plain": [
       "0.7272727272727273"
      ]
     },
     "execution_count": 273,
     "metadata": {},
     "output_type": "execute_result"
    }
   ],
   "source": [
    "y_pred = xgb_model.predict(X_test)\n",
    "accuracy_score(y_test, y_pred)"
   ]
  },
  {
   "cell_type": "markdown",
   "metadata": {},
   "source": [
    "## Model Optimization & Fine-Tuning\n"
   ]
  },
  {
   "cell_type": "code",
   "execution_count": 274,
   "metadata": {
    "tags": []
   },
   "outputs": [],
   "source": [
    "xgb_params = {\n",
    "        'n_estimators': [100, 500, 1000, 2000],\n",
    "        'subsample': [0.6, 0.8, 1.0],\n",
    "        'max_depth': [3, 4, 5,6],\n",
    "        'learning_rate': [0.1,0.01,0.02,0.05],\n",
    "        \"min_samples_split\": [2,5,10]}"
   ]
  },
  {
   "cell_type": "code",
   "execution_count": 276,
   "metadata": {
    "tags": []
   },
   "outputs": [],
   "source": [
    "xgb = XGBClassifier()\n",
    "xgb_cv_model = GridSearchCV(xgb, xgb_params, cv = 10, n_jobs = -1, verbose = 2)"
   ]
  },
  {
   "cell_type": "code",
   "execution_count": 277,
   "metadata": {
    "tags": []
   },
   "outputs": [
    {
     "name": "stdout",
     "output_type": "stream",
     "text": [
      "Fitting 10 folds for each of 576 candidates, totalling 5760 fits\n"
     ]
    },
    {
     "data": {
      "text/html": [
       "<style>#sk-container-id-21 {color: black;}#sk-container-id-21 pre{padding: 0;}#sk-container-id-21 div.sk-toggleable {background-color: white;}#sk-container-id-21 label.sk-toggleable__label {cursor: pointer;display: block;width: 100%;margin-bottom: 0;padding: 0.3em;box-sizing: border-box;text-align: center;}#sk-container-id-21 label.sk-toggleable__label-arrow:before {content: \"▸\";float: left;margin-right: 0.25em;color: #696969;}#sk-container-id-21 label.sk-toggleable__label-arrow:hover:before {color: black;}#sk-container-id-21 div.sk-estimator:hover label.sk-toggleable__label-arrow:before {color: black;}#sk-container-id-21 div.sk-toggleable__content {max-height: 0;max-width: 0;overflow: hidden;text-align: left;background-color: #f0f8ff;}#sk-container-id-21 div.sk-toggleable__content pre {margin: 0.2em;color: black;border-radius: 0.25em;background-color: #f0f8ff;}#sk-container-id-21 input.sk-toggleable__control:checked~div.sk-toggleable__content {max-height: 200px;max-width: 100%;overflow: auto;}#sk-container-id-21 input.sk-toggleable__control:checked~label.sk-toggleable__label-arrow:before {content: \"▾\";}#sk-container-id-21 div.sk-estimator input.sk-toggleable__control:checked~label.sk-toggleable__label {background-color: #d4ebff;}#sk-container-id-21 div.sk-label input.sk-toggleable__control:checked~label.sk-toggleable__label {background-color: #d4ebff;}#sk-container-id-21 input.sk-hidden--visually {border: 0;clip: rect(1px 1px 1px 1px);clip: rect(1px, 1px, 1px, 1px);height: 1px;margin: -1px;overflow: hidden;padding: 0;position: absolute;width: 1px;}#sk-container-id-21 div.sk-estimator {font-family: monospace;background-color: #f0f8ff;border: 1px dotted black;border-radius: 0.25em;box-sizing: border-box;margin-bottom: 0.5em;}#sk-container-id-21 div.sk-estimator:hover {background-color: #d4ebff;}#sk-container-id-21 div.sk-parallel-item::after {content: \"\";width: 100%;border-bottom: 1px solid gray;flex-grow: 1;}#sk-container-id-21 div.sk-label:hover label.sk-toggleable__label {background-color: #d4ebff;}#sk-container-id-21 div.sk-serial::before {content: \"\";position: absolute;border-left: 1px solid gray;box-sizing: border-box;top: 0;bottom: 0;left: 50%;z-index: 0;}#sk-container-id-21 div.sk-serial {display: flex;flex-direction: column;align-items: center;background-color: white;padding-right: 0.2em;padding-left: 0.2em;position: relative;}#sk-container-id-21 div.sk-item {position: relative;z-index: 1;}#sk-container-id-21 div.sk-parallel {display: flex;align-items: stretch;justify-content: center;background-color: white;position: relative;}#sk-container-id-21 div.sk-item::before, #sk-container-id-21 div.sk-parallel-item::before {content: \"\";position: absolute;border-left: 1px solid gray;box-sizing: border-box;top: 0;bottom: 0;left: 50%;z-index: -1;}#sk-container-id-21 div.sk-parallel-item {display: flex;flex-direction: column;z-index: 1;position: relative;background-color: white;}#sk-container-id-21 div.sk-parallel-item:first-child::after {align-self: flex-end;width: 50%;}#sk-container-id-21 div.sk-parallel-item:last-child::after {align-self: flex-start;width: 50%;}#sk-container-id-21 div.sk-parallel-item:only-child::after {width: 0;}#sk-container-id-21 div.sk-dashed-wrapped {border: 1px dashed gray;margin: 0 0.4em 0.5em 0.4em;box-sizing: border-box;padding-bottom: 0.4em;background-color: white;}#sk-container-id-21 div.sk-label label {font-family: monospace;font-weight: bold;display: inline-block;line-height: 1.2em;}#sk-container-id-21 div.sk-label-container {text-align: center;}#sk-container-id-21 div.sk-container {/* jupyter's `normalize.less` sets `[hidden] { display: none; }` but bootstrap.min.css set `[hidden] { display: none !important; }` so we also need the `!important` here to be able to override the default hidden behavior on the sphinx rendered scikit-learn.org. See: https://github.com/scikit-learn/scikit-learn/issues/21755 */display: inline-block !important;position: relative;}#sk-container-id-21 div.sk-text-repr-fallback {display: none;}</style><div id=\"sk-container-id-21\" class=\"sk-top-container\"><div class=\"sk-text-repr-fallback\"><pre>GridSearchCV(cv=10,\n",
       "             estimator=XGBClassifier(base_score=None, booster=None,\n",
       "                                     callbacks=None, colsample_bylevel=None,\n",
       "                                     colsample_bynode=None,\n",
       "                                     colsample_bytree=None, device=None,\n",
       "                                     early_stopping_rounds=None,\n",
       "                                     enable_categorical=False, eval_metric=None,\n",
       "                                     feature_types=None, gamma=None,\n",
       "                                     grow_policy=None, importance_type=None,\n",
       "                                     interaction_constraints=None,\n",
       "                                     learning_rate=None...\n",
       "                                     max_leaves=None, min_child_weight=None,\n",
       "                                     missing=nan, monotone_constraints=None,\n",
       "                                     multi_strategy=None, n_estimators=None,\n",
       "                                     n_jobs=None, num_parallel_tree=None,\n",
       "                                     random_state=None, ...),\n",
       "             n_jobs=-1,\n",
       "             param_grid={&#x27;learning_rate&#x27;: [0.1, 0.01, 0.02, 0.05],\n",
       "                         &#x27;max_depth&#x27;: [3, 4, 5, 6],\n",
       "                         &#x27;min_samples_split&#x27;: [2, 5, 10],\n",
       "                         &#x27;n_estimators&#x27;: [100, 500, 1000, 2000],\n",
       "                         &#x27;subsample&#x27;: [0.6, 0.8, 1.0]},\n",
       "             verbose=2)</pre><b>In a Jupyter environment, please rerun this cell to show the HTML representation or trust the notebook. <br />On GitHub, the HTML representation is unable to render, please try loading this page with nbviewer.org.</b></div><div class=\"sk-container\" hidden><div class=\"sk-item sk-dashed-wrapped\"><div class=\"sk-label-container\"><div class=\"sk-label sk-toggleable\"><input class=\"sk-toggleable__control sk-hidden--visually\" id=\"sk-estimator-id-31\" type=\"checkbox\" ><label for=\"sk-estimator-id-31\" class=\"sk-toggleable__label sk-toggleable__label-arrow\">GridSearchCV</label><div class=\"sk-toggleable__content\"><pre>GridSearchCV(cv=10,\n",
       "             estimator=XGBClassifier(base_score=None, booster=None,\n",
       "                                     callbacks=None, colsample_bylevel=None,\n",
       "                                     colsample_bynode=None,\n",
       "                                     colsample_bytree=None, device=None,\n",
       "                                     early_stopping_rounds=None,\n",
       "                                     enable_categorical=False, eval_metric=None,\n",
       "                                     feature_types=None, gamma=None,\n",
       "                                     grow_policy=None, importance_type=None,\n",
       "                                     interaction_constraints=None,\n",
       "                                     learning_rate=None...\n",
       "                                     max_leaves=None, min_child_weight=None,\n",
       "                                     missing=nan, monotone_constraints=None,\n",
       "                                     multi_strategy=None, n_estimators=None,\n",
       "                                     n_jobs=None, num_parallel_tree=None,\n",
       "                                     random_state=None, ...),\n",
       "             n_jobs=-1,\n",
       "             param_grid={&#x27;learning_rate&#x27;: [0.1, 0.01, 0.02, 0.05],\n",
       "                         &#x27;max_depth&#x27;: [3, 4, 5, 6],\n",
       "                         &#x27;min_samples_split&#x27;: [2, 5, 10],\n",
       "                         &#x27;n_estimators&#x27;: [100, 500, 1000, 2000],\n",
       "                         &#x27;subsample&#x27;: [0.6, 0.8, 1.0]},\n",
       "             verbose=2)</pre></div></div></div><div class=\"sk-parallel\"><div class=\"sk-parallel-item\"><div class=\"sk-item\"><div class=\"sk-label-container\"><div class=\"sk-label sk-toggleable\"><input class=\"sk-toggleable__control sk-hidden--visually\" id=\"sk-estimator-id-32\" type=\"checkbox\" ><label for=\"sk-estimator-id-32\" class=\"sk-toggleable__label sk-toggleable__label-arrow\">estimator: XGBClassifier</label><div class=\"sk-toggleable__content\"><pre>XGBClassifier(base_score=None, booster=None, callbacks=None,\n",
       "              colsample_bylevel=None, colsample_bynode=None,\n",
       "              colsample_bytree=None, device=None, early_stopping_rounds=None,\n",
       "              enable_categorical=False, eval_metric=None, feature_types=None,\n",
       "              gamma=None, grow_policy=None, importance_type=None,\n",
       "              interaction_constraints=None, learning_rate=None, max_bin=None,\n",
       "              max_cat_threshold=None, max_cat_to_onehot=None,\n",
       "              max_delta_step=None, max_depth=None, max_leaves=None,\n",
       "              min_child_weight=None, missing=nan, monotone_constraints=None,\n",
       "              multi_strategy=None, n_estimators=None, n_jobs=None,\n",
       "              num_parallel_tree=None, random_state=None, ...)</pre></div></div></div><div class=\"sk-serial\"><div class=\"sk-item\"><div class=\"sk-estimator sk-toggleable\"><input class=\"sk-toggleable__control sk-hidden--visually\" id=\"sk-estimator-id-33\" type=\"checkbox\" ><label for=\"sk-estimator-id-33\" class=\"sk-toggleable__label sk-toggleable__label-arrow\">XGBClassifier</label><div class=\"sk-toggleable__content\"><pre>XGBClassifier(base_score=None, booster=None, callbacks=None,\n",
       "              colsample_bylevel=None, colsample_bynode=None,\n",
       "              colsample_bytree=None, device=None, early_stopping_rounds=None,\n",
       "              enable_categorical=False, eval_metric=None, feature_types=None,\n",
       "              gamma=None, grow_policy=None, importance_type=None,\n",
       "              interaction_constraints=None, learning_rate=None, max_bin=None,\n",
       "              max_cat_threshold=None, max_cat_to_onehot=None,\n",
       "              max_delta_step=None, max_depth=None, max_leaves=None,\n",
       "              min_child_weight=None, missing=nan, monotone_constraints=None,\n",
       "              multi_strategy=None, n_estimators=None, n_jobs=None,\n",
       "              num_parallel_tree=None, random_state=None, ...)</pre></div></div></div></div></div></div></div></div></div></div>"
      ],
      "text/plain": [
       "GridSearchCV(cv=10,\n",
       "             estimator=XGBClassifier(base_score=None, booster=None,\n",
       "                                     callbacks=None, colsample_bylevel=None,\n",
       "                                     colsample_bynode=None,\n",
       "                                     colsample_bytree=None, device=None,\n",
       "                                     early_stopping_rounds=None,\n",
       "                                     enable_categorical=False, eval_metric=None,\n",
       "                                     feature_types=None, gamma=None,\n",
       "                                     grow_policy=None, importance_type=None,\n",
       "                                     interaction_constraints=None,\n",
       "                                     learning_rate=None...\n",
       "                                     max_leaves=None, min_child_weight=None,\n",
       "                                     missing=nan, monotone_constraints=None,\n",
       "                                     multi_strategy=None, n_estimators=None,\n",
       "                                     n_jobs=None, num_parallel_tree=None,\n",
       "                                     random_state=None, ...),\n",
       "             n_jobs=-1,\n",
       "             param_grid={'learning_rate': [0.1, 0.01, 0.02, 0.05],\n",
       "                         'max_depth': [3, 4, 5, 6],\n",
       "                         'min_samples_split': [2, 5, 10],\n",
       "                         'n_estimators': [100, 500, 1000, 2000],\n",
       "                         'subsample': [0.6, 0.8, 1.0]},\n",
       "             verbose=2)"
      ]
     },
     "execution_count": 277,
     "metadata": {},
     "output_type": "execute_result"
    }
   ],
   "source": [
    "xgb_cv_model.fit(X_train, y_train)"
   ]
  },
  {
   "cell_type": "code",
   "execution_count": 278,
   "metadata": {
    "tags": []
   },
   "outputs": [
    {
     "data": {
      "text/plain": [
       "{'learning_rate': 0.05,\n",
       " 'max_depth': 3,\n",
       " 'min_samples_split': 2,\n",
       " 'n_estimators': 100,\n",
       " 'subsample': 1.0}"
      ]
     },
     "execution_count": 278,
     "metadata": {},
     "output_type": "execute_result"
    }
   ],
   "source": [
    "xgb_cv_model.best_params_"
   ]
  },
  {
   "cell_type": "code",
   "execution_count": 279,
   "metadata": {
    "tags": []
   },
   "outputs": [],
   "source": [
    "xgb = XGBClassifier(learning_rate = 0.05,\n",
    "                    max_depth = 3,\n",
    "                    min_samples_split = 2,\n",
    "                    n_estimators = 100,\n",
    "                    subsample = 1.0)"
   ]
  },
  {
   "cell_type": "code",
   "execution_count": 280,
   "metadata": {
    "tags": []
   },
   "outputs": [],
   "source": [
    "xgb_tuned =  xgb.fit(X_train,y_train)"
   ]
  },
  {
   "cell_type": "code",
   "execution_count": 281,
   "metadata": {
    "tags": []
   },
   "outputs": [
    {
     "data": {
      "text/plain": [
       "0.7662337662337663"
      ]
     },
     "execution_count": 281,
     "metadata": {},
     "output_type": "execute_result"
    }
   ],
   "source": [
    "y_pred = xgb_tuned.predict(X_test)\n",
    "accuracy_score(y_test, y_pred)"
   ]
  },
  {
   "cell_type": "markdown",
   "metadata": {},
   "source": [
    "# LightGBM"
   ]
  },
  {
   "cell_type": "code",
   "execution_count": 282,
   "metadata": {
    "tags": []
   },
   "outputs": [],
   "source": [
    "df = diabetes.copy()\n",
    "df = df.dropna()\n",
    "y = df[\"Outcome\"]\n",
    "X = df.drop(['Outcome'], axis=1)\n",
    "#X = df[\"Pregnancies\"]\n",
    "X = pd.DataFrame(X)\n",
    "X_train, X_test, y_train, y_test = train_test_split(X, y,\n",
    "                                                    test_size=0.30,\n",
    "                                                    random_state=42)"
   ]
  },
  {
   "cell_type": "code",
   "execution_count": 283,
   "metadata": {
    "tags": []
   },
   "outputs": [],
   "source": [
    "#!conda install -c conda-forge lightgbm\n",
    "from lightgbm import LGBMClassifier"
   ]
  },
  {
   "cell_type": "code",
   "execution_count": 284,
   "metadata": {
    "collapsed": true,
    "jupyter": {
     "outputs_hidden": true
    },
    "tags": []
   },
   "outputs": [
    {
     "name": "stdout",
     "output_type": "stream",
     "text": [
      "[LightGBM] [Info] Number of positive: 188, number of negative: 349\n",
      "[LightGBM] [Info] Auto-choosing row-wise multi-threading, the overhead of testing was 0.000044 seconds.\n",
      "You can set `force_row_wise=true` to remove the overhead.\n",
      "And if memory is not enough, you can set `force_col_wise=true`.\n",
      "[LightGBM] [Info] Total Bins 606\n",
      "[LightGBM] [Info] Number of data points in the train set: 537, number of used features: 8\n",
      "[LightGBM] [Info] [binary:BoostFromScore]: pavg=0.350093 -> initscore=-0.618630\n",
      "[LightGBM] [Info] Start training from score -0.618630\n",
      "[LightGBM] [Warning] No further splits with positive gain, best gain: -inf\n",
      "[LightGBM] [Warning] No further splits with positive gain, best gain: -inf\n",
      "[LightGBM] [Warning] No further splits with positive gain, best gain: -inf\n",
      "[LightGBM] [Warning] No further splits with positive gain, best gain: -inf\n",
      "[LightGBM] [Warning] No further splits with positive gain, best gain: -inf\n",
      "[LightGBM] [Warning] No further splits with positive gain, best gain: -inf\n",
      "[LightGBM] [Warning] No further splits with positive gain, best gain: -inf\n",
      "[LightGBM] [Warning] No further splits with positive gain, best gain: -inf\n",
      "[LightGBM] [Warning] No further splits with positive gain, best gain: -inf\n",
      "[LightGBM] [Warning] No further splits with positive gain, best gain: -inf\n",
      "[LightGBM] [Warning] No further splits with positive gain, best gain: -inf\n",
      "[LightGBM] [Warning] No further splits with positive gain, best gain: -inf\n",
      "[LightGBM] [Warning] No further splits with positive gain, best gain: -inf\n",
      "[LightGBM] [Warning] No further splits with positive gain, best gain: -inf\n",
      "[LightGBM] [Warning] No further splits with positive gain, best gain: -inf\n",
      "[LightGBM] [Warning] No further splits with positive gain, best gain: -inf\n",
      "[LightGBM] [Warning] No further splits with positive gain, best gain: -inf\n",
      "[LightGBM] [Warning] No further splits with positive gain, best gain: -inf\n",
      "[LightGBM] [Warning] No further splits with positive gain, best gain: -inf\n",
      "[LightGBM] [Warning] No further splits with positive gain, best gain: -inf\n",
      "[LightGBM] [Warning] No further splits with positive gain, best gain: -inf\n",
      "[LightGBM] [Warning] No further splits with positive gain, best gain: -inf\n",
      "[LightGBM] [Warning] No further splits with positive gain, best gain: -inf\n",
      "[LightGBM] [Warning] No further splits with positive gain, best gain: -inf\n",
      "[LightGBM] [Warning] No further splits with positive gain, best gain: -inf\n",
      "[LightGBM] [Warning] No further splits with positive gain, best gain: -inf\n",
      "[LightGBM] [Warning] No further splits with positive gain, best gain: -inf\n",
      "[LightGBM] [Warning] No further splits with positive gain, best gain: -inf\n",
      "[LightGBM] [Warning] No further splits with positive gain, best gain: -inf\n",
      "[LightGBM] [Warning] No further splits with positive gain, best gain: -inf\n",
      "[LightGBM] [Warning] No further splits with positive gain, best gain: -inf\n",
      "[LightGBM] [Warning] No further splits with positive gain, best gain: -inf\n",
      "[LightGBM] [Warning] No further splits with positive gain, best gain: -inf\n",
      "[LightGBM] [Warning] No further splits with positive gain, best gain: -inf\n",
      "[LightGBM] [Warning] No further splits with positive gain, best gain: -inf\n",
      "[LightGBM] [Warning] No further splits with positive gain, best gain: -inf\n",
      "[LightGBM] [Warning] No further splits with positive gain, best gain: -inf\n",
      "[LightGBM] [Warning] No further splits with positive gain, best gain: -inf\n",
      "[LightGBM] [Warning] No further splits with positive gain, best gain: -inf\n",
      "[LightGBM] [Warning] No further splits with positive gain, best gain: -inf\n",
      "[LightGBM] [Warning] No further splits with positive gain, best gain: -inf\n",
      "[LightGBM] [Warning] No further splits with positive gain, best gain: -inf\n",
      "[LightGBM] [Warning] No further splits with positive gain, best gain: -inf\n",
      "[LightGBM] [Warning] No further splits with positive gain, best gain: -inf\n",
      "[LightGBM] [Warning] No further splits with positive gain, best gain: -inf\n",
      "[LightGBM] [Warning] No further splits with positive gain, best gain: -inf\n",
      "[LightGBM] [Warning] No further splits with positive gain, best gain: -inf\n",
      "[LightGBM] [Warning] No further splits with positive gain, best gain: -inf\n",
      "[LightGBM] [Warning] No further splits with positive gain, best gain: -inf\n",
      "[LightGBM] [Warning] No further splits with positive gain, best gain: -inf\n",
      "[LightGBM] [Warning] No further splits with positive gain, best gain: -inf\n",
      "[LightGBM] [Warning] No further splits with positive gain, best gain: -inf\n",
      "[LightGBM] [Warning] No further splits with positive gain, best gain: -inf\n",
      "[LightGBM] [Warning] No further splits with positive gain, best gain: -inf\n",
      "[LightGBM] [Warning] No further splits with positive gain, best gain: -inf\n",
      "[LightGBM] [Warning] No further splits with positive gain, best gain: -inf\n",
      "[LightGBM] [Warning] No further splits with positive gain, best gain: -inf\n",
      "[LightGBM] [Warning] No further splits with positive gain, best gain: -inf\n",
      "[LightGBM] [Warning] No further splits with positive gain, best gain: -inf\n",
      "[LightGBM] [Warning] No further splits with positive gain, best gain: -inf\n",
      "[LightGBM] [Warning] No further splits with positive gain, best gain: -inf\n",
      "[LightGBM] [Warning] No further splits with positive gain, best gain: -inf\n",
      "[LightGBM] [Warning] No further splits with positive gain, best gain: -inf\n",
      "[LightGBM] [Warning] No further splits with positive gain, best gain: -inf\n",
      "[LightGBM] [Warning] No further splits with positive gain, best gain: -inf\n",
      "[LightGBM] [Warning] No further splits with positive gain, best gain: -inf\n",
      "[LightGBM] [Warning] No further splits with positive gain, best gain: -inf\n",
      "[LightGBM] [Warning] No further splits with positive gain, best gain: -inf\n",
      "[LightGBM] [Warning] No further splits with positive gain, best gain: -inf\n",
      "[LightGBM] [Warning] No further splits with positive gain, best gain: -inf\n",
      "[LightGBM] [Warning] No further splits with positive gain, best gain: -inf\n",
      "[LightGBM] [Warning] No further splits with positive gain, best gain: -inf\n",
      "[LightGBM] [Warning] No further splits with positive gain, best gain: -inf\n",
      "[LightGBM] [Warning] No further splits with positive gain, best gain: -inf\n",
      "[LightGBM] [Warning] No further splits with positive gain, best gain: -inf\n",
      "[LightGBM] [Warning] No further splits with positive gain, best gain: -inf\n",
      "[LightGBM] [Warning] No further splits with positive gain, best gain: -inf\n",
      "[LightGBM] [Warning] No further splits with positive gain, best gain: -inf\n",
      "[LightGBM] [Warning] No further splits with positive gain, best gain: -inf\n",
      "[LightGBM] [Warning] No further splits with positive gain, best gain: -inf\n",
      "[LightGBM] [Warning] No further splits with positive gain, best gain: -inf\n",
      "[LightGBM] [Warning] No further splits with positive gain, best gain: -inf\n",
      "[LightGBM] [Warning] No further splits with positive gain, best gain: -inf\n",
      "[LightGBM] [Warning] No further splits with positive gain, best gain: -inf\n",
      "[LightGBM] [Warning] No further splits with positive gain, best gain: -inf\n",
      "[LightGBM] [Warning] No further splits with positive gain, best gain: -inf\n",
      "[LightGBM] [Warning] No further splits with positive gain, best gain: -inf\n",
      "[LightGBM] [Warning] No further splits with positive gain, best gain: -inf\n",
      "[LightGBM] [Warning] No further splits with positive gain, best gain: -inf\n",
      "[LightGBM] [Warning] No further splits with positive gain, best gain: -inf\n",
      "[LightGBM] [Warning] No further splits with positive gain, best gain: -inf\n",
      "[LightGBM] [Warning] No further splits with positive gain, best gain: -inf\n",
      "[LightGBM] [Warning] No further splits with positive gain, best gain: -inf\n",
      "[LightGBM] [Warning] No further splits with positive gain, best gain: -inf\n",
      "[LightGBM] [Warning] No further splits with positive gain, best gain: -inf\n",
      "[LightGBM] [Warning] No further splits with positive gain, best gain: -inf\n",
      "[LightGBM] [Warning] No further splits with positive gain, best gain: -inf\n",
      "[LightGBM] [Warning] No further splits with positive gain, best gain: -inf\n",
      "[LightGBM] [Warning] No further splits with positive gain, best gain: -inf\n",
      "[LightGBM] [Warning] No further splits with positive gain, best gain: -inf\n"
     ]
    }
   ],
   "source": [
    "lgbm_model = LGBMClassifier().fit(X_train, y_train)"
   ]
  },
  {
   "cell_type": "code",
   "execution_count": 285,
   "metadata": {
    "tags": []
   },
   "outputs": [
    {
     "data": {
      "text/plain": [
       "0.7229437229437229"
      ]
     },
     "execution_count": 285,
     "metadata": {},
     "output_type": "execute_result"
    }
   ],
   "source": [
    "y_pred = lgbm_model.predict(X_test)\n",
    "accuracy_score(y_test, y_pred)"
   ]
  },
  {
   "cell_type": "markdown",
   "metadata": {},
   "source": [
    "## Model Optimization & Fine-Tuning"
   ]
  },
  {
   "cell_type": "code",
   "execution_count": 286,
   "metadata": {
    "tags": []
   },
   "outputs": [],
   "source": [
    "lgbm_params = {\n",
    "        'n_estimators': [100, 500, 1000, 2000],\n",
    "        'subsample': [0.6, 0.8, 1.0],\n",
    "        'max_depth': [3, 4, 5,6],\n",
    "        'learning_rate': [0.1,0.01,0.02,0.05],\n",
    "        \"min_child_samples\": [5,10,20]}"
   ]
  },
  {
   "cell_type": "code",
   "execution_count": 288,
   "metadata": {
    "tags": []
   },
   "outputs": [],
   "source": [
    "lgbm = LGBMClassifier()\n",
    "\n",
    "lgbm_cv_model = GridSearchCV(lgbm, lgbm_params,\n",
    "                             cv = 10,\n",
    "                             n_jobs = -1,\n",
    "                             verbose = 2)"
   ]
  },
  {
   "cell_type": "code",
   "execution_count": 289,
   "metadata": {
    "collapsed": true,
    "jupyter": {
     "outputs_hidden": true
    },
    "tags": []
   },
   "outputs": [
    {
     "name": "stdout",
     "output_type": "stream",
     "text": [
      "Fitting 10 folds for each of 576 candidates, totalling 5760 fits\n",
      "[LightGBM] [Info] Number of positive: 188, number of negative: 349\n",
      "[LightGBM] [Info] Auto-choosing col-wise multi-threading, the overhead of testing was 0.000179 seconds.\n",
      "You can set `force_col_wise=true` to remove the overhead.\n",
      "[LightGBM] [Info] Total Bins 606\n",
      "[LightGBM] [Info] Number of data points in the train set: 537, number of used features: 8\n",
      "[LightGBM] [Info] [binary:BoostFromScore]: pavg=0.350093 -> initscore=-0.618630\n",
      "[LightGBM] [Info] Start training from score -0.618630\n",
      "[LightGBM] [Warning] No further splits with positive gain, best gain: -inf\n",
      "[LightGBM] [Warning] No further splits with positive gain, best gain: -inf\n",
      "[LightGBM] [Warning] No further splits with positive gain, best gain: -inf\n",
      "[LightGBM] [Warning] No further splits with positive gain, best gain: -inf\n",
      "[LightGBM] [Warning] No further splits with positive gain, best gain: -inf\n",
      "[LightGBM] [Warning] No further splits with positive gain, best gain: -inf\n",
      "[LightGBM] [Warning] No further splits with positive gain, best gain: -inf\n",
      "[LightGBM] [Warning] No further splits with positive gain, best gain: -inf\n",
      "[LightGBM] [Warning] No further splits with positive gain, best gain: -inf\n",
      "[LightGBM] [Warning] No further splits with positive gain, best gain: -inf\n",
      "[LightGBM] [Warning] No further splits with positive gain, best gain: -inf\n",
      "[LightGBM] [Warning] No further splits with positive gain, best gain: -inf\n",
      "[LightGBM] [Warning] No further splits with positive gain, best gain: -inf\n",
      "[LightGBM] [Warning] No further splits with positive gain, best gain: -inf\n",
      "[LightGBM] [Warning] No further splits with positive gain, best gain: -inf\n",
      "[LightGBM] [Warning] No further splits with positive gain, best gain: -inf\n",
      "[LightGBM] [Warning] No further splits with positive gain, best gain: -inf\n",
      "[LightGBM] [Warning] No further splits with positive gain, best gain: -inf\n",
      "[LightGBM] [Warning] No further splits with positive gain, best gain: -inf\n",
      "[LightGBM] [Warning] No further splits with positive gain, best gain: -inf\n",
      "[LightGBM] [Warning] No further splits with positive gain, best gain: -inf\n",
      "[LightGBM] [Warning] No further splits with positive gain, best gain: -inf\n",
      "[LightGBM] [Warning] No further splits with positive gain, best gain: -inf\n",
      "[LightGBM] [Warning] No further splits with positive gain, best gain: -inf\n",
      "[LightGBM] [Warning] No further splits with positive gain, best gain: -inf\n",
      "[LightGBM] [Warning] No further splits with positive gain, best gain: -inf\n",
      "[LightGBM] [Warning] No further splits with positive gain, best gain: -inf\n",
      "[LightGBM] [Warning] No further splits with positive gain, best gain: -inf\n",
      "[LightGBM] [Warning] No further splits with positive gain, best gain: -inf\n",
      "[LightGBM] [Warning] No further splits with positive gain, best gain: -inf\n",
      "[LightGBM] [Warning] No further splits with positive gain, best gain: -inf\n",
      "[LightGBM] [Warning] No further splits with positive gain, best gain: -inf\n",
      "[LightGBM] [Warning] No further splits with positive gain, best gain: -inf\n",
      "[LightGBM] [Warning] No further splits with positive gain, best gain: -inf\n",
      "[LightGBM] [Warning] No further splits with positive gain, best gain: -inf\n",
      "[LightGBM] [Warning] No further splits with positive gain, best gain: -inf\n",
      "[LightGBM] [Warning] No further splits with positive gain, best gain: -inf\n",
      "[LightGBM] [Warning] No further splits with positive gain, best gain: -inf\n",
      "[LightGBM] [Warning] No further splits with positive gain, best gain: -inf\n",
      "[LightGBM] [Warning] No further splits with positive gain, best gain: -inf\n",
      "[LightGBM] [Warning] No further splits with positive gain, best gain: -inf\n",
      "[LightGBM] [Warning] No further splits with positive gain, best gain: -inf\n",
      "[LightGBM] [Warning] No further splits with positive gain, best gain: -inf\n",
      "[LightGBM] [Warning] No further splits with positive gain, best gain: -inf\n",
      "[LightGBM] [Warning] No further splits with positive gain, best gain: -inf\n",
      "[LightGBM] [Warning] No further splits with positive gain, best gain: -inf\n",
      "[LightGBM] [Warning] No further splits with positive gain, best gain: -inf\n",
      "[LightGBM] [Warning] No further splits with positive gain, best gain: -inf\n",
      "[LightGBM] [Warning] No further splits with positive gain, best gain: -inf\n",
      "[LightGBM] [Warning] No further splits with positive gain, best gain: -inf\n",
      "[LightGBM] [Warning] No further splits with positive gain, best gain: -inf\n",
      "[LightGBM] [Warning] No further splits with positive gain, best gain: -inf\n",
      "[LightGBM] [Warning] No further splits with positive gain, best gain: -inf\n",
      "[LightGBM] [Warning] No further splits with positive gain, best gain: -inf\n",
      "[LightGBM] [Warning] No further splits with positive gain, best gain: -inf\n",
      "[LightGBM] [Warning] No further splits with positive gain, best gain: -inf\n",
      "[LightGBM] [Warning] No further splits with positive gain, best gain: -inf\n",
      "[LightGBM] [Warning] No further splits with positive gain, best gain: -inf\n",
      "[LightGBM] [Warning] No further splits with positive gain, best gain: -inf\n",
      "[LightGBM] [Warning] No further splits with positive gain, best gain: -inf\n",
      "[LightGBM] [Warning] No further splits with positive gain, best gain: -inf\n",
      "[LightGBM] [Warning] No further splits with positive gain, best gain: -inf\n",
      "[LightGBM] [Warning] No further splits with positive gain, best gain: -inf\n",
      "[LightGBM] [Warning] No further splits with positive gain, best gain: -inf\n",
      "[LightGBM] [Warning] No further splits with positive gain, best gain: -inf\n",
      "[LightGBM] [Warning] No further splits with positive gain, best gain: -inf\n",
      "[LightGBM] [Warning] No further splits with positive gain, best gain: -inf\n",
      "[LightGBM] [Warning] No further splits with positive gain, best gain: -inf\n",
      "[LightGBM] [Warning] No further splits with positive gain, best gain: -inf\n",
      "[LightGBM] [Warning] No further splits with positive gain, best gain: -inf\n",
      "[LightGBM] [Warning] No further splits with positive gain, best gain: -inf\n",
      "[LightGBM] [Warning] No further splits with positive gain, best gain: -inf\n",
      "[LightGBM] [Warning] No further splits with positive gain, best gain: -inf\n",
      "[LightGBM] [Warning] No further splits with positive gain, best gain: -inf\n",
      "[LightGBM] [Warning] No further splits with positive gain, best gain: -inf\n",
      "[LightGBM] [Warning] No further splits with positive gain, best gain: -inf\n",
      "[LightGBM] [Warning] No further splits with positive gain, best gain: -inf\n",
      "[LightGBM] [Warning] No further splits with positive gain, best gain: -inf\n",
      "[LightGBM] [Warning] No further splits with positive gain, best gain: -inf\n",
      "[LightGBM] [Warning] No further splits with positive gain, best gain: -inf\n",
      "[LightGBM] [Warning] No further splits with positive gain, best gain: -inf\n",
      "[LightGBM] [Warning] No further splits with positive gain, best gain: -inf\n",
      "[LightGBM] [Warning] No further splits with positive gain, best gain: -inf\n",
      "[LightGBM] [Warning] No further splits with positive gain, best gain: -inf\n",
      "[LightGBM] [Warning] No further splits with positive gain, best gain: -inf\n",
      "[LightGBM] [Warning] No further splits with positive gain, best gain: -inf\n",
      "[LightGBM] [Warning] No further splits with positive gain, best gain: -inf\n",
      "[LightGBM] [Warning] No further splits with positive gain, best gain: -inf\n",
      "[LightGBM] [Warning] No further splits with positive gain, best gain: -inf\n",
      "[LightGBM] [Warning] No further splits with positive gain, best gain: -inf\n",
      "[LightGBM] [Warning] No further splits with positive gain, best gain: -inf\n",
      "[LightGBM] [Warning] No further splits with positive gain, best gain: -inf\n",
      "[LightGBM] [Warning] No further splits with positive gain, best gain: -inf\n",
      "[LightGBM] [Warning] No further splits with positive gain, best gain: -inf\n",
      "[LightGBM] [Warning] No further splits with positive gain, best gain: -inf\n",
      "[LightGBM] [Warning] No further splits with positive gain, best gain: -inf\n",
      "[LightGBM] [Warning] No further splits with positive gain, best gain: -inf\n",
      "[LightGBM] [Warning] No further splits with positive gain, best gain: -inf\n",
      "[LightGBM] [Warning] No further splits with positive gain, best gain: -inf\n",
      "[LightGBM] [Warning] No further splits with positive gain, best gain: -inf\n"
     ]
    },
    {
     "data": {
      "text/html": [
       "<style>#sk-container-id-22 {color: black;}#sk-container-id-22 pre{padding: 0;}#sk-container-id-22 div.sk-toggleable {background-color: white;}#sk-container-id-22 label.sk-toggleable__label {cursor: pointer;display: block;width: 100%;margin-bottom: 0;padding: 0.3em;box-sizing: border-box;text-align: center;}#sk-container-id-22 label.sk-toggleable__label-arrow:before {content: \"▸\";float: left;margin-right: 0.25em;color: #696969;}#sk-container-id-22 label.sk-toggleable__label-arrow:hover:before {color: black;}#sk-container-id-22 div.sk-estimator:hover label.sk-toggleable__label-arrow:before {color: black;}#sk-container-id-22 div.sk-toggleable__content {max-height: 0;max-width: 0;overflow: hidden;text-align: left;background-color: #f0f8ff;}#sk-container-id-22 div.sk-toggleable__content pre {margin: 0.2em;color: black;border-radius: 0.25em;background-color: #f0f8ff;}#sk-container-id-22 input.sk-toggleable__control:checked~div.sk-toggleable__content {max-height: 200px;max-width: 100%;overflow: auto;}#sk-container-id-22 input.sk-toggleable__control:checked~label.sk-toggleable__label-arrow:before {content: \"▾\";}#sk-container-id-22 div.sk-estimator input.sk-toggleable__control:checked~label.sk-toggleable__label {background-color: #d4ebff;}#sk-container-id-22 div.sk-label input.sk-toggleable__control:checked~label.sk-toggleable__label {background-color: #d4ebff;}#sk-container-id-22 input.sk-hidden--visually {border: 0;clip: rect(1px 1px 1px 1px);clip: rect(1px, 1px, 1px, 1px);height: 1px;margin: -1px;overflow: hidden;padding: 0;position: absolute;width: 1px;}#sk-container-id-22 div.sk-estimator {font-family: monospace;background-color: #f0f8ff;border: 1px dotted black;border-radius: 0.25em;box-sizing: border-box;margin-bottom: 0.5em;}#sk-container-id-22 div.sk-estimator:hover {background-color: #d4ebff;}#sk-container-id-22 div.sk-parallel-item::after {content: \"\";width: 100%;border-bottom: 1px solid gray;flex-grow: 1;}#sk-container-id-22 div.sk-label:hover label.sk-toggleable__label {background-color: #d4ebff;}#sk-container-id-22 div.sk-serial::before {content: \"\";position: absolute;border-left: 1px solid gray;box-sizing: border-box;top: 0;bottom: 0;left: 50%;z-index: 0;}#sk-container-id-22 div.sk-serial {display: flex;flex-direction: column;align-items: center;background-color: white;padding-right: 0.2em;padding-left: 0.2em;position: relative;}#sk-container-id-22 div.sk-item {position: relative;z-index: 1;}#sk-container-id-22 div.sk-parallel {display: flex;align-items: stretch;justify-content: center;background-color: white;position: relative;}#sk-container-id-22 div.sk-item::before, #sk-container-id-22 div.sk-parallel-item::before {content: \"\";position: absolute;border-left: 1px solid gray;box-sizing: border-box;top: 0;bottom: 0;left: 50%;z-index: -1;}#sk-container-id-22 div.sk-parallel-item {display: flex;flex-direction: column;z-index: 1;position: relative;background-color: white;}#sk-container-id-22 div.sk-parallel-item:first-child::after {align-self: flex-end;width: 50%;}#sk-container-id-22 div.sk-parallel-item:last-child::after {align-self: flex-start;width: 50%;}#sk-container-id-22 div.sk-parallel-item:only-child::after {width: 0;}#sk-container-id-22 div.sk-dashed-wrapped {border: 1px dashed gray;margin: 0 0.4em 0.5em 0.4em;box-sizing: border-box;padding-bottom: 0.4em;background-color: white;}#sk-container-id-22 div.sk-label label {font-family: monospace;font-weight: bold;display: inline-block;line-height: 1.2em;}#sk-container-id-22 div.sk-label-container {text-align: center;}#sk-container-id-22 div.sk-container {/* jupyter's `normalize.less` sets `[hidden] { display: none; }` but bootstrap.min.css set `[hidden] { display: none !important; }` so we also need the `!important` here to be able to override the default hidden behavior on the sphinx rendered scikit-learn.org. See: https://github.com/scikit-learn/scikit-learn/issues/21755 */display: inline-block !important;position: relative;}#sk-container-id-22 div.sk-text-repr-fallback {display: none;}</style><div id=\"sk-container-id-22\" class=\"sk-top-container\"><div class=\"sk-text-repr-fallback\"><pre>GridSearchCV(cv=10, estimator=LGBMClassifier(), n_jobs=-1,\n",
       "             param_grid={&#x27;learning_rate&#x27;: [0.1, 0.01, 0.02, 0.05],\n",
       "                         &#x27;max_depth&#x27;: [3, 4, 5, 6],\n",
       "                         &#x27;min_child_samples&#x27;: [5, 10, 20],\n",
       "                         &#x27;n_estimators&#x27;: [100, 500, 1000, 2000],\n",
       "                         &#x27;subsample&#x27;: [0.6, 0.8, 1.0]},\n",
       "             verbose=2)</pre><b>In a Jupyter environment, please rerun this cell to show the HTML representation or trust the notebook. <br />On GitHub, the HTML representation is unable to render, please try loading this page with nbviewer.org.</b></div><div class=\"sk-container\" hidden><div class=\"sk-item sk-dashed-wrapped\"><div class=\"sk-label-container\"><div class=\"sk-label sk-toggleable\"><input class=\"sk-toggleable__control sk-hidden--visually\" id=\"sk-estimator-id-34\" type=\"checkbox\" ><label for=\"sk-estimator-id-34\" class=\"sk-toggleable__label sk-toggleable__label-arrow\">GridSearchCV</label><div class=\"sk-toggleable__content\"><pre>GridSearchCV(cv=10, estimator=LGBMClassifier(), n_jobs=-1,\n",
       "             param_grid={&#x27;learning_rate&#x27;: [0.1, 0.01, 0.02, 0.05],\n",
       "                         &#x27;max_depth&#x27;: [3, 4, 5, 6],\n",
       "                         &#x27;min_child_samples&#x27;: [5, 10, 20],\n",
       "                         &#x27;n_estimators&#x27;: [100, 500, 1000, 2000],\n",
       "                         &#x27;subsample&#x27;: [0.6, 0.8, 1.0]},\n",
       "             verbose=2)</pre></div></div></div><div class=\"sk-parallel\"><div class=\"sk-parallel-item\"><div class=\"sk-item\"><div class=\"sk-label-container\"><div class=\"sk-label sk-toggleable\"><input class=\"sk-toggleable__control sk-hidden--visually\" id=\"sk-estimator-id-35\" type=\"checkbox\" ><label for=\"sk-estimator-id-35\" class=\"sk-toggleable__label sk-toggleable__label-arrow\">estimator: LGBMClassifier</label><div class=\"sk-toggleable__content\"><pre>LGBMClassifier()</pre></div></div></div><div class=\"sk-serial\"><div class=\"sk-item\"><div class=\"sk-estimator sk-toggleable\"><input class=\"sk-toggleable__control sk-hidden--visually\" id=\"sk-estimator-id-36\" type=\"checkbox\" ><label for=\"sk-estimator-id-36\" class=\"sk-toggleable__label sk-toggleable__label-arrow\">LGBMClassifier</label><div class=\"sk-toggleable__content\"><pre>LGBMClassifier()</pre></div></div></div></div></div></div></div></div></div></div>"
      ],
      "text/plain": [
       "GridSearchCV(cv=10, estimator=LGBMClassifier(), n_jobs=-1,\n",
       "             param_grid={'learning_rate': [0.1, 0.01, 0.02, 0.05],\n",
       "                         'max_depth': [3, 4, 5, 6],\n",
       "                         'min_child_samples': [5, 10, 20],\n",
       "                         'n_estimators': [100, 500, 1000, 2000],\n",
       "                         'subsample': [0.6, 0.8, 1.0]},\n",
       "             verbose=2)"
      ]
     },
     "execution_count": 289,
     "metadata": {},
     "output_type": "execute_result"
    }
   ],
   "source": [
    "lgbm_cv_model.fit(X_train, y_train)"
   ]
  },
  {
   "cell_type": "code",
   "execution_count": 291,
   "metadata": {
    "tags": []
   },
   "outputs": [
    {
     "data": {
      "text/plain": [
       "{'learning_rate': 0.05,\n",
       " 'max_depth': 3,\n",
       " 'min_child_samples': 20,\n",
       " 'n_estimators': 100,\n",
       " 'subsample': 0.6}"
      ]
     },
     "execution_count": 291,
     "metadata": {},
     "output_type": "execute_result"
    }
   ],
   "source": [
    "lgbm_cv_model.best_params_"
   ]
  },
  {
   "cell_type": "code",
   "execution_count": 292,
   "metadata": {
    "tags": []
   },
   "outputs": [],
   "source": [
    "lgbm = LGBMClassifier(learning_rate = 0.05,\n",
    "                       max_depth = 3,\n",
    "                       subsample = 0.6,\n",
    "                       n_estimators = 100,\n",
    "                       min_child_samples = 20)"
   ]
  },
  {
   "cell_type": "code",
   "execution_count": 293,
   "metadata": {
    "collapsed": true,
    "jupyter": {
     "outputs_hidden": true
    },
    "tags": []
   },
   "outputs": [
    {
     "name": "stdout",
     "output_type": "stream",
     "text": [
      "[LightGBM] [Info] Number of positive: 188, number of negative: 349\n",
      "[LightGBM] [Info] Auto-choosing col-wise multi-threading, the overhead of testing was 0.000486 seconds.\n",
      "You can set `force_col_wise=true` to remove the overhead.\n",
      "[LightGBM] [Info] Total Bins 606\n",
      "[LightGBM] [Info] Number of data points in the train set: 537, number of used features: 8\n",
      "[LightGBM] [Info] [binary:BoostFromScore]: pavg=0.350093 -> initscore=-0.618630\n",
      "[LightGBM] [Info] Start training from score -0.618630\n",
      "[LightGBM] [Warning] No further splits with positive gain, best gain: -inf\n",
      "[LightGBM] [Warning] No further splits with positive gain, best gain: -inf\n",
      "[LightGBM] [Warning] No further splits with positive gain, best gain: -inf\n",
      "[LightGBM] [Warning] No further splits with positive gain, best gain: -inf\n",
      "[LightGBM] [Warning] No further splits with positive gain, best gain: -inf\n",
      "[LightGBM] [Warning] No further splits with positive gain, best gain: -inf\n",
      "[LightGBM] [Warning] No further splits with positive gain, best gain: -inf\n",
      "[LightGBM] [Warning] No further splits with positive gain, best gain: -inf\n",
      "[LightGBM] [Warning] No further splits with positive gain, best gain: -inf\n",
      "[LightGBM] [Warning] No further splits with positive gain, best gain: -inf\n",
      "[LightGBM] [Warning] No further splits with positive gain, best gain: -inf\n",
      "[LightGBM] [Warning] No further splits with positive gain, best gain: -inf\n",
      "[LightGBM] [Warning] No further splits with positive gain, best gain: -inf\n",
      "[LightGBM] [Warning] No further splits with positive gain, best gain: -inf\n",
      "[LightGBM] [Warning] No further splits with positive gain, best gain: -inf\n",
      "[LightGBM] [Warning] No further splits with positive gain, best gain: -inf\n",
      "[LightGBM] [Warning] No further splits with positive gain, best gain: -inf\n",
      "[LightGBM] [Warning] No further splits with positive gain, best gain: -inf\n",
      "[LightGBM] [Warning] No further splits with positive gain, best gain: -inf\n",
      "[LightGBM] [Warning] No further splits with positive gain, best gain: -inf\n",
      "[LightGBM] [Warning] No further splits with positive gain, best gain: -inf\n",
      "[LightGBM] [Warning] No further splits with positive gain, best gain: -inf\n",
      "[LightGBM] [Warning] No further splits with positive gain, best gain: -inf\n",
      "[LightGBM] [Warning] No further splits with positive gain, best gain: -inf\n",
      "[LightGBM] [Warning] No further splits with positive gain, best gain: -inf\n",
      "[LightGBM] [Warning] No further splits with positive gain, best gain: -inf\n",
      "[LightGBM] [Warning] No further splits with positive gain, best gain: -inf\n",
      "[LightGBM] [Warning] No further splits with positive gain, best gain: -inf\n",
      "[LightGBM] [Warning] No further splits with positive gain, best gain: -inf\n",
      "[LightGBM] [Warning] No further splits with positive gain, best gain: -inf\n",
      "[LightGBM] [Warning] No further splits with positive gain, best gain: -inf\n",
      "[LightGBM] [Warning] No further splits with positive gain, best gain: -inf\n",
      "[LightGBM] [Warning] No further splits with positive gain, best gain: -inf\n",
      "[LightGBM] [Warning] No further splits with positive gain, best gain: -inf\n",
      "[LightGBM] [Warning] No further splits with positive gain, best gain: -inf\n",
      "[LightGBM] [Warning] No further splits with positive gain, best gain: -inf\n",
      "[LightGBM] [Warning] No further splits with positive gain, best gain: -inf\n",
      "[LightGBM] [Warning] No further splits with positive gain, best gain: -inf\n",
      "[LightGBM] [Warning] No further splits with positive gain, best gain: -inf\n",
      "[LightGBM] [Warning] No further splits with positive gain, best gain: -inf\n",
      "[LightGBM] [Warning] No further splits with positive gain, best gain: -inf\n",
      "[LightGBM] [Warning] No further splits with positive gain, best gain: -inf\n",
      "[LightGBM] [Warning] No further splits with positive gain, best gain: -inf\n",
      "[LightGBM] [Warning] No further splits with positive gain, best gain: -inf\n",
      "[LightGBM] [Warning] No further splits with positive gain, best gain: -inf\n",
      "[LightGBM] [Warning] No further splits with positive gain, best gain: -inf\n",
      "[LightGBM] [Warning] No further splits with positive gain, best gain: -inf\n",
      "[LightGBM] [Warning] No further splits with positive gain, best gain: -inf\n",
      "[LightGBM] [Warning] No further splits with positive gain, best gain: -inf\n",
      "[LightGBM] [Warning] No further splits with positive gain, best gain: -inf\n",
      "[LightGBM] [Warning] No further splits with positive gain, best gain: -inf\n",
      "[LightGBM] [Warning] No further splits with positive gain, best gain: -inf\n",
      "[LightGBM] [Warning] No further splits with positive gain, best gain: -inf\n",
      "[LightGBM] [Warning] No further splits with positive gain, best gain: -inf\n",
      "[LightGBM] [Warning] No further splits with positive gain, best gain: -inf\n",
      "[LightGBM] [Warning] No further splits with positive gain, best gain: -inf\n",
      "[LightGBM] [Warning] No further splits with positive gain, best gain: -inf\n",
      "[LightGBM] [Warning] No further splits with positive gain, best gain: -inf\n",
      "[LightGBM] [Warning] No further splits with positive gain, best gain: -inf\n",
      "[LightGBM] [Warning] No further splits with positive gain, best gain: -inf\n",
      "[LightGBM] [Warning] No further splits with positive gain, best gain: -inf\n",
      "[LightGBM] [Warning] No further splits with positive gain, best gain: -inf\n",
      "[LightGBM] [Warning] No further splits with positive gain, best gain: -inf\n",
      "[LightGBM] [Warning] No further splits with positive gain, best gain: -inf\n",
      "[LightGBM] [Warning] No further splits with positive gain, best gain: -inf\n",
      "[LightGBM] [Warning] No further splits with positive gain, best gain: -inf\n",
      "[LightGBM] [Warning] No further splits with positive gain, best gain: -inf\n",
      "[LightGBM] [Warning] No further splits with positive gain, best gain: -inf\n",
      "[LightGBM] [Warning] No further splits with positive gain, best gain: -inf\n",
      "[LightGBM] [Warning] No further splits with positive gain, best gain: -inf\n",
      "[LightGBM] [Warning] No further splits with positive gain, best gain: -inf\n",
      "[LightGBM] [Warning] No further splits with positive gain, best gain: -inf\n",
      "[LightGBM] [Warning] No further splits with positive gain, best gain: -inf\n",
      "[LightGBM] [Warning] No further splits with positive gain, best gain: -inf\n",
      "[LightGBM] [Warning] No further splits with positive gain, best gain: -inf\n",
      "[LightGBM] [Warning] No further splits with positive gain, best gain: -inf\n",
      "[LightGBM] [Warning] No further splits with positive gain, best gain: -inf\n",
      "[LightGBM] [Warning] No further splits with positive gain, best gain: -inf\n",
      "[LightGBM] [Warning] No further splits with positive gain, best gain: -inf\n",
      "[LightGBM] [Warning] No further splits with positive gain, best gain: -inf\n",
      "[LightGBM] [Warning] No further splits with positive gain, best gain: -inf\n",
      "[LightGBM] [Warning] No further splits with positive gain, best gain: -inf\n",
      "[LightGBM] [Warning] No further splits with positive gain, best gain: -inf\n",
      "[LightGBM] [Warning] No further splits with positive gain, best gain: -inf\n",
      "[LightGBM] [Warning] No further splits with positive gain, best gain: -inf\n",
      "[LightGBM] [Warning] No further splits with positive gain, best gain: -inf\n",
      "[LightGBM] [Warning] No further splits with positive gain, best gain: -inf\n",
      "[LightGBM] [Warning] No further splits with positive gain, best gain: -inf\n",
      "[LightGBM] [Warning] No further splits with positive gain, best gain: -inf\n",
      "[LightGBM] [Warning] No further splits with positive gain, best gain: -inf\n",
      "[LightGBM] [Warning] No further splits with positive gain, best gain: -inf\n",
      "[LightGBM] [Warning] No further splits with positive gain, best gain: -inf\n",
      "[LightGBM] [Warning] No further splits with positive gain, best gain: -inf\n",
      "[LightGBM] [Warning] No further splits with positive gain, best gain: -inf\n",
      "[LightGBM] [Warning] No further splits with positive gain, best gain: -inf\n",
      "[LightGBM] [Warning] No further splits with positive gain, best gain: -inf\n",
      "[LightGBM] [Warning] No further splits with positive gain, best gain: -inf\n",
      "[LightGBM] [Warning] No further splits with positive gain, best gain: -inf\n",
      "[LightGBM] [Warning] No further splits with positive gain, best gain: -inf\n",
      "[LightGBM] [Warning] No further splits with positive gain, best gain: -inf\n"
     ]
    }
   ],
   "source": [
    "lgbm_tuned = lgbm.fit(X_train,y_train)"
   ]
  },
  {
   "cell_type": "code",
   "execution_count": 294,
   "metadata": {
    "tags": []
   },
   "outputs": [
    {
     "data": {
      "text/plain": [
       "0.7489177489177489"
      ]
     },
     "execution_count": 294,
     "metadata": {},
     "output_type": "execute_result"
    }
   ],
   "source": [
    "y_pred = lgbm_tuned.predict(X_test)\n",
    "accuracy_score(y_test, y_pred)"
   ]
  },
  {
   "cell_type": "markdown",
   "metadata": {},
   "source": [
    "# CatBoost"
   ]
  },
  {
   "cell_type": "code",
   "execution_count": 295,
   "metadata": {
    "tags": []
   },
   "outputs": [],
   "source": [
    "df = diabetes.copy()\n",
    "df = df.dropna()\n",
    "y = df[\"Outcome\"]\n",
    "X = df.drop(['Outcome'], axis=1)\n",
    "#X = df[\"Pregnancies\"]\n",
    "X = pd.DataFrame(X)\n",
    "X_train, X_test, y_train, y_test = train_test_split(X, y,\n",
    "                                                    test_size=0.30,\n",
    "                                                    random_state=42)"
   ]
  },
  {
   "cell_type": "code",
   "execution_count": 296,
   "metadata": {
    "tags": []
   },
   "outputs": [],
   "source": [
    "#!pip install catboost\n",
    "from catboost import CatBoostClassifier"
   ]
  },
  {
   "cell_type": "code",
   "execution_count": 297,
   "metadata": {
    "collapsed": true,
    "jupyter": {
     "outputs_hidden": true
    },
    "tags": []
   },
   "outputs": [
    {
     "name": "stdout",
     "output_type": "stream",
     "text": [
      "Learning rate set to 0.0079\n",
      "0:\tlearn: 0.6879744\ttotal: 160ms\tremaining: 2m 40s\n",
      "1:\tlearn: 0.6843414\ttotal: 170ms\tremaining: 1m 24s\n",
      "2:\tlearn: 0.6805760\ttotal: 179ms\tremaining: 59.4s\n",
      "3:\tlearn: 0.6765782\ttotal: 190ms\tremaining: 47.4s\n",
      "4:\tlearn: 0.6720829\ttotal: 200ms\tremaining: 39.8s\n",
      "5:\tlearn: 0.6681617\ttotal: 211ms\tremaining: 35s\n",
      "6:\tlearn: 0.6641912\ttotal: 223ms\tremaining: 31.6s\n",
      "7:\tlearn: 0.6602881\ttotal: 233ms\tremaining: 28.9s\n",
      "8:\tlearn: 0.6562626\ttotal: 241ms\tremaining: 26.5s\n",
      "9:\tlearn: 0.6528483\ttotal: 247ms\tremaining: 24.4s\n",
      "10:\tlearn: 0.6487823\ttotal: 253ms\tremaining: 22.7s\n",
      "11:\tlearn: 0.6454980\ttotal: 257ms\tremaining: 21.2s\n",
      "12:\tlearn: 0.6418953\ttotal: 261ms\tremaining: 19.8s\n",
      "13:\tlearn: 0.6374431\ttotal: 265ms\tremaining: 18.7s\n",
      "14:\tlearn: 0.6339676\ttotal: 268ms\tremaining: 17.6s\n",
      "15:\tlearn: 0.6304252\ttotal: 271ms\tremaining: 16.7s\n",
      "16:\tlearn: 0.6266998\ttotal: 274ms\tremaining: 15.8s\n",
      "17:\tlearn: 0.6237660\ttotal: 276ms\tremaining: 15.1s\n",
      "18:\tlearn: 0.6204394\ttotal: 279ms\tremaining: 14.4s\n",
      "19:\tlearn: 0.6170129\ttotal: 281ms\tremaining: 13.8s\n",
      "20:\tlearn: 0.6133404\ttotal: 284ms\tremaining: 13.2s\n",
      "21:\tlearn: 0.6104932\ttotal: 286ms\tremaining: 12.7s\n",
      "22:\tlearn: 0.6069523\ttotal: 288ms\tremaining: 12.2s\n",
      "23:\tlearn: 0.6036467\ttotal: 290ms\tremaining: 11.8s\n",
      "24:\tlearn: 0.6005392\ttotal: 293ms\tremaining: 11.4s\n",
      "25:\tlearn: 0.5977520\ttotal: 295ms\tremaining: 11s\n",
      "26:\tlearn: 0.5948189\ttotal: 297ms\tremaining: 10.7s\n",
      "27:\tlearn: 0.5919831\ttotal: 300ms\tremaining: 10.4s\n",
      "28:\tlearn: 0.5885065\ttotal: 302ms\tremaining: 10.1s\n",
      "29:\tlearn: 0.5848273\ttotal: 304ms\tremaining: 9.83s\n",
      "30:\tlearn: 0.5822076\ttotal: 306ms\tremaining: 9.57s\n",
      "31:\tlearn: 0.5790604\ttotal: 308ms\tremaining: 9.33s\n",
      "32:\tlearn: 0.5762252\ttotal: 311ms\tremaining: 9.1s\n",
      "33:\tlearn: 0.5745338\ttotal: 313ms\tremaining: 8.88s\n",
      "34:\tlearn: 0.5719085\ttotal: 315ms\tremaining: 8.68s\n",
      "35:\tlearn: 0.5693365\ttotal: 317ms\tremaining: 8.49s\n",
      "36:\tlearn: 0.5665486\ttotal: 319ms\tremaining: 8.31s\n",
      "37:\tlearn: 0.5647413\ttotal: 321ms\tremaining: 8.13s\n",
      "38:\tlearn: 0.5622430\ttotal: 323ms\tremaining: 7.97s\n",
      "39:\tlearn: 0.5600038\ttotal: 326ms\tremaining: 7.82s\n",
      "40:\tlearn: 0.5579786\ttotal: 328ms\tremaining: 7.67s\n",
      "41:\tlearn: 0.5555817\ttotal: 330ms\tremaining: 7.53s\n",
      "42:\tlearn: 0.5533884\ttotal: 332ms\tremaining: 7.39s\n",
      "43:\tlearn: 0.5503718\ttotal: 334ms\tremaining: 7.26s\n",
      "44:\tlearn: 0.5482587\ttotal: 337ms\tremaining: 7.14s\n",
      "45:\tlearn: 0.5458783\ttotal: 339ms\tremaining: 7.02s\n",
      "46:\tlearn: 0.5441370\ttotal: 341ms\tremaining: 6.91s\n",
      "47:\tlearn: 0.5422492\ttotal: 343ms\tremaining: 6.8s\n",
      "48:\tlearn: 0.5397111\ttotal: 345ms\tremaining: 6.7s\n",
      "49:\tlearn: 0.5378482\ttotal: 347ms\tremaining: 6.6s\n",
      "50:\tlearn: 0.5355250\ttotal: 350ms\tremaining: 6.5s\n",
      "51:\tlearn: 0.5334717\ttotal: 352ms\tremaining: 6.41s\n",
      "52:\tlearn: 0.5308796\ttotal: 354ms\tremaining: 6.32s\n",
      "53:\tlearn: 0.5291891\ttotal: 356ms\tremaining: 6.24s\n",
      "54:\tlearn: 0.5273404\ttotal: 358ms\tremaining: 6.16s\n",
      "55:\tlearn: 0.5252025\ttotal: 360ms\tremaining: 6.08s\n",
      "56:\tlearn: 0.5232146\ttotal: 363ms\tremaining: 6s\n",
      "57:\tlearn: 0.5212394\ttotal: 365ms\tremaining: 5.92s\n",
      "58:\tlearn: 0.5188927\ttotal: 367ms\tremaining: 5.85s\n",
      "59:\tlearn: 0.5166496\ttotal: 369ms\tremaining: 5.78s\n",
      "60:\tlearn: 0.5151264\ttotal: 371ms\tremaining: 5.72s\n",
      "61:\tlearn: 0.5128109\ttotal: 373ms\tremaining: 5.65s\n",
      "62:\tlearn: 0.5114747\ttotal: 376ms\tremaining: 5.59s\n",
      "63:\tlearn: 0.5096208\ttotal: 378ms\tremaining: 5.53s\n",
      "64:\tlearn: 0.5072601\ttotal: 380ms\tremaining: 5.47s\n",
      "65:\tlearn: 0.5052770\ttotal: 382ms\tremaining: 5.41s\n",
      "66:\tlearn: 0.5036623\ttotal: 384ms\tremaining: 5.35s\n",
      "67:\tlearn: 0.5017328\ttotal: 387ms\tremaining: 5.3s\n",
      "68:\tlearn: 0.5005425\ttotal: 388ms\tremaining: 5.24s\n",
      "69:\tlearn: 0.4991695\ttotal: 390ms\tremaining: 5.18s\n",
      "70:\tlearn: 0.4976900\ttotal: 392ms\tremaining: 5.13s\n",
      "71:\tlearn: 0.4958907\ttotal: 395ms\tremaining: 5.08s\n",
      "72:\tlearn: 0.4944550\ttotal: 397ms\tremaining: 5.04s\n",
      "73:\tlearn: 0.4929501\ttotal: 400ms\tremaining: 5s\n",
      "74:\tlearn: 0.4913299\ttotal: 403ms\tremaining: 4.97s\n",
      "75:\tlearn: 0.4898798\ttotal: 406ms\tremaining: 4.94s\n",
      "76:\tlearn: 0.4882946\ttotal: 409ms\tremaining: 4.9s\n",
      "77:\tlearn: 0.4866733\ttotal: 411ms\tremaining: 4.86s\n",
      "78:\tlearn: 0.4849083\ttotal: 414ms\tremaining: 4.83s\n",
      "79:\tlearn: 0.4832344\ttotal: 416ms\tremaining: 4.79s\n",
      "80:\tlearn: 0.4822155\ttotal: 419ms\tremaining: 4.75s\n",
      "81:\tlearn: 0.4805651\ttotal: 421ms\tremaining: 4.72s\n",
      "82:\tlearn: 0.4789437\ttotal: 424ms\tremaining: 4.68s\n",
      "83:\tlearn: 0.4773680\ttotal: 426ms\tremaining: 4.65s\n",
      "84:\tlearn: 0.4759592\ttotal: 429ms\tremaining: 4.62s\n",
      "85:\tlearn: 0.4743296\ttotal: 433ms\tremaining: 4.6s\n",
      "86:\tlearn: 0.4733053\ttotal: 435ms\tremaining: 4.57s\n",
      "87:\tlearn: 0.4719029\ttotal: 438ms\tremaining: 4.54s\n",
      "88:\tlearn: 0.4704197\ttotal: 440ms\tremaining: 4.51s\n",
      "89:\tlearn: 0.4692434\ttotal: 443ms\tremaining: 4.48s\n",
      "90:\tlearn: 0.4676877\ttotal: 445ms\tremaining: 4.45s\n",
      "91:\tlearn: 0.4663135\ttotal: 448ms\tremaining: 4.42s\n",
      "92:\tlearn: 0.4648501\ttotal: 450ms\tremaining: 4.39s\n",
      "93:\tlearn: 0.4634104\ttotal: 452ms\tremaining: 4.36s\n",
      "94:\tlearn: 0.4622453\ttotal: 454ms\tremaining: 4.33s\n",
      "95:\tlearn: 0.4610022\ttotal: 457ms\tremaining: 4.3s\n",
      "96:\tlearn: 0.4596122\ttotal: 459ms\tremaining: 4.27s\n",
      "97:\tlearn: 0.4586478\ttotal: 461ms\tremaining: 4.25s\n",
      "98:\tlearn: 0.4574414\ttotal: 463ms\tremaining: 4.22s\n",
      "99:\tlearn: 0.4564241\ttotal: 466ms\tremaining: 4.19s\n",
      "100:\tlearn: 0.4550640\ttotal: 468ms\tremaining: 4.16s\n",
      "101:\tlearn: 0.4542409\ttotal: 470ms\tremaining: 4.14s\n",
      "102:\tlearn: 0.4532567\ttotal: 472ms\tremaining: 4.11s\n",
      "103:\tlearn: 0.4520656\ttotal: 474ms\tremaining: 4.09s\n",
      "104:\tlearn: 0.4507238\ttotal: 477ms\tremaining: 4.06s\n",
      "105:\tlearn: 0.4498366\ttotal: 479ms\tremaining: 4.04s\n",
      "106:\tlearn: 0.4487896\ttotal: 482ms\tremaining: 4.02s\n",
      "107:\tlearn: 0.4479770\ttotal: 484ms\tremaining: 4s\n",
      "108:\tlearn: 0.4470681\ttotal: 487ms\tremaining: 3.98s\n",
      "109:\tlearn: 0.4461679\ttotal: 489ms\tremaining: 3.96s\n",
      "110:\tlearn: 0.4449306\ttotal: 491ms\tremaining: 3.93s\n",
      "111:\tlearn: 0.4442033\ttotal: 493ms\tremaining: 3.91s\n",
      "112:\tlearn: 0.4431958\ttotal: 496ms\tremaining: 3.89s\n",
      "113:\tlearn: 0.4420872\ttotal: 498ms\tremaining: 3.87s\n",
      "114:\tlearn: 0.4411093\ttotal: 500ms\tremaining: 3.85s\n",
      "115:\tlearn: 0.4404177\ttotal: 503ms\tremaining: 3.83s\n",
      "116:\tlearn: 0.4393393\ttotal: 505ms\tremaining: 3.81s\n",
      "117:\tlearn: 0.4385459\ttotal: 508ms\tremaining: 3.79s\n",
      "118:\tlearn: 0.4376311\ttotal: 510ms\tremaining: 3.77s\n",
      "119:\tlearn: 0.4365919\ttotal: 512ms\tremaining: 3.75s\n",
      "120:\tlearn: 0.4356995\ttotal: 514ms\tremaining: 3.74s\n",
      "121:\tlearn: 0.4348411\ttotal: 517ms\tremaining: 3.72s\n",
      "122:\tlearn: 0.4339453\ttotal: 519ms\tremaining: 3.7s\n",
      "123:\tlearn: 0.4328034\ttotal: 521ms\tremaining: 3.68s\n",
      "124:\tlearn: 0.4319283\ttotal: 524ms\tremaining: 3.67s\n",
      "125:\tlearn: 0.4312557\ttotal: 526ms\tremaining: 3.65s\n",
      "126:\tlearn: 0.4304026\ttotal: 528ms\tremaining: 3.63s\n",
      "127:\tlearn: 0.4298280\ttotal: 531ms\tremaining: 3.62s\n",
      "128:\tlearn: 0.4289908\ttotal: 533ms\tremaining: 3.6s\n",
      "129:\tlearn: 0.4281060\ttotal: 535ms\tremaining: 3.58s\n",
      "130:\tlearn: 0.4274906\ttotal: 537ms\tremaining: 3.56s\n",
      "131:\tlearn: 0.4263412\ttotal: 540ms\tremaining: 3.55s\n",
      "132:\tlearn: 0.4253331\ttotal: 542ms\tremaining: 3.53s\n",
      "133:\tlearn: 0.4243619\ttotal: 544ms\tremaining: 3.52s\n",
      "134:\tlearn: 0.4236335\ttotal: 547ms\tremaining: 3.5s\n",
      "135:\tlearn: 0.4228861\ttotal: 549ms\tremaining: 3.49s\n",
      "136:\tlearn: 0.4221383\ttotal: 551ms\tremaining: 3.47s\n",
      "137:\tlearn: 0.4212787\ttotal: 554ms\tremaining: 3.46s\n",
      "138:\tlearn: 0.4205727\ttotal: 556ms\tremaining: 3.44s\n",
      "139:\tlearn: 0.4198398\ttotal: 558ms\tremaining: 3.43s\n",
      "140:\tlearn: 0.4190528\ttotal: 560ms\tremaining: 3.41s\n",
      "141:\tlearn: 0.4181762\ttotal: 562ms\tremaining: 3.4s\n",
      "142:\tlearn: 0.4177653\ttotal: 564ms\tremaining: 3.38s\n",
      "143:\tlearn: 0.4171131\ttotal: 566ms\tremaining: 3.37s\n",
      "144:\tlearn: 0.4165639\ttotal: 569ms\tremaining: 3.35s\n",
      "145:\tlearn: 0.4156471\ttotal: 571ms\tremaining: 3.34s\n",
      "146:\tlearn: 0.4153234\ttotal: 573ms\tremaining: 3.33s\n",
      "147:\tlearn: 0.4145420\ttotal: 575ms\tremaining: 3.31s\n",
      "148:\tlearn: 0.4139180\ttotal: 578ms\tremaining: 3.3s\n",
      "149:\tlearn: 0.4128167\ttotal: 580ms\tremaining: 3.29s\n",
      "150:\tlearn: 0.4120071\ttotal: 582ms\tremaining: 3.27s\n",
      "151:\tlearn: 0.4115050\ttotal: 584ms\tremaining: 3.26s\n",
      "152:\tlearn: 0.4103879\ttotal: 586ms\tremaining: 3.25s\n",
      "153:\tlearn: 0.4096975\ttotal: 589ms\tremaining: 3.23s\n",
      "154:\tlearn: 0.4090180\ttotal: 592ms\tremaining: 3.23s\n",
      "155:\tlearn: 0.4084361\ttotal: 594ms\tremaining: 3.21s\n",
      "156:\tlearn: 0.4075079\ttotal: 597ms\tremaining: 3.2s\n",
      "157:\tlearn: 0.4070229\ttotal: 599ms\tremaining: 3.19s\n",
      "158:\tlearn: 0.4060864\ttotal: 601ms\tremaining: 3.18s\n",
      "159:\tlearn: 0.4055216\ttotal: 604ms\tremaining: 3.17s\n",
      "160:\tlearn: 0.4049737\ttotal: 606ms\tremaining: 3.16s\n",
      "161:\tlearn: 0.4043031\ttotal: 609ms\tremaining: 3.15s\n",
      "162:\tlearn: 0.4037889\ttotal: 611ms\tremaining: 3.14s\n",
      "163:\tlearn: 0.4029969\ttotal: 614ms\tremaining: 3.13s\n",
      "164:\tlearn: 0.4019218\ttotal: 616ms\tremaining: 3.12s\n",
      "165:\tlearn: 0.4013294\ttotal: 619ms\tremaining: 3.11s\n",
      "166:\tlearn: 0.4007642\ttotal: 621ms\tremaining: 3.1s\n",
      "167:\tlearn: 0.4000706\ttotal: 624ms\tremaining: 3.09s\n",
      "168:\tlearn: 0.3996680\ttotal: 627ms\tremaining: 3.08s\n",
      "169:\tlearn: 0.3989467\ttotal: 629ms\tremaining: 3.07s\n",
      "170:\tlearn: 0.3983710\ttotal: 631ms\tremaining: 3.06s\n",
      "171:\tlearn: 0.3975278\ttotal: 633ms\tremaining: 3.05s\n",
      "172:\tlearn: 0.3969084\ttotal: 636ms\tremaining: 3.04s\n",
      "173:\tlearn: 0.3965347\ttotal: 638ms\tremaining: 3.03s\n",
      "174:\tlearn: 0.3956732\ttotal: 640ms\tremaining: 3.02s\n",
      "175:\tlearn: 0.3952873\ttotal: 643ms\tremaining: 3.01s\n",
      "176:\tlearn: 0.3945194\ttotal: 645ms\tremaining: 3s\n",
      "177:\tlearn: 0.3937662\ttotal: 647ms\tremaining: 2.99s\n",
      "178:\tlearn: 0.3930186\ttotal: 650ms\tremaining: 2.98s\n",
      "179:\tlearn: 0.3923731\ttotal: 652ms\tremaining: 2.97s\n",
      "180:\tlearn: 0.3918567\ttotal: 655ms\tremaining: 2.96s\n",
      "181:\tlearn: 0.3910109\ttotal: 657ms\tremaining: 2.95s\n",
      "182:\tlearn: 0.3904347\ttotal: 659ms\tremaining: 2.94s\n",
      "183:\tlearn: 0.3898631\ttotal: 662ms\tremaining: 2.93s\n",
      "184:\tlearn: 0.3889877\ttotal: 664ms\tremaining: 2.93s\n",
      "185:\tlearn: 0.3883860\ttotal: 667ms\tremaining: 2.92s\n",
      "186:\tlearn: 0.3876585\ttotal: 669ms\tremaining: 2.91s\n",
      "187:\tlearn: 0.3871096\ttotal: 671ms\tremaining: 2.9s\n",
      "188:\tlearn: 0.3866930\ttotal: 674ms\tremaining: 2.89s\n",
      "189:\tlearn: 0.3860056\ttotal: 676ms\tremaining: 2.88s\n",
      "190:\tlearn: 0.3854310\ttotal: 679ms\tremaining: 2.88s\n",
      "191:\tlearn: 0.3848506\ttotal: 681ms\tremaining: 2.87s\n",
      "192:\tlearn: 0.3842016\ttotal: 684ms\tremaining: 2.86s\n",
      "193:\tlearn: 0.3836819\ttotal: 686ms\tremaining: 2.85s\n",
      "194:\tlearn: 0.3830974\ttotal: 689ms\tremaining: 2.84s\n",
      "195:\tlearn: 0.3827259\ttotal: 691ms\tremaining: 2.83s\n",
      "196:\tlearn: 0.3822292\ttotal: 694ms\tremaining: 2.83s\n",
      "197:\tlearn: 0.3818127\ttotal: 696ms\tremaining: 2.82s\n",
      "198:\tlearn: 0.3813381\ttotal: 699ms\tremaining: 2.81s\n",
      "199:\tlearn: 0.3808627\ttotal: 701ms\tremaining: 2.8s\n",
      "200:\tlearn: 0.3802744\ttotal: 704ms\tremaining: 2.8s\n",
      "201:\tlearn: 0.3797151\ttotal: 707ms\tremaining: 2.79s\n",
      "202:\tlearn: 0.3792543\ttotal: 709ms\tremaining: 2.78s\n",
      "203:\tlearn: 0.3787526\ttotal: 711ms\tremaining: 2.77s\n",
      "204:\tlearn: 0.3783154\ttotal: 714ms\tremaining: 2.77s\n",
      "205:\tlearn: 0.3778142\ttotal: 717ms\tremaining: 2.76s\n",
      "206:\tlearn: 0.3770761\ttotal: 719ms\tremaining: 2.75s\n",
      "207:\tlearn: 0.3766516\ttotal: 721ms\tremaining: 2.75s\n",
      "208:\tlearn: 0.3760002\ttotal: 724ms\tremaining: 2.74s\n",
      "209:\tlearn: 0.3753742\ttotal: 726ms\tremaining: 2.73s\n",
      "210:\tlearn: 0.3748945\ttotal: 728ms\tremaining: 2.72s\n",
      "211:\tlearn: 0.3741601\ttotal: 730ms\tremaining: 2.71s\n",
      "212:\tlearn: 0.3737583\ttotal: 732ms\tremaining: 2.7s\n",
      "213:\tlearn: 0.3731306\ttotal: 734ms\tremaining: 2.7s\n",
      "214:\tlearn: 0.3725594\ttotal: 737ms\tremaining: 2.69s\n",
      "215:\tlearn: 0.3717840\ttotal: 739ms\tremaining: 2.68s\n",
      "216:\tlearn: 0.3712366\ttotal: 741ms\tremaining: 2.67s\n",
      "217:\tlearn: 0.3706128\ttotal: 743ms\tremaining: 2.67s\n",
      "218:\tlearn: 0.3701763\ttotal: 745ms\tremaining: 2.66s\n",
      "219:\tlearn: 0.3696732\ttotal: 748ms\tremaining: 2.65s\n",
      "220:\tlearn: 0.3694511\ttotal: 750ms\tremaining: 2.64s\n",
      "221:\tlearn: 0.3691241\ttotal: 752ms\tremaining: 2.64s\n",
      "222:\tlearn: 0.3685841\ttotal: 754ms\tremaining: 2.63s\n",
      "223:\tlearn: 0.3680235\ttotal: 757ms\tremaining: 2.62s\n",
      "224:\tlearn: 0.3674146\ttotal: 759ms\tremaining: 2.61s\n",
      "225:\tlearn: 0.3669959\ttotal: 761ms\tremaining: 2.61s\n",
      "226:\tlearn: 0.3664598\ttotal: 763ms\tremaining: 2.6s\n",
      "227:\tlearn: 0.3660285\ttotal: 766ms\tremaining: 2.59s\n",
      "228:\tlearn: 0.3656118\ttotal: 768ms\tremaining: 2.59s\n",
      "229:\tlearn: 0.3653013\ttotal: 771ms\tremaining: 2.58s\n",
      "230:\tlearn: 0.3648384\ttotal: 773ms\tremaining: 2.57s\n",
      "231:\tlearn: 0.3645751\ttotal: 775ms\tremaining: 2.56s\n",
      "232:\tlearn: 0.3642266\ttotal: 777ms\tremaining: 2.56s\n",
      "233:\tlearn: 0.3638032\ttotal: 780ms\tremaining: 2.55s\n",
      "234:\tlearn: 0.3634127\ttotal: 782ms\tremaining: 2.54s\n",
      "235:\tlearn: 0.3628147\ttotal: 784ms\tremaining: 2.54s\n",
      "236:\tlearn: 0.3624876\ttotal: 786ms\tremaining: 2.53s\n",
      "237:\tlearn: 0.3621678\ttotal: 789ms\tremaining: 2.52s\n",
      "238:\tlearn: 0.3617236\ttotal: 791ms\tremaining: 2.52s\n",
      "239:\tlearn: 0.3613139\ttotal: 793ms\tremaining: 2.51s\n",
      "240:\tlearn: 0.3608153\ttotal: 796ms\tremaining: 2.5s\n",
      "241:\tlearn: 0.3605083\ttotal: 798ms\tremaining: 2.5s\n",
      "242:\tlearn: 0.3600805\ttotal: 801ms\tremaining: 2.49s\n",
      "243:\tlearn: 0.3598540\ttotal: 803ms\tremaining: 2.49s\n",
      "244:\tlearn: 0.3594826\ttotal: 805ms\tremaining: 2.48s\n",
      "245:\tlearn: 0.3589942\ttotal: 808ms\tremaining: 2.48s\n",
      "246:\tlearn: 0.3580868\ttotal: 810ms\tremaining: 2.47s\n",
      "247:\tlearn: 0.3577168\ttotal: 812ms\tremaining: 2.46s\n",
      "248:\tlearn: 0.3572695\ttotal: 814ms\tremaining: 2.46s\n",
      "249:\tlearn: 0.3569883\ttotal: 816ms\tremaining: 2.45s\n",
      "250:\tlearn: 0.3564914\ttotal: 818ms\tremaining: 2.44s\n",
      "251:\tlearn: 0.3563154\ttotal: 821ms\tremaining: 2.44s\n",
      "252:\tlearn: 0.3559500\ttotal: 823ms\tremaining: 2.43s\n",
      "253:\tlearn: 0.3556725\ttotal: 825ms\tremaining: 2.42s\n",
      "254:\tlearn: 0.3554429\ttotal: 827ms\tremaining: 2.42s\n",
      "255:\tlearn: 0.3550410\ttotal: 829ms\tremaining: 2.41s\n",
      "256:\tlearn: 0.3544784\ttotal: 832ms\tremaining: 2.4s\n",
      "257:\tlearn: 0.3541264\ttotal: 834ms\tremaining: 2.4s\n",
      "258:\tlearn: 0.3534407\ttotal: 836ms\tremaining: 2.39s\n",
      "259:\tlearn: 0.3531235\ttotal: 838ms\tremaining: 2.38s\n",
      "260:\tlearn: 0.3527207\ttotal: 840ms\tremaining: 2.38s\n",
      "261:\tlearn: 0.3523243\ttotal: 843ms\tremaining: 2.37s\n",
      "262:\tlearn: 0.3520765\ttotal: 845ms\tremaining: 2.37s\n",
      "263:\tlearn: 0.3515223\ttotal: 847ms\tremaining: 2.36s\n",
      "264:\tlearn: 0.3511085\ttotal: 849ms\tremaining: 2.35s\n",
      "265:\tlearn: 0.3507609\ttotal: 851ms\tremaining: 2.35s\n",
      "266:\tlearn: 0.3505624\ttotal: 853ms\tremaining: 2.34s\n",
      "267:\tlearn: 0.3502285\ttotal: 855ms\tremaining: 2.34s\n",
      "268:\tlearn: 0.3497636\ttotal: 858ms\tremaining: 2.33s\n",
      "269:\tlearn: 0.3493754\ttotal: 860ms\tremaining: 2.32s\n",
      "270:\tlearn: 0.3490792\ttotal: 862ms\tremaining: 2.32s\n",
      "271:\tlearn: 0.3487020\ttotal: 864ms\tremaining: 2.31s\n",
      "272:\tlearn: 0.3483143\ttotal: 866ms\tremaining: 2.31s\n",
      "273:\tlearn: 0.3478934\ttotal: 868ms\tremaining: 2.3s\n",
      "274:\tlearn: 0.3475017\ttotal: 870ms\tremaining: 2.29s\n",
      "275:\tlearn: 0.3471957\ttotal: 872ms\tremaining: 2.29s\n",
      "276:\tlearn: 0.3468656\ttotal: 875ms\tremaining: 2.28s\n",
      "277:\tlearn: 0.3464868\ttotal: 877ms\tremaining: 2.28s\n",
      "278:\tlearn: 0.3462092\ttotal: 879ms\tremaining: 2.27s\n",
      "279:\tlearn: 0.3460606\ttotal: 881ms\tremaining: 2.26s\n",
      "280:\tlearn: 0.3455830\ttotal: 883ms\tremaining: 2.26s\n",
      "281:\tlearn: 0.3453044\ttotal: 885ms\tremaining: 2.25s\n",
      "282:\tlearn: 0.3444292\ttotal: 887ms\tremaining: 2.25s\n",
      "283:\tlearn: 0.3440907\ttotal: 889ms\tremaining: 2.24s\n",
      "284:\tlearn: 0.3435897\ttotal: 892ms\tremaining: 2.24s\n",
      "285:\tlearn: 0.3432924\ttotal: 894ms\tremaining: 2.23s\n",
      "286:\tlearn: 0.3429693\ttotal: 896ms\tremaining: 2.23s\n",
      "287:\tlearn: 0.3423841\ttotal: 898ms\tremaining: 2.22s\n",
      "288:\tlearn: 0.3419082\ttotal: 900ms\tremaining: 2.21s\n",
      "289:\tlearn: 0.3417444\ttotal: 903ms\tremaining: 2.21s\n",
      "290:\tlearn: 0.3413183\ttotal: 905ms\tremaining: 2.2s\n",
      "291:\tlearn: 0.3410967\ttotal: 907ms\tremaining: 2.2s\n",
      "292:\tlearn: 0.3405444\ttotal: 909ms\tremaining: 2.19s\n",
      "293:\tlearn: 0.3400621\ttotal: 911ms\tremaining: 2.19s\n",
      "294:\tlearn: 0.3397168\ttotal: 913ms\tremaining: 2.18s\n",
      "295:\tlearn: 0.3393361\ttotal: 915ms\tremaining: 2.18s\n",
      "296:\tlearn: 0.3390740\ttotal: 918ms\tremaining: 2.17s\n",
      "297:\tlearn: 0.3385868\ttotal: 920ms\tremaining: 2.17s\n",
      "298:\tlearn: 0.3383527\ttotal: 922ms\tremaining: 2.16s\n",
      "299:\tlearn: 0.3381225\ttotal: 924ms\tremaining: 2.16s\n",
      "300:\tlearn: 0.3377180\ttotal: 926ms\tremaining: 2.15s\n",
      "301:\tlearn: 0.3373683\ttotal: 929ms\tremaining: 2.15s\n",
      "302:\tlearn: 0.3369712\ttotal: 931ms\tremaining: 2.14s\n",
      "303:\tlearn: 0.3365943\ttotal: 933ms\tremaining: 2.14s\n",
      "304:\tlearn: 0.3361416\ttotal: 936ms\tremaining: 2.13s\n",
      "305:\tlearn: 0.3357881\ttotal: 938ms\tremaining: 2.13s\n",
      "306:\tlearn: 0.3355420\ttotal: 940ms\tremaining: 2.12s\n",
      "307:\tlearn: 0.3353969\ttotal: 943ms\tremaining: 2.12s\n",
      "308:\tlearn: 0.3350159\ttotal: 945ms\tremaining: 2.11s\n",
      "309:\tlearn: 0.3347592\ttotal: 947ms\tremaining: 2.11s\n",
      "310:\tlearn: 0.3344209\ttotal: 950ms\tremaining: 2.1s\n",
      "311:\tlearn: 0.3340571\ttotal: 952ms\tremaining: 2.1s\n",
      "312:\tlearn: 0.3337410\ttotal: 955ms\tremaining: 2.1s\n",
      "313:\tlearn: 0.3335433\ttotal: 957ms\tremaining: 2.09s\n",
      "314:\tlearn: 0.3331226\ttotal: 960ms\tremaining: 2.09s\n",
      "315:\tlearn: 0.3326529\ttotal: 962ms\tremaining: 2.08s\n",
      "316:\tlearn: 0.3324585\ttotal: 965ms\tremaining: 2.08s\n",
      "317:\tlearn: 0.3319313\ttotal: 967ms\tremaining: 2.07s\n",
      "318:\tlearn: 0.3317666\ttotal: 970ms\tremaining: 2.07s\n",
      "319:\tlearn: 0.3316420\ttotal: 973ms\tremaining: 2.07s\n",
      "320:\tlearn: 0.3313743\ttotal: 975ms\tremaining: 2.06s\n",
      "321:\tlearn: 0.3311034\ttotal: 978ms\tremaining: 2.06s\n",
      "322:\tlearn: 0.3308718\ttotal: 980ms\tremaining: 2.05s\n",
      "323:\tlearn: 0.3305797\ttotal: 983ms\tremaining: 2.05s\n",
      "324:\tlearn: 0.3303344\ttotal: 985ms\tremaining: 2.05s\n",
      "325:\tlearn: 0.3299356\ttotal: 988ms\tremaining: 2.04s\n",
      "326:\tlearn: 0.3297079\ttotal: 991ms\tremaining: 2.04s\n",
      "327:\tlearn: 0.3293339\ttotal: 993ms\tremaining: 2.03s\n",
      "328:\tlearn: 0.3289580\ttotal: 996ms\tremaining: 2.03s\n",
      "329:\tlearn: 0.3285913\ttotal: 998ms\tremaining: 2.03s\n",
      "330:\tlearn: 0.3282758\ttotal: 1s\tremaining: 2.02s\n",
      "331:\tlearn: 0.3279623\ttotal: 1s\tremaining: 2.02s\n",
      "332:\tlearn: 0.3274888\ttotal: 1s\tremaining: 2.01s\n",
      "333:\tlearn: 0.3271103\ttotal: 1.01s\tremaining: 2.01s\n",
      "334:\tlearn: 0.3266782\ttotal: 1.01s\tremaining: 2.01s\n",
      "335:\tlearn: 0.3263302\ttotal: 1.01s\tremaining: 2s\n",
      "336:\tlearn: 0.3260965\ttotal: 1.01s\tremaining: 2s\n",
      "337:\tlearn: 0.3259158\ttotal: 1.02s\tremaining: 1.99s\n",
      "338:\tlearn: 0.3258232\ttotal: 1.02s\tremaining: 1.99s\n",
      "339:\tlearn: 0.3256590\ttotal: 1.02s\tremaining: 1.98s\n",
      "340:\tlearn: 0.3251070\ttotal: 1.02s\tremaining: 1.98s\n",
      "341:\tlearn: 0.3248128\ttotal: 1.03s\tremaining: 1.98s\n",
      "342:\tlearn: 0.3245641\ttotal: 1.03s\tremaining: 1.97s\n",
      "343:\tlearn: 0.3244393\ttotal: 1.03s\tremaining: 1.97s\n",
      "344:\tlearn: 0.3239917\ttotal: 1.03s\tremaining: 1.96s\n",
      "345:\tlearn: 0.3236587\ttotal: 1.04s\tremaining: 1.96s\n",
      "346:\tlearn: 0.3232919\ttotal: 1.04s\tremaining: 1.95s\n",
      "347:\tlearn: 0.3229349\ttotal: 1.04s\tremaining: 1.95s\n",
      "348:\tlearn: 0.3227158\ttotal: 1.04s\tremaining: 1.95s\n",
      "349:\tlearn: 0.3222736\ttotal: 1.04s\tremaining: 1.94s\n",
      "350:\tlearn: 0.3219319\ttotal: 1.05s\tremaining: 1.94s\n",
      "351:\tlearn: 0.3216924\ttotal: 1.05s\tremaining: 1.93s\n",
      "352:\tlearn: 0.3214005\ttotal: 1.05s\tremaining: 1.93s\n",
      "353:\tlearn: 0.3212561\ttotal: 1.05s\tremaining: 1.92s\n",
      "354:\tlearn: 0.3210802\ttotal: 1.06s\tremaining: 1.92s\n",
      "355:\tlearn: 0.3208611\ttotal: 1.06s\tremaining: 1.92s\n",
      "356:\tlearn: 0.3207409\ttotal: 1.06s\tremaining: 1.91s\n",
      "357:\tlearn: 0.3204410\ttotal: 1.06s\tremaining: 1.91s\n",
      "358:\tlearn: 0.3201386\ttotal: 1.07s\tremaining: 1.9s\n",
      "359:\tlearn: 0.3199546\ttotal: 1.07s\tremaining: 1.9s\n",
      "360:\tlearn: 0.3196740\ttotal: 1.07s\tremaining: 1.9s\n",
      "361:\tlearn: 0.3193086\ttotal: 1.07s\tremaining: 1.89s\n",
      "362:\tlearn: 0.3190555\ttotal: 1.07s\tremaining: 1.89s\n",
      "363:\tlearn: 0.3186316\ttotal: 1.08s\tremaining: 1.88s\n",
      "364:\tlearn: 0.3182750\ttotal: 1.08s\tremaining: 1.88s\n",
      "365:\tlearn: 0.3179150\ttotal: 1.08s\tremaining: 1.88s\n",
      "366:\tlearn: 0.3176213\ttotal: 1.08s\tremaining: 1.87s\n",
      "367:\tlearn: 0.3174330\ttotal: 1.09s\tremaining: 1.87s\n",
      "368:\tlearn: 0.3170058\ttotal: 1.09s\tremaining: 1.86s\n",
      "369:\tlearn: 0.3167177\ttotal: 1.09s\tremaining: 1.86s\n",
      "370:\tlearn: 0.3165966\ttotal: 1.09s\tremaining: 1.85s\n",
      "371:\tlearn: 0.3163434\ttotal: 1.09s\tremaining: 1.85s\n",
      "372:\tlearn: 0.3158102\ttotal: 1.1s\tremaining: 1.84s\n",
      "373:\tlearn: 0.3156989\ttotal: 1.1s\tremaining: 1.84s\n",
      "374:\tlearn: 0.3153516\ttotal: 1.1s\tremaining: 1.84s\n",
      "375:\tlearn: 0.3151365\ttotal: 1.1s\tremaining: 1.83s\n",
      "376:\tlearn: 0.3148602\ttotal: 1.11s\tremaining: 1.83s\n",
      "377:\tlearn: 0.3146425\ttotal: 1.11s\tremaining: 1.82s\n",
      "378:\tlearn: 0.3140533\ttotal: 1.11s\tremaining: 1.82s\n",
      "379:\tlearn: 0.3138100\ttotal: 1.11s\tremaining: 1.81s\n",
      "380:\tlearn: 0.3134537\ttotal: 1.11s\tremaining: 1.81s\n",
      "381:\tlearn: 0.3131326\ttotal: 1.12s\tremaining: 1.81s\n",
      "382:\tlearn: 0.3127691\ttotal: 1.12s\tremaining: 1.8s\n",
      "383:\tlearn: 0.3123777\ttotal: 1.12s\tremaining: 1.8s\n",
      "384:\tlearn: 0.3120189\ttotal: 1.12s\tremaining: 1.79s\n",
      "385:\tlearn: 0.3117879\ttotal: 1.13s\tremaining: 1.79s\n",
      "386:\tlearn: 0.3117281\ttotal: 1.13s\tremaining: 1.78s\n",
      "387:\tlearn: 0.3114269\ttotal: 1.13s\tremaining: 1.78s\n",
      "388:\tlearn: 0.3111523\ttotal: 1.13s\tremaining: 1.78s\n",
      "389:\tlearn: 0.3107485\ttotal: 1.13s\tremaining: 1.77s\n",
      "390:\tlearn: 0.3104823\ttotal: 1.14s\tremaining: 1.77s\n",
      "391:\tlearn: 0.3102043\ttotal: 1.14s\tremaining: 1.77s\n",
      "392:\tlearn: 0.3100756\ttotal: 1.14s\tremaining: 1.76s\n",
      "393:\tlearn: 0.3096455\ttotal: 1.14s\tremaining: 1.76s\n",
      "394:\tlearn: 0.3094293\ttotal: 1.15s\tremaining: 1.75s\n",
      "395:\tlearn: 0.3091670\ttotal: 1.15s\tremaining: 1.75s\n",
      "396:\tlearn: 0.3089720\ttotal: 1.15s\tremaining: 1.75s\n",
      "397:\tlearn: 0.3087352\ttotal: 1.15s\tremaining: 1.74s\n",
      "398:\tlearn: 0.3083025\ttotal: 1.16s\tremaining: 1.74s\n",
      "399:\tlearn: 0.3080730\ttotal: 1.16s\tremaining: 1.74s\n",
      "400:\tlearn: 0.3075862\ttotal: 1.16s\tremaining: 1.73s\n",
      "401:\tlearn: 0.3072950\ttotal: 1.16s\tremaining: 1.73s\n",
      "402:\tlearn: 0.3069260\ttotal: 1.17s\tremaining: 1.73s\n",
      "403:\tlearn: 0.3066624\ttotal: 1.17s\tremaining: 1.73s\n",
      "404:\tlearn: 0.3064005\ttotal: 1.17s\tremaining: 1.72s\n",
      "405:\tlearn: 0.3062175\ttotal: 1.18s\tremaining: 1.72s\n",
      "406:\tlearn: 0.3059133\ttotal: 1.18s\tremaining: 1.72s\n",
      "407:\tlearn: 0.3056401\ttotal: 1.18s\tremaining: 1.71s\n",
      "408:\tlearn: 0.3053706\ttotal: 1.18s\tremaining: 1.71s\n",
      "409:\tlearn: 0.3051702\ttotal: 1.19s\tremaining: 1.71s\n",
      "410:\tlearn: 0.3047998\ttotal: 1.19s\tremaining: 1.7s\n",
      "411:\tlearn: 0.3044851\ttotal: 1.19s\tremaining: 1.7s\n",
      "412:\tlearn: 0.3041596\ttotal: 1.19s\tremaining: 1.7s\n",
      "413:\tlearn: 0.3039484\ttotal: 1.2s\tremaining: 1.69s\n",
      "414:\tlearn: 0.3035868\ttotal: 1.2s\tremaining: 1.69s\n",
      "415:\tlearn: 0.3034963\ttotal: 1.2s\tremaining: 1.69s\n",
      "416:\tlearn: 0.3032978\ttotal: 1.2s\tremaining: 1.68s\n",
      "417:\tlearn: 0.3029297\ttotal: 1.21s\tremaining: 1.68s\n",
      "418:\tlearn: 0.3026614\ttotal: 1.21s\tremaining: 1.68s\n",
      "419:\tlearn: 0.3025338\ttotal: 1.21s\tremaining: 1.67s\n",
      "420:\tlearn: 0.3023329\ttotal: 1.21s\tremaining: 1.67s\n",
      "421:\tlearn: 0.3020878\ttotal: 1.22s\tremaining: 1.67s\n",
      "422:\tlearn: 0.3018350\ttotal: 1.22s\tremaining: 1.66s\n",
      "423:\tlearn: 0.3016547\ttotal: 1.22s\tremaining: 1.66s\n",
      "424:\tlearn: 0.3013340\ttotal: 1.23s\tremaining: 1.66s\n",
      "425:\tlearn: 0.3012067\ttotal: 1.23s\tremaining: 1.65s\n",
      "426:\tlearn: 0.3010644\ttotal: 1.23s\tremaining: 1.65s\n",
      "427:\tlearn: 0.3008560\ttotal: 1.23s\tremaining: 1.65s\n",
      "428:\tlearn: 0.3007435\ttotal: 1.24s\tremaining: 1.64s\n",
      "429:\tlearn: 0.3005282\ttotal: 1.24s\tremaining: 1.64s\n",
      "430:\tlearn: 0.3002332\ttotal: 1.24s\tremaining: 1.64s\n",
      "431:\tlearn: 0.2999973\ttotal: 1.24s\tremaining: 1.63s\n",
      "432:\tlearn: 0.2998342\ttotal: 1.25s\tremaining: 1.63s\n",
      "433:\tlearn: 0.2995772\ttotal: 1.25s\tremaining: 1.63s\n",
      "434:\tlearn: 0.2994191\ttotal: 1.25s\tremaining: 1.62s\n",
      "435:\tlearn: 0.2992121\ttotal: 1.25s\tremaining: 1.62s\n",
      "436:\tlearn: 0.2990371\ttotal: 1.25s\tremaining: 1.62s\n",
      "437:\tlearn: 0.2988313\ttotal: 1.26s\tremaining: 1.61s\n",
      "438:\tlearn: 0.2986686\ttotal: 1.26s\tremaining: 1.61s\n",
      "439:\tlearn: 0.2985372\ttotal: 1.26s\tremaining: 1.61s\n",
      "440:\tlearn: 0.2982802\ttotal: 1.26s\tremaining: 1.6s\n",
      "441:\tlearn: 0.2978098\ttotal: 1.27s\tremaining: 1.6s\n",
      "442:\tlearn: 0.2975569\ttotal: 1.27s\tremaining: 1.6s\n",
      "443:\tlearn: 0.2974696\ttotal: 1.27s\tremaining: 1.59s\n",
      "444:\tlearn: 0.2971000\ttotal: 1.27s\tremaining: 1.59s\n",
      "445:\tlearn: 0.2968185\ttotal: 1.28s\tremaining: 1.59s\n",
      "446:\tlearn: 0.2965820\ttotal: 1.28s\tremaining: 1.58s\n",
      "447:\tlearn: 0.2963367\ttotal: 1.28s\tremaining: 1.58s\n",
      "448:\tlearn: 0.2962052\ttotal: 1.28s\tremaining: 1.58s\n",
      "449:\tlearn: 0.2958710\ttotal: 1.29s\tremaining: 1.57s\n",
      "450:\tlearn: 0.2957278\ttotal: 1.29s\tremaining: 1.57s\n",
      "451:\tlearn: 0.2954078\ttotal: 1.29s\tremaining: 1.57s\n",
      "452:\tlearn: 0.2950464\ttotal: 1.29s\tremaining: 1.56s\n",
      "453:\tlearn: 0.2943738\ttotal: 1.3s\tremaining: 1.56s\n",
      "454:\tlearn: 0.2940240\ttotal: 1.3s\tremaining: 1.56s\n",
      "455:\tlearn: 0.2937387\ttotal: 1.3s\tremaining: 1.55s\n",
      "456:\tlearn: 0.2932645\ttotal: 1.3s\tremaining: 1.55s\n",
      "457:\tlearn: 0.2930212\ttotal: 1.31s\tremaining: 1.55s\n",
      "458:\tlearn: 0.2927047\ttotal: 1.31s\tremaining: 1.54s\n",
      "459:\tlearn: 0.2925782\ttotal: 1.31s\tremaining: 1.54s\n",
      "460:\tlearn: 0.2923455\ttotal: 1.31s\tremaining: 1.54s\n",
      "461:\tlearn: 0.2921114\ttotal: 1.32s\tremaining: 1.53s\n",
      "462:\tlearn: 0.2918372\ttotal: 1.32s\tremaining: 1.53s\n",
      "463:\tlearn: 0.2916646\ttotal: 1.32s\tremaining: 1.53s\n",
      "464:\tlearn: 0.2914858\ttotal: 1.32s\tremaining: 1.52s\n",
      "465:\tlearn: 0.2913746\ttotal: 1.33s\tremaining: 1.52s\n",
      "466:\tlearn: 0.2911112\ttotal: 1.33s\tremaining: 1.52s\n",
      "467:\tlearn: 0.2909419\ttotal: 1.33s\tremaining: 1.51s\n",
      "468:\tlearn: 0.2907768\ttotal: 1.33s\tremaining: 1.51s\n",
      "469:\tlearn: 0.2905672\ttotal: 1.34s\tremaining: 1.51s\n",
      "470:\tlearn: 0.2902868\ttotal: 1.34s\tremaining: 1.5s\n",
      "471:\tlearn: 0.2901459\ttotal: 1.34s\tremaining: 1.5s\n",
      "472:\tlearn: 0.2895721\ttotal: 1.34s\tremaining: 1.5s\n",
      "473:\tlearn: 0.2893069\ttotal: 1.35s\tremaining: 1.49s\n",
      "474:\tlearn: 0.2892238\ttotal: 1.35s\tremaining: 1.49s\n",
      "475:\tlearn: 0.2890793\ttotal: 1.35s\tremaining: 1.49s\n",
      "476:\tlearn: 0.2888606\ttotal: 1.35s\tremaining: 1.48s\n",
      "477:\tlearn: 0.2885725\ttotal: 1.35s\tremaining: 1.48s\n",
      "478:\tlearn: 0.2884059\ttotal: 1.36s\tremaining: 1.48s\n",
      "479:\tlearn: 0.2881226\ttotal: 1.36s\tremaining: 1.47s\n",
      "480:\tlearn: 0.2878577\ttotal: 1.36s\tremaining: 1.47s\n",
      "481:\tlearn: 0.2876443\ttotal: 1.36s\tremaining: 1.47s\n",
      "482:\tlearn: 0.2872679\ttotal: 1.37s\tremaining: 1.46s\n",
      "483:\tlearn: 0.2869225\ttotal: 1.37s\tremaining: 1.46s\n",
      "484:\tlearn: 0.2867176\ttotal: 1.37s\tremaining: 1.46s\n",
      "485:\tlearn: 0.2863829\ttotal: 1.37s\tremaining: 1.45s\n",
      "486:\tlearn: 0.2862343\ttotal: 1.38s\tremaining: 1.45s\n",
      "487:\tlearn: 0.2860281\ttotal: 1.38s\tremaining: 1.45s\n",
      "488:\tlearn: 0.2858158\ttotal: 1.38s\tremaining: 1.44s\n",
      "489:\tlearn: 0.2857030\ttotal: 1.38s\tremaining: 1.44s\n",
      "490:\tlearn: 0.2853467\ttotal: 1.39s\tremaining: 1.44s\n",
      "491:\tlearn: 0.2852238\ttotal: 1.39s\tremaining: 1.43s\n",
      "492:\tlearn: 0.2848703\ttotal: 1.39s\tremaining: 1.43s\n",
      "493:\tlearn: 0.2847930\ttotal: 1.39s\tremaining: 1.43s\n",
      "494:\tlearn: 0.2844460\ttotal: 1.39s\tremaining: 1.42s\n",
      "495:\tlearn: 0.2842826\ttotal: 1.4s\tremaining: 1.42s\n",
      "496:\tlearn: 0.2840736\ttotal: 1.4s\tremaining: 1.42s\n",
      "497:\tlearn: 0.2838086\ttotal: 1.4s\tremaining: 1.41s\n",
      "498:\tlearn: 0.2836780\ttotal: 1.4s\tremaining: 1.41s\n",
      "499:\tlearn: 0.2835099\ttotal: 1.41s\tremaining: 1.41s\n",
      "500:\tlearn: 0.2833241\ttotal: 1.41s\tremaining: 1.4s\n",
      "501:\tlearn: 0.2831782\ttotal: 1.41s\tremaining: 1.4s\n",
      "502:\tlearn: 0.2829458\ttotal: 1.41s\tremaining: 1.4s\n",
      "503:\tlearn: 0.2824786\ttotal: 1.41s\tremaining: 1.39s\n",
      "504:\tlearn: 0.2823866\ttotal: 1.42s\tremaining: 1.39s\n",
      "505:\tlearn: 0.2821895\ttotal: 1.42s\tremaining: 1.39s\n",
      "506:\tlearn: 0.2817553\ttotal: 1.42s\tremaining: 1.38s\n",
      "507:\tlearn: 0.2815476\ttotal: 1.42s\tremaining: 1.38s\n",
      "508:\tlearn: 0.2813923\ttotal: 1.43s\tremaining: 1.38s\n",
      "509:\tlearn: 0.2812253\ttotal: 1.43s\tremaining: 1.37s\n",
      "510:\tlearn: 0.2811270\ttotal: 1.43s\tremaining: 1.37s\n",
      "511:\tlearn: 0.2809442\ttotal: 1.43s\tremaining: 1.36s\n",
      "512:\tlearn: 0.2806583\ttotal: 1.44s\tremaining: 1.36s\n",
      "513:\tlearn: 0.2804053\ttotal: 1.44s\tremaining: 1.36s\n",
      "514:\tlearn: 0.2802933\ttotal: 1.44s\tremaining: 1.36s\n",
      "515:\tlearn: 0.2802130\ttotal: 1.44s\tremaining: 1.35s\n",
      "516:\tlearn: 0.2800198\ttotal: 1.45s\tremaining: 1.35s\n",
      "517:\tlearn: 0.2797297\ttotal: 1.45s\tremaining: 1.35s\n",
      "518:\tlearn: 0.2792613\ttotal: 1.45s\tremaining: 1.34s\n",
      "519:\tlearn: 0.2791178\ttotal: 1.45s\tremaining: 1.34s\n",
      "520:\tlearn: 0.2787684\ttotal: 1.46s\tremaining: 1.34s\n",
      "521:\tlearn: 0.2785238\ttotal: 1.46s\tremaining: 1.33s\n",
      "522:\tlearn: 0.2784354\ttotal: 1.46s\tremaining: 1.33s\n",
      "523:\tlearn: 0.2782083\ttotal: 1.46s\tremaining: 1.33s\n",
      "524:\tlearn: 0.2779862\ttotal: 1.47s\tremaining: 1.32s\n",
      "525:\tlearn: 0.2778577\ttotal: 1.47s\tremaining: 1.32s\n",
      "526:\tlearn: 0.2776799\ttotal: 1.47s\tremaining: 1.32s\n",
      "527:\tlearn: 0.2774047\ttotal: 1.47s\tremaining: 1.31s\n",
      "528:\tlearn: 0.2770705\ttotal: 1.47s\tremaining: 1.31s\n",
      "529:\tlearn: 0.2767879\ttotal: 1.48s\tremaining: 1.31s\n",
      "530:\tlearn: 0.2765573\ttotal: 1.48s\tremaining: 1.31s\n",
      "531:\tlearn: 0.2762926\ttotal: 1.48s\tremaining: 1.3s\n",
      "532:\tlearn: 0.2760226\ttotal: 1.48s\tremaining: 1.3s\n",
      "533:\tlearn: 0.2759634\ttotal: 1.49s\tremaining: 1.3s\n",
      "534:\tlearn: 0.2755854\ttotal: 1.49s\tremaining: 1.29s\n",
      "535:\tlearn: 0.2753839\ttotal: 1.49s\tremaining: 1.29s\n",
      "536:\tlearn: 0.2748993\ttotal: 1.49s\tremaining: 1.29s\n",
      "537:\tlearn: 0.2747174\ttotal: 1.49s\tremaining: 1.28s\n",
      "538:\tlearn: 0.2745669\ttotal: 1.5s\tremaining: 1.28s\n",
      "539:\tlearn: 0.2742959\ttotal: 1.5s\tremaining: 1.28s\n",
      "540:\tlearn: 0.2740799\ttotal: 1.5s\tremaining: 1.27s\n",
      "541:\tlearn: 0.2739597\ttotal: 1.5s\tremaining: 1.27s\n",
      "542:\tlearn: 0.2737468\ttotal: 1.5s\tremaining: 1.27s\n",
      "543:\tlearn: 0.2736213\ttotal: 1.51s\tremaining: 1.26s\n",
      "544:\tlearn: 0.2734265\ttotal: 1.51s\tremaining: 1.26s\n",
      "545:\tlearn: 0.2731554\ttotal: 1.51s\tremaining: 1.26s\n",
      "546:\tlearn: 0.2730985\ttotal: 1.51s\tremaining: 1.25s\n",
      "547:\tlearn: 0.2727592\ttotal: 1.52s\tremaining: 1.25s\n",
      "548:\tlearn: 0.2725759\ttotal: 1.52s\tremaining: 1.25s\n",
      "549:\tlearn: 0.2723701\ttotal: 1.52s\tremaining: 1.24s\n",
      "550:\tlearn: 0.2720963\ttotal: 1.52s\tremaining: 1.24s\n",
      "551:\tlearn: 0.2717838\ttotal: 1.53s\tremaining: 1.24s\n",
      "552:\tlearn: 0.2716459\ttotal: 1.53s\tremaining: 1.24s\n",
      "553:\tlearn: 0.2714241\ttotal: 1.53s\tremaining: 1.23s\n",
      "554:\tlearn: 0.2710796\ttotal: 1.53s\tremaining: 1.23s\n",
      "555:\tlearn: 0.2708530\ttotal: 1.53s\tremaining: 1.23s\n",
      "556:\tlearn: 0.2707057\ttotal: 1.54s\tremaining: 1.22s\n",
      "557:\tlearn: 0.2702598\ttotal: 1.54s\tremaining: 1.22s\n",
      "558:\tlearn: 0.2701429\ttotal: 1.54s\tremaining: 1.22s\n",
      "559:\tlearn: 0.2699466\ttotal: 1.54s\tremaining: 1.21s\n",
      "560:\tlearn: 0.2697293\ttotal: 1.55s\tremaining: 1.21s\n",
      "561:\tlearn: 0.2694486\ttotal: 1.55s\tremaining: 1.21s\n",
      "562:\tlearn: 0.2690466\ttotal: 1.55s\tremaining: 1.21s\n",
      "563:\tlearn: 0.2689248\ttotal: 1.55s\tremaining: 1.2s\n",
      "564:\tlearn: 0.2686948\ttotal: 1.56s\tremaining: 1.2s\n",
      "565:\tlearn: 0.2685619\ttotal: 1.56s\tremaining: 1.2s\n",
      "566:\tlearn: 0.2683828\ttotal: 1.56s\tremaining: 1.19s\n",
      "567:\tlearn: 0.2679790\ttotal: 1.56s\tremaining: 1.19s\n",
      "568:\tlearn: 0.2678450\ttotal: 1.57s\tremaining: 1.19s\n",
      "569:\tlearn: 0.2676119\ttotal: 1.57s\tremaining: 1.18s\n",
      "570:\tlearn: 0.2673814\ttotal: 1.57s\tremaining: 1.18s\n",
      "571:\tlearn: 0.2672294\ttotal: 1.57s\tremaining: 1.18s\n",
      "572:\tlearn: 0.2669753\ttotal: 1.58s\tremaining: 1.18s\n",
      "573:\tlearn: 0.2668201\ttotal: 1.58s\tremaining: 1.17s\n",
      "574:\tlearn: 0.2663744\ttotal: 1.58s\tremaining: 1.17s\n",
      "575:\tlearn: 0.2663089\ttotal: 1.58s\tremaining: 1.17s\n",
      "576:\tlearn: 0.2661984\ttotal: 1.59s\tremaining: 1.16s\n",
      "577:\tlearn: 0.2657423\ttotal: 1.59s\tremaining: 1.16s\n",
      "578:\tlearn: 0.2655906\ttotal: 1.59s\tremaining: 1.16s\n",
      "579:\tlearn: 0.2652973\ttotal: 1.59s\tremaining: 1.15s\n",
      "580:\tlearn: 0.2651702\ttotal: 1.6s\tremaining: 1.15s\n",
      "581:\tlearn: 0.2649804\ttotal: 1.6s\tremaining: 1.15s\n",
      "582:\tlearn: 0.2648733\ttotal: 1.6s\tremaining: 1.15s\n",
      "583:\tlearn: 0.2645161\ttotal: 1.6s\tremaining: 1.14s\n",
      "584:\tlearn: 0.2643629\ttotal: 1.6s\tremaining: 1.14s\n",
      "585:\tlearn: 0.2640424\ttotal: 1.61s\tremaining: 1.14s\n",
      "586:\tlearn: 0.2639059\ttotal: 1.61s\tremaining: 1.13s\n",
      "587:\tlearn: 0.2635783\ttotal: 1.61s\tremaining: 1.13s\n",
      "588:\tlearn: 0.2633252\ttotal: 1.61s\tremaining: 1.13s\n",
      "589:\tlearn: 0.2631536\ttotal: 1.62s\tremaining: 1.12s\n",
      "590:\tlearn: 0.2629800\ttotal: 1.62s\tremaining: 1.12s\n",
      "591:\tlearn: 0.2626833\ttotal: 1.62s\tremaining: 1.12s\n",
      "592:\tlearn: 0.2624857\ttotal: 1.62s\tremaining: 1.11s\n",
      "593:\tlearn: 0.2622796\ttotal: 1.63s\tremaining: 1.11s\n",
      "594:\tlearn: 0.2619838\ttotal: 1.63s\tremaining: 1.11s\n",
      "595:\tlearn: 0.2618002\ttotal: 1.63s\tremaining: 1.1s\n",
      "596:\tlearn: 0.2615721\ttotal: 1.63s\tremaining: 1.1s\n",
      "597:\tlearn: 0.2615152\ttotal: 1.63s\tremaining: 1.1s\n",
      "598:\tlearn: 0.2613501\ttotal: 1.64s\tremaining: 1.09s\n",
      "599:\tlearn: 0.2611080\ttotal: 1.64s\tremaining: 1.09s\n",
      "600:\tlearn: 0.2609645\ttotal: 1.64s\tremaining: 1.09s\n",
      "601:\tlearn: 0.2606897\ttotal: 1.64s\tremaining: 1.09s\n",
      "602:\tlearn: 0.2602639\ttotal: 1.65s\tremaining: 1.08s\n",
      "603:\tlearn: 0.2599329\ttotal: 1.65s\tremaining: 1.08s\n",
      "604:\tlearn: 0.2597957\ttotal: 1.65s\tremaining: 1.08s\n",
      "605:\tlearn: 0.2595943\ttotal: 1.65s\tremaining: 1.07s\n",
      "606:\tlearn: 0.2593111\ttotal: 1.66s\tremaining: 1.07s\n",
      "607:\tlearn: 0.2591161\ttotal: 1.66s\tremaining: 1.07s\n",
      "608:\tlearn: 0.2588429\ttotal: 1.66s\tremaining: 1.06s\n",
      "609:\tlearn: 0.2586168\ttotal: 1.66s\tremaining: 1.06s\n",
      "610:\tlearn: 0.2583814\ttotal: 1.66s\tremaining: 1.06s\n",
      "611:\tlearn: 0.2582859\ttotal: 1.67s\tremaining: 1.06s\n",
      "612:\tlearn: 0.2581228\ttotal: 1.67s\tremaining: 1.05s\n",
      "613:\tlearn: 0.2576821\ttotal: 1.67s\tremaining: 1.05s\n",
      "614:\tlearn: 0.2573665\ttotal: 1.67s\tremaining: 1.05s\n",
      "615:\tlearn: 0.2571712\ttotal: 1.68s\tremaining: 1.04s\n",
      "616:\tlearn: 0.2569123\ttotal: 1.68s\tremaining: 1.04s\n",
      "617:\tlearn: 0.2567421\ttotal: 1.68s\tremaining: 1.04s\n",
      "618:\tlearn: 0.2565468\ttotal: 1.68s\tremaining: 1.04s\n",
      "619:\tlearn: 0.2560903\ttotal: 1.69s\tremaining: 1.03s\n",
      "620:\tlearn: 0.2558848\ttotal: 1.69s\tremaining: 1.03s\n",
      "621:\tlearn: 0.2557082\ttotal: 1.69s\tremaining: 1.03s\n",
      "622:\tlearn: 0.2555673\ttotal: 1.69s\tremaining: 1.02s\n",
      "623:\tlearn: 0.2553104\ttotal: 1.7s\tremaining: 1.02s\n",
      "624:\tlearn: 0.2551517\ttotal: 1.7s\tremaining: 1.02s\n",
      "625:\tlearn: 0.2548730\ttotal: 1.7s\tremaining: 1.02s\n",
      "626:\tlearn: 0.2547001\ttotal: 1.71s\tremaining: 1.01s\n",
      "627:\tlearn: 0.2545593\ttotal: 1.71s\tremaining: 1.01s\n",
      "628:\tlearn: 0.2543065\ttotal: 1.71s\tremaining: 1.01s\n",
      "629:\tlearn: 0.2541924\ttotal: 1.71s\tremaining: 1.01s\n",
      "630:\tlearn: 0.2540412\ttotal: 1.72s\tremaining: 1s\n",
      "631:\tlearn: 0.2540272\ttotal: 1.72s\tremaining: 1s\n",
      "632:\tlearn: 0.2538574\ttotal: 1.72s\tremaining: 998ms\n",
      "633:\tlearn: 0.2535445\ttotal: 1.73s\tremaining: 996ms\n",
      "634:\tlearn: 0.2533613\ttotal: 1.73s\tremaining: 994ms\n",
      "635:\tlearn: 0.2532291\ttotal: 1.73s\tremaining: 991ms\n",
      "636:\tlearn: 0.2529860\ttotal: 1.73s\tremaining: 988ms\n",
      "637:\tlearn: 0.2529107\ttotal: 1.74s\tremaining: 985ms\n",
      "638:\tlearn: 0.2528306\ttotal: 1.74s\tremaining: 982ms\n",
      "639:\tlearn: 0.2527318\ttotal: 1.74s\tremaining: 979ms\n",
      "640:\tlearn: 0.2526089\ttotal: 1.74s\tremaining: 977ms\n",
      "641:\tlearn: 0.2523294\ttotal: 1.75s\tremaining: 974ms\n",
      "642:\tlearn: 0.2521745\ttotal: 1.75s\tremaining: 971ms\n",
      "643:\tlearn: 0.2520903\ttotal: 1.75s\tremaining: 968ms\n",
      "644:\tlearn: 0.2518111\ttotal: 1.75s\tremaining: 965ms\n",
      "645:\tlearn: 0.2517013\ttotal: 1.75s\tremaining: 962ms\n",
      "646:\tlearn: 0.2513785\ttotal: 1.76s\tremaining: 959ms\n",
      "647:\tlearn: 0.2510264\ttotal: 1.76s\tremaining: 956ms\n",
      "648:\tlearn: 0.2509075\ttotal: 1.76s\tremaining: 953ms\n",
      "649:\tlearn: 0.2507789\ttotal: 1.76s\tremaining: 950ms\n",
      "650:\tlearn: 0.2505793\ttotal: 1.77s\tremaining: 947ms\n",
      "651:\tlearn: 0.2504598\ttotal: 1.77s\tremaining: 944ms\n",
      "652:\tlearn: 0.2502472\ttotal: 1.77s\tremaining: 941ms\n",
      "653:\tlearn: 0.2501631\ttotal: 1.77s\tremaining: 938ms\n",
      "654:\tlearn: 0.2500554\ttotal: 1.78s\tremaining: 936ms\n",
      "655:\tlearn: 0.2499953\ttotal: 1.78s\tremaining: 933ms\n",
      "656:\tlearn: 0.2497997\ttotal: 1.78s\tremaining: 930ms\n",
      "657:\tlearn: 0.2496228\ttotal: 1.78s\tremaining: 927ms\n",
      "658:\tlearn: 0.2493790\ttotal: 1.79s\tremaining: 924ms\n",
      "659:\tlearn: 0.2490870\ttotal: 1.79s\tremaining: 921ms\n",
      "660:\tlearn: 0.2489131\ttotal: 1.79s\tremaining: 918ms\n",
      "661:\tlearn: 0.2487822\ttotal: 1.79s\tremaining: 916ms\n",
      "662:\tlearn: 0.2486344\ttotal: 1.79s\tremaining: 913ms\n",
      "663:\tlearn: 0.2485112\ttotal: 1.8s\tremaining: 910ms\n",
      "664:\tlearn: 0.2483456\ttotal: 1.8s\tremaining: 907ms\n",
      "665:\tlearn: 0.2478812\ttotal: 1.8s\tremaining: 904ms\n",
      "666:\tlearn: 0.2477720\ttotal: 1.8s\tremaining: 901ms\n",
      "667:\tlearn: 0.2476856\ttotal: 1.81s\tremaining: 898ms\n",
      "668:\tlearn: 0.2473703\ttotal: 1.81s\tremaining: 895ms\n",
      "669:\tlearn: 0.2469242\ttotal: 1.81s\tremaining: 892ms\n",
      "670:\tlearn: 0.2468015\ttotal: 1.81s\tremaining: 889ms\n",
      "671:\tlearn: 0.2464829\ttotal: 1.81s\tremaining: 886ms\n",
      "672:\tlearn: 0.2462695\ttotal: 1.82s\tremaining: 883ms\n",
      "673:\tlearn: 0.2460049\ttotal: 1.82s\tremaining: 880ms\n",
      "674:\tlearn: 0.2459397\ttotal: 1.82s\tremaining: 877ms\n",
      "675:\tlearn: 0.2457831\ttotal: 1.82s\tremaining: 874ms\n",
      "676:\tlearn: 0.2456189\ttotal: 1.83s\tremaining: 871ms\n",
      "677:\tlearn: 0.2453592\ttotal: 1.83s\tremaining: 868ms\n",
      "678:\tlearn: 0.2450781\ttotal: 1.83s\tremaining: 865ms\n",
      "679:\tlearn: 0.2449079\ttotal: 1.83s\tremaining: 862ms\n",
      "680:\tlearn: 0.2447622\ttotal: 1.83s\tremaining: 860ms\n",
      "681:\tlearn: 0.2446009\ttotal: 1.84s\tremaining: 857ms\n",
      "682:\tlearn: 0.2444911\ttotal: 1.84s\tremaining: 854ms\n",
      "683:\tlearn: 0.2442647\ttotal: 1.84s\tremaining: 851ms\n",
      "684:\tlearn: 0.2439881\ttotal: 1.84s\tremaining: 848ms\n",
      "685:\tlearn: 0.2438743\ttotal: 1.84s\tremaining: 845ms\n",
      "686:\tlearn: 0.2436232\ttotal: 1.85s\tremaining: 842ms\n",
      "687:\tlearn: 0.2432542\ttotal: 1.85s\tremaining: 839ms\n",
      "688:\tlearn: 0.2430422\ttotal: 1.85s\tremaining: 836ms\n",
      "689:\tlearn: 0.2427875\ttotal: 1.85s\tremaining: 833ms\n",
      "690:\tlearn: 0.2426080\ttotal: 1.86s\tremaining: 830ms\n",
      "691:\tlearn: 0.2423995\ttotal: 1.86s\tremaining: 827ms\n",
      "692:\tlearn: 0.2422839\ttotal: 1.86s\tremaining: 824ms\n",
      "693:\tlearn: 0.2419745\ttotal: 1.86s\tremaining: 822ms\n",
      "694:\tlearn: 0.2419342\ttotal: 1.86s\tremaining: 819ms\n",
      "695:\tlearn: 0.2417488\ttotal: 1.87s\tremaining: 816ms\n",
      "696:\tlearn: 0.2416767\ttotal: 1.87s\tremaining: 813ms\n",
      "697:\tlearn: 0.2415790\ttotal: 1.87s\tremaining: 811ms\n",
      "698:\tlearn: 0.2412939\ttotal: 1.88s\tremaining: 808ms\n",
      "699:\tlearn: 0.2411213\ttotal: 1.88s\tremaining: 805ms\n",
      "700:\tlearn: 0.2408446\ttotal: 1.88s\tremaining: 802ms\n",
      "701:\tlearn: 0.2405587\ttotal: 1.88s\tremaining: 799ms\n",
      "702:\tlearn: 0.2403313\ttotal: 1.89s\tremaining: 797ms\n",
      "703:\tlearn: 0.2401492\ttotal: 1.89s\tremaining: 794ms\n",
      "704:\tlearn: 0.2398918\ttotal: 1.89s\tremaining: 791ms\n",
      "705:\tlearn: 0.2396047\ttotal: 1.89s\tremaining: 789ms\n",
      "706:\tlearn: 0.2395006\ttotal: 1.9s\tremaining: 786ms\n",
      "707:\tlearn: 0.2394055\ttotal: 1.9s\tremaining: 783ms\n",
      "708:\tlearn: 0.2392352\ttotal: 1.9s\tremaining: 781ms\n",
      "709:\tlearn: 0.2390019\ttotal: 1.9s\tremaining: 778ms\n",
      "710:\tlearn: 0.2388457\ttotal: 1.91s\tremaining: 775ms\n",
      "711:\tlearn: 0.2386594\ttotal: 1.91s\tremaining: 772ms\n",
      "712:\tlearn: 0.2385861\ttotal: 1.91s\tremaining: 770ms\n",
      "713:\tlearn: 0.2383764\ttotal: 1.91s\tremaining: 767ms\n",
      "714:\tlearn: 0.2382499\ttotal: 1.92s\tremaining: 764ms\n",
      "715:\tlearn: 0.2380496\ttotal: 1.92s\tremaining: 761ms\n",
      "716:\tlearn: 0.2377915\ttotal: 1.92s\tremaining: 759ms\n",
      "717:\tlearn: 0.2376989\ttotal: 1.92s\tremaining: 756ms\n",
      "718:\tlearn: 0.2375933\ttotal: 1.93s\tremaining: 753ms\n",
      "719:\tlearn: 0.2374398\ttotal: 1.93s\tremaining: 751ms\n",
      "720:\tlearn: 0.2372318\ttotal: 1.94s\tremaining: 749ms\n",
      "721:\tlearn: 0.2370847\ttotal: 1.94s\tremaining: 747ms\n",
      "722:\tlearn: 0.2367496\ttotal: 1.95s\tremaining: 746ms\n",
      "723:\tlearn: 0.2363787\ttotal: 1.95s\tremaining: 744ms\n",
      "724:\tlearn: 0.2362295\ttotal: 1.96s\tremaining: 742ms\n",
      "725:\tlearn: 0.2361886\ttotal: 1.97s\tremaining: 743ms\n",
      "726:\tlearn: 0.2360077\ttotal: 1.97s\tremaining: 741ms\n",
      "727:\tlearn: 0.2358936\ttotal: 1.99s\tremaining: 743ms\n",
      "728:\tlearn: 0.2357625\ttotal: 1.99s\tremaining: 741ms\n",
      "729:\tlearn: 0.2356657\ttotal: 2s\tremaining: 738ms\n",
      "730:\tlearn: 0.2355083\ttotal: 2s\tremaining: 736ms\n",
      "731:\tlearn: 0.2354345\ttotal: 2s\tremaining: 733ms\n",
      "732:\tlearn: 0.2353153\ttotal: 2s\tremaining: 730ms\n",
      "733:\tlearn: 0.2352290\ttotal: 2.01s\tremaining: 728ms\n",
      "734:\tlearn: 0.2351001\ttotal: 2.01s\tremaining: 725ms\n",
      "735:\tlearn: 0.2349968\ttotal: 2.01s\tremaining: 722ms\n",
      "736:\tlearn: 0.2349104\ttotal: 2.02s\tremaining: 722ms\n",
      "737:\tlearn: 0.2348057\ttotal: 2.02s\tremaining: 719ms\n",
      "738:\tlearn: 0.2346429\ttotal: 2.03s\tremaining: 716ms\n",
      "739:\tlearn: 0.2344062\ttotal: 2.03s\tremaining: 713ms\n",
      "740:\tlearn: 0.2343251\ttotal: 2.04s\tremaining: 712ms\n",
      "741:\tlearn: 0.2339286\ttotal: 2.04s\tremaining: 710ms\n",
      "742:\tlearn: 0.2337558\ttotal: 2.04s\tremaining: 708ms\n",
      "743:\tlearn: 0.2336824\ttotal: 2.05s\tremaining: 705ms\n",
      "744:\tlearn: 0.2336136\ttotal: 2.05s\tremaining: 702ms\n",
      "745:\tlearn: 0.2334585\ttotal: 2.05s\tremaining: 699ms\n",
      "746:\tlearn: 0.2330439\ttotal: 2.06s\tremaining: 697ms\n",
      "747:\tlearn: 0.2327640\ttotal: 2.06s\tremaining: 694ms\n",
      "748:\tlearn: 0.2325958\ttotal: 2.06s\tremaining: 691ms\n",
      "749:\tlearn: 0.2323885\ttotal: 2.06s\tremaining: 688ms\n",
      "750:\tlearn: 0.2321622\ttotal: 2.07s\tremaining: 685ms\n",
      "751:\tlearn: 0.2320129\ttotal: 2.07s\tremaining: 683ms\n",
      "752:\tlearn: 0.2319447\ttotal: 2.07s\tremaining: 680ms\n",
      "753:\tlearn: 0.2318012\ttotal: 2.07s\tremaining: 677ms\n",
      "754:\tlearn: 0.2316776\ttotal: 2.08s\tremaining: 674ms\n",
      "755:\tlearn: 0.2315503\ttotal: 2.08s\tremaining: 671ms\n",
      "756:\tlearn: 0.2313964\ttotal: 2.08s\tremaining: 668ms\n",
      "757:\tlearn: 0.2313403\ttotal: 2.08s\tremaining: 665ms\n",
      "758:\tlearn: 0.2311582\ttotal: 2.09s\tremaining: 663ms\n",
      "759:\tlearn: 0.2309643\ttotal: 2.09s\tremaining: 660ms\n",
      "760:\tlearn: 0.2308683\ttotal: 2.09s\tremaining: 657ms\n",
      "761:\tlearn: 0.2306519\ttotal: 2.09s\tremaining: 654ms\n",
      "762:\tlearn: 0.2304512\ttotal: 2.1s\tremaining: 651ms\n",
      "763:\tlearn: 0.2303585\ttotal: 2.1s\tremaining: 648ms\n",
      "764:\tlearn: 0.2301186\ttotal: 2.1s\tremaining: 645ms\n",
      "765:\tlearn: 0.2299520\ttotal: 2.1s\tremaining: 643ms\n",
      "766:\tlearn: 0.2298211\ttotal: 2.1s\tremaining: 640ms\n",
      "767:\tlearn: 0.2296461\ttotal: 2.11s\tremaining: 637ms\n",
      "768:\tlearn: 0.2294316\ttotal: 2.11s\tremaining: 634ms\n",
      "769:\tlearn: 0.2292530\ttotal: 2.11s\tremaining: 631ms\n",
      "770:\tlearn: 0.2290728\ttotal: 2.11s\tremaining: 628ms\n",
      "771:\tlearn: 0.2288433\ttotal: 2.12s\tremaining: 625ms\n",
      "772:\tlearn: 0.2287000\ttotal: 2.12s\tremaining: 622ms\n",
      "773:\tlearn: 0.2284832\ttotal: 2.12s\tremaining: 620ms\n",
      "774:\tlearn: 0.2283585\ttotal: 2.12s\tremaining: 617ms\n",
      "775:\tlearn: 0.2282229\ttotal: 2.13s\tremaining: 614ms\n",
      "776:\tlearn: 0.2281303\ttotal: 2.13s\tremaining: 611ms\n",
      "777:\tlearn: 0.2279449\ttotal: 2.13s\tremaining: 608ms\n",
      "778:\tlearn: 0.2277649\ttotal: 2.13s\tremaining: 605ms\n",
      "779:\tlearn: 0.2276696\ttotal: 2.14s\tremaining: 603ms\n",
      "780:\tlearn: 0.2274767\ttotal: 2.14s\tremaining: 600ms\n",
      "781:\tlearn: 0.2272327\ttotal: 2.14s\tremaining: 597ms\n",
      "782:\tlearn: 0.2270917\ttotal: 2.14s\tremaining: 594ms\n",
      "783:\tlearn: 0.2269343\ttotal: 2.15s\tremaining: 591ms\n",
      "784:\tlearn: 0.2266742\ttotal: 2.15s\tremaining: 588ms\n",
      "785:\tlearn: 0.2264986\ttotal: 2.15s\tremaining: 586ms\n",
      "786:\tlearn: 0.2263188\ttotal: 2.15s\tremaining: 583ms\n",
      "787:\tlearn: 0.2261086\ttotal: 2.16s\tremaining: 580ms\n",
      "788:\tlearn: 0.2258824\ttotal: 2.16s\tremaining: 577ms\n",
      "789:\tlearn: 0.2256495\ttotal: 2.16s\tremaining: 574ms\n",
      "790:\tlearn: 0.2253640\ttotal: 2.16s\tremaining: 572ms\n",
      "791:\tlearn: 0.2253015\ttotal: 2.17s\tremaining: 569ms\n",
      "792:\tlearn: 0.2251932\ttotal: 2.17s\tremaining: 566ms\n",
      "793:\tlearn: 0.2250610\ttotal: 2.17s\tremaining: 563ms\n",
      "794:\tlearn: 0.2249378\ttotal: 2.17s\tremaining: 560ms\n",
      "795:\tlearn: 0.2247418\ttotal: 2.17s\tremaining: 557ms\n",
      "796:\tlearn: 0.2243590\ttotal: 2.18s\tremaining: 554ms\n",
      "797:\tlearn: 0.2241881\ttotal: 2.18s\tremaining: 552ms\n",
      "798:\tlearn: 0.2239846\ttotal: 2.18s\tremaining: 549ms\n",
      "799:\tlearn: 0.2238098\ttotal: 2.18s\tremaining: 546ms\n",
      "800:\tlearn: 0.2237013\ttotal: 2.19s\tremaining: 543ms\n",
      "801:\tlearn: 0.2235843\ttotal: 2.19s\tremaining: 540ms\n",
      "802:\tlearn: 0.2234171\ttotal: 2.19s\tremaining: 537ms\n",
      "803:\tlearn: 0.2232202\ttotal: 2.19s\tremaining: 534ms\n",
      "804:\tlearn: 0.2230832\ttotal: 2.19s\tremaining: 532ms\n",
      "805:\tlearn: 0.2229630\ttotal: 2.2s\tremaining: 529ms\n",
      "806:\tlearn: 0.2227556\ttotal: 2.2s\tremaining: 526ms\n",
      "807:\tlearn: 0.2225513\ttotal: 2.2s\tremaining: 523ms\n",
      "808:\tlearn: 0.2224407\ttotal: 2.2s\tremaining: 520ms\n",
      "809:\tlearn: 0.2223815\ttotal: 2.21s\tremaining: 517ms\n",
      "810:\tlearn: 0.2221158\ttotal: 2.21s\tremaining: 514ms\n",
      "811:\tlearn: 0.2218880\ttotal: 2.21s\tremaining: 512ms\n",
      "812:\tlearn: 0.2217191\ttotal: 2.21s\tremaining: 509ms\n",
      "813:\tlearn: 0.2216216\ttotal: 2.21s\tremaining: 506ms\n",
      "814:\tlearn: 0.2214471\ttotal: 2.22s\tremaining: 503ms\n",
      "815:\tlearn: 0.2212460\ttotal: 2.22s\tremaining: 500ms\n",
      "816:\tlearn: 0.2210716\ttotal: 2.22s\tremaining: 497ms\n",
      "817:\tlearn: 0.2207700\ttotal: 2.22s\tremaining: 495ms\n",
      "818:\tlearn: 0.2206518\ttotal: 2.22s\tremaining: 492ms\n",
      "819:\tlearn: 0.2205547\ttotal: 2.23s\tremaining: 489ms\n",
      "820:\tlearn: 0.2202621\ttotal: 2.23s\tremaining: 486ms\n",
      "821:\tlearn: 0.2200709\ttotal: 2.23s\tremaining: 483ms\n",
      "822:\tlearn: 0.2199827\ttotal: 2.23s\tremaining: 480ms\n",
      "823:\tlearn: 0.2198117\ttotal: 2.23s\tremaining: 478ms\n",
      "824:\tlearn: 0.2196338\ttotal: 2.24s\tremaining: 475ms\n",
      "825:\tlearn: 0.2193833\ttotal: 2.24s\tremaining: 472ms\n",
      "826:\tlearn: 0.2191040\ttotal: 2.24s\tremaining: 469ms\n",
      "827:\tlearn: 0.2188188\ttotal: 2.24s\tremaining: 466ms\n",
      "828:\tlearn: 0.2186232\ttotal: 2.25s\tremaining: 463ms\n",
      "829:\tlearn: 0.2184637\ttotal: 2.25s\tremaining: 461ms\n",
      "830:\tlearn: 0.2183447\ttotal: 2.25s\tremaining: 458ms\n",
      "831:\tlearn: 0.2181185\ttotal: 2.25s\tremaining: 455ms\n",
      "832:\tlearn: 0.2179230\ttotal: 2.25s\tremaining: 452ms\n",
      "833:\tlearn: 0.2177289\ttotal: 2.26s\tremaining: 449ms\n",
      "834:\tlearn: 0.2174576\ttotal: 2.26s\tremaining: 446ms\n",
      "835:\tlearn: 0.2173258\ttotal: 2.26s\tremaining: 444ms\n",
      "836:\tlearn: 0.2171739\ttotal: 2.26s\tremaining: 441ms\n",
      "837:\tlearn: 0.2169270\ttotal: 2.27s\tremaining: 438ms\n",
      "838:\tlearn: 0.2166864\ttotal: 2.27s\tremaining: 435ms\n",
      "839:\tlearn: 0.2164157\ttotal: 2.27s\tremaining: 432ms\n",
      "840:\tlearn: 0.2163378\ttotal: 2.27s\tremaining: 429ms\n",
      "841:\tlearn: 0.2162199\ttotal: 2.27s\tremaining: 427ms\n",
      "842:\tlearn: 0.2158899\ttotal: 2.27s\tremaining: 424ms\n",
      "843:\tlearn: 0.2158699\ttotal: 2.28s\tremaining: 421ms\n",
      "844:\tlearn: 0.2157586\ttotal: 2.28s\tremaining: 418ms\n",
      "845:\tlearn: 0.2155410\ttotal: 2.28s\tremaining: 416ms\n",
      "846:\tlearn: 0.2153727\ttotal: 2.28s\tremaining: 413ms\n",
      "847:\tlearn: 0.2151920\ttotal: 2.29s\tremaining: 410ms\n",
      "848:\tlearn: 0.2148853\ttotal: 2.29s\tremaining: 407ms\n",
      "849:\tlearn: 0.2148101\ttotal: 2.29s\tremaining: 404ms\n",
      "850:\tlearn: 0.2146415\ttotal: 2.29s\tremaining: 402ms\n",
      "851:\tlearn: 0.2144046\ttotal: 2.29s\tremaining: 399ms\n",
      "852:\tlearn: 0.2143299\ttotal: 2.3s\tremaining: 396ms\n",
      "853:\tlearn: 0.2141792\ttotal: 2.3s\tremaining: 393ms\n",
      "854:\tlearn: 0.2141206\ttotal: 2.3s\tremaining: 390ms\n",
      "855:\tlearn: 0.2139337\ttotal: 2.3s\tremaining: 388ms\n",
      "856:\tlearn: 0.2136557\ttotal: 2.31s\tremaining: 385ms\n",
      "857:\tlearn: 0.2134691\ttotal: 2.31s\tremaining: 382ms\n",
      "858:\tlearn: 0.2132437\ttotal: 2.31s\tremaining: 379ms\n",
      "859:\tlearn: 0.2130466\ttotal: 2.31s\tremaining: 377ms\n",
      "860:\tlearn: 0.2129277\ttotal: 2.31s\tremaining: 374ms\n",
      "861:\tlearn: 0.2125050\ttotal: 2.32s\tremaining: 371ms\n",
      "862:\tlearn: 0.2122203\ttotal: 2.32s\tremaining: 368ms\n",
      "863:\tlearn: 0.2121312\ttotal: 2.32s\tremaining: 366ms\n",
      "864:\tlearn: 0.2120307\ttotal: 2.33s\tremaining: 363ms\n",
      "865:\tlearn: 0.2118465\ttotal: 2.33s\tremaining: 360ms\n",
      "866:\tlearn: 0.2117302\ttotal: 2.33s\tremaining: 357ms\n",
      "867:\tlearn: 0.2114227\ttotal: 2.33s\tremaining: 355ms\n",
      "868:\tlearn: 0.2113260\ttotal: 2.33s\tremaining: 352ms\n",
      "869:\tlearn: 0.2111942\ttotal: 2.34s\tremaining: 349ms\n",
      "870:\tlearn: 0.2110035\ttotal: 2.34s\tremaining: 346ms\n",
      "871:\tlearn: 0.2107816\ttotal: 2.34s\tremaining: 344ms\n",
      "872:\tlearn: 0.2104724\ttotal: 2.34s\tremaining: 341ms\n",
      "873:\tlearn: 0.2102684\ttotal: 2.35s\tremaining: 338ms\n",
      "874:\tlearn: 0.2101032\ttotal: 2.35s\tremaining: 335ms\n",
      "875:\tlearn: 0.2099989\ttotal: 2.35s\tremaining: 333ms\n",
      "876:\tlearn: 0.2099035\ttotal: 2.35s\tremaining: 330ms\n",
      "877:\tlearn: 0.2097173\ttotal: 2.35s\tremaining: 327ms\n",
      "878:\tlearn: 0.2095486\ttotal: 2.36s\tremaining: 325ms\n",
      "879:\tlearn: 0.2093830\ttotal: 2.36s\tremaining: 322ms\n",
      "880:\tlearn: 0.2092829\ttotal: 2.36s\tremaining: 319ms\n",
      "881:\tlearn: 0.2089713\ttotal: 2.36s\tremaining: 316ms\n",
      "882:\tlearn: 0.2087959\ttotal: 2.37s\tremaining: 314ms\n",
      "883:\tlearn: 0.2087119\ttotal: 2.37s\tremaining: 311ms\n",
      "884:\tlearn: 0.2086137\ttotal: 2.37s\tremaining: 308ms\n",
      "885:\tlearn: 0.2084851\ttotal: 2.37s\tremaining: 305ms\n",
      "886:\tlearn: 0.2082519\ttotal: 2.37s\tremaining: 303ms\n",
      "887:\tlearn: 0.2082281\ttotal: 2.38s\tremaining: 300ms\n",
      "888:\tlearn: 0.2080446\ttotal: 2.38s\tremaining: 297ms\n",
      "889:\tlearn: 0.2079331\ttotal: 2.38s\tremaining: 294ms\n",
      "890:\tlearn: 0.2076840\ttotal: 2.38s\tremaining: 292ms\n",
      "891:\tlearn: 0.2074361\ttotal: 2.38s\tremaining: 289ms\n",
      "892:\tlearn: 0.2072691\ttotal: 2.39s\tremaining: 286ms\n",
      "893:\tlearn: 0.2071863\ttotal: 2.39s\tremaining: 283ms\n",
      "894:\tlearn: 0.2070482\ttotal: 2.39s\tremaining: 281ms\n",
      "895:\tlearn: 0.2068719\ttotal: 2.39s\tremaining: 278ms\n",
      "896:\tlearn: 0.2068010\ttotal: 2.4s\tremaining: 275ms\n",
      "897:\tlearn: 0.2066289\ttotal: 2.4s\tremaining: 272ms\n",
      "898:\tlearn: 0.2065124\ttotal: 2.4s\tremaining: 270ms\n",
      "899:\tlearn: 0.2063746\ttotal: 2.4s\tremaining: 267ms\n",
      "900:\tlearn: 0.2060329\ttotal: 2.4s\tremaining: 264ms\n",
      "901:\tlearn: 0.2059134\ttotal: 2.41s\tremaining: 262ms\n",
      "902:\tlearn: 0.2056670\ttotal: 2.41s\tremaining: 259ms\n",
      "903:\tlearn: 0.2055800\ttotal: 2.41s\tremaining: 256ms\n",
      "904:\tlearn: 0.2054935\ttotal: 2.41s\tremaining: 253ms\n",
      "905:\tlearn: 0.2054216\ttotal: 2.42s\tremaining: 251ms\n",
      "906:\tlearn: 0.2053141\ttotal: 2.42s\tremaining: 248ms\n",
      "907:\tlearn: 0.2051578\ttotal: 2.42s\tremaining: 245ms\n",
      "908:\tlearn: 0.2051277\ttotal: 2.42s\tremaining: 243ms\n",
      "909:\tlearn: 0.2049773\ttotal: 2.42s\tremaining: 240ms\n",
      "910:\tlearn: 0.2049041\ttotal: 2.43s\tremaining: 237ms\n",
      "911:\tlearn: 0.2048033\ttotal: 2.43s\tremaining: 234ms\n",
      "912:\tlearn: 0.2046646\ttotal: 2.43s\tremaining: 232ms\n",
      "913:\tlearn: 0.2045087\ttotal: 2.43s\tremaining: 229ms\n",
      "914:\tlearn: 0.2043556\ttotal: 2.44s\tremaining: 226ms\n",
      "915:\tlearn: 0.2042029\ttotal: 2.44s\tremaining: 223ms\n",
      "916:\tlearn: 0.2041374\ttotal: 2.44s\tremaining: 221ms\n",
      "917:\tlearn: 0.2039668\ttotal: 2.44s\tremaining: 218ms\n",
      "918:\tlearn: 0.2038225\ttotal: 2.44s\tremaining: 215ms\n",
      "919:\tlearn: 0.2037351\ttotal: 2.44s\tremaining: 213ms\n",
      "920:\tlearn: 0.2035562\ttotal: 2.45s\tremaining: 210ms\n",
      "921:\tlearn: 0.2033158\ttotal: 2.45s\tremaining: 207ms\n",
      "922:\tlearn: 0.2031272\ttotal: 2.45s\tremaining: 205ms\n",
      "923:\tlearn: 0.2028653\ttotal: 2.45s\tremaining: 202ms\n",
      "924:\tlearn: 0.2027730\ttotal: 2.46s\tremaining: 199ms\n",
      "925:\tlearn: 0.2025642\ttotal: 2.46s\tremaining: 196ms\n",
      "926:\tlearn: 0.2025182\ttotal: 2.46s\tremaining: 194ms\n",
      "927:\tlearn: 0.2023242\ttotal: 2.46s\tremaining: 191ms\n",
      "928:\tlearn: 0.2021505\ttotal: 2.46s\tremaining: 188ms\n",
      "929:\tlearn: 0.2019405\ttotal: 2.47s\tremaining: 186ms\n",
      "930:\tlearn: 0.2018581\ttotal: 2.47s\tremaining: 183ms\n",
      "931:\tlearn: 0.2015040\ttotal: 2.47s\tremaining: 180ms\n",
      "932:\tlearn: 0.2012963\ttotal: 2.47s\tremaining: 178ms\n",
      "933:\tlearn: 0.2011157\ttotal: 2.48s\tremaining: 175ms\n",
      "934:\tlearn: 0.2010048\ttotal: 2.48s\tremaining: 172ms\n",
      "935:\tlearn: 0.2008797\ttotal: 2.48s\tremaining: 170ms\n",
      "936:\tlearn: 0.2006119\ttotal: 2.48s\tremaining: 167ms\n",
      "937:\tlearn: 0.2003997\ttotal: 2.48s\tremaining: 164ms\n",
      "938:\tlearn: 0.2002994\ttotal: 2.49s\tremaining: 162ms\n",
      "939:\tlearn: 0.2001781\ttotal: 2.49s\tremaining: 159ms\n",
      "940:\tlearn: 0.2001108\ttotal: 2.49s\tremaining: 156ms\n",
      "941:\tlearn: 0.1998029\ttotal: 2.5s\tremaining: 154ms\n",
      "942:\tlearn: 0.1996730\ttotal: 2.5s\tremaining: 151ms\n",
      "943:\tlearn: 0.1996001\ttotal: 2.5s\tremaining: 148ms\n",
      "944:\tlearn: 0.1995043\ttotal: 2.5s\tremaining: 146ms\n",
      "945:\tlearn: 0.1993791\ttotal: 2.5s\tremaining: 143ms\n",
      "946:\tlearn: 0.1993067\ttotal: 2.51s\tremaining: 140ms\n",
      "947:\tlearn: 0.1991825\ttotal: 2.51s\tremaining: 138ms\n",
      "948:\tlearn: 0.1991477\ttotal: 2.51s\tremaining: 135ms\n",
      "949:\tlearn: 0.1989893\ttotal: 2.51s\tremaining: 132ms\n",
      "950:\tlearn: 0.1989476\ttotal: 2.52s\tremaining: 130ms\n",
      "951:\tlearn: 0.1988571\ttotal: 2.52s\tremaining: 127ms\n",
      "952:\tlearn: 0.1987463\ttotal: 2.52s\tremaining: 124ms\n",
      "953:\tlearn: 0.1985914\ttotal: 2.52s\tremaining: 122ms\n",
      "954:\tlearn: 0.1984601\ttotal: 2.53s\tremaining: 119ms\n",
      "955:\tlearn: 0.1983558\ttotal: 2.53s\tremaining: 116ms\n",
      "956:\tlearn: 0.1981887\ttotal: 2.53s\tremaining: 114ms\n",
      "957:\tlearn: 0.1979755\ttotal: 2.53s\tremaining: 111ms\n",
      "958:\tlearn: 0.1978122\ttotal: 2.54s\tremaining: 108ms\n",
      "959:\tlearn: 0.1976791\ttotal: 2.54s\tremaining: 106ms\n",
      "960:\tlearn: 0.1976331\ttotal: 2.54s\tremaining: 103ms\n",
      "961:\tlearn: 0.1974878\ttotal: 2.54s\tremaining: 101ms\n",
      "962:\tlearn: 0.1973825\ttotal: 2.55s\tremaining: 97.9ms\n",
      "963:\tlearn: 0.1973230\ttotal: 2.55s\tremaining: 95.2ms\n",
      "964:\tlearn: 0.1970565\ttotal: 2.55s\tremaining: 92.6ms\n",
      "965:\tlearn: 0.1969765\ttotal: 2.56s\tremaining: 89.9ms\n",
      "966:\tlearn: 0.1967186\ttotal: 2.56s\tremaining: 87.3ms\n",
      "967:\tlearn: 0.1965649\ttotal: 2.56s\tremaining: 84.6ms\n",
      "968:\tlearn: 0.1964461\ttotal: 2.56s\tremaining: 82ms\n",
      "969:\tlearn: 0.1962676\ttotal: 2.56s\tremaining: 79.3ms\n",
      "970:\tlearn: 0.1961347\ttotal: 2.57s\tremaining: 76.7ms\n",
      "971:\tlearn: 0.1960023\ttotal: 2.57s\tremaining: 74ms\n",
      "972:\tlearn: 0.1958286\ttotal: 2.57s\tremaining: 71.4ms\n",
      "973:\tlearn: 0.1956880\ttotal: 2.58s\tremaining: 68.7ms\n",
      "974:\tlearn: 0.1955273\ttotal: 2.58s\tremaining: 66.1ms\n",
      "975:\tlearn: 0.1954718\ttotal: 2.58s\tremaining: 63.4ms\n",
      "976:\tlearn: 0.1954058\ttotal: 2.58s\tremaining: 60.8ms\n",
      "977:\tlearn: 0.1953148\ttotal: 2.58s\tremaining: 58.1ms\n",
      "978:\tlearn: 0.1951338\ttotal: 2.59s\tremaining: 55.5ms\n",
      "979:\tlearn: 0.1950429\ttotal: 2.59s\tremaining: 52.9ms\n",
      "980:\tlearn: 0.1950004\ttotal: 2.59s\tremaining: 50.2ms\n",
      "981:\tlearn: 0.1948226\ttotal: 2.6s\tremaining: 47.6ms\n",
      "982:\tlearn: 0.1946439\ttotal: 2.6s\tremaining: 44.9ms\n",
      "983:\tlearn: 0.1945826\ttotal: 2.6s\tremaining: 42.3ms\n",
      "984:\tlearn: 0.1944658\ttotal: 2.6s\tremaining: 39.6ms\n",
      "985:\tlearn: 0.1943315\ttotal: 2.61s\tremaining: 37ms\n",
      "986:\tlearn: 0.1941699\ttotal: 2.61s\tremaining: 34.4ms\n",
      "987:\tlearn: 0.1939214\ttotal: 2.61s\tremaining: 31.7ms\n",
      "988:\tlearn: 0.1937600\ttotal: 2.61s\tremaining: 29.1ms\n",
      "989:\tlearn: 0.1936543\ttotal: 2.62s\tremaining: 26.4ms\n",
      "990:\tlearn: 0.1935242\ttotal: 2.62s\tremaining: 23.8ms\n",
      "991:\tlearn: 0.1933722\ttotal: 2.62s\tremaining: 21.2ms\n",
      "992:\tlearn: 0.1932137\ttotal: 2.63s\tremaining: 18.5ms\n",
      "993:\tlearn: 0.1931190\ttotal: 2.63s\tremaining: 15.9ms\n",
      "994:\tlearn: 0.1930025\ttotal: 2.63s\tremaining: 13.2ms\n",
      "995:\tlearn: 0.1929036\ttotal: 2.63s\tremaining: 10.6ms\n",
      "996:\tlearn: 0.1927199\ttotal: 2.64s\tremaining: 7.93ms\n",
      "997:\tlearn: 0.1927060\ttotal: 2.64s\tremaining: 5.29ms\n",
      "998:\tlearn: 0.1926449\ttotal: 2.64s\tremaining: 2.64ms\n",
      "999:\tlearn: 0.1925922\ttotal: 2.64s\tremaining: 0us\n"
     ]
    }
   ],
   "source": [
    "cat_model = CatBoostClassifier().fit(X_train, y_train)"
   ]
  },
  {
   "cell_type": "code",
   "execution_count": 298,
   "metadata": {
    "tags": []
   },
   "outputs": [
    {
     "data": {
      "text/plain": [
       "0.7402597402597403"
      ]
     },
     "execution_count": 298,
     "metadata": {},
     "output_type": "execute_result"
    }
   ],
   "source": [
    "y_pred = cat_model.predict(X_test)\n",
    "accuracy_score(y_test, y_pred)"
   ]
  },
  {
   "cell_type": "code",
   "execution_count": 290,
   "metadata": {
    "tags": []
   },
   "outputs": [],
   "source": [
    "## Model Optimization & Fine-Tuning\n"
   ]
  },
  {
   "cell_type": "code",
   "execution_count": 299,
   "metadata": {
    "tags": []
   },
   "outputs": [],
   "source": [
    "catb_params = {\n",
    "    'iterations': [200,500],\n",
    "    'learning_rate': [0.01,0.05, 0.1],\n",
    "    'depth': [3,5,8] }"
   ]
  },
  {
   "cell_type": "code",
   "execution_count": 300,
   "metadata": {
    "collapsed": true,
    "jupyter": {
     "outputs_hidden": true
    },
    "tags": []
   },
   "outputs": [
    {
     "name": "stdout",
     "output_type": "stream",
     "text": [
      "Fitting 5 folds for each of 18 candidates, totalling 90 fits\n"
     ]
    },
    {
     "ename": "KeyboardInterrupt",
     "evalue": "",
     "output_type": "error",
     "traceback": [
      "\u001b[1;31m---------------------------------------------------------------------------\u001b[0m",
      "\u001b[1;31mKeyboardInterrupt\u001b[0m                         Traceback (most recent call last)",
      "Cell \u001b[1;32mIn[300], line 3\u001b[0m\n\u001b[0;32m      1\u001b[0m catb \u001b[38;5;241m=\u001b[39m CatBoostClassifier()\n\u001b[0;32m      2\u001b[0m catb_cv_model \u001b[38;5;241m=\u001b[39m GridSearchCV(catb, catb_params, cv\u001b[38;5;241m=\u001b[39m\u001b[38;5;241m5\u001b[39m, n_jobs \u001b[38;5;241m=\u001b[39m \u001b[38;5;241m-\u001b[39m\u001b[38;5;241m1\u001b[39m, verbose \u001b[38;5;241m=\u001b[39m \u001b[38;5;241m2\u001b[39m)\n\u001b[1;32m----> 3\u001b[0m catb_cv_model\u001b[38;5;241m.\u001b[39mfit(X_train, y_train)\n\u001b[0;32m      4\u001b[0m catb_cv_model\u001b[38;5;241m.\u001b[39mbest_params_\n",
      "File \u001b[1;32m~\\.conda\\Lib\\site-packages\\sklearn\\base.py:1151\u001b[0m, in \u001b[0;36m_fit_context.<locals>.decorator.<locals>.wrapper\u001b[1;34m(estimator, *args, **kwargs)\u001b[0m\n\u001b[0;32m   1144\u001b[0m     estimator\u001b[38;5;241m.\u001b[39m_validate_params()\n\u001b[0;32m   1146\u001b[0m \u001b[38;5;28;01mwith\u001b[39;00m config_context(\n\u001b[0;32m   1147\u001b[0m     skip_parameter_validation\u001b[38;5;241m=\u001b[39m(\n\u001b[0;32m   1148\u001b[0m         prefer_skip_nested_validation \u001b[38;5;129;01mor\u001b[39;00m global_skip_validation\n\u001b[0;32m   1149\u001b[0m     )\n\u001b[0;32m   1150\u001b[0m ):\n\u001b[1;32m-> 1151\u001b[0m     \u001b[38;5;28;01mreturn\u001b[39;00m fit_method(estimator, \u001b[38;5;241m*\u001b[39margs, \u001b[38;5;241m*\u001b[39m\u001b[38;5;241m*\u001b[39mkwargs)\n",
      "File \u001b[1;32m~\\.conda\\Lib\\site-packages\\sklearn\\model_selection\\_search.py:898\u001b[0m, in \u001b[0;36mBaseSearchCV.fit\u001b[1;34m(self, X, y, groups, **fit_params)\u001b[0m\n\u001b[0;32m    892\u001b[0m     results \u001b[38;5;241m=\u001b[39m \u001b[38;5;28mself\u001b[39m\u001b[38;5;241m.\u001b[39m_format_results(\n\u001b[0;32m    893\u001b[0m         all_candidate_params, n_splits, all_out, all_more_results\n\u001b[0;32m    894\u001b[0m     )\n\u001b[0;32m    896\u001b[0m     \u001b[38;5;28;01mreturn\u001b[39;00m results\n\u001b[1;32m--> 898\u001b[0m \u001b[38;5;28mself\u001b[39m\u001b[38;5;241m.\u001b[39m_run_search(evaluate_candidates)\n\u001b[0;32m    900\u001b[0m \u001b[38;5;66;03m# multimetric is determined here because in the case of a callable\u001b[39;00m\n\u001b[0;32m    901\u001b[0m \u001b[38;5;66;03m# self.scoring the return type is only known after calling\u001b[39;00m\n\u001b[0;32m    902\u001b[0m first_test_score \u001b[38;5;241m=\u001b[39m all_out[\u001b[38;5;241m0\u001b[39m][\u001b[38;5;124m\"\u001b[39m\u001b[38;5;124mtest_scores\u001b[39m\u001b[38;5;124m\"\u001b[39m]\n",
      "File \u001b[1;32m~\\.conda\\Lib\\site-packages\\sklearn\\model_selection\\_search.py:1419\u001b[0m, in \u001b[0;36mGridSearchCV._run_search\u001b[1;34m(self, evaluate_candidates)\u001b[0m\n\u001b[0;32m   1417\u001b[0m \u001b[38;5;28;01mdef\u001b[39;00m \u001b[38;5;21m_run_search\u001b[39m(\u001b[38;5;28mself\u001b[39m, evaluate_candidates):\n\u001b[0;32m   1418\u001b[0m \u001b[38;5;250m    \u001b[39m\u001b[38;5;124;03m\"\"\"Search all candidates in param_grid\"\"\"\u001b[39;00m\n\u001b[1;32m-> 1419\u001b[0m     evaluate_candidates(ParameterGrid(\u001b[38;5;28mself\u001b[39m\u001b[38;5;241m.\u001b[39mparam_grid))\n",
      "File \u001b[1;32m~\\.conda\\Lib\\site-packages\\sklearn\\model_selection\\_search.py:845\u001b[0m, in \u001b[0;36mBaseSearchCV.fit.<locals>.evaluate_candidates\u001b[1;34m(candidate_params, cv, more_results)\u001b[0m\n\u001b[0;32m    837\u001b[0m \u001b[38;5;28;01mif\u001b[39;00m \u001b[38;5;28mself\u001b[39m\u001b[38;5;241m.\u001b[39mverbose \u001b[38;5;241m>\u001b[39m \u001b[38;5;241m0\u001b[39m:\n\u001b[0;32m    838\u001b[0m     \u001b[38;5;28mprint\u001b[39m(\n\u001b[0;32m    839\u001b[0m         \u001b[38;5;124m\"\u001b[39m\u001b[38;5;124mFitting \u001b[39m\u001b[38;5;132;01m{0}\u001b[39;00m\u001b[38;5;124m folds for each of \u001b[39m\u001b[38;5;132;01m{1}\u001b[39;00m\u001b[38;5;124m candidates,\u001b[39m\u001b[38;5;124m\"\u001b[39m\n\u001b[0;32m    840\u001b[0m         \u001b[38;5;124m\"\u001b[39m\u001b[38;5;124m totalling \u001b[39m\u001b[38;5;132;01m{2}\u001b[39;00m\u001b[38;5;124m fits\u001b[39m\u001b[38;5;124m\"\u001b[39m\u001b[38;5;241m.\u001b[39mformat(\n\u001b[0;32m    841\u001b[0m             n_splits, n_candidates, n_candidates \u001b[38;5;241m*\u001b[39m n_splits\n\u001b[0;32m    842\u001b[0m         )\n\u001b[0;32m    843\u001b[0m     )\n\u001b[1;32m--> 845\u001b[0m out \u001b[38;5;241m=\u001b[39m parallel(\n\u001b[0;32m    846\u001b[0m     delayed(_fit_and_score)(\n\u001b[0;32m    847\u001b[0m         clone(base_estimator),\n\u001b[0;32m    848\u001b[0m         X,\n\u001b[0;32m    849\u001b[0m         y,\n\u001b[0;32m    850\u001b[0m         train\u001b[38;5;241m=\u001b[39mtrain,\n\u001b[0;32m    851\u001b[0m         test\u001b[38;5;241m=\u001b[39mtest,\n\u001b[0;32m    852\u001b[0m         parameters\u001b[38;5;241m=\u001b[39mparameters,\n\u001b[0;32m    853\u001b[0m         split_progress\u001b[38;5;241m=\u001b[39m(split_idx, n_splits),\n\u001b[0;32m    854\u001b[0m         candidate_progress\u001b[38;5;241m=\u001b[39m(cand_idx, n_candidates),\n\u001b[0;32m    855\u001b[0m         \u001b[38;5;241m*\u001b[39m\u001b[38;5;241m*\u001b[39mfit_and_score_kwargs,\n\u001b[0;32m    856\u001b[0m     )\n\u001b[0;32m    857\u001b[0m     \u001b[38;5;28;01mfor\u001b[39;00m (cand_idx, parameters), (split_idx, (train, test)) \u001b[38;5;129;01min\u001b[39;00m product(\n\u001b[0;32m    858\u001b[0m         \u001b[38;5;28menumerate\u001b[39m(candidate_params), \u001b[38;5;28menumerate\u001b[39m(cv\u001b[38;5;241m.\u001b[39msplit(X, y, groups))\n\u001b[0;32m    859\u001b[0m     )\n\u001b[0;32m    860\u001b[0m )\n\u001b[0;32m    862\u001b[0m \u001b[38;5;28;01mif\u001b[39;00m \u001b[38;5;28mlen\u001b[39m(out) \u001b[38;5;241m<\u001b[39m \u001b[38;5;241m1\u001b[39m:\n\u001b[0;32m    863\u001b[0m     \u001b[38;5;28;01mraise\u001b[39;00m \u001b[38;5;167;01mValueError\u001b[39;00m(\n\u001b[0;32m    864\u001b[0m         \u001b[38;5;124m\"\u001b[39m\u001b[38;5;124mNo fits were performed. \u001b[39m\u001b[38;5;124m\"\u001b[39m\n\u001b[0;32m    865\u001b[0m         \u001b[38;5;124m\"\u001b[39m\u001b[38;5;124mWas the CV iterator empty? \u001b[39m\u001b[38;5;124m\"\u001b[39m\n\u001b[0;32m    866\u001b[0m         \u001b[38;5;124m\"\u001b[39m\u001b[38;5;124mWere there no candidates?\u001b[39m\u001b[38;5;124m\"\u001b[39m\n\u001b[0;32m    867\u001b[0m     )\n",
      "File \u001b[1;32m~\\.conda\\Lib\\site-packages\\sklearn\\utils\\parallel.py:65\u001b[0m, in \u001b[0;36mParallel.__call__\u001b[1;34m(self, iterable)\u001b[0m\n\u001b[0;32m     60\u001b[0m config \u001b[38;5;241m=\u001b[39m get_config()\n\u001b[0;32m     61\u001b[0m iterable_with_config \u001b[38;5;241m=\u001b[39m (\n\u001b[0;32m     62\u001b[0m     (_with_config(delayed_func, config), args, kwargs)\n\u001b[0;32m     63\u001b[0m     \u001b[38;5;28;01mfor\u001b[39;00m delayed_func, args, kwargs \u001b[38;5;129;01min\u001b[39;00m iterable\n\u001b[0;32m     64\u001b[0m )\n\u001b[1;32m---> 65\u001b[0m \u001b[38;5;28;01mreturn\u001b[39;00m \u001b[38;5;28msuper\u001b[39m()\u001b[38;5;241m.\u001b[39m\u001b[38;5;21m__call__\u001b[39m(iterable_with_config)\n",
      "File \u001b[1;32m~\\.conda\\Lib\\site-packages\\joblib\\parallel.py:1098\u001b[0m, in \u001b[0;36mParallel.__call__\u001b[1;34m(self, iterable)\u001b[0m\n\u001b[0;32m   1095\u001b[0m     \u001b[38;5;28mself\u001b[39m\u001b[38;5;241m.\u001b[39m_iterating \u001b[38;5;241m=\u001b[39m \u001b[38;5;28;01mFalse\u001b[39;00m\n\u001b[0;32m   1097\u001b[0m \u001b[38;5;28;01mwith\u001b[39;00m \u001b[38;5;28mself\u001b[39m\u001b[38;5;241m.\u001b[39m_backend\u001b[38;5;241m.\u001b[39mretrieval_context():\n\u001b[1;32m-> 1098\u001b[0m     \u001b[38;5;28mself\u001b[39m\u001b[38;5;241m.\u001b[39mretrieve()\n\u001b[0;32m   1099\u001b[0m \u001b[38;5;66;03m# Make sure that we get a last message telling us we are done\u001b[39;00m\n\u001b[0;32m   1100\u001b[0m elapsed_time \u001b[38;5;241m=\u001b[39m time\u001b[38;5;241m.\u001b[39mtime() \u001b[38;5;241m-\u001b[39m \u001b[38;5;28mself\u001b[39m\u001b[38;5;241m.\u001b[39m_start_time\n",
      "File \u001b[1;32m~\\.conda\\Lib\\site-packages\\joblib\\parallel.py:975\u001b[0m, in \u001b[0;36mParallel.retrieve\u001b[1;34m(self)\u001b[0m\n\u001b[0;32m    973\u001b[0m \u001b[38;5;28;01mtry\u001b[39;00m:\n\u001b[0;32m    974\u001b[0m     \u001b[38;5;28;01mif\u001b[39;00m \u001b[38;5;28mgetattr\u001b[39m(\u001b[38;5;28mself\u001b[39m\u001b[38;5;241m.\u001b[39m_backend, \u001b[38;5;124m'\u001b[39m\u001b[38;5;124msupports_timeout\u001b[39m\u001b[38;5;124m'\u001b[39m, \u001b[38;5;28;01mFalse\u001b[39;00m):\n\u001b[1;32m--> 975\u001b[0m         \u001b[38;5;28mself\u001b[39m\u001b[38;5;241m.\u001b[39m_output\u001b[38;5;241m.\u001b[39mextend(job\u001b[38;5;241m.\u001b[39mget(timeout\u001b[38;5;241m=\u001b[39m\u001b[38;5;28mself\u001b[39m\u001b[38;5;241m.\u001b[39mtimeout))\n\u001b[0;32m    976\u001b[0m     \u001b[38;5;28;01melse\u001b[39;00m:\n\u001b[0;32m    977\u001b[0m         \u001b[38;5;28mself\u001b[39m\u001b[38;5;241m.\u001b[39m_output\u001b[38;5;241m.\u001b[39mextend(job\u001b[38;5;241m.\u001b[39mget())\n",
      "File \u001b[1;32m~\\.conda\\Lib\\site-packages\\joblib\\_parallel_backends.py:567\u001b[0m, in \u001b[0;36mLokyBackend.wrap_future_result\u001b[1;34m(future, timeout)\u001b[0m\n\u001b[0;32m    564\u001b[0m \u001b[38;5;250m\u001b[39m\u001b[38;5;124;03m\"\"\"Wrapper for Future.result to implement the same behaviour as\u001b[39;00m\n\u001b[0;32m    565\u001b[0m \u001b[38;5;124;03mAsyncResults.get from multiprocessing.\"\"\"\u001b[39;00m\n\u001b[0;32m    566\u001b[0m \u001b[38;5;28;01mtry\u001b[39;00m:\n\u001b[1;32m--> 567\u001b[0m     \u001b[38;5;28;01mreturn\u001b[39;00m future\u001b[38;5;241m.\u001b[39mresult(timeout\u001b[38;5;241m=\u001b[39mtimeout)\n\u001b[0;32m    568\u001b[0m \u001b[38;5;28;01mexcept\u001b[39;00m CfTimeoutError \u001b[38;5;28;01mas\u001b[39;00m e:\n\u001b[0;32m    569\u001b[0m     \u001b[38;5;28;01mraise\u001b[39;00m \u001b[38;5;167;01mTimeoutError\u001b[39;00m \u001b[38;5;28;01mfrom\u001b[39;00m \u001b[38;5;21;01me\u001b[39;00m\n",
      "File \u001b[1;32m~\\.conda\\Lib\\concurrent\\futures\\_base.py:451\u001b[0m, in \u001b[0;36mFuture.result\u001b[1;34m(self, timeout)\u001b[0m\n\u001b[0;32m    448\u001b[0m \u001b[38;5;28;01melif\u001b[39;00m \u001b[38;5;28mself\u001b[39m\u001b[38;5;241m.\u001b[39m_state \u001b[38;5;241m==\u001b[39m FINISHED:\n\u001b[0;32m    449\u001b[0m     \u001b[38;5;28;01mreturn\u001b[39;00m \u001b[38;5;28mself\u001b[39m\u001b[38;5;241m.\u001b[39m__get_result()\n\u001b[1;32m--> 451\u001b[0m \u001b[38;5;28mself\u001b[39m\u001b[38;5;241m.\u001b[39m_condition\u001b[38;5;241m.\u001b[39mwait(timeout)\n\u001b[0;32m    453\u001b[0m \u001b[38;5;28;01mif\u001b[39;00m \u001b[38;5;28mself\u001b[39m\u001b[38;5;241m.\u001b[39m_state \u001b[38;5;129;01min\u001b[39;00m [CANCELLED, CANCELLED_AND_NOTIFIED]:\n\u001b[0;32m    454\u001b[0m     \u001b[38;5;28;01mraise\u001b[39;00m CancelledError()\n",
      "File \u001b[1;32m~\\.conda\\Lib\\threading.py:320\u001b[0m, in \u001b[0;36mCondition.wait\u001b[1;34m(self, timeout)\u001b[0m\n\u001b[0;32m    318\u001b[0m \u001b[38;5;28;01mtry\u001b[39;00m:    \u001b[38;5;66;03m# restore state no matter what (e.g., KeyboardInterrupt)\u001b[39;00m\n\u001b[0;32m    319\u001b[0m     \u001b[38;5;28;01mif\u001b[39;00m timeout \u001b[38;5;129;01mis\u001b[39;00m \u001b[38;5;28;01mNone\u001b[39;00m:\n\u001b[1;32m--> 320\u001b[0m         waiter\u001b[38;5;241m.\u001b[39macquire()\n\u001b[0;32m    321\u001b[0m         gotit \u001b[38;5;241m=\u001b[39m \u001b[38;5;28;01mTrue\u001b[39;00m\n\u001b[0;32m    322\u001b[0m     \u001b[38;5;28;01melse\u001b[39;00m:\n",
      "\u001b[1;31mKeyboardInterrupt\u001b[0m: "
     ]
    }
   ],
   "source": [
    "catb = CatBoostClassifier()\n",
    "catb_cv_model = GridSearchCV(catb, catb_params, cv=5, n_jobs = -1, verbose = 2)\n",
    "catb_cv_model.fit(X_train, y_train)\n",
    "catb_cv_model.best_params_"
   ]
  },
  {
   "cell_type": "code",
   "execution_count": null,
   "metadata": {},
   "outputs": [],
   "source": [
    "catb_cv_model.best_params_"
   ]
  },
  {
   "cell_type": "code",
   "execution_count": null,
   "metadata": {},
   "outputs": [],
   "source": [
    "catb = CatBoostClassifier(iterations = 200,\n",
    "                          learning_rate = 0.05,\n",
    "                          depth = 5)\n",
    "\n",
    "catb_tuned = catb.fit(X_train, y_train)\n",
    "y_pred = catb_tuned.predict(X_test)"
   ]
  },
  {
   "cell_type": "code",
   "execution_count": null,
   "metadata": {},
   "outputs": [],
   "source": [
    "y_pred = catb_tuned.predict(X_test)\n",
    "accuracy_score(y_test, y_pred)"
   ]
  },
  {
   "cell_type": "markdown",
   "metadata": {},
   "source": [
    "# comparison of all models"
   ]
  },
  {
   "cell_type": "code",
   "execution_count": 302,
   "metadata": {
    "collapsed": true,
    "jupyter": {
     "outputs_hidden": true,
     "source_hidden": true
    },
    "tags": []
   },
   "outputs": [
    {
     "name": "stdout",
     "output_type": "stream",
     "text": [
      "----------------------------\n",
      "GridSearchCV:\n",
      "Accuracy: 73.1602%\n",
      "----------------------------\n",
      "LogisticRegression:\n",
      "Accuracy: 74.8918%\n",
      "----------------------------\n",
      "SVC:\n",
      "Accuracy: 73.5931%\n",
      "----------------------------\n",
      "GaussianNB:\n",
      "Accuracy: 74.4589%\n",
      "----------------------------\n",
      "MLPClassifier:\n",
      "Accuracy: 34.6320%\n",
      "----------------------------\n",
      "DecisionTreeClassifier:\n",
      "Accuracy: 75.3247%\n",
      "----------------------------\n",
      "RandomForestClassifier:\n",
      "Accuracy: 74.4589%\n",
      "----------------------------\n",
      "GradientBoostingClassifier:\n",
      "Accuracy: 74.4589%\n",
      "----------------------------\n",
      "LGBMClassifier:\n",
      "Accuracy: 74.8918%\n",
      "----------------------------\n",
      "XGBClassifier:\n",
      "Accuracy: 76.6234%\n"
     ]
    }
   ],
   "source": [
    "modeller = [\n",
    "    knn_tuned,\n",
    "    loj_model,\n",
    "    svc_tuned,\n",
    "    nb_model,\n",
    "    mlpc_tuned,\n",
    "    cart_tuned,\n",
    "    rf_tuned,\n",
    "    gbm_tuned,\n",
    "    catb_tuned,\n",
    "    lgbm_tuned,\n",
    "    xgb_tuned\n",
    "\n",
    "]\n",
    "\n",
    "\n",
    "for model in modeller:\n",
    "    isimler = model.__class__.__name__\n",
    "    y_pred = model.predict(X_test)\n",
    "    dogruluk = accuracy_score(y_test, y_pred)\n",
    "    print(\"-\"*28)\n",
    "    print(isimler + \":\" )\n",
    "    print(\"Accuracy: {:.4%}\".format(dogruluk))"
   ]
  },
  {
   "cell_type": "code",
   "execution_count": 306,
   "metadata": {
    "collapsed": true,
    "jupyter": {
     "outputs_hidden": true
    },
    "tags": []
   },
   "outputs": [
    {
     "data": {
      "image/png": "[encoded data removed]",
      "text/plain": [
       "<Figure size 640x480 with 1 Axes>"
      ]
     },
     "metadata": {},
     "output_type": "display_data"
    }
   ],
   "source": [
    "acc = []\n",
    "\n",
    "all_acc = pd.DataFrame(columns= [\"Models\",\"Accuracy\"])\n",
    "\n",
    "for model in modeller:\n",
    "    names = model.__class__.__name__\n",
    "    y_pred = model.predict(X_test)\n",
    "    acc = accuracy_score(y_test, y_pred)\n",
    "    result = pd.DataFrame([[names, acc*100]], columns= [\"Models\",\"Accuracy\"])\n",
    "    all_acc = pd.concat([all_acc, result], ignore_index=True)\n",
    "\n",
    "\n",
    "\n",
    "sns.barplot(x= 'Accuracy', y = 'Models', data=all_acc, color=\"r\")\n",
    "plt.xlabel('Accuracy %')\n",
    "plt.title('Models Accuracy Ratio');"
   ]
  },
  {
   "cell_type": "code",
   "execution_count": null,
   "metadata": {},
   "outputs": [],
   "source": []
  }
 ],
 "metadata": {
  "kernelspec": {
   "display_name": "Python 3 (ipykernel)",
   "language": "python",
   "name": "python3"
  },
  "language_info": {
   "codemirror_mode": {
    "name": "ipython",
    "version": 3
   },
   "file_extension": ".py",
   "mimetype": "text/x-python",
   "name": "python",
   "nbconvert_exporter": "python",
   "pygments_lexer": "ipython3",
   "version": "3.11.5"
  }
 },
 "nbformat": 4,
 "nbformat_minor": 4
}
