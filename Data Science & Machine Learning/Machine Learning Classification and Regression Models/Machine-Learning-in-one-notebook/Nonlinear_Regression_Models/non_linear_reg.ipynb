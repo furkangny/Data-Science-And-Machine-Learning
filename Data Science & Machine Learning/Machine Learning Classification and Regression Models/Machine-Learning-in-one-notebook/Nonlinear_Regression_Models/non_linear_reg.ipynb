{
 "cells": [
  {
   "cell_type": "markdown",
   "metadata": {},
   "source": [
    "# Doğrusal Olmayan Regreson Modelleri"
   ]
  },
  {
   "cell_type": "code",
   "execution_count": 1,
   "metadata": {
    "tags": []
   },
   "outputs": [],
   "source": [
    "import numpy as np\n",
    "import pandas as pd \n",
    "from sklearn.model_selection import train_test_split, GridSearchCV,cross_val_score\n",
    "from sklearn.metrics import mean_squared_error, r2_score\n",
    "import matplotlib.pyplot as plt\n",
    "from sklearn.preprocessing import scale \n",
    "from sklearn import model_selection\n",
    "from sklearn.tree import DecisionTreeRegressor, DecisionTreeClassifier\n",
    "from sklearn.neighbors import KNeighborsRegressor\n",
    "from sklearn.ensemble import BaggingRegressor\n",
    "\n",
    "from warnings import filterwarnings\n",
    "filterwarnings('ignore')"
   ]
  },
  {
   "cell_type": "markdown",
   "metadata": {},
   "source": [
    "# KNN"
   ]
  },
  {
   "cell_type": "code",
   "execution_count": 2,
   "metadata": {
    "tags": []
   },
   "outputs": [],
   "source": [
    "hit = pd.read_csv(\"Hitters.csv\")\n",
    "df = hit.copy()\n",
    "df = df.dropna()\n",
    "dms = pd.get_dummies(df[['League', 'Division', 'NewLeague']])\n",
    "y = df[\"Salary\"]\n",
    "X_ = df.drop(['Salary', 'League', 'Division', 'NewLeague'], axis=1).astype('float64')\n",
    "X = pd.concat([X_, dms[['League_N', 'Division_W', 'NewLeague_N']]], axis=1)\n",
    "X_train, X_test, y_train, y_test = train_test_split(X, y, \n",
    "                                                    test_size=0.25, \n",
    "                                                    random_state=42)"
   ]
  },
  {
   "cell_type": "code",
   "execution_count": 3,
   "metadata": {
    "tags": []
   },
   "outputs": [],
   "source": [
    "knn_model = KNeighborsRegressor().fit(X_train, y_train)"
   ]
  },
  {
   "cell_type": "code",
   "execution_count": 5,
   "metadata": {
    "tags": []
   },
   "outputs": [
    {
     "data": {
      "text/plain": [
       "5"
      ]
     },
     "execution_count": 5,
     "metadata": {},
     "output_type": "execute_result"
    }
   ],
   "source": [
    "knn_model.n_neighbors"
   ]
  },
  {
   "cell_type": "markdown",
   "metadata": {},
   "source": [
    "### Tahmin ve Model Tuning"
   ]
  },
  {
   "cell_type": "code",
   "execution_count": 8,
   "metadata": {
    "tags": []
   },
   "outputs": [],
   "source": [
    "y_pred = knn_model.predict(X_test)"
   ]
  },
  {
   "cell_type": "code",
   "execution_count": 9,
   "metadata": {
    "tags": []
   },
   "outputs": [
    {
     "data": {
      "text/plain": [
       "426.6570764525201"
      ]
     },
     "execution_count": 9,
     "metadata": {},
     "output_type": "execute_result"
    }
   ],
   "source": [
    "np.sqrt(mean_squared_error(y_test, y_pred))"
   ]
  },
  {
   "cell_type": "code",
   "execution_count": 54,
   "metadata": {
    "tags": []
   },
   "outputs": [
    {
     "data": {
      "text/plain": [
       "0.2093550739421146"
      ]
     },
     "execution_count": 54,
     "metadata": {},
     "output_type": "execute_result"
    }
   ],
   "source": [
    "r2_score(y_test, y_pred)"
   ]
  },
  {
   "cell_type": "code",
   "execution_count": 26,
   "metadata": {
    "tags": []
   },
   "outputs": [],
   "source": [
    "param_grid = {'n_neighbors': np.arange(1, 31)}"
   ]
  },
  {
   "cell_type": "code",
   "execution_count": null,
   "metadata": {
    "tags": []
   },
   "outputs": [],
   "source": [
    "grid_search = GridSearchCV(KNeighborsRegressor(),param_grid,cv = 5)\n",
    "grid_search.fit(X_train, y_train)"
   ]
  },
  {
   "cell_type": "code",
   "execution_count": 36,
   "metadata": {
    "tags": []
   },
   "outputs": [
    {
     "name": "stdout",
     "output_type": "stream",
     "text": [
      "best n_neighbors:  7\n"
     ]
    }
   ],
   "source": [
    "print(\"best n_neighbors: \", grid_search.best_params_[\"n_neighbors\"])"
   ]
  },
  {
   "cell_type": "code",
   "execution_count": 53,
   "metadata": {
    "tags": []
   },
   "outputs": [
    {
     "name": "stdout",
     "output_type": "stream",
     "text": [
      "413.7094731463598\n"
     ]
    },
    {
     "data": {
      "text/plain": [
       "0.2093550739421146"
      ]
     },
     "execution_count": 53,
     "metadata": {},
     "output_type": "execute_result"
    }
   ],
   "source": [
    "knn_model = KNeighborsRegressor(8).fit(X_train, y_train)\n",
    "knn_model.n_neighbors\n",
    "y_pred = knn_model.predict(X_test)\n",
    "print(np.sqrt(mean_squared_error(y_test, y_pred)))\n",
    "r2_score(y_test, y_pred)"
   ]
  },
  {
   "cell_type": "markdown",
   "metadata": {
    "tags": []
   },
   "source": [
    "## Destek Vektör Regresyonu (SVR)"
   ]
  },
  {
   "cell_type": "code",
   "execution_count": 109,
   "metadata": {
    "tags": []
   },
   "outputs": [],
   "source": [
    "hit = pd.read_csv(\"Hitters.csv\")\n",
    "df = hit.copy()\n",
    "df = df.dropna()\n",
    "dms = pd.get_dummies(df[['League', 'Division', 'NewLeague']])\n",
    "y = df[\"Salary\"]\n",
    "X_ = df.drop(['Salary', 'League', 'Division', 'NewLeague'], axis=1).astype('float64')\n",
    "X = pd.concat([X_, dms[['League_N', 'Division_W', 'NewLeague_N']]], axis=1)\n",
    "X_train, X_test, y_train, y_test = train_test_split(X, y, \n",
    "                                                    test_size=0.25, \n",
    "                                                    random_state=42)"
   ]
  },
  {
   "cell_type": "code",
   "execution_count": 110,
   "metadata": {
    "tags": []
   },
   "outputs": [],
   "source": [
    "X_train = pd.DataFrame(X_train[\"Hits\"])\n",
    "X_test = pd.DataFrame(X_test[\"Hits\"])"
   ]
  },
  {
   "cell_type": "code",
   "execution_count": 111,
   "metadata": {
    "tags": []
   },
   "outputs": [],
   "source": [
    "from sklearn.svm import SVR"
   ]
  },
  {
   "cell_type": "code",
   "execution_count": 112,
   "metadata": {
    "tags": []
   },
   "outputs": [],
   "source": [
    "svr_model = SVR(kernel = \"linear\").fit(X_train, y_train)"
   ]
  },
  {
   "cell_type": "code",
   "execution_count": 113,
   "metadata": {
    "tags": []
   },
   "outputs": [
    {
     "data": {
      "text/plain": [
       "array([403.52804878, 666.91219512, 706.66829268, 194.80853659,\n",
       "       423.40609756, 666.91219512, 150.08292683, 304.13780488,\n",
       "       507.88780488, 815.99756098])"
      ]
     },
     "execution_count": 113,
     "metadata": {},
     "output_type": "execute_result"
    }
   ],
   "source": [
    "svr_pred = svr_model.predict(X_train)\n",
    "svr_pred[0:10]"
   ]
  },
  {
   "cell_type": "code",
   "execution_count": 114,
   "metadata": {
    "tags": []
   },
   "outputs": [],
   "source": [
    "y_pred = svr_model.predict(X_train)"
   ]
  },
  {
   "cell_type": "code",
   "execution_count": 115,
   "metadata": {
    "tags": []
   },
   "outputs": [
    {
     "data": {
      "image/png": "[encoded data removed]",
      "text/plain": [
       "<Figure size 640x480 with 1 Axes>"
      ]
     },
     "metadata": {},
     "output_type": "display_data"
    }
   ],
   "source": [
    "plt.scatter(X_train, y_train)\n",
    "plt.plot(X_train, y_pred, color = 'r');"
   ]
  },
  {
   "cell_type": "markdown",
   "metadata": {
    "tags": []
   },
   "source": [
    "### Tahmin ve Model Tuning"
   ]
  },
  {
   "cell_type": "code",
   "execution_count": 116,
   "metadata": {
    "tags": []
   },
   "outputs": [
    {
     "data": {
      "text/plain": [
       "array([403.52804878])"
      ]
     },
     "execution_count": 116,
     "metadata": {},
     "output_type": "execute_result"
    }
   ],
   "source": [
    "svr_model.predict([[91]])"
   ]
  },
  {
   "cell_type": "code",
   "execution_count": 117,
   "metadata": {
    "tags": []
   },
   "outputs": [],
   "source": [
    "y_pred = svr_model.predict(X_test)"
   ]
  },
  {
   "cell_type": "code",
   "execution_count": 118,
   "metadata": {
    "tags": []
   },
   "outputs": [
    {
     "name": "stdout",
     "output_type": "stream",
     "text": [
      "459.0187960365147\n"
     ]
    },
    {
     "data": {
      "text/plain": [
       "0.026689303489502936"
      ]
     },
     "execution_count": 118,
     "metadata": {},
     "output_type": "execute_result"
    }
   ],
   "source": [
    "print(np.sqrt(mean_squared_error(y_test, y_pred)))\n",
    "r2_score(y_test, y_pred)"
   ]
  },
  {
   "cell_type": "code",
   "execution_count": 102,
   "metadata": {
    "tags": []
   },
   "outputs": [],
   "source": [
    "svr_params = {\"C\": np.arange(0.1, 2, 0.1)}\n",
    "svr_cv_model = GridSearchCV(svr_model, svr_params, cv=10, n_jobs=-1).fit(X_train, y_train)"
   ]
  },
  {
   "cell_type": "code",
   "execution_count": 103,
   "metadata": {
    "tags": []
   },
   "outputs": [
    {
     "data": {
      "text/plain": [
       "0.4"
      ]
     },
     "execution_count": 103,
     "metadata": {},
     "output_type": "execute_result"
    }
   ],
   "source": [
    "pd.Series(svr_cv_model.best_params_)[0]"
   ]
  },
  {
   "cell_type": "code",
   "execution_count": 104,
   "metadata": {
    "tags": []
   },
   "outputs": [],
   "source": [
    "svr_tuned = SVR(kernel = \"linear\", C = pd.Series(svr_cv_model.best_params_)[0]).fit(X_train, y_train)"
   ]
  },
  {
   "cell_type": "code",
   "execution_count": 105,
   "metadata": {
    "tags": []
   },
   "outputs": [],
   "source": [
    "y_pred = svr_tuned.predict(X_test)"
   ]
  },
  {
   "cell_type": "code",
   "execution_count": 107,
   "metadata": {
    "tags": []
   },
   "outputs": [
    {
     "name": "stdout",
     "output_type": "stream",
     "text": [
      "367.538528365296\n"
     ]
    },
    {
     "data": {
      "text/plain": [
       "0.3759831723320952"
      ]
     },
     "execution_count": 107,
     "metadata": {},
     "output_type": "execute_result"
    }
   ],
   "source": [
    "print(np.sqrt(mean_squared_error(y_test, y_pred)))\n",
    "r2_score(y_test, y_pred)"
   ]
  },
  {
   "cell_type": "markdown",
   "metadata": {},
   "source": [
    "## Doğrusal Olmayan SVR"
   ]
  },
  {
   "cell_type": "code",
   "execution_count": 119,
   "metadata": {
    "tags": []
   },
   "outputs": [],
   "source": [
    "hit = pd.read_csv(\"Hitters.csv\")\n",
    "df = hit.copy()\n",
    "df = df.dropna()\n",
    "dms = pd.get_dummies(df[['League', 'Division', 'NewLeague']])\n",
    "y = df[\"Salary\"]\n",
    "X_ = df.drop(['Salary', 'League', 'Division', 'NewLeague'], axis=1).astype('float64')\n",
    "X = pd.concat([X_, dms[['League_N', 'Division_W', 'NewLeague_N']]], axis=1)\n",
    "X_train, X_test, y_train, y_test = train_test_split(X, y, \n",
    "                                                    test_size=0.25, \n",
    "                                                    random_state=42)"
   ]
  },
  {
   "cell_type": "code",
   "execution_count": 147,
   "metadata": {
    "tags": []
   },
   "outputs": [],
   "source": [
    "svr_rbf = SVR(kernel = \"rbf\").fit(X_train, y_train)"
   ]
  },
  {
   "cell_type": "markdown",
   "metadata": {},
   "source": [
    "### Tahmin ve Model"
   ]
  },
  {
   "cell_type": "code",
   "execution_count": 148,
   "metadata": {
    "tags": []
   },
   "outputs": [],
   "source": [
    "y_pred = svr_rbf.predict(X_test)"
   ]
  },
  {
   "cell_type": "code",
   "execution_count": 149,
   "metadata": {
    "tags": []
   },
   "outputs": [
    {
     "name": "stdout",
     "output_type": "stream",
     "text": [
      "460.0032657244849\n"
     ]
    },
    {
     "data": {
      "text/plain": [
       "0.02250985629101887"
      ]
     },
     "execution_count": 149,
     "metadata": {},
     "output_type": "execute_result"
    }
   ],
   "source": [
    "print(np.sqrt(mean_squared_error(y_test, y_pred)))\n",
    "r2_score(y_test, y_pred)"
   ]
  },
  {
   "cell_type": "code",
   "execution_count": 150,
   "metadata": {
    "tags": []
   },
   "outputs": [
    {
     "data": {
      "text/html": [
       "<style>#sk-container-id-9 {color: black;}#sk-container-id-9 pre{padding: 0;}#sk-container-id-9 div.sk-toggleable {background-color: white;}#sk-container-id-9 label.sk-toggleable__label {cursor: pointer;display: block;width: 100%;margin-bottom: 0;padding: 0.3em;box-sizing: border-box;text-align: center;}#sk-container-id-9 label.sk-toggleable__label-arrow:before {content: \"▸\";float: left;margin-right: 0.25em;color: #696969;}#sk-container-id-9 label.sk-toggleable__label-arrow:hover:before {color: black;}#sk-container-id-9 div.sk-estimator:hover label.sk-toggleable__label-arrow:before {color: black;}#sk-container-id-9 div.sk-toggleable__content {max-height: 0;max-width: 0;overflow: hidden;text-align: left;background-color: #f0f8ff;}#sk-container-id-9 div.sk-toggleable__content pre {margin: 0.2em;color: black;border-radius: 0.25em;background-color: #f0f8ff;}#sk-container-id-9 input.sk-toggleable__control:checked~div.sk-toggleable__content {max-height: 200px;max-width: 100%;overflow: auto;}#sk-container-id-9 input.sk-toggleable__control:checked~label.sk-toggleable__label-arrow:before {content: \"▾\";}#sk-container-id-9 div.sk-estimator input.sk-toggleable__control:checked~label.sk-toggleable__label {background-color: #d4ebff;}#sk-container-id-9 div.sk-label input.sk-toggleable__control:checked~label.sk-toggleable__label {background-color: #d4ebff;}#sk-container-id-9 input.sk-hidden--visually {border: 0;clip: rect(1px 1px 1px 1px);clip: rect(1px, 1px, 1px, 1px);height: 1px;margin: -1px;overflow: hidden;padding: 0;position: absolute;width: 1px;}#sk-container-id-9 div.sk-estimator {font-family: monospace;background-color: #f0f8ff;border: 1px dotted black;border-radius: 0.25em;box-sizing: border-box;margin-bottom: 0.5em;}#sk-container-id-9 div.sk-estimator:hover {background-color: #d4ebff;}#sk-container-id-9 div.sk-parallel-item::after {content: \"\";width: 100%;border-bottom: 1px solid gray;flex-grow: 1;}#sk-container-id-9 div.sk-label:hover label.sk-toggleable__label {background-color: #d4ebff;}#sk-container-id-9 div.sk-serial::before {content: \"\";position: absolute;border-left: 1px solid gray;box-sizing: border-box;top: 0;bottom: 0;left: 50%;z-index: 0;}#sk-container-id-9 div.sk-serial {display: flex;flex-direction: column;align-items: center;background-color: white;padding-right: 0.2em;padding-left: 0.2em;position: relative;}#sk-container-id-9 div.sk-item {position: relative;z-index: 1;}#sk-container-id-9 div.sk-parallel {display: flex;align-items: stretch;justify-content: center;background-color: white;position: relative;}#sk-container-id-9 div.sk-item::before, #sk-container-id-9 div.sk-parallel-item::before {content: \"\";position: absolute;border-left: 1px solid gray;box-sizing: border-box;top: 0;bottom: 0;left: 50%;z-index: -1;}#sk-container-id-9 div.sk-parallel-item {display: flex;flex-direction: column;z-index: 1;position: relative;background-color: white;}#sk-container-id-9 div.sk-parallel-item:first-child::after {align-self: flex-end;width: 50%;}#sk-container-id-9 div.sk-parallel-item:last-child::after {align-self: flex-start;width: 50%;}#sk-container-id-9 div.sk-parallel-item:only-child::after {width: 0;}#sk-container-id-9 div.sk-dashed-wrapped {border: 1px dashed gray;margin: 0 0.4em 0.5em 0.4em;box-sizing: border-box;padding-bottom: 0.4em;background-color: white;}#sk-container-id-9 div.sk-label label {font-family: monospace;font-weight: bold;display: inline-block;line-height: 1.2em;}#sk-container-id-9 div.sk-label-container {text-align: center;}#sk-container-id-9 div.sk-container {/* jupyter's `normalize.less` sets `[hidden] { display: none; }` but bootstrap.min.css set `[hidden] { display: none !important; }` so we also need the `!important` here to be able to override the default hidden behavior on the sphinx rendered scikit-learn.org. See: https://github.com/scikit-learn/scikit-learn/issues/21755 */display: inline-block !important;position: relative;}#sk-container-id-9 div.sk-text-repr-fallback {display: none;}</style><div id=\"sk-container-id-9\" class=\"sk-top-container\"><div class=\"sk-text-repr-fallback\"><pre>GridSearchCV(cv=10, estimator=SVR(),\n",
       "             param_grid={&#x27;C&#x27;: [0.1, 0.4, 5, 10, 20, 30, 40, 50]})</pre><b>In a Jupyter environment, please rerun this cell to show the HTML representation or trust the notebook. <br />On GitHub, the HTML representation is unable to render, please try loading this page with nbviewer.org.</b></div><div class=\"sk-container\" hidden><div class=\"sk-item sk-dashed-wrapped\"><div class=\"sk-label-container\"><div class=\"sk-label sk-toggleable\"><input class=\"sk-toggleable__control sk-hidden--visually\" id=\"sk-estimator-id-21\" type=\"checkbox\" ><label for=\"sk-estimator-id-21\" class=\"sk-toggleable__label sk-toggleable__label-arrow\">GridSearchCV</label><div class=\"sk-toggleable__content\"><pre>GridSearchCV(cv=10, estimator=SVR(),\n",
       "             param_grid={&#x27;C&#x27;: [0.1, 0.4, 5, 10, 20, 30, 40, 50]})</pre></div></div></div><div class=\"sk-parallel\"><div class=\"sk-parallel-item\"><div class=\"sk-item\"><div class=\"sk-label-container\"><div class=\"sk-label sk-toggleable\"><input class=\"sk-toggleable__control sk-hidden--visually\" id=\"sk-estimator-id-22\" type=\"checkbox\" ><label for=\"sk-estimator-id-22\" class=\"sk-toggleable__label sk-toggleable__label-arrow\">estimator: SVR</label><div class=\"sk-toggleable__content\"><pre>SVR()</pre></div></div></div><div class=\"sk-serial\"><div class=\"sk-item\"><div class=\"sk-estimator sk-toggleable\"><input class=\"sk-toggleable__control sk-hidden--visually\" id=\"sk-estimator-id-23\" type=\"checkbox\" ><label for=\"sk-estimator-id-23\" class=\"sk-toggleable__label sk-toggleable__label-arrow\">SVR</label><div class=\"sk-toggleable__content\"><pre>SVR()</pre></div></div></div></div></div></div></div></div></div></div>"
      ],
      "text/plain": [
       "GridSearchCV(cv=10, estimator=SVR(),\n",
       "             param_grid={'C': [0.1, 0.4, 5, 10, 20, 30, 40, 50]})"
      ]
     },
     "execution_count": 150,
     "metadata": {},
     "output_type": "execute_result"
    }
   ],
   "source": [
    "svr_params = {\"C\": [0.1, 0.4, 5, 10, 20, 30, 40, 50]}\n",
    "svr_cv_model = GridSearchCV(svr_rbf, svr_params, cv = 10)\n",
    "svr_cv_model.fit(X_train, y_train)"
   ]
  },
  {
   "cell_type": "code",
   "execution_count": 151,
   "metadata": {
    "tags": []
   },
   "outputs": [
    {
     "data": {
      "text/plain": [
       "50"
      ]
     },
     "execution_count": 151,
     "metadata": {},
     "output_type": "execute_result"
    }
   ],
   "source": [
    "pd.Series(svr_cv_model.best_params_)[0]"
   ]
  },
  {
   "cell_type": "code",
   "execution_count": 152,
   "metadata": {
    "tags": []
   },
   "outputs": [],
   "source": [
    "svr_tuned = SVR(kernel = \"rbf\", C=pd.Series(svr_cv_model.best_params_)[0]).fit(X_train, y_train)"
   ]
  },
  {
   "cell_type": "code",
   "execution_count": 153,
   "metadata": {
    "tags": []
   },
   "outputs": [
    {
     "name": "stdout",
     "output_type": "stream",
     "text": [
      "428.00406888095694\n"
     ]
    },
    {
     "data": {
      "text/plain": [
       "0.15377402364911363"
      ]
     },
     "execution_count": 153,
     "metadata": {},
     "output_type": "execute_result"
    }
   ],
   "source": [
    "y_pred = svr_tuned.predict(X_test)\n",
    "print(np.sqrt(mean_squared_error(y_test, y_pred)))\n",
    "r2_score(y_test, y_pred)"
   ]
  },
  {
   "cell_type": "markdown",
   "metadata": {},
   "source": [
    "## Çok Katmanlı Algılayıcı"
   ]
  },
  {
   "cell_type": "code",
   "execution_count": 211,
   "metadata": {
    "tags": []
   },
   "outputs": [],
   "source": [
    "hit = pd.read_csv(\"Hitters.csv\")\n",
    "df = hit.copy()\n",
    "df = df.dropna()\n",
    "dms = pd.get_dummies(df[['League', 'Division', 'NewLeague']])\n",
    "y = df[\"Salary\"]\n",
    "X_ = df.drop(['Salary', 'League', 'Division', 'NewLeague'], axis=1).astype('float64')\n",
    "X = pd.concat([X_, dms[['League_N', 'Division_W', 'NewLeague_N']]], axis=1)\n",
    "X_train, X_test, y_train, y_test = train_test_split(X, y, \n",
    "                                                    test_size=0.25, \n",
    "                                                    random_state=42)"
   ]
  },
  {
   "cell_type": "code",
   "execution_count": 212,
   "metadata": {
    "tags": []
   },
   "outputs": [],
   "source": [
    "from sklearn.preprocessing import StandardScaler"
   ]
  },
  {
   "cell_type": "code",
   "execution_count": 213,
   "metadata": {
    "tags": []
   },
   "outputs": [],
   "source": [
    "scaler = StandardScaler()\n",
    "X_train_scaler = scaler.fit_transform(X_train)\n",
    "X_test_scaler = scaler.transform(X_test)"
   ]
  },
  {
   "cell_type": "code",
   "execution_count": 214,
   "metadata": {
    "tags": []
   },
   "outputs": [],
   "source": [
    "from sklearn.neural_network import MLPRegressor"
   ]
  },
  {
   "cell_type": "code",
   "execution_count": 215,
   "metadata": {
    "tags": []
   },
   "outputs": [],
   "source": [
    "mlp_model = MLPRegressor().fit(X_train_scaler, y_train)"
   ]
  },
  {
   "cell_type": "code",
   "execution_count": 216,
   "metadata": {
    "tags": []
   },
   "outputs": [
    {
     "data": {
      "text/plain": [
       "3"
      ]
     },
     "execution_count": 216,
     "metadata": {},
     "output_type": "execute_result"
    }
   ],
   "source": [
    "mlp_model.n_layers_ #katman  sayısı"
   ]
  },
  {
   "cell_type": "code",
   "execution_count": 217,
   "metadata": {
    "tags": []
   },
   "outputs": [
    {
     "data": {
      "text/plain": [
       "(100,)"
      ]
     },
     "execution_count": 217,
     "metadata": {},
     "output_type": "execute_result"
    }
   ],
   "source": [
    "mlp_model.hidden_layer_sizes # katmandaki eleman(ağ) sayısı"
   ]
  },
  {
   "cell_type": "markdown",
   "metadata": {},
   "source": [
    "### Tahmin ve Model Tuning"
   ]
  },
  {
   "cell_type": "code",
   "execution_count": 218,
   "metadata": {
    "tags": []
   },
   "outputs": [
    {
     "data": {
      "text/plain": [
       "array([ 6.49155861, 44.51974886, 28.2735942 ,  3.92895597,  5.36294155])"
      ]
     },
     "execution_count": 218,
     "metadata": {},
     "output_type": "execute_result"
    }
   ],
   "source": [
    "mlp_model.predict(X_train_scaler)[0:5]"
   ]
  },
  {
   "cell_type": "code",
   "execution_count": 219,
   "metadata": {
    "tags": []
   },
   "outputs": [],
   "source": [
    "y_pred = mlp_model.predict(X_test_scaler)"
   ]
  },
  {
   "cell_type": "code",
   "execution_count": 229,
   "metadata": {
    "tags": []
   },
   "outputs": [
    {
     "name": "stdout",
     "output_type": "stream",
     "text": [
      "662.358205781994\n"
     ]
    },
    {
     "data": {
      "text/plain": [
       "-1.026639016080519"
      ]
     },
     "execution_count": 229,
     "metadata": {},
     "output_type": "execute_result"
    }
   ],
   "source": [
    "print(np.sqrt(mean_squared_error(y_test, y_pred)))\n",
    "r2_score(y_test, y_pred)"
   ]
  },
  {
   "cell_type": "code",
   "execution_count": 221,
   "metadata": {
    "tags": []
   },
   "outputs": [],
   "source": [
    "mlp_params = {'alpha': [0.1,0.01, 0.02, 0.005],\n",
    "             'hidden_layer_sizes': [(20,20), (100,50,150), (300,200,150)],\n",
    "             'activation': ['relu', 'logistic']}"
   ]
  },
  {
   "cell_type": "code",
   "execution_count": 222,
   "metadata": {
    "tags": []
   },
   "outputs": [],
   "source": [
    "mlp_cv_model = GridSearchCV(mlp_model, mlp_params, cv=10)"
   ]
  },
  {
   "cell_type": "code",
   "execution_count": 223,
   "metadata": {
    "tags": []
   },
   "outputs": [
    {
     "data": {
      "text/html": [
       "<style>#sk-container-id-12 {color: black;}#sk-container-id-12 pre{padding: 0;}#sk-container-id-12 div.sk-toggleable {background-color: white;}#sk-container-id-12 label.sk-toggleable__label {cursor: pointer;display: block;width: 100%;margin-bottom: 0;padding: 0.3em;box-sizing: border-box;text-align: center;}#sk-container-id-12 label.sk-toggleable__label-arrow:before {content: \"▸\";float: left;margin-right: 0.25em;color: #696969;}#sk-container-id-12 label.sk-toggleable__label-arrow:hover:before {color: black;}#sk-container-id-12 div.sk-estimator:hover label.sk-toggleable__label-arrow:before {color: black;}#sk-container-id-12 div.sk-toggleable__content {max-height: 0;max-width: 0;overflow: hidden;text-align: left;background-color: #f0f8ff;}#sk-container-id-12 div.sk-toggleable__content pre {margin: 0.2em;color: black;border-radius: 0.25em;background-color: #f0f8ff;}#sk-container-id-12 input.sk-toggleable__control:checked~div.sk-toggleable__content {max-height: 200px;max-width: 100%;overflow: auto;}#sk-container-id-12 input.sk-toggleable__control:checked~label.sk-toggleable__label-arrow:before {content: \"▾\";}#sk-container-id-12 div.sk-estimator input.sk-toggleable__control:checked~label.sk-toggleable__label {background-color: #d4ebff;}#sk-container-id-12 div.sk-label input.sk-toggleable__control:checked~label.sk-toggleable__label {background-color: #d4ebff;}#sk-container-id-12 input.sk-hidden--visually {border: 0;clip: rect(1px 1px 1px 1px);clip: rect(1px, 1px, 1px, 1px);height: 1px;margin: -1px;overflow: hidden;padding: 0;position: absolute;width: 1px;}#sk-container-id-12 div.sk-estimator {font-family: monospace;background-color: #f0f8ff;border: 1px dotted black;border-radius: 0.25em;box-sizing: border-box;margin-bottom: 0.5em;}#sk-container-id-12 div.sk-estimator:hover {background-color: #d4ebff;}#sk-container-id-12 div.sk-parallel-item::after {content: \"\";width: 100%;border-bottom: 1px solid gray;flex-grow: 1;}#sk-container-id-12 div.sk-label:hover label.sk-toggleable__label {background-color: #d4ebff;}#sk-container-id-12 div.sk-serial::before {content: \"\";position: absolute;border-left: 1px solid gray;box-sizing: border-box;top: 0;bottom: 0;left: 50%;z-index: 0;}#sk-container-id-12 div.sk-serial {display: flex;flex-direction: column;align-items: center;background-color: white;padding-right: 0.2em;padding-left: 0.2em;position: relative;}#sk-container-id-12 div.sk-item {position: relative;z-index: 1;}#sk-container-id-12 div.sk-parallel {display: flex;align-items: stretch;justify-content: center;background-color: white;position: relative;}#sk-container-id-12 div.sk-item::before, #sk-container-id-12 div.sk-parallel-item::before {content: \"\";position: absolute;border-left: 1px solid gray;box-sizing: border-box;top: 0;bottom: 0;left: 50%;z-index: -1;}#sk-container-id-12 div.sk-parallel-item {display: flex;flex-direction: column;z-index: 1;position: relative;background-color: white;}#sk-container-id-12 div.sk-parallel-item:first-child::after {align-self: flex-end;width: 50%;}#sk-container-id-12 div.sk-parallel-item:last-child::after {align-self: flex-start;width: 50%;}#sk-container-id-12 div.sk-parallel-item:only-child::after {width: 0;}#sk-container-id-12 div.sk-dashed-wrapped {border: 1px dashed gray;margin: 0 0.4em 0.5em 0.4em;box-sizing: border-box;padding-bottom: 0.4em;background-color: white;}#sk-container-id-12 div.sk-label label {font-family: monospace;font-weight: bold;display: inline-block;line-height: 1.2em;}#sk-container-id-12 div.sk-label-container {text-align: center;}#sk-container-id-12 div.sk-container {/* jupyter's `normalize.less` sets `[hidden] { display: none; }` but bootstrap.min.css set `[hidden] { display: none !important; }` so we also need the `!important` here to be able to override the default hidden behavior on the sphinx rendered scikit-learn.org. See: https://github.com/scikit-learn/scikit-learn/issues/21755 */display: inline-block !important;position: relative;}#sk-container-id-12 div.sk-text-repr-fallback {display: none;}</style><div id=\"sk-container-id-12\" class=\"sk-top-container\"><div class=\"sk-text-repr-fallback\"><pre>GridSearchCV(cv=10, estimator=MLPRegressor(),\n",
       "             param_grid={&#x27;activation&#x27;: [&#x27;relu&#x27;, &#x27;logistic&#x27;],\n",
       "                         &#x27;alpha&#x27;: [0.1, 0.01, 0.02, 0.005],\n",
       "                         &#x27;hidden_layer_sizes&#x27;: [(20, 20), (100, 50, 150),\n",
       "                                                (300, 200, 150)]})</pre><b>In a Jupyter environment, please rerun this cell to show the HTML representation or trust the notebook. <br />On GitHub, the HTML representation is unable to render, please try loading this page with nbviewer.org.</b></div><div class=\"sk-container\" hidden><div class=\"sk-item sk-dashed-wrapped\"><div class=\"sk-label-container\"><div class=\"sk-label sk-toggleable\"><input class=\"sk-toggleable__control sk-hidden--visually\" id=\"sk-estimator-id-26\" type=\"checkbox\" ><label for=\"sk-estimator-id-26\" class=\"sk-toggleable__label sk-toggleable__label-arrow\">GridSearchCV</label><div class=\"sk-toggleable__content\"><pre>GridSearchCV(cv=10, estimator=MLPRegressor(),\n",
       "             param_grid={&#x27;activation&#x27;: [&#x27;relu&#x27;, &#x27;logistic&#x27;],\n",
       "                         &#x27;alpha&#x27;: [0.1, 0.01, 0.02, 0.005],\n",
       "                         &#x27;hidden_layer_sizes&#x27;: [(20, 20), (100, 50, 150),\n",
       "                                                (300, 200, 150)]})</pre></div></div></div><div class=\"sk-parallel\"><div class=\"sk-parallel-item\"><div class=\"sk-item\"><div class=\"sk-label-container\"><div class=\"sk-label sk-toggleable\"><input class=\"sk-toggleable__control sk-hidden--visually\" id=\"sk-estimator-id-27\" type=\"checkbox\" ><label for=\"sk-estimator-id-27\" class=\"sk-toggleable__label sk-toggleable__label-arrow\">estimator: MLPRegressor</label><div class=\"sk-toggleable__content\"><pre>MLPRegressor()</pre></div></div></div><div class=\"sk-serial\"><div class=\"sk-item\"><div class=\"sk-estimator sk-toggleable\"><input class=\"sk-toggleable__control sk-hidden--visually\" id=\"sk-estimator-id-28\" type=\"checkbox\" ><label for=\"sk-estimator-id-28\" class=\"sk-toggleable__label sk-toggleable__label-arrow\">MLPRegressor</label><div class=\"sk-toggleable__content\"><pre>MLPRegressor()</pre></div></div></div></div></div></div></div></div></div></div>"
      ],
      "text/plain": [
       "GridSearchCV(cv=10, estimator=MLPRegressor(),\n",
       "             param_grid={'activation': ['relu', 'logistic'],\n",
       "                         'alpha': [0.1, 0.01, 0.02, 0.005],\n",
       "                         'hidden_layer_sizes': [(20, 20), (100, 50, 150),\n",
       "                                                (300, 200, 150)]})"
      ]
     },
     "execution_count": 223,
     "metadata": {},
     "output_type": "execute_result"
    }
   ],
   "source": [
    "mlp_cv_model.fit(X_train_scaler,y_train)"
   ]
  },
  {
   "cell_type": "code",
   "execution_count": 224,
   "metadata": {
    "tags": []
   },
   "outputs": [
    {
     "data": {
      "text/plain": [
       "{'activation': 'relu', 'alpha': 0.02, 'hidden_layer_sizes': (100, 50, 150)}"
      ]
     },
     "execution_count": 224,
     "metadata": {},
     "output_type": "execute_result"
    }
   ],
   "source": [
    "mlp_cv_model.best_params_"
   ]
  },
  {
   "cell_type": "code",
   "execution_count": 226,
   "metadata": {
    "tags": []
   },
   "outputs": [],
   "source": [
    "mlp_tuned = MLPRegressor(alpha=0.02,hidden_layer_sizes=(100,50,150))"
   ]
  },
  {
   "cell_type": "code",
   "execution_count": 228,
   "metadata": {
    "tags": []
   },
   "outputs": [
    {
     "data": {
      "text/html": [
       "<style>#sk-container-id-13 {color: black;}#sk-container-id-13 pre{padding: 0;}#sk-container-id-13 div.sk-toggleable {background-color: white;}#sk-container-id-13 label.sk-toggleable__label {cursor: pointer;display: block;width: 100%;margin-bottom: 0;padding: 0.3em;box-sizing: border-box;text-align: center;}#sk-container-id-13 label.sk-toggleable__label-arrow:before {content: \"▸\";float: left;margin-right: 0.25em;color: #696969;}#sk-container-id-13 label.sk-toggleable__label-arrow:hover:before {color: black;}#sk-container-id-13 div.sk-estimator:hover label.sk-toggleable__label-arrow:before {color: black;}#sk-container-id-13 div.sk-toggleable__content {max-height: 0;max-width: 0;overflow: hidden;text-align: left;background-color: #f0f8ff;}#sk-container-id-13 div.sk-toggleable__content pre {margin: 0.2em;color: black;border-radius: 0.25em;background-color: #f0f8ff;}#sk-container-id-13 input.sk-toggleable__control:checked~div.sk-toggleable__content {max-height: 200px;max-width: 100%;overflow: auto;}#sk-container-id-13 input.sk-toggleable__control:checked~label.sk-toggleable__label-arrow:before {content: \"▾\";}#sk-container-id-13 div.sk-estimator input.sk-toggleable__control:checked~label.sk-toggleable__label {background-color: #d4ebff;}#sk-container-id-13 div.sk-label input.sk-toggleable__control:checked~label.sk-toggleable__label {background-color: #d4ebff;}#sk-container-id-13 input.sk-hidden--visually {border: 0;clip: rect(1px 1px 1px 1px);clip: rect(1px, 1px, 1px, 1px);height: 1px;margin: -1px;overflow: hidden;padding: 0;position: absolute;width: 1px;}#sk-container-id-13 div.sk-estimator {font-family: monospace;background-color: #f0f8ff;border: 1px dotted black;border-radius: 0.25em;box-sizing: border-box;margin-bottom: 0.5em;}#sk-container-id-13 div.sk-estimator:hover {background-color: #d4ebff;}#sk-container-id-13 div.sk-parallel-item::after {content: \"\";width: 100%;border-bottom: 1px solid gray;flex-grow: 1;}#sk-container-id-13 div.sk-label:hover label.sk-toggleable__label {background-color: #d4ebff;}#sk-container-id-13 div.sk-serial::before {content: \"\";position: absolute;border-left: 1px solid gray;box-sizing: border-box;top: 0;bottom: 0;left: 50%;z-index: 0;}#sk-container-id-13 div.sk-serial {display: flex;flex-direction: column;align-items: center;background-color: white;padding-right: 0.2em;padding-left: 0.2em;position: relative;}#sk-container-id-13 div.sk-item {position: relative;z-index: 1;}#sk-container-id-13 div.sk-parallel {display: flex;align-items: stretch;justify-content: center;background-color: white;position: relative;}#sk-container-id-13 div.sk-item::before, #sk-container-id-13 div.sk-parallel-item::before {content: \"\";position: absolute;border-left: 1px solid gray;box-sizing: border-box;top: 0;bottom: 0;left: 50%;z-index: -1;}#sk-container-id-13 div.sk-parallel-item {display: flex;flex-direction: column;z-index: 1;position: relative;background-color: white;}#sk-container-id-13 div.sk-parallel-item:first-child::after {align-self: flex-end;width: 50%;}#sk-container-id-13 div.sk-parallel-item:last-child::after {align-self: flex-start;width: 50%;}#sk-container-id-13 div.sk-parallel-item:only-child::after {width: 0;}#sk-container-id-13 div.sk-dashed-wrapped {border: 1px dashed gray;margin: 0 0.4em 0.5em 0.4em;box-sizing: border-box;padding-bottom: 0.4em;background-color: white;}#sk-container-id-13 div.sk-label label {font-family: monospace;font-weight: bold;display: inline-block;line-height: 1.2em;}#sk-container-id-13 div.sk-label-container {text-align: center;}#sk-container-id-13 div.sk-container {/* jupyter's `normalize.less` sets `[hidden] { display: none; }` but bootstrap.min.css set `[hidden] { display: none !important; }` so we also need the `!important` here to be able to override the default hidden behavior on the sphinx rendered scikit-learn.org. See: https://github.com/scikit-learn/scikit-learn/issues/21755 */display: inline-block !important;position: relative;}#sk-container-id-13 div.sk-text-repr-fallback {display: none;}</style><div id=\"sk-container-id-13\" class=\"sk-top-container\"><div class=\"sk-text-repr-fallback\"><pre>MLPRegressor(alpha=0.02, hidden_layer_sizes=(100, 50, 150))</pre><b>In a Jupyter environment, please rerun this cell to show the HTML representation or trust the notebook. <br />On GitHub, the HTML representation is unable to render, please try loading this page with nbviewer.org.</b></div><div class=\"sk-container\" hidden><div class=\"sk-item\"><div class=\"sk-estimator sk-toggleable\"><input class=\"sk-toggleable__control sk-hidden--visually\" id=\"sk-estimator-id-29\" type=\"checkbox\" checked><label for=\"sk-estimator-id-29\" class=\"sk-toggleable__label sk-toggleable__label-arrow\">MLPRegressor</label><div class=\"sk-toggleable__content\"><pre>MLPRegressor(alpha=0.02, hidden_layer_sizes=(100, 50, 150))</pre></div></div></div></div></div>"
      ],
      "text/plain": [
       "MLPRegressor(alpha=0.02, hidden_layer_sizes=(100, 50, 150))"
      ]
     },
     "execution_count": 228,
     "metadata": {},
     "output_type": "execute_result"
    }
   ],
   "source": [
    "mlp_tuned.fit(X_train_scaler, y_train)"
   ]
  },
  {
   "cell_type": "code",
   "execution_count": 231,
   "metadata": {
    "tags": []
   },
   "outputs": [
    {
     "name": "stdout",
     "output_type": "stream",
     "text": [
      "355.24002605609337\n"
     ]
    },
    {
     "data": {
      "text/plain": [
       "0.4170459234015028"
      ]
     },
     "execution_count": 231,
     "metadata": {},
     "output_type": "execute_result"
    }
   ],
   "source": [
    "y_pred = mlp_tuned.predict(X_test_scaler)\n",
    "print(np.sqrt(mean_squared_error(y_test, y_pred)))\n",
    "r2_score(y_test, y_pred)"
   ]
  },
  {
   "cell_type": "markdown",
   "metadata": {},
   "source": [
    "## Classification and Regression Trees (CART) - Regresyon Ağaçları"
   ]
  },
  {
   "cell_type": "code",
   "execution_count": 315,
   "metadata": {
    "tags": []
   },
   "outputs": [],
   "source": [
    "hit = pd.read_csv(\"Hitters.csv\")\n",
    "df = hit.copy()\n",
    "df = df.dropna()\n",
    "dms = pd.get_dummies(df[['League', 'Division', 'NewLeague']])\n",
    "y = df[\"Salary\"]\n",
    "X_ = df.drop(['Salary', 'League', 'Division', 'NewLeague'], axis=1).astype('float64')\n",
    "X = pd.concat([X_, dms[['League_N', 'Division_W', 'NewLeague_N']]], axis=1)\n",
    "X_train, X_test, y_train, y_test = train_test_split(X, y, \n",
    "                                                    test_size=0.25, \n",
    "                                                    random_state=42)"
   ]
  },
  {
   "cell_type": "code",
   "execution_count": 233,
   "metadata": {
    "tags": []
   },
   "outputs": [],
   "source": [
    "X_train = pd.DataFrame(X_train[\"Hits\"])\n",
    "X_test = pd.DataFrame(X_test[\"Hits\"])"
   ]
  },
  {
   "cell_type": "code",
   "execution_count": 271,
   "metadata": {
    "tags": []
   },
   "outputs": [],
   "source": [
    "cart_model = DecisionTreeRegressor()"
   ]
  },
  {
   "cell_type": "code",
   "execution_count": 272,
   "metadata": {
    "tags": []
   },
   "outputs": [
    {
     "data": {
      "text/html": [
       "<style>#sk-container-id-20 {color: black;}#sk-container-id-20 pre{padding: 0;}#sk-container-id-20 div.sk-toggleable {background-color: white;}#sk-container-id-20 label.sk-toggleable__label {cursor: pointer;display: block;width: 100%;margin-bottom: 0;padding: 0.3em;box-sizing: border-box;text-align: center;}#sk-container-id-20 label.sk-toggleable__label-arrow:before {content: \"▸\";float: left;margin-right: 0.25em;color: #696969;}#sk-container-id-20 label.sk-toggleable__label-arrow:hover:before {color: black;}#sk-container-id-20 div.sk-estimator:hover label.sk-toggleable__label-arrow:before {color: black;}#sk-container-id-20 div.sk-toggleable__content {max-height: 0;max-width: 0;overflow: hidden;text-align: left;background-color: #f0f8ff;}#sk-container-id-20 div.sk-toggleable__content pre {margin: 0.2em;color: black;border-radius: 0.25em;background-color: #f0f8ff;}#sk-container-id-20 input.sk-toggleable__control:checked~div.sk-toggleable__content {max-height: 200px;max-width: 100%;overflow: auto;}#sk-container-id-20 input.sk-toggleable__control:checked~label.sk-toggleable__label-arrow:before {content: \"▾\";}#sk-container-id-20 div.sk-estimator input.sk-toggleable__control:checked~label.sk-toggleable__label {background-color: #d4ebff;}#sk-container-id-20 div.sk-label input.sk-toggleable__control:checked~label.sk-toggleable__label {background-color: #d4ebff;}#sk-container-id-20 input.sk-hidden--visually {border: 0;clip: rect(1px 1px 1px 1px);clip: rect(1px, 1px, 1px, 1px);height: 1px;margin: -1px;overflow: hidden;padding: 0;position: absolute;width: 1px;}#sk-container-id-20 div.sk-estimator {font-family: monospace;background-color: #f0f8ff;border: 1px dotted black;border-radius: 0.25em;box-sizing: border-box;margin-bottom: 0.5em;}#sk-container-id-20 div.sk-estimator:hover {background-color: #d4ebff;}#sk-container-id-20 div.sk-parallel-item::after {content: \"\";width: 100%;border-bottom: 1px solid gray;flex-grow: 1;}#sk-container-id-20 div.sk-label:hover label.sk-toggleable__label {background-color: #d4ebff;}#sk-container-id-20 div.sk-serial::before {content: \"\";position: absolute;border-left: 1px solid gray;box-sizing: border-box;top: 0;bottom: 0;left: 50%;z-index: 0;}#sk-container-id-20 div.sk-serial {display: flex;flex-direction: column;align-items: center;background-color: white;padding-right: 0.2em;padding-left: 0.2em;position: relative;}#sk-container-id-20 div.sk-item {position: relative;z-index: 1;}#sk-container-id-20 div.sk-parallel {display: flex;align-items: stretch;justify-content: center;background-color: white;position: relative;}#sk-container-id-20 div.sk-item::before, #sk-container-id-20 div.sk-parallel-item::before {content: \"\";position: absolute;border-left: 1px solid gray;box-sizing: border-box;top: 0;bottom: 0;left: 50%;z-index: -1;}#sk-container-id-20 div.sk-parallel-item {display: flex;flex-direction: column;z-index: 1;position: relative;background-color: white;}#sk-container-id-20 div.sk-parallel-item:first-child::after {align-self: flex-end;width: 50%;}#sk-container-id-20 div.sk-parallel-item:last-child::after {align-self: flex-start;width: 50%;}#sk-container-id-20 div.sk-parallel-item:only-child::after {width: 0;}#sk-container-id-20 div.sk-dashed-wrapped {border: 1px dashed gray;margin: 0 0.4em 0.5em 0.4em;box-sizing: border-box;padding-bottom: 0.4em;background-color: white;}#sk-container-id-20 div.sk-label label {font-family: monospace;font-weight: bold;display: inline-block;line-height: 1.2em;}#sk-container-id-20 div.sk-label-container {text-align: center;}#sk-container-id-20 div.sk-container {/* jupyter's `normalize.less` sets `[hidden] { display: none; }` but bootstrap.min.css set `[hidden] { display: none !important; }` so we also need the `!important` here to be able to override the default hidden behavior on the sphinx rendered scikit-learn.org. See: https://github.com/scikit-learn/scikit-learn/issues/21755 */display: inline-block !important;position: relative;}#sk-container-id-20 div.sk-text-repr-fallback {display: none;}</style><div id=\"sk-container-id-20\" class=\"sk-top-container\"><div class=\"sk-text-repr-fallback\"><pre>DecisionTreeRegressor()</pre><b>In a Jupyter environment, please rerun this cell to show the HTML representation or trust the notebook. <br />On GitHub, the HTML representation is unable to render, please try loading this page with nbviewer.org.</b></div><div class=\"sk-container\" hidden><div class=\"sk-item\"><div class=\"sk-estimator sk-toggleable\"><input class=\"sk-toggleable__control sk-hidden--visually\" id=\"sk-estimator-id-36\" type=\"checkbox\" checked><label for=\"sk-estimator-id-36\" class=\"sk-toggleable__label sk-toggleable__label-arrow\">DecisionTreeRegressor</label><div class=\"sk-toggleable__content\"><pre>DecisionTreeRegressor()</pre></div></div></div></div></div>"
      ],
      "text/plain": [
       "DecisionTreeRegressor()"
      ]
     },
     "execution_count": 272,
     "metadata": {},
     "output_type": "execute_result"
    }
   ],
   "source": [
    "cart_model.fit(X_train,y_train)"
   ]
  },
  {
   "cell_type": "code",
   "execution_count": 273,
   "metadata": {
    "tags": []
   },
   "outputs": [
    {
     "data": {
      "image/png": "[encoded data removed]",
      "text/plain": [
       "<Figure size 640x480 with 1 Axes>"
      ]
     },
     "metadata": {},
     "output_type": "display_data"
    }
   ],
   "source": [
    "X_grid = np.arange(min(np.array(X_train)),max(np.array(X_train)), 0.01) \n",
    "X_grid = X_grid.reshape((len(X_grid), 1))  \n",
    "plt.scatter(X_train, y_train, color = 'red') \n",
    "plt.plot(X_grid, cart_model.predict(X_grid), color = 'blue')  \n",
    "plt.title('CART REGRESON AĞACI')  \n",
    "plt.xlabel('Atış Sayısı(Hits)') \n",
    "plt.ylabel('Maaş (Salary)') ;"
   ]
  },
  {
   "cell_type": "code",
   "execution_count": 274,
   "metadata": {
    "tags": []
   },
   "outputs": [],
   "source": [
    "#!pip install skompiler\n",
    "#!pip install astor\n",
    "from skompiler import skompile"
   ]
  },
  {
   "cell_type": "code",
   "execution_count": 275,
   "metadata": {
    "tags": []
   },
   "outputs": [
    {
     "name": "stdout",
     "output_type": "stream",
     "text": [
      "((920.0 if x[0] <= 18.0 else ((500.0 if x[0] <= 34.5 else (70.0 if x[0] <= \n",
      "    38.0 else 175.0) if x[0] <= 39.5 else 90.0 if x[0] <= 40.5 else 67.5) if\n",
      "    x[0] <= 41.5 else 900.0 if x[0] <= 42.5 else (((((215.55566666666664 if\n",
      "    x[0] <= 44.5 else 180.0) if x[0] <= 46.5 else 347.5 if x[0] <= 48.0 else\n",
      "    337.5) if x[0] <= 50.0 else 70.0) if x[0] <= 51.5 else 507.5) if x[0] <=\n",
      "    52.5 else 150.0 if x[0] <= 53.5 else 146.83333333333334) if x[0] <= \n",
      "    54.5 else 1300.0 if x[0] <= 55.5 else (170.0 if x[0] <= 56.5 else \n",
      "    193.75) if x[0] <= 57.5 else ((((((340.0 if x[0] <= 59.0 else 418.5) if\n",
      "    x[0] <= 60.5 else 235.0 if x[0] <= 62.0 else 341.667) if x[0] <= 63.5 else\n",
      "    75.0) if x[0] <= 64.5 else 650.0) if x[0] <= 65.5 else 170.0 if x[0] <=\n",
      "    67.0 else 228.66666666666666) if x[0] <= 69.0 else 472.5) if x[0] <= \n",
      "    70.5 else (100.0 if x[0] <= 71.5 else 130.0) if x[0] <= 72.5 else \n",
      "    409.1665 if x[0] <= 74.5 else 215.0) if x[0] <= 76.5 else (((505.0 if x\n",
      "    [0] <= 77.5 else ((((328.88899999999995 if x[0] <= 79.0 else 700.0) if \n",
      "    x[0] <= 80.5 else 348.75 if x[0] <= 81.5 else 267.5) if x[0] <= 82.5 else\n",
      "    600.0 if x[0] <= 83.5 else 600.0) if x[0] <= 84.5 else (331.25 if x[0] <=\n",
      "    85.5 else (180.0 if x[0] <= 86.5 else 91.5) if x[0] <= 88.5 else 450.0 if\n",
      "    x[0] <= 90.5 else 125.0) if x[0] <= 91.5 else 411.25 if x[0] <= 92.5 else\n",
      "    250.0) if x[0] <= 93.5 else 670.0 if x[0] <= 94.5 else ((100.0 if x[0] <=\n",
      "    95.5 else 504.1665) if x[0] <= 96.5 else 210.0 if x[0] <= 98.0 else \n",
      "    87.5) if x[0] <= 100.0 else 466.0) if x[0] <= 101.5 else 247.5 if x[0] <=\n",
      "    102.5 else 257.3334) if x[0] <= 103.5 else (750.0 if x[0] <= 105.0 else\n",
      "    850.0) if x[0] <= 107.0 else 162.5 if x[0] <= 109.0 else (560.0 if x[0] <=\n",
      "    111.0 else 442.5 if x[0] <= 112.5 else 487.5) if x[0] <= 114.0 else \n",
      "    300.0) if x[0] <= 116.0 else 110.0) if x[0] <= 117.5 else ((((1300.0 if\n",
      "    x[0] <= 118.5 else 773.3333333333334 if x[0] <= 120.5 else 442.5) if x[\n",
      "    0] <= 122.5 else 1240.0 if x[0] <= 124.0 else 1925.571) if x[0] <= \n",
      "    125.5 else (561.25 if x[0] <= 126.5 else (695.2776666666667 if x[0] <= \n",
      "    127.5 else 1043.75) if x[0] <= 128.5 else (750.0 if x[0] <= 129.5 else \n",
      "    480.0) if x[0] <= 130.5 else 726.6666666666666) if x[0] <= 131.5 else (\n",
      "    ((611.6665 if x[0] <= 133.5 else 461.0) if x[0] <= 135.5 else 725.0) if\n",
      "    x[0] <= 137.0 else 152.5 if x[0] <= 138.5 else 555.0 if x[0] <= 139.5 else\n",
      "    200.0) if x[0] <= 140.5 else 712.5 if x[0] <= 141.5 else 777.5) if x[0] <=\n",
      "    143.0 else (((1021.6666666666666 if x[0] <= 144.5 else 500.0 if x[0] <=\n",
      "    145.5 else 815.0) if x[0] <= 146.5 else 1230.0 if x[0] <= 148.0 else \n",
      "    787.5 if x[0] <= 149.5 else 1000.0) if x[0] <= 150.5 else 2460.0) if x[\n",
      "    0] <= 151.5 else (451.6666666666667 if x[0] <= 153.0 else 580.0 if x[0] <=\n",
      "    155.5 else 530.0) if x[0] <= 157.5 else (((((775.0 if x[0] <= 158.5 else\n",
      "    759.1665) if x[0] <= 159.5 else 1670.0 if x[0] <= 161.5 else 923.0 if x\n",
      "    [0] <= 165.5 else 863.0556666666666) if x[0] <= 168.5 else \n",
      "    743.3333333333334) if x[0] <= 169.5 else 1118.75 if x[0] <= 170.5 else \n",
      "    1350.0) if x[0] <= 171.5 else 165.0 if x[0] <= 173.0 else (849.3335 if \n",
      "    x[0] <= 175.5 else 1350.0) if x[0] <= 177.5 else (740.0 if x[0] <= \n",
      "    178.5 else 575.0 if x[0] <= 181.5 else 630.0) if x[0] <= 185.0 else \n",
      "    1300.0 if x[0] <= 198.5 else 740.0) if x[0] <= 212.0 else 350.0) if x[0\n",
      "    ] <= 225.5 else 1975.0)\n",
      "\n"
     ]
    }
   ],
   "source": [
    "print(skompile(cart_model.predict).to('python/code'))"
   ]
  },
  {
   "cell_type": "markdown",
   "metadata": {},
   "source": [
    "### Tahmin ve Model Tuning"
   ]
  },
  {
   "cell_type": "code",
   "execution_count": 276,
   "metadata": {
    "tags": []
   },
   "outputs": [
    {
     "data": {
      "text/plain": [
       "125.0"
      ]
     },
     "execution_count": 276,
     "metadata": {},
     "output_type": "execute_result"
    }
   ],
   "source": [
    "x = [91]\n",
    "((920.0 if x[0] <= 18.0 else ((500.0 if x[0] <= 34.5 else (70.0 if x[0] <= \n",
    "    38.0 else 175.0) if x[0] <= 39.5 else 90.0 if x[0] <= 40.5 else 67.5) if\n",
    "    x[0] <= 41.5 else 900.0 if x[0] <= 42.5 else (((((215.55566666666664 if\n",
    "    x[0] <= 44.5 else 180.0) if x[0] <= 46.5 else 347.5 if x[0] <= 48.0 else\n",
    "    337.5) if x[0] <= 50.0 else 70.0) if x[0] <= 51.5 else 507.5) if x[0] <=\n",
    "    52.5 else 150.0 if x[0] <= 53.5 else 146.83333333333334) if x[0] <= \n",
    "    54.5 else 1300.0 if x[0] <= 55.5 else (170.0 if x[0] <= 56.5 else \n",
    "    193.75) if x[0] <= 57.5 else ((((((340.0 if x[0] <= 59.0 else 418.5) if\n",
    "    x[0] <= 60.5 else 235.0 if x[0] <= 62.0 else 341.667) if x[0] <= 63.5 else\n",
    "    75.0) if x[0] <= 64.5 else 650.0) if x[0] <= 65.5 else 170.0 if x[0] <=\n",
    "    67.0 else 228.66666666666666) if x[0] <= 69.0 else 472.5) if x[0] <= \n",
    "    70.5 else (100.0 if x[0] <= 71.5 else 130.0) if x[0] <= 72.5 else \n",
    "    409.1665 if x[0] <= 74.5 else 215.0) if x[0] <= 76.5 else (((505.0 if x\n",
    "    [0] <= 77.5 else ((((328.88899999999995 if x[0] <= 79.0 else 700.0) if \n",
    "    x[0] <= 80.5 else 348.75 if x[0] <= 81.5 else 267.5) if x[0] <= 82.5 else\n",
    "    600.0 if x[0] <= 83.5 else 600.0) if x[0] <= 84.5 else (331.25 if x[0] <=\n",
    "    85.5 else (180.0 if x[0] <= 86.5 else 91.5) if x[0] <= 88.5 else 450.0 if\n",
    "    x[0] <= 90.5 else 125.0) if x[0] <= 91.5 else 411.25 if x[0] <= 92.5 else\n",
    "    250.0) if x[0] <= 93.5 else 670.0 if x[0] <= 94.5 else ((100.0 if x[0] <=\n",
    "    95.5 else 504.1665) if x[0] <= 96.5 else 210.0 if x[0] <= 98.0 else \n",
    "    87.5) if x[0] <= 100.0 else 466.0) if x[0] <= 101.5 else 247.5 if x[0] <=\n",
    "    102.5 else 257.3334) if x[0] <= 103.5 else (750.0 if x[0] <= 105.0 else\n",
    "    850.0) if x[0] <= 107.0 else 162.5 if x[0] <= 109.0 else (560.0 if x[0] <=\n",
    "    111.0 else 442.5 if x[0] <= 112.5 else 487.5) if x[0] <= 114.0 else \n",
    "    300.0) if x[0] <= 116.0 else 110.0) if x[0] <= 117.5 else ((((1300.0 if\n",
    "    x[0] <= 118.5 else 773.3333333333334 if x[0] <= 120.5 else 442.5) if x[\n",
    "    0] <= 122.5 else 1240.0 if x[0] <= 124.0 else 1925.571) if x[0] <= \n",
    "    125.5 else (561.25 if x[0] <= 126.5 else (695.2776666666667 if x[0] <= \n",
    "    127.5 else 1043.75) if x[0] <= 128.5 else (750.0 if x[0] <= 129.5 else \n",
    "    480.0) if x[0] <= 130.5 else 726.6666666666666) if x[0] <= 131.5 else (\n",
    "    ((611.6665 if x[0] <= 133.5 else 461.0) if x[0] <= 135.5 else 725.0) if\n",
    "    x[0] <= 137.0 else 152.5 if x[0] <= 138.5 else 555.0 if x[0] <= 139.5 else\n",
    "    200.0) if x[0] <= 140.5 else 712.5 if x[0] <= 141.5 else 777.5) if x[0] <=\n",
    "    143.0 else (((1021.6666666666666 if x[0] <= 144.5 else 500.0 if x[0] <=\n",
    "    145.5 else 815.0) if x[0] <= 146.5 else 1230.0 if x[0] <= 148.0 else \n",
    "    787.5 if x[0] <= 149.5 else 1000.0) if x[0] <= 150.5 else 2460.0) if x[\n",
    "    0] <= 151.5 else (451.6666666666667 if x[0] <= 153.0 else 580.0 if x[0] <=\n",
    "    155.5 else 530.0) if x[0] <= 157.5 else (((((775.0 if x[0] <= 158.5 else\n",
    "    759.1665) if x[0] <= 159.5 else 1670.0 if x[0] <= 161.5 else 923.0 if x\n",
    "    [0] <= 165.5 else 863.0556666666666) if x[0] <= 168.5 else \n",
    "    743.3333333333334) if x[0] <= 169.5 else 1118.75 if x[0] <= 170.5 else \n",
    "    1350.0) if x[0] <= 171.5 else 165.0 if x[0] <= 173.0 else (849.3335 if \n",
    "    x[0] <= 175.5 else 1350.0) if x[0] <= 177.5 else (740.0 if x[0] <= \n",
    "    178.5 else 575.0 if x[0] <= 181.5 else 630.0) if x[0] <= 185.0 else \n",
    "    1300.0 if x[0] <= 198.5 else 740.0) if x[0] <= 212.0 else 350.0) if x[0\n",
    "    ] <= 225.5 else 1975.0)"
   ]
  },
  {
   "cell_type": "code",
   "execution_count": 278,
   "metadata": {
    "tags": []
   },
   "outputs": [
    {
     "data": {
      "text/plain": [
       "array([125.])"
      ]
     },
     "execution_count": 278,
     "metadata": {},
     "output_type": "execute_result"
    }
   ],
   "source": [
    "cart_model.predict([[91]])"
   ]
  },
  {
   "cell_type": "code",
   "execution_count": 277,
   "metadata": {
    "tags": []
   },
   "outputs": [
    {
     "data": {
      "text/plain": [
       "array([ 725.    , 1230.    ,  725.    ,  504.1665,   67.5   ])"
      ]
     },
     "execution_count": 277,
     "metadata": {},
     "output_type": "execute_result"
    }
   ],
   "source": [
    "cart_model.predict(X_test)[0:5]"
   ]
  },
  {
   "cell_type": "code",
   "execution_count": 279,
   "metadata": {
    "tags": []
   },
   "outputs": [],
   "source": [
    "y_pred = cart_model.predict(X_test)"
   ]
  },
  {
   "cell_type": "code",
   "execution_count": 280,
   "metadata": {
    "tags": []
   },
   "outputs": [
    {
     "data": {
      "text/plain": [
       "468.49579052913884"
      ]
     },
     "execution_count": 280,
     "metadata": {},
     "output_type": "execute_result"
    }
   ],
   "source": [
    "np.sqrt(mean_squared_error(y_test, y_pred))"
   ]
  },
  {
   "cell_type": "code",
   "execution_count": 298,
   "metadata": {
    "tags": []
   },
   "outputs": [],
   "source": [
    "cart_model = DecisionTreeRegressor()\n",
    "cart_model.fit(X_train, y_train)\n",
    "y_pred = cart_model.predict(X_test)"
   ]
  },
  {
   "cell_type": "code",
   "execution_count": 299,
   "metadata": {
    "tags": []
   },
   "outputs": [
    {
     "data": {
      "text/plain": [
       "468.49579052913884"
      ]
     },
     "execution_count": 299,
     "metadata": {},
     "output_type": "execute_result"
    }
   ],
   "source": [
    "np.sqrt(mean_squared_error(y_test, y_pred))"
   ]
  },
  {
   "cell_type": "code",
   "execution_count": 309,
   "metadata": {
    "tags": []
   },
   "outputs": [],
   "source": [
    "cart_params = {\"min_samples_split\":range(2,100),\n",
    "         \"max_leaf_nodes\":range(2,10),}"
   ]
  },
  {
   "cell_type": "code",
   "execution_count": 310,
   "metadata": {
    "tags": []
   },
   "outputs": [],
   "source": [
    "cart_cv_model = GridSearchCV(cart_model, cart_params, cv=10)"
   ]
  },
  {
   "cell_type": "code",
   "execution_count": 311,
   "metadata": {
    "tags": []
   },
   "outputs": [
    {
     "data": {
      "text/html": [
       "<style>#sk-container-id-21 {color: black;}#sk-container-id-21 pre{padding: 0;}#sk-container-id-21 div.sk-toggleable {background-color: white;}#sk-container-id-21 label.sk-toggleable__label {cursor: pointer;display: block;width: 100%;margin-bottom: 0;padding: 0.3em;box-sizing: border-box;text-align: center;}#sk-container-id-21 label.sk-toggleable__label-arrow:before {content: \"▸\";float: left;margin-right: 0.25em;color: #696969;}#sk-container-id-21 label.sk-toggleable__label-arrow:hover:before {color: black;}#sk-container-id-21 div.sk-estimator:hover label.sk-toggleable__label-arrow:before {color: black;}#sk-container-id-21 div.sk-toggleable__content {max-height: 0;max-width: 0;overflow: hidden;text-align: left;background-color: #f0f8ff;}#sk-container-id-21 div.sk-toggleable__content pre {margin: 0.2em;color: black;border-radius: 0.25em;background-color: #f0f8ff;}#sk-container-id-21 input.sk-toggleable__control:checked~div.sk-toggleable__content {max-height: 200px;max-width: 100%;overflow: auto;}#sk-container-id-21 input.sk-toggleable__control:checked~label.sk-toggleable__label-arrow:before {content: \"▾\";}#sk-container-id-21 div.sk-estimator input.sk-toggleable__control:checked~label.sk-toggleable__label {background-color: #d4ebff;}#sk-container-id-21 div.sk-label input.sk-toggleable__control:checked~label.sk-toggleable__label {background-color: #d4ebff;}#sk-container-id-21 input.sk-hidden--visually {border: 0;clip: rect(1px 1px 1px 1px);clip: rect(1px, 1px, 1px, 1px);height: 1px;margin: -1px;overflow: hidden;padding: 0;position: absolute;width: 1px;}#sk-container-id-21 div.sk-estimator {font-family: monospace;background-color: #f0f8ff;border: 1px dotted black;border-radius: 0.25em;box-sizing: border-box;margin-bottom: 0.5em;}#sk-container-id-21 div.sk-estimator:hover {background-color: #d4ebff;}#sk-container-id-21 div.sk-parallel-item::after {content: \"\";width: 100%;border-bottom: 1px solid gray;flex-grow: 1;}#sk-container-id-21 div.sk-label:hover label.sk-toggleable__label {background-color: #d4ebff;}#sk-container-id-21 div.sk-serial::before {content: \"\";position: absolute;border-left: 1px solid gray;box-sizing: border-box;top: 0;bottom: 0;left: 50%;z-index: 0;}#sk-container-id-21 div.sk-serial {display: flex;flex-direction: column;align-items: center;background-color: white;padding-right: 0.2em;padding-left: 0.2em;position: relative;}#sk-container-id-21 div.sk-item {position: relative;z-index: 1;}#sk-container-id-21 div.sk-parallel {display: flex;align-items: stretch;justify-content: center;background-color: white;position: relative;}#sk-container-id-21 div.sk-item::before, #sk-container-id-21 div.sk-parallel-item::before {content: \"\";position: absolute;border-left: 1px solid gray;box-sizing: border-box;top: 0;bottom: 0;left: 50%;z-index: -1;}#sk-container-id-21 div.sk-parallel-item {display: flex;flex-direction: column;z-index: 1;position: relative;background-color: white;}#sk-container-id-21 div.sk-parallel-item:first-child::after {align-self: flex-end;width: 50%;}#sk-container-id-21 div.sk-parallel-item:last-child::after {align-self: flex-start;width: 50%;}#sk-container-id-21 div.sk-parallel-item:only-child::after {width: 0;}#sk-container-id-21 div.sk-dashed-wrapped {border: 1px dashed gray;margin: 0 0.4em 0.5em 0.4em;box-sizing: border-box;padding-bottom: 0.4em;background-color: white;}#sk-container-id-21 div.sk-label label {font-family: monospace;font-weight: bold;display: inline-block;line-height: 1.2em;}#sk-container-id-21 div.sk-label-container {text-align: center;}#sk-container-id-21 div.sk-container {/* jupyter's `normalize.less` sets `[hidden] { display: none; }` but bootstrap.min.css set `[hidden] { display: none !important; }` so we also need the `!important` here to be able to override the default hidden behavior on the sphinx rendered scikit-learn.org. See: https://github.com/scikit-learn/scikit-learn/issues/21755 */display: inline-block !important;position: relative;}#sk-container-id-21 div.sk-text-repr-fallback {display: none;}</style><div id=\"sk-container-id-21\" class=\"sk-top-container\"><div class=\"sk-text-repr-fallback\"><pre>GridSearchCV(cv=10, estimator=DecisionTreeRegressor(),\n",
       "             param_grid={&#x27;max_leaf_nodes&#x27;: range(2, 10),\n",
       "                         &#x27;min_samples_split&#x27;: range(2, 100)})</pre><b>In a Jupyter environment, please rerun this cell to show the HTML representation or trust the notebook. <br />On GitHub, the HTML representation is unable to render, please try loading this page with nbviewer.org.</b></div><div class=\"sk-container\" hidden><div class=\"sk-item sk-dashed-wrapped\"><div class=\"sk-label-container\"><div class=\"sk-label sk-toggleable\"><input class=\"sk-toggleable__control sk-hidden--visually\" id=\"sk-estimator-id-37\" type=\"checkbox\" ><label for=\"sk-estimator-id-37\" class=\"sk-toggleable__label sk-toggleable__label-arrow\">GridSearchCV</label><div class=\"sk-toggleable__content\"><pre>GridSearchCV(cv=10, estimator=DecisionTreeRegressor(),\n",
       "             param_grid={&#x27;max_leaf_nodes&#x27;: range(2, 10),\n",
       "                         &#x27;min_samples_split&#x27;: range(2, 100)})</pre></div></div></div><div class=\"sk-parallel\"><div class=\"sk-parallel-item\"><div class=\"sk-item\"><div class=\"sk-label-container\"><div class=\"sk-label sk-toggleable\"><input class=\"sk-toggleable__control sk-hidden--visually\" id=\"sk-estimator-id-38\" type=\"checkbox\" ><label for=\"sk-estimator-id-38\" class=\"sk-toggleable__label sk-toggleable__label-arrow\">estimator: DecisionTreeRegressor</label><div class=\"sk-toggleable__content\"><pre>DecisionTreeRegressor()</pre></div></div></div><div class=\"sk-serial\"><div class=\"sk-item\"><div class=\"sk-estimator sk-toggleable\"><input class=\"sk-toggleable__control sk-hidden--visually\" id=\"sk-estimator-id-39\" type=\"checkbox\" ><label for=\"sk-estimator-id-39\" class=\"sk-toggleable__label sk-toggleable__label-arrow\">DecisionTreeRegressor</label><div class=\"sk-toggleable__content\"><pre>DecisionTreeRegressor()</pre></div></div></div></div></div></div></div></div></div></div>"
      ],
      "text/plain": [
       "GridSearchCV(cv=10, estimator=DecisionTreeRegressor(),\n",
       "             param_grid={'max_leaf_nodes': range(2, 10),\n",
       "                         'min_samples_split': range(2, 100)})"
      ]
     },
     "execution_count": 311,
     "metadata": {},
     "output_type": "execute_result"
    }
   ],
   "source": [
    "cart_cv_model.fit(X_train, y_train)"
   ]
  },
  {
   "cell_type": "code",
   "execution_count": 320,
   "metadata": {
    "tags": []
   },
   "outputs": [
    {
     "data": {
      "text/plain": [
       "{'max_leaf_nodes': 9, 'min_samples_split': 76}"
      ]
     },
     "execution_count": 320,
     "metadata": {},
     "output_type": "execute_result"
    }
   ],
   "source": [
    "cart_cv_model.best_params_"
   ]
  },
  {
   "cell_type": "code",
   "execution_count": 318,
   "metadata": {
    "tags": []
   },
   "outputs": [],
   "source": [
    "cart_tuned = DecisionTreeRegressor(max_leaf_nodes=9, min_samples_leaf=37)\n",
    "cart_tuned.fit(X_train,y_train)\n",
    "y_pred = cart_tuned.predict(X_test)"
   ]
  },
  {
   "cell_type": "code",
   "execution_count": 319,
   "metadata": {
    "tags": []
   },
   "outputs": [
    {
     "data": {
      "text/plain": [
       "412.6864808882747"
      ]
     },
     "execution_count": 319,
     "metadata": {},
     "output_type": "execute_result"
    }
   ],
   "source": [
    "np.sqrt(mean_squared_error(y_test, y_pred))"
   ]
  },
  {
   "cell_type": "markdown",
   "metadata": {},
   "source": [
    "## Bagged Trees"
   ]
  },
  {
   "cell_type": "code",
   "execution_count": 339,
   "metadata": {
    "tags": []
   },
   "outputs": [],
   "source": [
    "hit = pd.read_csv(\"Hitters.csv\")\n",
    "df = hit.copy()\n",
    "df = df.dropna()\n",
    "dms = pd.get_dummies(df[['League', 'Division', 'NewLeague']])\n",
    "y = df[\"Salary\"]\n",
    "X_ = df.drop(['Salary', 'League', 'Division', 'NewLeague'], axis=1).astype('float64')\n",
    "X = pd.concat([X_, dms[['League_N', 'Division_W', 'NewLeague_N']]], axis=1)\n",
    "X_train, X_test, y_train, y_test = train_test_split(X, y, \n",
    "                                                    test_size=0.25, \n",
    "                                                    random_state=42)"
   ]
  },
  {
   "cell_type": "code",
   "execution_count": 340,
   "metadata": {
    "tags": []
   },
   "outputs": [],
   "source": [
    "bag_model = BaggingRegressor(bootstrap_features= True)"
   ]
  },
  {
   "cell_type": "code",
   "execution_count": 341,
   "metadata": {
    "tags": []
   },
   "outputs": [
    {
     "data": {
      "text/html": [
       "<style>#sk-container-id-24 {color: black;}#sk-container-id-24 pre{padding: 0;}#sk-container-id-24 div.sk-toggleable {background-color: white;}#sk-container-id-24 label.sk-toggleable__label {cursor: pointer;display: block;width: 100%;margin-bottom: 0;padding: 0.3em;box-sizing: border-box;text-align: center;}#sk-container-id-24 label.sk-toggleable__label-arrow:before {content: \"▸\";float: left;margin-right: 0.25em;color: #696969;}#sk-container-id-24 label.sk-toggleable__label-arrow:hover:before {color: black;}#sk-container-id-24 div.sk-estimator:hover label.sk-toggleable__label-arrow:before {color: black;}#sk-container-id-24 div.sk-toggleable__content {max-height: 0;max-width: 0;overflow: hidden;text-align: left;background-color: #f0f8ff;}#sk-container-id-24 div.sk-toggleable__content pre {margin: 0.2em;color: black;border-radius: 0.25em;background-color: #f0f8ff;}#sk-container-id-24 input.sk-toggleable__control:checked~div.sk-toggleable__content {max-height: 200px;max-width: 100%;overflow: auto;}#sk-container-id-24 input.sk-toggleable__control:checked~label.sk-toggleable__label-arrow:before {content: \"▾\";}#sk-container-id-24 div.sk-estimator input.sk-toggleable__control:checked~label.sk-toggleable__label {background-color: #d4ebff;}#sk-container-id-24 div.sk-label input.sk-toggleable__control:checked~label.sk-toggleable__label {background-color: #d4ebff;}#sk-container-id-24 input.sk-hidden--visually {border: 0;clip: rect(1px 1px 1px 1px);clip: rect(1px, 1px, 1px, 1px);height: 1px;margin: -1px;overflow: hidden;padding: 0;position: absolute;width: 1px;}#sk-container-id-24 div.sk-estimator {font-family: monospace;background-color: #f0f8ff;border: 1px dotted black;border-radius: 0.25em;box-sizing: border-box;margin-bottom: 0.5em;}#sk-container-id-24 div.sk-estimator:hover {background-color: #d4ebff;}#sk-container-id-24 div.sk-parallel-item::after {content: \"\";width: 100%;border-bottom: 1px solid gray;flex-grow: 1;}#sk-container-id-24 div.sk-label:hover label.sk-toggleable__label {background-color: #d4ebff;}#sk-container-id-24 div.sk-serial::before {content: \"\";position: absolute;border-left: 1px solid gray;box-sizing: border-box;top: 0;bottom: 0;left: 50%;z-index: 0;}#sk-container-id-24 div.sk-serial {display: flex;flex-direction: column;align-items: center;background-color: white;padding-right: 0.2em;padding-left: 0.2em;position: relative;}#sk-container-id-24 div.sk-item {position: relative;z-index: 1;}#sk-container-id-24 div.sk-parallel {display: flex;align-items: stretch;justify-content: center;background-color: white;position: relative;}#sk-container-id-24 div.sk-item::before, #sk-container-id-24 div.sk-parallel-item::before {content: \"\";position: absolute;border-left: 1px solid gray;box-sizing: border-box;top: 0;bottom: 0;left: 50%;z-index: -1;}#sk-container-id-24 div.sk-parallel-item {display: flex;flex-direction: column;z-index: 1;position: relative;background-color: white;}#sk-container-id-24 div.sk-parallel-item:first-child::after {align-self: flex-end;width: 50%;}#sk-container-id-24 div.sk-parallel-item:last-child::after {align-self: flex-start;width: 50%;}#sk-container-id-24 div.sk-parallel-item:only-child::after {width: 0;}#sk-container-id-24 div.sk-dashed-wrapped {border: 1px dashed gray;margin: 0 0.4em 0.5em 0.4em;box-sizing: border-box;padding-bottom: 0.4em;background-color: white;}#sk-container-id-24 div.sk-label label {font-family: monospace;font-weight: bold;display: inline-block;line-height: 1.2em;}#sk-container-id-24 div.sk-label-container {text-align: center;}#sk-container-id-24 div.sk-container {/* jupyter's `normalize.less` sets `[hidden] { display: none; }` but bootstrap.min.css set `[hidden] { display: none !important; }` so we also need the `!important` here to be able to override the default hidden behavior on the sphinx rendered scikit-learn.org. See: https://github.com/scikit-learn/scikit-learn/issues/21755 */display: inline-block !important;position: relative;}#sk-container-id-24 div.sk-text-repr-fallback {display: none;}</style><div id=\"sk-container-id-24\" class=\"sk-top-container\"><div class=\"sk-text-repr-fallback\"><pre>BaggingRegressor(bootstrap_features=True)</pre><b>In a Jupyter environment, please rerun this cell to show the HTML representation or trust the notebook. <br />On GitHub, the HTML representation is unable to render, please try loading this page with nbviewer.org.</b></div><div class=\"sk-container\" hidden><div class=\"sk-item\"><div class=\"sk-estimator sk-toggleable\"><input class=\"sk-toggleable__control sk-hidden--visually\" id=\"sk-estimator-id-42\" type=\"checkbox\" checked><label for=\"sk-estimator-id-42\" class=\"sk-toggleable__label sk-toggleable__label-arrow\">BaggingRegressor</label><div class=\"sk-toggleable__content\"><pre>BaggingRegressor(bootstrap_features=True)</pre></div></div></div></div></div>"
      ],
      "text/plain": [
       "BaggingRegressor(bootstrap_features=True)"
      ]
     },
     "execution_count": 341,
     "metadata": {},
     "output_type": "execute_result"
    }
   ],
   "source": [
    "bag_model.fit(X_train, y_train)"
   ]
  },
  {
   "cell_type": "code",
   "execution_count": 324,
   "metadata": {
    "tags": []
   },
   "outputs": [
    {
     "data": {
      "text/plain": [
       "10"
      ]
     },
     "execution_count": 324,
     "metadata": {},
     "output_type": "execute_result"
    }
   ],
   "source": [
    "bag_model.n_estimators"
   ]
  },
  {
   "cell_type": "code",
   "execution_count": 325,
   "metadata": {
    "tags": []
   },
   "outputs": [
    {
     "data": {
      "text/plain": [
       "[DecisionTreeRegressor(random_state=1643163179),\n",
       " DecisionTreeRegressor(random_state=533187129),\n",
       " DecisionTreeRegressor(random_state=1034603055),\n",
       " DecisionTreeRegressor(random_state=1863473422),\n",
       " DecisionTreeRegressor(random_state=1797615080),\n",
       " DecisionTreeRegressor(random_state=1168705688),\n",
       " DecisionTreeRegressor(random_state=1068834824),\n",
       " DecisionTreeRegressor(random_state=2026152497),\n",
       " DecisionTreeRegressor(random_state=455089029),\n",
       " DecisionTreeRegressor(random_state=1491228093)]"
      ]
     },
     "execution_count": 325,
     "metadata": {},
     "output_type": "execute_result"
    }
   ],
   "source": [
    "bag_model.estimators_"
   ]
  },
  {
   "cell_type": "code",
   "execution_count": 326,
   "metadata": {
    "collapsed": true,
    "jupyter": {
     "outputs_hidden": true
    },
    "tags": []
   },
   "outputs": [
    {
     "data": {
      "text/plain": [
       "[array([195, 174,  91,  12, 101,  47, 178, 141, 171,  16, 110, 114, 172,\n",
       "        189, 179, 164, 177,  29,  61, 175, 172, 125,  38, 128,  90, 114,\n",
       "         55, 159,  34, 133,  61,  33, 168, 152,  89,  89,  30, 155,  22,\n",
       "         87, 104,  76,  13, 104, 153, 141,  21, 114,  87,  78, 144, 141,\n",
       "        130,  81, 168,  57,  49,  74,  37,  57,  64,   4, 103,  71, 148,\n",
       "         90, 144, 176,  94, 112,  38,   5, 110,  72, 188, 176, 129,  79,\n",
       "        181,  46, 138,  83, 163,  20,   3,  82,  38,   7,  11, 115, 141,\n",
       "         73,  50,  24,  71, 156, 133, 166,   3,  77, 161,  20, 113, 154,\n",
       "        140, 122, 157, 177, 158,  28, 134, 157, 144, 127,  35,  67, 118,\n",
       "         43,  81, 168, 125, 179,  27,  24, 138, 153,  37,  63,  39, 121,\n",
       "         97,  79, 109, 112, 179, 101,  47, 134, 110, 131, 133, 172,  13,\n",
       "        133,  87, 168,  26,  35, 128, 127,  20,  28, 169, 140, 128,  52,\n",
       "         40,  57,  91, 161,  64,  53, 142, 128,   0,   6,  72, 118,  22,\n",
       "         41, 180,  36, 153,  75,  10,  77,   7, 112, 133,  45,  76, 190,\n",
       "         47,  14, 108, 194,   7, 164, 167,  77, 151, 126,   7, 144,  64,\n",
       "         65,  29]),\n",
       " array([ 97, 105, 165, 180, 103, 127, 189,  49,  47,   0,  32, 114, 140,\n",
       "        192, 112,  35, 115, 116,  89, 164, 182,  96,  19,  76,  98,   5,\n",
       "         61,  16,   8, 138,  43, 173, 152, 118, 144, 146,  52, 115,  72,\n",
       "        108, 126, 164,  29, 164, 181, 132, 168, 188, 128,  73,  46,  86,\n",
       "        103, 152,  10,  44,  87, 170,  37, 131, 180, 125,  57, 113,  11,\n",
       "         87,  94,   6,   6,  52,   5,  31,  26, 132, 176,  13,  93, 193,\n",
       "         40, 100,  43, 105, 162, 191,  16, 122,  42, 149,  87,  56,  36,\n",
       "        105,  27,  89, 108, 167,  95, 116,  35,  10, 149,  47, 128,  70,\n",
       "        146,  11, 146, 117, 104,  32,   4, 122, 138,  62, 146,  62,  29,\n",
       "        144,  96, 176,  83, 180,  48, 168,  57, 163,  35, 109,  39, 126,\n",
       "         66, 149, 177,  95,  52,  75,  34,  11, 146,  56, 162, 178, 134,\n",
       "          4,  90,  87, 167, 186, 154, 131, 103, 193, 131, 122, 150,  71,\n",
       "         30,  84,  53,  30,  47,  53, 159,  53, 169,  41, 127,  59, 173,\n",
       "        106, 159, 137, 179, 189,  17,  21, 104,  89,  78, 101,  10,  71,\n",
       "         98, 160,   1, 138,  77, 144,  41, 139,  74,   4, 112,  64,  78,\n",
       "         47,  17]),\n",
       " array([  0,  66, 176, 114, 151,  14, 177,  41,  54, 191,  10, 112, 116,\n",
       "        175, 152,   0, 154, 119,  89,  27, 180,  89,  78, 187, 125, 158,\n",
       "        176,  29,  92, 125, 135, 181, 134,  15, 110, 113,  61, 176, 143,\n",
       "        193, 126, 163, 137, 180, 176, 170, 109,  36, 192,  26,  90, 104,\n",
       "         12,  34,  25, 100, 158,  82, 108,  37,  24, 156,  11,  14, 148,\n",
       "        153,  55,  47,  36,  26, 185, 187,  33, 107, 125,  35,   8, 175,\n",
       "        136, 143,  55, 181,   6, 105,  40,  33,  10, 169,  60,  88,  24,\n",
       "         70,   8,  78, 150, 104, 164,  55,  79,  53, 139,  55,  75, 117,\n",
       "         22,   6,  47, 141,  17, 154, 169,  12,  61,  33, 117,  31, 177,\n",
       "         65,  86, 149,  65,  63,  34,  52,  83, 110,  57, 196, 167, 156,\n",
       "          9,  25, 178, 143,  64, 122,  67,  70, 122,  97, 178,  91,  68,\n",
       "         22, 167,  48,  73, 144, 193, 138, 153, 185, 132,  86, 172,  26,\n",
       "         49, 133,  55,  58, 167,  19,  70,  29,  21, 107,  34,  24, 181,\n",
       "         13,  92, 185, 128,   6, 109,  54,  95,  40, 180,  85,  92,  68,\n",
       "        161,  92,   6,  62, 167, 106, 121,  16, 136, 180,  51,  64,  50,\n",
       "        182,  20]),\n",
       " array([193,  72,  35,  29,  11,  50, 144, 172, 164, 169, 176, 170, 121,\n",
       "         93,  38,  16,  48,  54, 111, 109, 148,  72, 116,  43, 139, 170,\n",
       "         59, 168, 125, 153, 177, 128,  78,  88, 123, 106, 165, 103,   9,\n",
       "        134,  55,  54,  63,  54, 183,  18,  44,   5,  87, 175, 105,  84,\n",
       "        120, 156, 101,  84,  66,  21,  84, 116, 147, 162, 190, 132, 143,\n",
       "         61,  24, 167, 165,   5, 176, 100,  98, 189,   0, 138, 175, 105,\n",
       "        165, 113,  28, 100, 100, 107,  27, 127,  27, 119,   7, 160,   1,\n",
       "         96,   5, 166,   3, 170,   4,   8,  30,  40,   6, 137, 146,  93,\n",
       "         19, 195,   2,  51, 165, 123,  93, 127,  92,  15, 141,  82,  10,\n",
       "        188,  27,  69,  60, 192, 109,  29,   2, 122,  28,  36, 115, 107,\n",
       "        151,  31,  44, 166, 181, 127, 181,  62, 147,  30,  62, 101, 174,\n",
       "        129,  83,  67,  23, 104,  10,  79,  34,  91, 126, 192, 159,  29,\n",
       "        127,  57,  25,  61,  98, 194, 116,  42,  21, 114, 118,  97, 101,\n",
       "          3, 128,  51,  17,  52,  59,  59, 171,  82, 139,   3,  65,  22,\n",
       "        167, 163,  20,  19, 137,  71, 122, 120,   9, 142,  23,  99, 119,\n",
       "        166,  75]),\n",
       " array([  0, 121,  94,  18,  23,  82,  92,  79, 114, 120, 163,  69, 195,\n",
       "        174, 103,  51,  66, 149,   4,   1,  56, 126,  70, 128,  40,  30,\n",
       "        153, 158, 109,  22,  58,  41, 164,  29,  95,  48, 137, 108, 145,\n",
       "         66, 113, 173, 136,  93, 168,  96, 169,   2,   7, 177, 107, 125,\n",
       "         67, 112, 103, 188,  24,  93, 170,  95, 195, 166,  53,  38, 129,\n",
       "        185,  72, 170, 105,  73, 164, 179,  93,  93,  24, 128, 109,  14,\n",
       "        130,  35,  82,  90,   3, 121, 102, 109, 149,  88, 124, 163, 106,\n",
       "        196,  61, 176,   3,  10,  68, 135, 191, 134,  54,  80, 118, 156,\n",
       "        104,  79, 154,  64, 188,  55, 176,   1, 137, 190,  38,  33, 186,\n",
       "         34,  26,  76,  40,  95, 118, 174, 140,  88,  51,  81,  20,  26,\n",
       "         36,  60,   0,  26, 100, 114, 149,   1, 100, 146, 181, 140,  52,\n",
       "          8, 179, 157, 141,  81, 182, 136, 135,  56, 159, 192, 106,  20,\n",
       "        171,  63,  92, 166,  33,  69,   5, 159, 182,  40, 111,  28,  15,\n",
       "        191, 108, 124,  24,  60,   0,  43, 143,  36, 109, 185,  92, 107,\n",
       "        113, 110,  44, 121,  40, 129,  85,   6,  11, 106,  12, 161, 190,\n",
       "         22, 177]),\n",
       " array([189, 123, 111,   6,  77,   1, 110, 164, 119, 100,  51,  71, 121,\n",
       "         13, 142, 166, 184,  51, 176,  46,   2,  61,  16,  23,  25, 158,\n",
       "          8, 144,   0,  38,  35, 177, 148,  78, 128, 120, 155,  45,  76,\n",
       "        118, 121, 111, 166,  65, 166,  38, 123, 164, 112, 174, 171,  80,\n",
       "        153, 177,  92,  78,  53, 174,  18,  41,  84, 188,  38,  83,   9,\n",
       "         59, 100,  64,  78, 113, 163,  70, 121,  52,  89,  81, 106, 147,\n",
       "         72,  51,  74,  98,  67, 133,   0,   1, 183, 127, 187, 108,  21,\n",
       "         99,  97, 148, 159,   3,  72,  67, 114,   0, 160, 135,  49, 129,\n",
       "        125, 171,  34,  31, 193, 115,  97, 154, 135,  48, 174,  24, 114,\n",
       "         34,  46, 104,   1,  28,  77,  31,  16, 111,  66,  54, 101, 190,\n",
       "          1,  21,   1,  28, 180,  60, 111, 157, 161, 185,  51,  35, 175,\n",
       "         52, 171,  19,  33,  14,  47, 118,  30, 100, 104,  56,  85,  51,\n",
       "         69, 191, 145,  79, 111,   2,  95, 153, 177,  38,  13,  29, 188,\n",
       "         65, 116,  30, 139,   7,  73,   7, 127,  56, 159, 108, 193,  80,\n",
       "        114,  63,  13,  59,  24,  17,  67,  66,  76,  41, 190, 168,  66,\n",
       "        151, 160]),\n",
       " array([182,  35, 122, 189, 157,  95, 165,  79, 170, 154,  71,  49, 139,\n",
       "         18, 107, 176,   3,  44, 119,  21,  85, 164,  50, 117, 147,  46,\n",
       "        158,  38, 119,  59, 194,  38, 178,   3, 155, 192,  84, 186,  43,\n",
       "        155,  25,   8,  44,   3,  72,  83, 110,  82,  96,  65, 122, 181,\n",
       "        136,  59, 137, 192, 152, 119, 138, 136,  20,  19,  26, 188,  33,\n",
       "        131, 176, 112,  85, 181, 180,  38, 134, 107,  80,  12, 156,  58,\n",
       "        129,  58, 102, 155,  47, 142, 119, 175, 189, 184, 174, 193,   5,\n",
       "         13, 183,  74, 121, 132,  43, 161, 134,  37,  55,  72, 105,  17,\n",
       "         25, 111, 143, 107, 189,  77,  77,  70, 124,  45, 100, 195,  57,\n",
       "        107, 153, 102, 143,  47, 144,  92, 122,  54,  68, 140,  16, 187,\n",
       "         24,  23,  86, 137, 189,  38,  69,  44,  20, 143,  74, 139,  74,\n",
       "         82, 142,  83, 160, 193, 142, 134, 120,  25,   4,  40,   2, 180,\n",
       "        142, 192, 174, 166, 142,   0,  41,  76,   2, 108, 114,  30, 166,\n",
       "         52,  62,  37, 156, 184, 144, 126, 171,   1, 150, 140, 110,  51,\n",
       "          2,  59, 159,  91,  77, 157,  24, 130,  50, 176,  95,  40, 161,\n",
       "        132,  18]),\n",
       " array([ 40, 194,  62,  14,  65,  33, 188, 160,  61, 153, 108, 183,  53,\n",
       "         41,  23,  77,  58, 156, 142, 149,  38,  15,  93, 174, 110,  91,\n",
       "         74, 176, 180, 191,  97, 107, 118, 136, 150,   3, 195,  54, 171,\n",
       "         16, 122,  82,  39, 177,   6, 148, 156,  88, 174,  77,  30, 117,\n",
       "        131, 108, 171, 103, 184,  34,  81,  83,  18,  31,  23,  99, 104,\n",
       "         44, 159,  94, 181,  69, 178,  69,  47, 166, 142,  18,  33, 129,\n",
       "        172, 135, 172,  30,  85,   7,  85, 112,  40, 153, 192,  99,  53,\n",
       "         33,  11,  66, 136,  64, 184,  72, 187, 175,  72,  22, 168, 140,\n",
       "        120,  79,  74,  74, 101,  86,  46, 104, 136, 146,  43, 190,  11,\n",
       "         28, 118,  37,  76, 118,  76, 166,  37, 131, 195, 196, 189, 108,\n",
       "         53, 122, 122, 122,  93,  96, 162,  43,  26, 142,  75,   4, 160,\n",
       "         21, 188, 172,  98,  72, 159,  96,  73,  35,  12,  71, 130,  25,\n",
       "         20, 165,  83,  19,  57, 145,  72,  94, 189, 114, 137,  61, 144,\n",
       "        117,   9,  84,  10, 122,  51, 121, 158,  93, 122,   0, 168, 113,\n",
       "        108,   6,  49,  13, 177,  10, 183,  83, 148,  10, 151,  41, 157,\n",
       "         79, 185]),\n",
       " array([194, 143,  55, 130, 130, 191,  97,  16, 124, 118,  99,  96, 140,\n",
       "         33, 191,  84,  56, 181,  26,   5,  12, 178, 162,  99,   8, 179,\n",
       "         19,  74,  34, 155,  19, 179,  29,  75, 183, 109,  48, 137,  69,\n",
       "        158, 184, 117,  74,   4,   6, 131, 111,  93, 194, 172,   2, 106,\n",
       "        110,  82,  34, 170, 137, 196,  28, 163, 124,  37, 151, 158, 102,\n",
       "         21, 138,  23, 104, 178,  78, 167, 185,  22,  77, 155, 150, 164,\n",
       "         41, 133,  98, 151, 185, 165,  24, 179, 155,   9, 125,  40,   7,\n",
       "        143,  17, 165,  59,  71, 175,  30,  50,  80,  23, 106,  25,  61,\n",
       "         82, 104,   5, 123,  31, 149,  78,  57, 119, 109, 169,  55,  19,\n",
       "         76,  56,   6,  89,  26,  95, 177, 149,  75, 196, 121, 179, 153,\n",
       "        173,  79,  29,  77,  13,  11, 102,  48,  53, 104,  97,  39,  51,\n",
       "         48, 104,  30, 128,  98,   4,  99,  55,   7, 108, 157,  95,   7,\n",
       "         38,  59,  52, 108,  23,  27, 110, 169, 153,  13,  79, 138, 171,\n",
       "        126,  81,  42, 110, 178,  58,  90, 151, 176,  26, 117,  86,  81,\n",
       "          8,  11, 114, 171, 113,  71, 139,  65,  96, 171,  47,  44,  79,\n",
       "         37,  34]),\n",
       " array([176,  48, 101,  36,  62,  20, 174, 112, 195,  96, 113,  46, 129,\n",
       "          6,  78, 176, 133, 172,  76, 129, 105, 167,  81,  88, 110,  94,\n",
       "        142,  26,  43, 110,  17,  14,  40, 139,  56, 132,  27, 140,  32,\n",
       "         60, 119,  42, 145, 192, 168,   1,  27,  41,  87,  49,  43, 150,\n",
       "        150, 194,  93,  26,  98, 140, 195,  31, 187, 144,  53, 103,  80,\n",
       "         88,  40, 196,  60, 176, 103,   7,  68, 179, 189, 134,  37, 136,\n",
       "        191, 111,  71,  29,  86,  67, 133,  15,  99, 112,  34,   4,  28,\n",
       "         96, 189, 152, 130,  63, 120,  69,   0, 129, 163, 146,  91, 107,\n",
       "          7,   4, 163, 110,   4, 176,  80, 186, 149,  68, 196,  59,  50,\n",
       "        143, 193, 152, 133, 141,  86,  80,  58, 177,  93, 192,  65, 134,\n",
       "        157, 178,  69, 104,  89, 145, 169,  70, 185, 176,  64,  19, 111,\n",
       "         88, 122,  70, 143,  47, 172, 166,  25, 177,  28, 124,  85, 120,\n",
       "        193, 136,  66, 131, 101,  30,   8, 176,  74, 144, 146, 142, 180,\n",
       "        121,  46, 162, 150,  12, 156,  23, 152, 172,  55,  26,  44,  87,\n",
       "         99,   1, 184, 184,   7, 118,  65, 178,   0, 151,  98,  93,  14,\n",
       "        110, 109])]"
      ]
     },
     "execution_count": 326,
     "metadata": {},
     "output_type": "execute_result"
    }
   ],
   "source": [
    "bag_model.estimators_samples_"
   ]
  },
  {
   "cell_type": "code",
   "execution_count": 327,
   "metadata": {
    "collapsed": true,
    "jupyter": {
     "outputs_hidden": true
    },
    "tags": []
   },
   "outputs": [
    {
     "data": {
      "text/plain": [
       "[array([11,  5,  2,  8,  5, 13,  1, 17,  2, 12, 13,  3, 14, 14,  7,  5,  8,\n",
       "        18,  4]),\n",
       " array([10,  3,  4,  4, 10,  4, 16,  3,  2,  0,  9, 14,  3, 14, 13, 12, 15,\n",
       "        15,  7]),\n",
       " array([15,  3,  5, 10,  4,  9, 15,  0, 15,  6,  2,  3, 15,  0, 17,  6, 11,\n",
       "        17,  4]),\n",
       " array([14,  6,  0,  7,  5,  8,  7, 10,  2,  5,  4, 17, 13,  1,  8,  9, 13,\n",
       "         9, 17]),\n",
       " array([ 8, 18,  5, 11, 18,  9, 11,  7, 12,  5, 11,  8, 11,  6, 10,  2,  3,\n",
       "         5,  4]),\n",
       " array([16,  6, 18, 13, 13,  4,  6,  7, 14,  9, 13, 18, 15,  1,  2,  5,  9,\n",
       "         8,  7]),\n",
       " array([ 8,  4,  8,  3, 18, 13,  3, 11, 10,  1, 16,  5, 14,  9, 16, 13,  9,\n",
       "        15, 15]),\n",
       " array([17, 16,  1,  4,  4, 12, 12, 11, 14, 11,  7, 10, 14, 17, 11, 11, 18,\n",
       "         2, 12]),\n",
       " array([ 5, 18, 18,  0, 11, 12, 16, 15, 14,  9, 17,  8,  4,  3,  7,  0, 13,\n",
       "         7,  6]),\n",
       " array([17,  9, 11, 14,  1,  1,  1, 14,  8,  2, 17,  0,  2, 18, 11,  9,  2,\n",
       "        18, 14])]"
      ]
     },
     "execution_count": 327,
     "metadata": {},
     "output_type": "execute_result"
    }
   ],
   "source": [
    "bag_model.estimators_features_"
   ]
  },
  {
   "cell_type": "markdown",
   "metadata": {},
   "source": [
    "### Tahmin ve Model Tuning"
   ]
  },
  {
   "cell_type": "code",
   "execution_count": 342,
   "metadata": {
    "tags": []
   },
   "outputs": [],
   "source": [
    "y_pred = bag_model.predict(X_test)"
   ]
  },
  {
   "cell_type": "code",
   "execution_count": 343,
   "metadata": {
    "tags": []
   },
   "outputs": [
    {
     "data": {
      "text/plain": [
       "336.76792607844476"
      ]
     },
     "execution_count": 343,
     "metadata": {},
     "output_type": "execute_result"
    }
   ],
   "source": [
    "np.sqrt(mean_squared_error(y_test, y_pred))"
   ]
  },
  {
   "cell_type": "code",
   "execution_count": 351,
   "metadata": {
    "tags": []
   },
   "outputs": [],
   "source": [
    "iki_y_pred = bag_model.estimators_[1].fit(X_train, y_train).predict(X_test)"
   ]
  },
  {
   "cell_type": "code",
   "execution_count": 352,
   "metadata": {
    "tags": []
   },
   "outputs": [
    {
     "data": {
      "text/plain": [
       "441.4912374916335"
      ]
     },
     "execution_count": 352,
     "metadata": {},
     "output_type": "execute_result"
    }
   ],
   "source": [
    "np.sqrt(mean_squared_error(y_test, iki_y_pred))"
   ]
  },
  {
   "cell_type": "code",
   "execution_count": 353,
   "metadata": {
    "tags": []
   },
   "outputs": [],
   "source": [
    "yedi_y_pred = bag_model.estimators_[7].fit(X_train, y_train).predict(X_test)"
   ]
  },
  {
   "cell_type": "code",
   "execution_count": 354,
   "metadata": {
    "tags": []
   },
   "outputs": [
    {
     "data": {
      "text/plain": [
       "458.76320558144556"
      ]
     },
     "execution_count": 354,
     "metadata": {},
     "output_type": "execute_result"
    }
   ],
   "source": [
    "np.sqrt(mean_squared_error(y_test, yedi_y_pred))"
   ]
  },
  {
   "cell_type": "code",
   "execution_count": 355,
   "metadata": {
    "tags": []
   },
   "outputs": [
    {
     "data": {
      "text/html": [
       "<style>#sk-container-id-25 {color: black;}#sk-container-id-25 pre{padding: 0;}#sk-container-id-25 div.sk-toggleable {background-color: white;}#sk-container-id-25 label.sk-toggleable__label {cursor: pointer;display: block;width: 100%;margin-bottom: 0;padding: 0.3em;box-sizing: border-box;text-align: center;}#sk-container-id-25 label.sk-toggleable__label-arrow:before {content: \"▸\";float: left;margin-right: 0.25em;color: #696969;}#sk-container-id-25 label.sk-toggleable__label-arrow:hover:before {color: black;}#sk-container-id-25 div.sk-estimator:hover label.sk-toggleable__label-arrow:before {color: black;}#sk-container-id-25 div.sk-toggleable__content {max-height: 0;max-width: 0;overflow: hidden;text-align: left;background-color: #f0f8ff;}#sk-container-id-25 div.sk-toggleable__content pre {margin: 0.2em;color: black;border-radius: 0.25em;background-color: #f0f8ff;}#sk-container-id-25 input.sk-toggleable__control:checked~div.sk-toggleable__content {max-height: 200px;max-width: 100%;overflow: auto;}#sk-container-id-25 input.sk-toggleable__control:checked~label.sk-toggleable__label-arrow:before {content: \"▾\";}#sk-container-id-25 div.sk-estimator input.sk-toggleable__control:checked~label.sk-toggleable__label {background-color: #d4ebff;}#sk-container-id-25 div.sk-label input.sk-toggleable__control:checked~label.sk-toggleable__label {background-color: #d4ebff;}#sk-container-id-25 input.sk-hidden--visually {border: 0;clip: rect(1px 1px 1px 1px);clip: rect(1px, 1px, 1px, 1px);height: 1px;margin: -1px;overflow: hidden;padding: 0;position: absolute;width: 1px;}#sk-container-id-25 div.sk-estimator {font-family: monospace;background-color: #f0f8ff;border: 1px dotted black;border-radius: 0.25em;box-sizing: border-box;margin-bottom: 0.5em;}#sk-container-id-25 div.sk-estimator:hover {background-color: #d4ebff;}#sk-container-id-25 div.sk-parallel-item::after {content: \"\";width: 100%;border-bottom: 1px solid gray;flex-grow: 1;}#sk-container-id-25 div.sk-label:hover label.sk-toggleable__label {background-color: #d4ebff;}#sk-container-id-25 div.sk-serial::before {content: \"\";position: absolute;border-left: 1px solid gray;box-sizing: border-box;top: 0;bottom: 0;left: 50%;z-index: 0;}#sk-container-id-25 div.sk-serial {display: flex;flex-direction: column;align-items: center;background-color: white;padding-right: 0.2em;padding-left: 0.2em;position: relative;}#sk-container-id-25 div.sk-item {position: relative;z-index: 1;}#sk-container-id-25 div.sk-parallel {display: flex;align-items: stretch;justify-content: center;background-color: white;position: relative;}#sk-container-id-25 div.sk-item::before, #sk-container-id-25 div.sk-parallel-item::before {content: \"\";position: absolute;border-left: 1px solid gray;box-sizing: border-box;top: 0;bottom: 0;left: 50%;z-index: -1;}#sk-container-id-25 div.sk-parallel-item {display: flex;flex-direction: column;z-index: 1;position: relative;background-color: white;}#sk-container-id-25 div.sk-parallel-item:first-child::after {align-self: flex-end;width: 50%;}#sk-container-id-25 div.sk-parallel-item:last-child::after {align-self: flex-start;width: 50%;}#sk-container-id-25 div.sk-parallel-item:only-child::after {width: 0;}#sk-container-id-25 div.sk-dashed-wrapped {border: 1px dashed gray;margin: 0 0.4em 0.5em 0.4em;box-sizing: border-box;padding-bottom: 0.4em;background-color: white;}#sk-container-id-25 div.sk-label label {font-family: monospace;font-weight: bold;display: inline-block;line-height: 1.2em;}#sk-container-id-25 div.sk-label-container {text-align: center;}#sk-container-id-25 div.sk-container {/* jupyter's `normalize.less` sets `[hidden] { display: none; }` but bootstrap.min.css set `[hidden] { display: none !important; }` so we also need the `!important` here to be able to override the default hidden behavior on the sphinx rendered scikit-learn.org. See: https://github.com/scikit-learn/scikit-learn/issues/21755 */display: inline-block !important;position: relative;}#sk-container-id-25 div.sk-text-repr-fallback {display: none;}</style><div id=\"sk-container-id-25\" class=\"sk-top-container\"><div class=\"sk-text-repr-fallback\"><pre>BaggingRegressor(bootstrap_features=True)</pre><b>In a Jupyter environment, please rerun this cell to show the HTML representation or trust the notebook. <br />On GitHub, the HTML representation is unable to render, please try loading this page with nbviewer.org.</b></div><div class=\"sk-container\" hidden><div class=\"sk-item\"><div class=\"sk-estimator sk-toggleable\"><input class=\"sk-toggleable__control sk-hidden--visually\" id=\"sk-estimator-id-43\" type=\"checkbox\" checked><label for=\"sk-estimator-id-43\" class=\"sk-toggleable__label sk-toggleable__label-arrow\">BaggingRegressor</label><div class=\"sk-toggleable__content\"><pre>BaggingRegressor(bootstrap_features=True)</pre></div></div></div></div></div>"
      ],
      "text/plain": [
       "BaggingRegressor(bootstrap_features=True)"
      ]
     },
     "execution_count": 355,
     "metadata": {},
     "output_type": "execute_result"
    }
   ],
   "source": [
    "bag_model = BaggingRegressor(bootstrap_features= True)\n",
    "bag_model.fit(X_train, y_train)"
   ]
  },
  {
   "cell_type": "code",
   "execution_count": 356,
   "metadata": {
    "tags": []
   },
   "outputs": [],
   "source": [
    "bag_params = {\"n_estimators\": range(2,20)}"
   ]
  },
  {
   "cell_type": "code",
   "execution_count": 357,
   "metadata": {
    "tags": []
   },
   "outputs": [],
   "source": [
    "bag_cv_model = GridSearchCV(bag_model, bag_params,cv=10)"
   ]
  },
  {
   "cell_type": "code",
   "execution_count": 358,
   "metadata": {
    "tags": []
   },
   "outputs": [
    {
     "data": {
      "text/html": [
       "<style>#sk-container-id-26 {color: black;}#sk-container-id-26 pre{padding: 0;}#sk-container-id-26 div.sk-toggleable {background-color: white;}#sk-container-id-26 label.sk-toggleable__label {cursor: pointer;display: block;width: 100%;margin-bottom: 0;padding: 0.3em;box-sizing: border-box;text-align: center;}#sk-container-id-26 label.sk-toggleable__label-arrow:before {content: \"▸\";float: left;margin-right: 0.25em;color: #696969;}#sk-container-id-26 label.sk-toggleable__label-arrow:hover:before {color: black;}#sk-container-id-26 div.sk-estimator:hover label.sk-toggleable__label-arrow:before {color: black;}#sk-container-id-26 div.sk-toggleable__content {max-height: 0;max-width: 0;overflow: hidden;text-align: left;background-color: #f0f8ff;}#sk-container-id-26 div.sk-toggleable__content pre {margin: 0.2em;color: black;border-radius: 0.25em;background-color: #f0f8ff;}#sk-container-id-26 input.sk-toggleable__control:checked~div.sk-toggleable__content {max-height: 200px;max-width: 100%;overflow: auto;}#sk-container-id-26 input.sk-toggleable__control:checked~label.sk-toggleable__label-arrow:before {content: \"▾\";}#sk-container-id-26 div.sk-estimator input.sk-toggleable__control:checked~label.sk-toggleable__label {background-color: #d4ebff;}#sk-container-id-26 div.sk-label input.sk-toggleable__control:checked~label.sk-toggleable__label {background-color: #d4ebff;}#sk-container-id-26 input.sk-hidden--visually {border: 0;clip: rect(1px 1px 1px 1px);clip: rect(1px, 1px, 1px, 1px);height: 1px;margin: -1px;overflow: hidden;padding: 0;position: absolute;width: 1px;}#sk-container-id-26 div.sk-estimator {font-family: monospace;background-color: #f0f8ff;border: 1px dotted black;border-radius: 0.25em;box-sizing: border-box;margin-bottom: 0.5em;}#sk-container-id-26 div.sk-estimator:hover {background-color: #d4ebff;}#sk-container-id-26 div.sk-parallel-item::after {content: \"\";width: 100%;border-bottom: 1px solid gray;flex-grow: 1;}#sk-container-id-26 div.sk-label:hover label.sk-toggleable__label {background-color: #d4ebff;}#sk-container-id-26 div.sk-serial::before {content: \"\";position: absolute;border-left: 1px solid gray;box-sizing: border-box;top: 0;bottom: 0;left: 50%;z-index: 0;}#sk-container-id-26 div.sk-serial {display: flex;flex-direction: column;align-items: center;background-color: white;padding-right: 0.2em;padding-left: 0.2em;position: relative;}#sk-container-id-26 div.sk-item {position: relative;z-index: 1;}#sk-container-id-26 div.sk-parallel {display: flex;align-items: stretch;justify-content: center;background-color: white;position: relative;}#sk-container-id-26 div.sk-item::before, #sk-container-id-26 div.sk-parallel-item::before {content: \"\";position: absolute;border-left: 1px solid gray;box-sizing: border-box;top: 0;bottom: 0;left: 50%;z-index: -1;}#sk-container-id-26 div.sk-parallel-item {display: flex;flex-direction: column;z-index: 1;position: relative;background-color: white;}#sk-container-id-26 div.sk-parallel-item:first-child::after {align-self: flex-end;width: 50%;}#sk-container-id-26 div.sk-parallel-item:last-child::after {align-self: flex-start;width: 50%;}#sk-container-id-26 div.sk-parallel-item:only-child::after {width: 0;}#sk-container-id-26 div.sk-dashed-wrapped {border: 1px dashed gray;margin: 0 0.4em 0.5em 0.4em;box-sizing: border-box;padding-bottom: 0.4em;background-color: white;}#sk-container-id-26 div.sk-label label {font-family: monospace;font-weight: bold;display: inline-block;line-height: 1.2em;}#sk-container-id-26 div.sk-label-container {text-align: center;}#sk-container-id-26 div.sk-container {/* jupyter's `normalize.less` sets `[hidden] { display: none; }` but bootstrap.min.css set `[hidden] { display: none !important; }` so we also need the `!important` here to be able to override the default hidden behavior on the sphinx rendered scikit-learn.org. See: https://github.com/scikit-learn/scikit-learn/issues/21755 */display: inline-block !important;position: relative;}#sk-container-id-26 div.sk-text-repr-fallback {display: none;}</style><div id=\"sk-container-id-26\" class=\"sk-top-container\"><div class=\"sk-text-repr-fallback\"><pre>GridSearchCV(cv=10, estimator=BaggingRegressor(bootstrap_features=True),\n",
       "             param_grid={&#x27;n_estimators&#x27;: range(2, 20)})</pre><b>In a Jupyter environment, please rerun this cell to show the HTML representation or trust the notebook. <br />On GitHub, the HTML representation is unable to render, please try loading this page with nbviewer.org.</b></div><div class=\"sk-container\" hidden><div class=\"sk-item sk-dashed-wrapped\"><div class=\"sk-label-container\"><div class=\"sk-label sk-toggleable\"><input class=\"sk-toggleable__control sk-hidden--visually\" id=\"sk-estimator-id-44\" type=\"checkbox\" ><label for=\"sk-estimator-id-44\" class=\"sk-toggleable__label sk-toggleable__label-arrow\">GridSearchCV</label><div class=\"sk-toggleable__content\"><pre>GridSearchCV(cv=10, estimator=BaggingRegressor(bootstrap_features=True),\n",
       "             param_grid={&#x27;n_estimators&#x27;: range(2, 20)})</pre></div></div></div><div class=\"sk-parallel\"><div class=\"sk-parallel-item\"><div class=\"sk-item\"><div class=\"sk-label-container\"><div class=\"sk-label sk-toggleable\"><input class=\"sk-toggleable__control sk-hidden--visually\" id=\"sk-estimator-id-45\" type=\"checkbox\" ><label for=\"sk-estimator-id-45\" class=\"sk-toggleable__label sk-toggleable__label-arrow\">estimator: BaggingRegressor</label><div class=\"sk-toggleable__content\"><pre>BaggingRegressor(bootstrap_features=True)</pre></div></div></div><div class=\"sk-serial\"><div class=\"sk-item\"><div class=\"sk-estimator sk-toggleable\"><input class=\"sk-toggleable__control sk-hidden--visually\" id=\"sk-estimator-id-46\" type=\"checkbox\" ><label for=\"sk-estimator-id-46\" class=\"sk-toggleable__label sk-toggleable__label-arrow\">BaggingRegressor</label><div class=\"sk-toggleable__content\"><pre>BaggingRegressor(bootstrap_features=True)</pre></div></div></div></div></div></div></div></div></div></div>"
      ],
      "text/plain": [
       "GridSearchCV(cv=10, estimator=BaggingRegressor(bootstrap_features=True),\n",
       "             param_grid={'n_estimators': range(2, 20)})"
      ]
     },
     "execution_count": 358,
     "metadata": {},
     "output_type": "execute_result"
    }
   ],
   "source": [
    "bag_cv_model.fit(X_train, y_train)"
   ]
  },
  {
   "cell_type": "code",
   "execution_count": 359,
   "metadata": {
    "tags": []
   },
   "outputs": [
    {
     "data": {
      "text/plain": [
       "{'n_estimators': 18}"
      ]
     },
     "execution_count": 359,
     "metadata": {},
     "output_type": "execute_result"
    }
   ],
   "source": [
    "bag_cv_model.best_params_"
   ]
  },
  {
   "cell_type": "code",
   "execution_count": 360,
   "metadata": {
    "tags": []
   },
   "outputs": [],
   "source": [
    "bag_tuned = BaggingRegressor(n_estimators=18, random_state=42)"
   ]
  },
  {
   "cell_type": "code",
   "execution_count": 361,
   "metadata": {
    "tags": []
   },
   "outputs": [
    {
     "data": {
      "text/html": [
       "<style>#sk-container-id-27 {color: black;}#sk-container-id-27 pre{padding: 0;}#sk-container-id-27 div.sk-toggleable {background-color: white;}#sk-container-id-27 label.sk-toggleable__label {cursor: pointer;display: block;width: 100%;margin-bottom: 0;padding: 0.3em;box-sizing: border-box;text-align: center;}#sk-container-id-27 label.sk-toggleable__label-arrow:before {content: \"▸\";float: left;margin-right: 0.25em;color: #696969;}#sk-container-id-27 label.sk-toggleable__label-arrow:hover:before {color: black;}#sk-container-id-27 div.sk-estimator:hover label.sk-toggleable__label-arrow:before {color: black;}#sk-container-id-27 div.sk-toggleable__content {max-height: 0;max-width: 0;overflow: hidden;text-align: left;background-color: #f0f8ff;}#sk-container-id-27 div.sk-toggleable__content pre {margin: 0.2em;color: black;border-radius: 0.25em;background-color: #f0f8ff;}#sk-container-id-27 input.sk-toggleable__control:checked~div.sk-toggleable__content {max-height: 200px;max-width: 100%;overflow: auto;}#sk-container-id-27 input.sk-toggleable__control:checked~label.sk-toggleable__label-arrow:before {content: \"▾\";}#sk-container-id-27 div.sk-estimator input.sk-toggleable__control:checked~label.sk-toggleable__label {background-color: #d4ebff;}#sk-container-id-27 div.sk-label input.sk-toggleable__control:checked~label.sk-toggleable__label {background-color: #d4ebff;}#sk-container-id-27 input.sk-hidden--visually {border: 0;clip: rect(1px 1px 1px 1px);clip: rect(1px, 1px, 1px, 1px);height: 1px;margin: -1px;overflow: hidden;padding: 0;position: absolute;width: 1px;}#sk-container-id-27 div.sk-estimator {font-family: monospace;background-color: #f0f8ff;border: 1px dotted black;border-radius: 0.25em;box-sizing: border-box;margin-bottom: 0.5em;}#sk-container-id-27 div.sk-estimator:hover {background-color: #d4ebff;}#sk-container-id-27 div.sk-parallel-item::after {content: \"\";width: 100%;border-bottom: 1px solid gray;flex-grow: 1;}#sk-container-id-27 div.sk-label:hover label.sk-toggleable__label {background-color: #d4ebff;}#sk-container-id-27 div.sk-serial::before {content: \"\";position: absolute;border-left: 1px solid gray;box-sizing: border-box;top: 0;bottom: 0;left: 50%;z-index: 0;}#sk-container-id-27 div.sk-serial {display: flex;flex-direction: column;align-items: center;background-color: white;padding-right: 0.2em;padding-left: 0.2em;position: relative;}#sk-container-id-27 div.sk-item {position: relative;z-index: 1;}#sk-container-id-27 div.sk-parallel {display: flex;align-items: stretch;justify-content: center;background-color: white;position: relative;}#sk-container-id-27 div.sk-item::before, #sk-container-id-27 div.sk-parallel-item::before {content: \"\";position: absolute;border-left: 1px solid gray;box-sizing: border-box;top: 0;bottom: 0;left: 50%;z-index: -1;}#sk-container-id-27 div.sk-parallel-item {display: flex;flex-direction: column;z-index: 1;position: relative;background-color: white;}#sk-container-id-27 div.sk-parallel-item:first-child::after {align-self: flex-end;width: 50%;}#sk-container-id-27 div.sk-parallel-item:last-child::after {align-self: flex-start;width: 50%;}#sk-container-id-27 div.sk-parallel-item:only-child::after {width: 0;}#sk-container-id-27 div.sk-dashed-wrapped {border: 1px dashed gray;margin: 0 0.4em 0.5em 0.4em;box-sizing: border-box;padding-bottom: 0.4em;background-color: white;}#sk-container-id-27 div.sk-label label {font-family: monospace;font-weight: bold;display: inline-block;line-height: 1.2em;}#sk-container-id-27 div.sk-label-container {text-align: center;}#sk-container-id-27 div.sk-container {/* jupyter's `normalize.less` sets `[hidden] { display: none; }` but bootstrap.min.css set `[hidden] { display: none !important; }` so we also need the `!important` here to be able to override the default hidden behavior on the sphinx rendered scikit-learn.org. See: https://github.com/scikit-learn/scikit-learn/issues/21755 */display: inline-block !important;position: relative;}#sk-container-id-27 div.sk-text-repr-fallback {display: none;}</style><div id=\"sk-container-id-27\" class=\"sk-top-container\"><div class=\"sk-text-repr-fallback\"><pre>BaggingRegressor(n_estimators=18, random_state=42)</pre><b>In a Jupyter environment, please rerun this cell to show the HTML representation or trust the notebook. <br />On GitHub, the HTML representation is unable to render, please try loading this page with nbviewer.org.</b></div><div class=\"sk-container\" hidden><div class=\"sk-item\"><div class=\"sk-estimator sk-toggleable\"><input class=\"sk-toggleable__control sk-hidden--visually\" id=\"sk-estimator-id-47\" type=\"checkbox\" checked><label for=\"sk-estimator-id-47\" class=\"sk-toggleable__label sk-toggleable__label-arrow\">BaggingRegressor</label><div class=\"sk-toggleable__content\"><pre>BaggingRegressor(n_estimators=18, random_state=42)</pre></div></div></div></div></div>"
      ],
      "text/plain": [
       "BaggingRegressor(n_estimators=18, random_state=42)"
      ]
     },
     "execution_count": 361,
     "metadata": {},
     "output_type": "execute_result"
    }
   ],
   "source": [
    "bag_tuned.fit(X_train,y_train)"
   ]
  },
  {
   "cell_type": "code",
   "execution_count": 363,
   "metadata": {
    "tags": []
   },
   "outputs": [],
   "source": [
    "y_pred = bag_tuned.predict(X_test)"
   ]
  },
  {
   "cell_type": "code",
   "execution_count": 364,
   "metadata": {
    "tags": []
   },
   "outputs": [
    {
     "data": {
      "text/plain": [
       "365.34026596972495"
      ]
     },
     "execution_count": 364,
     "metadata": {},
     "output_type": "execute_result"
    }
   ],
   "source": [
    "np.sqrt(mean_squared_error(y_test, y_pred))"
   ]
  },
  {
   "cell_type": "markdown",
   "metadata": {},
   "source": [
    "## Random Forests (RF)"
   ]
  },
  {
   "cell_type": "code",
   "execution_count": 365,
   "metadata": {
    "tags": []
   },
   "outputs": [],
   "source": [
    "hit = pd.read_csv(\"Hitters.csv\")\n",
    "df = hit.copy()\n",
    "df = df.dropna()\n",
    "dms = pd.get_dummies(df[['League', 'Division', 'NewLeague']])\n",
    "y = df[\"Salary\"]\n",
    "X_ = df.drop(['Salary', 'League', 'Division', 'NewLeague'], axis=1).astype('float64')\n",
    "X = pd.concat([X_, dms[['League_N', 'Division_W', 'NewLeague_N']]], axis=1)\n",
    "X_train, X_test, y_train, y_test = train_test_split(X, y, \n",
    "                                                    test_size=0.25, \n",
    "                                                    random_state=42)"
   ]
  },
  {
   "cell_type": "code",
   "execution_count": 366,
   "metadata": {
    "tags": []
   },
   "outputs": [],
   "source": [
    "from sklearn.ensemble import RandomForestRegressor"
   ]
  },
  {
   "cell_type": "code",
   "execution_count": 367,
   "metadata": {
    "tags": []
   },
   "outputs": [],
   "source": [
    "rf_model = RandomForestRegressor(random_state=42)"
   ]
  },
  {
   "cell_type": "code",
   "execution_count": 368,
   "metadata": {
    "tags": []
   },
   "outputs": [
    {
     "data": {
      "text/html": [
       "<style>#sk-container-id-28 {color: black;}#sk-container-id-28 pre{padding: 0;}#sk-container-id-28 div.sk-toggleable {background-color: white;}#sk-container-id-28 label.sk-toggleable__label {cursor: pointer;display: block;width: 100%;margin-bottom: 0;padding: 0.3em;box-sizing: border-box;text-align: center;}#sk-container-id-28 label.sk-toggleable__label-arrow:before {content: \"▸\";float: left;margin-right: 0.25em;color: #696969;}#sk-container-id-28 label.sk-toggleable__label-arrow:hover:before {color: black;}#sk-container-id-28 div.sk-estimator:hover label.sk-toggleable__label-arrow:before {color: black;}#sk-container-id-28 div.sk-toggleable__content {max-height: 0;max-width: 0;overflow: hidden;text-align: left;background-color: #f0f8ff;}#sk-container-id-28 div.sk-toggleable__content pre {margin: 0.2em;color: black;border-radius: 0.25em;background-color: #f0f8ff;}#sk-container-id-28 input.sk-toggleable__control:checked~div.sk-toggleable__content {max-height: 200px;max-width: 100%;overflow: auto;}#sk-container-id-28 input.sk-toggleable__control:checked~label.sk-toggleable__label-arrow:before {content: \"▾\";}#sk-container-id-28 div.sk-estimator input.sk-toggleable__control:checked~label.sk-toggleable__label {background-color: #d4ebff;}#sk-container-id-28 div.sk-label input.sk-toggleable__control:checked~label.sk-toggleable__label {background-color: #d4ebff;}#sk-container-id-28 input.sk-hidden--visually {border: 0;clip: rect(1px 1px 1px 1px);clip: rect(1px, 1px, 1px, 1px);height: 1px;margin: -1px;overflow: hidden;padding: 0;position: absolute;width: 1px;}#sk-container-id-28 div.sk-estimator {font-family: monospace;background-color: #f0f8ff;border: 1px dotted black;border-radius: 0.25em;box-sizing: border-box;margin-bottom: 0.5em;}#sk-container-id-28 div.sk-estimator:hover {background-color: #d4ebff;}#sk-container-id-28 div.sk-parallel-item::after {content: \"\";width: 100%;border-bottom: 1px solid gray;flex-grow: 1;}#sk-container-id-28 div.sk-label:hover label.sk-toggleable__label {background-color: #d4ebff;}#sk-container-id-28 div.sk-serial::before {content: \"\";position: absolute;border-left: 1px solid gray;box-sizing: border-box;top: 0;bottom: 0;left: 50%;z-index: 0;}#sk-container-id-28 div.sk-serial {display: flex;flex-direction: column;align-items: center;background-color: white;padding-right: 0.2em;padding-left: 0.2em;position: relative;}#sk-container-id-28 div.sk-item {position: relative;z-index: 1;}#sk-container-id-28 div.sk-parallel {display: flex;align-items: stretch;justify-content: center;background-color: white;position: relative;}#sk-container-id-28 div.sk-item::before, #sk-container-id-28 div.sk-parallel-item::before {content: \"\";position: absolute;border-left: 1px solid gray;box-sizing: border-box;top: 0;bottom: 0;left: 50%;z-index: -1;}#sk-container-id-28 div.sk-parallel-item {display: flex;flex-direction: column;z-index: 1;position: relative;background-color: white;}#sk-container-id-28 div.sk-parallel-item:first-child::after {align-self: flex-end;width: 50%;}#sk-container-id-28 div.sk-parallel-item:last-child::after {align-self: flex-start;width: 50%;}#sk-container-id-28 div.sk-parallel-item:only-child::after {width: 0;}#sk-container-id-28 div.sk-dashed-wrapped {border: 1px dashed gray;margin: 0 0.4em 0.5em 0.4em;box-sizing: border-box;padding-bottom: 0.4em;background-color: white;}#sk-container-id-28 div.sk-label label {font-family: monospace;font-weight: bold;display: inline-block;line-height: 1.2em;}#sk-container-id-28 div.sk-label-container {text-align: center;}#sk-container-id-28 div.sk-container {/* jupyter's `normalize.less` sets `[hidden] { display: none; }` but bootstrap.min.css set `[hidden] { display: none !important; }` so we also need the `!important` here to be able to override the default hidden behavior on the sphinx rendered scikit-learn.org. See: https://github.com/scikit-learn/scikit-learn/issues/21755 */display: inline-block !important;position: relative;}#sk-container-id-28 div.sk-text-repr-fallback {display: none;}</style><div id=\"sk-container-id-28\" class=\"sk-top-container\"><div class=\"sk-text-repr-fallback\"><pre>RandomForestRegressor(random_state=42)</pre><b>In a Jupyter environment, please rerun this cell to show the HTML representation or trust the notebook. <br />On GitHub, the HTML representation is unable to render, please try loading this page with nbviewer.org.</b></div><div class=\"sk-container\" hidden><div class=\"sk-item\"><div class=\"sk-estimator sk-toggleable\"><input class=\"sk-toggleable__control sk-hidden--visually\" id=\"sk-estimator-id-48\" type=\"checkbox\" checked><label for=\"sk-estimator-id-48\" class=\"sk-toggleable__label sk-toggleable__label-arrow\">RandomForestRegressor</label><div class=\"sk-toggleable__content\"><pre>RandomForestRegressor(random_state=42)</pre></div></div></div></div></div>"
      ],
      "text/plain": [
       "RandomForestRegressor(random_state=42)"
      ]
     },
     "execution_count": 368,
     "metadata": {},
     "output_type": "execute_result"
    }
   ],
   "source": [
    "rf_model.fit(X_train, y_train)"
   ]
  },
  {
   "cell_type": "markdown",
   "metadata": {},
   "source": [
    "### Tahmin ve Model Tuning"
   ]
  },
  {
   "cell_type": "code",
   "execution_count": 369,
   "metadata": {
    "tags": []
   },
   "outputs": [
    {
     "data": {
      "text/plain": [
       "array([ 738.69167,  913.51164, 1181.145  ,  139.65167,  634.60833])"
      ]
     },
     "execution_count": 369,
     "metadata": {},
     "output_type": "execute_result"
    }
   ],
   "source": [
    "rf_model.predict(X_test)[0:5]"
   ]
  },
  {
   "cell_type": "code",
   "execution_count": 370,
   "metadata": {
    "tags": []
   },
   "outputs": [],
   "source": [
    "y_pred = rf_model.predict(X_test)"
   ]
  },
  {
   "cell_type": "code",
   "execution_count": 371,
   "metadata": {
    "tags": []
   },
   "outputs": [
    {
     "data": {
      "text/plain": [
       "344.8191624908484"
      ]
     },
     "execution_count": 371,
     "metadata": {},
     "output_type": "execute_result"
    }
   ],
   "source": [
    "np.sqrt(mean_squared_error(y_test, y_pred))"
   ]
  },
  {
   "cell_type": "code",
   "execution_count": 373,
   "metadata": {
    "tags": []
   },
   "outputs": [],
   "source": [
    "rf_params= {\"max_depth\": list(range(1,10)),\n",
    "           \"max_features\": [3,5,10,15],\n",
    "           \"n_estimators\" : [100,200,500,1000,2000]}"
   ]
  },
  {
   "cell_type": "code",
   "execution_count": 374,
   "metadata": {
    "tags": []
   },
   "outputs": [],
   "source": [
    "rf_model = RandomForestRegressor(random_state=42)"
   ]
  },
  {
   "cell_type": "code",
   "execution_count": 381,
   "metadata": {
    "tags": []
   },
   "outputs": [],
   "source": [
    "rf_cv_model = GridSearchCV(RandomForestRegressor(), rf_params, cv=10, n_jobs=-1) ##n_jobs flagi işlemcileri tam performans çalıştırarak fit etme işlemini hızlandırır. Eğer kullanılmazsa işlem çok uzun sürer!!!"
   ]
  },
  {
   "cell_type": "code",
   "execution_count": 382,
   "metadata": {
    "tags": []
   },
   "outputs": [
    {
     "data": {
      "text/html": [
       "<style>#sk-container-id-30 {color: black;}#sk-container-id-30 pre{padding: 0;}#sk-container-id-30 div.sk-toggleable {background-color: white;}#sk-container-id-30 label.sk-toggleable__label {cursor: pointer;display: block;width: 100%;margin-bottom: 0;padding: 0.3em;box-sizing: border-box;text-align: center;}#sk-container-id-30 label.sk-toggleable__label-arrow:before {content: \"▸\";float: left;margin-right: 0.25em;color: #696969;}#sk-container-id-30 label.sk-toggleable__label-arrow:hover:before {color: black;}#sk-container-id-30 div.sk-estimator:hover label.sk-toggleable__label-arrow:before {color: black;}#sk-container-id-30 div.sk-toggleable__content {max-height: 0;max-width: 0;overflow: hidden;text-align: left;background-color: #f0f8ff;}#sk-container-id-30 div.sk-toggleable__content pre {margin: 0.2em;color: black;border-radius: 0.25em;background-color: #f0f8ff;}#sk-container-id-30 input.sk-toggleable__control:checked~div.sk-toggleable__content {max-height: 200px;max-width: 100%;overflow: auto;}#sk-container-id-30 input.sk-toggleable__control:checked~label.sk-toggleable__label-arrow:before {content: \"▾\";}#sk-container-id-30 div.sk-estimator input.sk-toggleable__control:checked~label.sk-toggleable__label {background-color: #d4ebff;}#sk-container-id-30 div.sk-label input.sk-toggleable__control:checked~label.sk-toggleable__label {background-color: #d4ebff;}#sk-container-id-30 input.sk-hidden--visually {border: 0;clip: rect(1px 1px 1px 1px);clip: rect(1px, 1px, 1px, 1px);height: 1px;margin: -1px;overflow: hidden;padding: 0;position: absolute;width: 1px;}#sk-container-id-30 div.sk-estimator {font-family: monospace;background-color: #f0f8ff;border: 1px dotted black;border-radius: 0.25em;box-sizing: border-box;margin-bottom: 0.5em;}#sk-container-id-30 div.sk-estimator:hover {background-color: #d4ebff;}#sk-container-id-30 div.sk-parallel-item::after {content: \"\";width: 100%;border-bottom: 1px solid gray;flex-grow: 1;}#sk-container-id-30 div.sk-label:hover label.sk-toggleable__label {background-color: #d4ebff;}#sk-container-id-30 div.sk-serial::before {content: \"\";position: absolute;border-left: 1px solid gray;box-sizing: border-box;top: 0;bottom: 0;left: 50%;z-index: 0;}#sk-container-id-30 div.sk-serial {display: flex;flex-direction: column;align-items: center;background-color: white;padding-right: 0.2em;padding-left: 0.2em;position: relative;}#sk-container-id-30 div.sk-item {position: relative;z-index: 1;}#sk-container-id-30 div.sk-parallel {display: flex;align-items: stretch;justify-content: center;background-color: white;position: relative;}#sk-container-id-30 div.sk-item::before, #sk-container-id-30 div.sk-parallel-item::before {content: \"\";position: absolute;border-left: 1px solid gray;box-sizing: border-box;top: 0;bottom: 0;left: 50%;z-index: -1;}#sk-container-id-30 div.sk-parallel-item {display: flex;flex-direction: column;z-index: 1;position: relative;background-color: white;}#sk-container-id-30 div.sk-parallel-item:first-child::after {align-self: flex-end;width: 50%;}#sk-container-id-30 div.sk-parallel-item:last-child::after {align-self: flex-start;width: 50%;}#sk-container-id-30 div.sk-parallel-item:only-child::after {width: 0;}#sk-container-id-30 div.sk-dashed-wrapped {border: 1px dashed gray;margin: 0 0.4em 0.5em 0.4em;box-sizing: border-box;padding-bottom: 0.4em;background-color: white;}#sk-container-id-30 div.sk-label label {font-family: monospace;font-weight: bold;display: inline-block;line-height: 1.2em;}#sk-container-id-30 div.sk-label-container {text-align: center;}#sk-container-id-30 div.sk-container {/* jupyter's `normalize.less` sets `[hidden] { display: none; }` but bootstrap.min.css set `[hidden] { display: none !important; }` so we also need the `!important` here to be able to override the default hidden behavior on the sphinx rendered scikit-learn.org. See: https://github.com/scikit-learn/scikit-learn/issues/21755 */display: inline-block !important;position: relative;}#sk-container-id-30 div.sk-text-repr-fallback {display: none;}</style><div id=\"sk-container-id-30\" class=\"sk-top-container\"><div class=\"sk-text-repr-fallback\"><pre>GridSearchCV(cv=10, estimator=RandomForestRegressor(), n_jobs=-1,\n",
       "             param_grid={&#x27;max_depth&#x27;: [1, 2, 3, 4, 5, 6, 7, 8, 9],\n",
       "                         &#x27;max_features&#x27;: [3, 5, 10, 15],\n",
       "                         &#x27;n_estimators&#x27;: [100, 200, 500, 1000, 2000]})</pre><b>In a Jupyter environment, please rerun this cell to show the HTML representation or trust the notebook. <br />On GitHub, the HTML representation is unable to render, please try loading this page with nbviewer.org.</b></div><div class=\"sk-container\" hidden><div class=\"sk-item sk-dashed-wrapped\"><div class=\"sk-label-container\"><div class=\"sk-label sk-toggleable\"><input class=\"sk-toggleable__control sk-hidden--visually\" id=\"sk-estimator-id-52\" type=\"checkbox\" ><label for=\"sk-estimator-id-52\" class=\"sk-toggleable__label sk-toggleable__label-arrow\">GridSearchCV</label><div class=\"sk-toggleable__content\"><pre>GridSearchCV(cv=10, estimator=RandomForestRegressor(), n_jobs=-1,\n",
       "             param_grid={&#x27;max_depth&#x27;: [1, 2, 3, 4, 5, 6, 7, 8, 9],\n",
       "                         &#x27;max_features&#x27;: [3, 5, 10, 15],\n",
       "                         &#x27;n_estimators&#x27;: [100, 200, 500, 1000, 2000]})</pre></div></div></div><div class=\"sk-parallel\"><div class=\"sk-parallel-item\"><div class=\"sk-item\"><div class=\"sk-label-container\"><div class=\"sk-label sk-toggleable\"><input class=\"sk-toggleable__control sk-hidden--visually\" id=\"sk-estimator-id-53\" type=\"checkbox\" ><label for=\"sk-estimator-id-53\" class=\"sk-toggleable__label sk-toggleable__label-arrow\">estimator: RandomForestRegressor</label><div class=\"sk-toggleable__content\"><pre>RandomForestRegressor()</pre></div></div></div><div class=\"sk-serial\"><div class=\"sk-item\"><div class=\"sk-estimator sk-toggleable\"><input class=\"sk-toggleable__control sk-hidden--visually\" id=\"sk-estimator-id-54\" type=\"checkbox\" ><label for=\"sk-estimator-id-54\" class=\"sk-toggleable__label sk-toggleable__label-arrow\">RandomForestRegressor</label><div class=\"sk-toggleable__content\"><pre>RandomForestRegressor()</pre></div></div></div></div></div></div></div></div></div></div>"
      ],
      "text/plain": [
       "GridSearchCV(cv=10, estimator=RandomForestRegressor(), n_jobs=-1,\n",
       "             param_grid={'max_depth': [1, 2, 3, 4, 5, 6, 7, 8, 9],\n",
       "                         'max_features': [3, 5, 10, 15],\n",
       "                         'n_estimators': [100, 200, 500, 1000, 2000]})"
      ]
     },
     "execution_count": 382,
     "metadata": {},
     "output_type": "execute_result"
    }
   ],
   "source": [
    "rf_cv_model.fit(X_train,y_train)"
   ]
  },
  {
   "cell_type": "code",
   "execution_count": 383,
   "metadata": {
    "tags": []
   },
   "outputs": [
    {
     "data": {
      "text/plain": [
       "{'max_depth': 6, 'max_features': 3, 'n_estimators': 200}"
      ]
     },
     "execution_count": 383,
     "metadata": {},
     "output_type": "execute_result"
    }
   ],
   "source": [
    "rf_cv_model.best_params_"
   ]
  },
  {
   "cell_type": "code",
   "execution_count": 384,
   "metadata": {
    "tags": []
   },
   "outputs": [],
   "source": [
    "rf_tuned = RandomForestRegressor(max_depth=6, max_features=3, n_estimators = 200)"
   ]
  },
  {
   "cell_type": "code",
   "execution_count": 385,
   "metadata": {
    "tags": []
   },
   "outputs": [],
   "source": [
    "rf_tuned = rf_tuned.fit(X_train, y_train)"
   ]
  },
  {
   "cell_type": "code",
   "execution_count": 386,
   "metadata": {
    "tags": []
   },
   "outputs": [],
   "source": [
    "y_pred = rf_tuned.predict(X_test)"
   ]
  },
  {
   "cell_type": "code",
   "execution_count": 387,
   "metadata": {
    "tags": []
   },
   "outputs": [
    {
     "data": {
      "text/plain": [
       "356.1004535047758"
      ]
     },
     "execution_count": 387,
     "metadata": {},
     "output_type": "execute_result"
    }
   ],
   "source": [
    "np.sqrt(mean_squared_error(y_test, y_pred))"
   ]
  },
  {
   "cell_type": "code",
   "execution_count": 390,
   "metadata": {
    "tags": []
   },
   "outputs": [],
   "source": [
    "Importance = pd.DataFrame({\"Importence\": rf_tuned.feature_importances_*100,\n",
    "                          \"index\": X_train.columns})"
   ]
  },
  {
   "cell_type": "code",
   "execution_count": 393,
   "metadata": {
    "tags": []
   },
   "outputs": [
    {
     "data": {
      "text/plain": [
       "Text(0.5, 0, 'Değişken önem düzeyleri')"
      ]
     },
     "execution_count": 393,
     "metadata": {},
     "output_type": "execute_result"
    },
    {
     "data": {
      "image/png": "[encoded data removed]",
      "text/plain": [
       "<Figure size 640x480 with 1 Axes>"
      ]
     },
     "metadata": {},
     "output_type": "display_data"
    }
   ],
   "source": [
    "Importance.sort_values(by = \"Importence\", axis = 0, ascending=True).plot(kind= \"barh\", color=\"r\")\n",
    "plt.xlabel(\"Değişken önem düzeyleri\")"
   ]
  },
  {
   "cell_type": "markdown",
   "metadata": {},
   "source": [
    "##  Gradient Boosting Machines (GBM)"
   ]
  },
  {
   "cell_type": "code",
   "execution_count": 395,
   "metadata": {
    "tags": []
   },
   "outputs": [],
   "source": [
    "from sklearn.ensemble import GradientBoostingRegressor"
   ]
  },
  {
   "cell_type": "code",
   "execution_count": 397,
   "metadata": {
    "tags": []
   },
   "outputs": [
    {
     "data": {
      "text/html": [
       "<style>#sk-container-id-31 {color: black;}#sk-container-id-31 pre{padding: 0;}#sk-container-id-31 div.sk-toggleable {background-color: white;}#sk-container-id-31 label.sk-toggleable__label {cursor: pointer;display: block;width: 100%;margin-bottom: 0;padding: 0.3em;box-sizing: border-box;text-align: center;}#sk-container-id-31 label.sk-toggleable__label-arrow:before {content: \"▸\";float: left;margin-right: 0.25em;color: #696969;}#sk-container-id-31 label.sk-toggleable__label-arrow:hover:before {color: black;}#sk-container-id-31 div.sk-estimator:hover label.sk-toggleable__label-arrow:before {color: black;}#sk-container-id-31 div.sk-toggleable__content {max-height: 0;max-width: 0;overflow: hidden;text-align: left;background-color: #f0f8ff;}#sk-container-id-31 div.sk-toggleable__content pre {margin: 0.2em;color: black;border-radius: 0.25em;background-color: #f0f8ff;}#sk-container-id-31 input.sk-toggleable__control:checked~div.sk-toggleable__content {max-height: 200px;max-width: 100%;overflow: auto;}#sk-container-id-31 input.sk-toggleable__control:checked~label.sk-toggleable__label-arrow:before {content: \"▾\";}#sk-container-id-31 div.sk-estimator input.sk-toggleable__control:checked~label.sk-toggleable__label {background-color: #d4ebff;}#sk-container-id-31 div.sk-label input.sk-toggleable__control:checked~label.sk-toggleable__label {background-color: #d4ebff;}#sk-container-id-31 input.sk-hidden--visually {border: 0;clip: rect(1px 1px 1px 1px);clip: rect(1px, 1px, 1px, 1px);height: 1px;margin: -1px;overflow: hidden;padding: 0;position: absolute;width: 1px;}#sk-container-id-31 div.sk-estimator {font-family: monospace;background-color: #f0f8ff;border: 1px dotted black;border-radius: 0.25em;box-sizing: border-box;margin-bottom: 0.5em;}#sk-container-id-31 div.sk-estimator:hover {background-color: #d4ebff;}#sk-container-id-31 div.sk-parallel-item::after {content: \"\";width: 100%;border-bottom: 1px solid gray;flex-grow: 1;}#sk-container-id-31 div.sk-label:hover label.sk-toggleable__label {background-color: #d4ebff;}#sk-container-id-31 div.sk-serial::before {content: \"\";position: absolute;border-left: 1px solid gray;box-sizing: border-box;top: 0;bottom: 0;left: 50%;z-index: 0;}#sk-container-id-31 div.sk-serial {display: flex;flex-direction: column;align-items: center;background-color: white;padding-right: 0.2em;padding-left: 0.2em;position: relative;}#sk-container-id-31 div.sk-item {position: relative;z-index: 1;}#sk-container-id-31 div.sk-parallel {display: flex;align-items: stretch;justify-content: center;background-color: white;position: relative;}#sk-container-id-31 div.sk-item::before, #sk-container-id-31 div.sk-parallel-item::before {content: \"\";position: absolute;border-left: 1px solid gray;box-sizing: border-box;top: 0;bottom: 0;left: 50%;z-index: -1;}#sk-container-id-31 div.sk-parallel-item {display: flex;flex-direction: column;z-index: 1;position: relative;background-color: white;}#sk-container-id-31 div.sk-parallel-item:first-child::after {align-self: flex-end;width: 50%;}#sk-container-id-31 div.sk-parallel-item:last-child::after {align-self: flex-start;width: 50%;}#sk-container-id-31 div.sk-parallel-item:only-child::after {width: 0;}#sk-container-id-31 div.sk-dashed-wrapped {border: 1px dashed gray;margin: 0 0.4em 0.5em 0.4em;box-sizing: border-box;padding-bottom: 0.4em;background-color: white;}#sk-container-id-31 div.sk-label label {font-family: monospace;font-weight: bold;display: inline-block;line-height: 1.2em;}#sk-container-id-31 div.sk-label-container {text-align: center;}#sk-container-id-31 div.sk-container {/* jupyter's `normalize.less` sets `[hidden] { display: none; }` but bootstrap.min.css set `[hidden] { display: none !important; }` so we also need the `!important` here to be able to override the default hidden behavior on the sphinx rendered scikit-learn.org. See: https://github.com/scikit-learn/scikit-learn/issues/21755 */display: inline-block !important;position: relative;}#sk-container-id-31 div.sk-text-repr-fallback {display: none;}</style><div id=\"sk-container-id-31\" class=\"sk-top-container\"><div class=\"sk-text-repr-fallback\"><pre>GradientBoostingRegressor()</pre><b>In a Jupyter environment, please rerun this cell to show the HTML representation or trust the notebook. <br />On GitHub, the HTML representation is unable to render, please try loading this page with nbviewer.org.</b></div><div class=\"sk-container\" hidden><div class=\"sk-item\"><div class=\"sk-estimator sk-toggleable\"><input class=\"sk-toggleable__control sk-hidden--visually\" id=\"sk-estimator-id-55\" type=\"checkbox\" checked><label for=\"sk-estimator-id-55\" class=\"sk-toggleable__label sk-toggleable__label-arrow\">GradientBoostingRegressor</label><div class=\"sk-toggleable__content\"><pre>GradientBoostingRegressor()</pre></div></div></div></div></div>"
      ],
      "text/plain": [
       "GradientBoostingRegressor()"
      ]
     },
     "execution_count": 397,
     "metadata": {},
     "output_type": "execute_result"
    }
   ],
   "source": [
    "gbm_model = GradientBoostingRegressor()\n",
    "gbm_model.fit(X_train,y_train)"
   ]
  },
  {
   "cell_type": "markdown",
   "metadata": {},
   "source": [
    "### Tahmin ve Model Tuning"
   ]
  },
  {
   "cell_type": "code",
   "execution_count": 398,
   "metadata": {
    "tags": []
   },
   "outputs": [
    {
     "data": {
      "text/plain": [
       "359.13631987833844"
      ]
     },
     "execution_count": 398,
     "metadata": {},
     "output_type": "execute_result"
    }
   ],
   "source": [
    "y_pred = gbm_model.predict(X_test)\n",
    "np.sqrt(mean_squared_error(y_test, y_pred))"
   ]
  },
  {
   "cell_type": "code",
   "execution_count": 403,
   "metadata": {
    "tags": []
   },
   "outputs": [],
   "source": [
    "gbm_params = {\"learning_rate\": [0.001, 0.01, 0.1, 2],\n",
    "             \"max_depth\": [3,5,8,50,100],\n",
    "             \"n_estimators\": [200,500,1000,2000],\n",
    "             \"subsample\":[1,0.5,0.75]}"
   ]
  },
  {
   "cell_type": "code",
   "execution_count": null,
   "metadata": {
    "tags": []
   },
   "outputs": [],
   "source": [
    "gbm = GradientBoostingRegressor()\n",
    "gbm_cv_model = GridSearchCV(gbm, gbm_params,cv=10, n_jobs=-1,verbose = 2) ## Dont drop njob parameter. if you'll drop you can wait for years :)\n",
    "gbm_cv_model.fit(X_train,y_train)"
   ]
  },
  {
   "cell_type": "code",
   "execution_count": null,
   "metadata": {},
   "outputs": [],
   "source": [
    "gbm_tuned = GradientBoostingRegressor(learning_rate=0.1,\n",
    "                                     max_depth=5,\n",
    "                                     n_estimators=200,\n",
    "                                     subsample=0.5)\n",
    "gbm_tuned = gbm_tuned.fit(X_train,y_train)"
   ]
  },
  {
   "cell_type": "code",
   "execution_count": null,
   "metadata": {},
   "outputs": [],
   "source": [
    "y_pred = gbm_tuned.predict(X_test)\n",
    "np.sqrt(mean_squared_error(y_test, y_pred))"
   ]
  },
  {
   "cell_type": "code",
   "execution_count": null,
   "metadata": {},
   "outputs": [],
   "source": [
    "Importance = pd.DataFrame({\"Importance\": gbm_tuned.feature_importances_*100},\n",
    "                         index = X_train.columns)"
   ]
  },
  {
   "cell_type": "code",
   "execution_count": null,
   "metadata": {},
   "outputs": [],
   "source": [
    "Importance.sort_values(by = \"Importance\", \n",
    "                       axis = 0, \n",
    "                       ascending = True).plot(kind =\"barh\", color = \"r\")\n",
    "\n",
    "plt.xlabel(\"Değişken Önem Düzeyleri\")"
   ]
  },
  {
   "cell_type": "markdown",
   "metadata": {},
   "source": [
    "##  XGBoost "
   ]
  },
  {
   "cell_type": "code",
   "execution_count": 404,
   "metadata": {
    "tags": []
   },
   "outputs": [],
   "source": [
    "hit = pd.read_csv(\"Hitters.csv\")\n",
    "df = hit.copy()\n",
    "df = df.dropna()\n",
    "dms = pd.get_dummies(df[['League', 'Division', 'NewLeague']])\n",
    "y = df[\"Salary\"]\n",
    "X_ = df.drop(['Salary', 'League', 'Division', 'NewLeague'], axis=1).astype('float64')\n",
    "X = pd.concat([X_, dms[['League_N', 'Division_W', 'NewLeague_N']]], axis=1)\n",
    "X_train, X_test, y_train, y_test = train_test_split(X, y, \n",
    "                                                    test_size=0.25, \n",
    "                                                    random_state=42)\n"
   ]
  },
  {
   "cell_type": "code",
   "execution_count": 405,
   "metadata": {
    "collapsed": true,
    "jupyter": {
     "outputs_hidden": true
    },
    "tags": []
   },
   "outputs": [
    {
     "name": "stdout",
     "output_type": "stream",
     "text": [
      "Collecting xgboost\n",
      "  Obtaining dependency information for xgboost from https://files.pythonhosted.org/packages/43/80/0b5a2dfcf5b4da27b0b68d2833f05d77e1a374d43db951fca200a1f12a52/xgboost-2.1.4-py3-none-win_amd64.whl.metadata\n",
      "  Downloading xgboost-2.1.4-py3-none-win_amd64.whl.metadata (2.1 kB)\n",
      "Requirement already satisfied: numpy in c:\\users\\frkng\\.conda\\lib\\site-packages (from xgboost) (1.24.3)\n",
      "Requirement already satisfied: scipy in c:\\users\\frkng\\.conda\\lib\\site-packages (from xgboost) (1.11.1)\n",
      "Downloading xgboost-2.1.4-py3-none-win_amd64.whl (124.9 MB)\n",
      "   ---------------------------------------- 0.0/124.9 MB ? eta -:--:--\n",
      "   ---------------------------------------- 0.0/124.9 MB ? eta -:--:--\n",
      "   ---------------------------------------- 0.0/124.9 MB ? eta -:--:--\n",
      "   ---------------------------------------- 0.0/124.9 MB 435.7 kB/s eta 0:04:47\n",
      "   ---------------------------------------- 0.1/124.9 MB 573.4 kB/s eta 0:03:38\n",
      "   ---------------------------------------- 0.1/124.9 MB 774.0 kB/s eta 0:02:42\n",
      "   ---------------------------------------- 0.3/124.9 MB 1.2 MB/s eta 0:01:47\n",
      "   ---------------------------------------- 0.5/124.9 MB 2.0 MB/s eta 0:01:04\n",
      "   ---------------------------------------- 1.0/124.9 MB 3.3 MB/s eta 0:00:38\n",
      "   ---------------------------------------- 1.5/124.9 MB 4.1 MB/s eta 0:00:31\n",
      "    --------------------------------------- 2.1/124.9 MB 5.1 MB/s eta 0:00:24\n",
      "    --------------------------------------- 2.7/124.9 MB 5.9 MB/s eta 0:00:21\n",
      "   - -------------------------------------- 3.3/124.9 MB 6.6 MB/s eta 0:00:19\n",
      "   - -------------------------------------- 3.9/124.9 MB 7.1 MB/s eta 0:00:18\n",
      "   - -------------------------------------- 4.5/124.9 MB 7.6 MB/s eta 0:00:16\n",
      "   - -------------------------------------- 5.1/124.9 MB 8.0 MB/s eta 0:00:15\n",
      "   - -------------------------------------- 5.8/124.9 MB 8.4 MB/s eta 0:00:15\n",
      "   -- ------------------------------------- 6.4/124.9 MB 8.7 MB/s eta 0:00:14\n",
      "   -- ------------------------------------- 6.8/124.9 MB 8.6 MB/s eta 0:00:14\n",
      "   -- ------------------------------------- 7.7/124.9 MB 9.2 MB/s eta 0:00:13\n",
      "   -- ------------------------------------- 7.9/124.9 MB 9.0 MB/s eta 0:00:14\n",
      "   -- ------------------------------------- 8.8/124.9 MB 9.7 MB/s eta 0:00:12\n",
      "   -- ------------------------------------- 9.3/124.9 MB 9.7 MB/s eta 0:00:12\n",
      "   --- ------------------------------------ 9.7/124.9 MB 9.7 MB/s eta 0:00:12\n",
      "   --- ------------------------------------ 10.2/124.9 MB 9.7 MB/s eta 0:00:12\n",
      "   --- ------------------------------------ 10.9/124.9 MB 12.6 MB/s eta 0:00:10\n",
      "   --- ------------------------------------ 11.7/124.9 MB 13.1 MB/s eta 0:00:09\n",
      "   --- ------------------------------------ 12.3/124.9 MB 13.1 MB/s eta 0:00:09\n",
      "   ---- ----------------------------------- 12.9/124.9 MB 13.1 MB/s eta 0:00:09\n",
      "   ---- ----------------------------------- 13.5/124.9 MB 13.1 MB/s eta 0:00:09\n",
      "   ---- ----------------------------------- 13.9/124.9 MB 12.8 MB/s eta 0:00:09\n",
      "   ---- ----------------------------------- 14.6/124.9 MB 12.8 MB/s eta 0:00:09\n",
      "   ---- ----------------------------------- 15.2/124.9 MB 12.8 MB/s eta 0:00:09\n",
      "   ----- ---------------------------------- 15.7/124.9 MB 12.8 MB/s eta 0:00:09\n",
      "   ----- ---------------------------------- 16.2/124.9 MB 12.6 MB/s eta 0:00:09\n",
      "   ----- ---------------------------------- 16.9/124.9 MB 13.1 MB/s eta 0:00:09\n",
      "   ----- ---------------------------------- 17.6/124.9 MB 12.8 MB/s eta 0:00:09\n",
      "   ----- ---------------------------------- 18.1/124.9 MB 12.9 MB/s eta 0:00:09\n",
      "   ----- ---------------------------------- 18.5/124.9 MB 12.6 MB/s eta 0:00:09\n",
      "   ------ --------------------------------- 19.0/124.9 MB 12.1 MB/s eta 0:00:09\n",
      "   ------ --------------------------------- 19.5/124.9 MB 12.4 MB/s eta 0:00:09\n",
      "   ------ --------------------------------- 20.2/124.9 MB 12.6 MB/s eta 0:00:09\n",
      "   ------ --------------------------------- 20.7/124.9 MB 12.6 MB/s eta 0:00:09\n",
      "   ------ --------------------------------- 21.3/124.9 MB 12.4 MB/s eta 0:00:09\n",
      "   ------ --------------------------------- 21.8/124.9 MB 12.1 MB/s eta 0:00:09\n",
      "   ------- -------------------------------- 22.2/124.9 MB 11.7 MB/s eta 0:00:09\n",
      "   ------- -------------------------------- 22.6/124.9 MB 11.7 MB/s eta 0:00:09\n",
      "   ------- -------------------------------- 23.1/124.9 MB 11.5 MB/s eta 0:00:09\n",
      "   ------- -------------------------------- 24.2/124.9 MB 12.1 MB/s eta 0:00:09\n",
      "   ------- -------------------------------- 24.7/124.9 MB 12.1 MB/s eta 0:00:09\n",
      "   -------- ------------------------------- 25.3/124.9 MB 12.1 MB/s eta 0:00:09\n",
      "   -------- ------------------------------- 25.9/124.9 MB 12.1 MB/s eta 0:00:09\n",
      "   -------- ------------------------------- 26.4/124.9 MB 12.1 MB/s eta 0:00:09\n",
      "   -------- ------------------------------- 27.0/124.9 MB 11.9 MB/s eta 0:00:09\n",
      "   -------- ------------------------------- 27.6/124.9 MB 11.9 MB/s eta 0:00:09\n",
      "   --------- ------------------------------ 28.2/124.9 MB 11.9 MB/s eta 0:00:09\n",
      "   --------- ------------------------------ 28.7/124.9 MB 12.4 MB/s eta 0:00:08\n",
      "   --------- ------------------------------ 29.3/124.9 MB 12.4 MB/s eta 0:00:08\n",
      "   --------- ------------------------------ 29.9/124.9 MB 12.4 MB/s eta 0:00:08\n",
      "   --------- ------------------------------ 30.4/124.9 MB 12.1 MB/s eta 0:00:08\n",
      "   --------- ------------------------------ 30.8/124.9 MB 11.9 MB/s eta 0:00:08\n",
      "   --------- ------------------------------ 31.2/124.9 MB 11.7 MB/s eta 0:00:09\n",
      "   ---------- ----------------------------- 31.8/124.9 MB 11.7 MB/s eta 0:00:08\n",
      "   ---------- ----------------------------- 32.3/124.9 MB 11.9 MB/s eta 0:00:08\n",
      "   ---------- ----------------------------- 32.9/124.9 MB 12.4 MB/s eta 0:00:08\n",
      "   ---------- ----------------------------- 33.7/124.9 MB 12.4 MB/s eta 0:00:08\n",
      "   ----------- ---------------------------- 34.4/124.9 MB 12.4 MB/s eta 0:00:08\n",
      "   ----------- ---------------------------- 35.0/124.9 MB 12.1 MB/s eta 0:00:08\n",
      "   ----------- ---------------------------- 35.6/124.9 MB 12.1 MB/s eta 0:00:08\n",
      "   ----------- ---------------------------- 36.1/124.9 MB 12.1 MB/s eta 0:00:08\n",
      "   ----------- ---------------------------- 36.5/124.9 MB 11.9 MB/s eta 0:00:08\n",
      "   ----------- ---------------------------- 36.9/124.9 MB 11.7 MB/s eta 0:00:08\n",
      "   ----------- ---------------------------- 37.5/124.9 MB 11.7 MB/s eta 0:00:08\n",
      "   ------------ --------------------------- 38.0/124.9 MB 11.9 MB/s eta 0:00:08\n",
      "   ------------ --------------------------- 38.7/124.9 MB 11.5 MB/s eta 0:00:08\n",
      "   ------------ --------------------------- 40.2/124.9 MB 12.4 MB/s eta 0:00:07\n",
      "   ------------- -------------------------- 40.8/124.9 MB 12.6 MB/s eta 0:00:07\n",
      "   ------------- -------------------------- 41.3/124.9 MB 12.8 MB/s eta 0:00:07\n",
      "   ------------- -------------------------- 41.9/124.9 MB 12.8 MB/s eta 0:00:07\n",
      "   ------------- -------------------------- 42.4/124.9 MB 12.9 MB/s eta 0:00:07\n",
      "   ------------- -------------------------- 42.8/124.9 MB 12.6 MB/s eta 0:00:07\n",
      "   ------------- -------------------------- 43.2/124.9 MB 12.4 MB/s eta 0:00:07\n",
      "   ------------- -------------------------- 43.6/124.9 MB 12.1 MB/s eta 0:00:07\n",
      "   -------------- ------------------------- 44.0/124.9 MB 12.1 MB/s eta 0:00:07\n",
      "   -------------- ------------------------- 44.0/124.9 MB 12.1 MB/s eta 0:00:07\n",
      "   -------------- ------------------------- 44.0/124.9 MB 12.1 MB/s eta 0:00:07\n",
      "   -------------- ------------------------- 44.0/124.9 MB 12.1 MB/s eta 0:00:07\n",
      "   -------------- ------------------------- 44.1/124.9 MB 9.9 MB/s eta 0:00:09\n",
      "   -------------- ------------------------- 44.2/124.9 MB 9.6 MB/s eta 0:00:09\n",
      "   -------------- ------------------------- 45.8/124.9 MB 9.9 MB/s eta 0:00:08\n",
      "   -------------- ------------------------- 46.2/124.9 MB 9.9 MB/s eta 0:00:08\n",
      "   --------------- ------------------------ 46.9/124.9 MB 10.2 MB/s eta 0:00:08\n",
      "   --------------- ------------------------ 47.3/124.9 MB 10.2 MB/s eta 0:00:08\n",
      "   --------------- ------------------------ 47.6/124.9 MB 9.9 MB/s eta 0:00:08\n",
      "   --------------- ------------------------ 48.1/124.9 MB 9.9 MB/s eta 0:00:08\n",
      "   --------------- ------------------------ 48.3/124.9 MB 9.8 MB/s eta 0:00:08\n",
      "   --------------- ------------------------ 48.3/124.9 MB 9.8 MB/s eta 0:00:08\n",
      "   --------------- ------------------------ 48.3/124.9 MB 9.8 MB/s eta 0:00:08\n",
      "   --------------- ------------------------ 48.6/124.9 MB 8.8 MB/s eta 0:00:09\n",
      "   --------------- ------------------------ 48.9/124.9 MB 8.7 MB/s eta 0:00:09\n",
      "   ---------------- ----------------------- 50.7/124.9 MB 9.0 MB/s eta 0:00:09\n",
      "   ---------------- ----------------------- 51.4/124.9 MB 9.0 MB/s eta 0:00:09\n",
      "   ---------------- ----------------------- 52.0/124.9 MB 8.8 MB/s eta 0:00:09\n",
      "   ---------------- ----------------------- 52.5/124.9 MB 8.8 MB/s eta 0:00:09\n",
      "   ----------------- ---------------------- 53.1/124.9 MB 9.1 MB/s eta 0:00:08\n",
      "   ----------------- ---------------------- 53.7/124.9 MB 9.2 MB/s eta 0:00:08\n",
      "   ----------------- ---------------------- 54.1/124.9 MB 9.2 MB/s eta 0:00:08\n",
      "   ----------------- ---------------------- 54.6/124.9 MB 11.5 MB/s eta 0:00:07\n",
      "   ----------------- ---------------------- 55.3/124.9 MB 11.1 MB/s eta 0:00:07\n",
      "   ----------------- ---------------------- 55.9/124.9 MB 10.7 MB/s eta 0:00:07\n",
      "   ------------------ --------------------- 56.3/124.9 MB 10.6 MB/s eta 0:00:07\n",
      "   ------------------ --------------------- 57.0/124.9 MB 10.7 MB/s eta 0:00:07\n",
      "   ------------------ --------------------- 57.6/124.9 MB 10.7 MB/s eta 0:00:07\n",
      "   ------------------ --------------------- 58.2/124.9 MB 11.1 MB/s eta 0:00:07\n",
      "   ------------------ --------------------- 58.7/124.9 MB 12.6 MB/s eta 0:00:06\n",
      "   ------------------- -------------------- 59.3/124.9 MB 13.6 MB/s eta 0:00:05\n",
      "   ------------------- -------------------- 59.9/124.9 MB 12.9 MB/s eta 0:00:06\n",
      "   ------------------- -------------------- 60.4/124.9 MB 12.4 MB/s eta 0:00:06\n",
      "   ------------------- -------------------- 61.0/124.9 MB 12.1 MB/s eta 0:00:06\n",
      "   ------------------- -------------------- 61.6/124.9 MB 12.1 MB/s eta 0:00:06\n",
      "   ------------------- -------------------- 62.2/124.9 MB 11.9 MB/s eta 0:00:06\n",
      "   -------------------- ------------------- 62.7/124.9 MB 11.9 MB/s eta 0:00:06\n",
      "   -------------------- ------------------- 63.3/124.9 MB 11.9 MB/s eta 0:00:06\n",
      "   -------------------- ------------------- 63.9/124.9 MB 11.9 MB/s eta 0:00:06\n",
      "   -------------------- ------------------- 64.1/124.9 MB 12.1 MB/s eta 0:00:06\n",
      "   -------------------- ------------------- 64.4/124.9 MB 11.7 MB/s eta 0:00:06\n",
      "   -------------------- ------------------- 65.0/124.9 MB 11.7 MB/s eta 0:00:06\n",
      "   -------------------- ------------------- 65.6/124.9 MB 11.7 MB/s eta 0:00:06\n",
      "   --------------------- ------------------ 65.9/124.9 MB 11.5 MB/s eta 0:00:06\n",
      "   --------------------- ------------------ 65.9/124.9 MB 11.5 MB/s eta 0:00:06\n",
      "   --------------------- ------------------ 67.2/124.9 MB 11.3 MB/s eta 0:00:06\n",
      "   --------------------- ------------------ 68.1/124.9 MB 11.5 MB/s eta 0:00:05\n",
      "   ---------------------- ----------------- 68.7/124.9 MB 11.5 MB/s eta 0:00:05\n",
      "   ---------------------- ----------------- 69.3/124.9 MB 11.5 MB/s eta 0:00:05\n",
      "   ---------------------- ----------------- 69.9/124.9 MB 11.5 MB/s eta 0:00:05\n",
      "   ---------------------- ----------------- 70.5/124.9 MB 11.3 MB/s eta 0:00:05\n",
      "   ---------------------- ----------------- 70.9/124.9 MB 11.1 MB/s eta 0:00:05\n",
      "   ---------------------- ----------------- 71.3/124.9 MB 11.1 MB/s eta 0:00:05\n",
      "   ----------------------- ---------------- 71.9/124.9 MB 11.1 MB/s eta 0:00:05\n",
      "   ----------------------- ---------------- 72.5/124.9 MB 11.1 MB/s eta 0:00:05\n",
      "   ----------------------- ---------------- 73.0/124.9 MB 11.1 MB/s eta 0:00:05\n",
      "   ----------------------- ---------------- 73.6/124.9 MB 11.1 MB/s eta 0:00:05\n",
      "   ----------------------- ---------------- 74.1/124.9 MB 10.9 MB/s eta 0:00:05\n",
      "   ----------------------- ---------------- 74.6/124.9 MB 11.5 MB/s eta 0:00:05\n",
      "   ------------------------ --------------- 75.1/124.9 MB 11.5 MB/s eta 0:00:05\n",
      "   ------------------------ --------------- 75.7/124.9 MB 11.5 MB/s eta 0:00:05\n",
      "   ------------------------ --------------- 76.3/124.9 MB 12.8 MB/s eta 0:00:04\n",
      "   ------------------------ --------------- 76.7/124.9 MB 12.4 MB/s eta 0:00:04\n",
      "   ------------------------ --------------- 77.4/124.9 MB 11.9 MB/s eta 0:00:04\n",
      "   ------------------------ --------------- 77.8/124.9 MB 11.7 MB/s eta 0:00:05\n",
      "   ------------------------- -------------- 78.5/124.9 MB 11.7 MB/s eta 0:00:04\n",
      "   ------------------------- -------------- 79.0/124.9 MB 11.5 MB/s eta 0:00:04\n",
      "   ------------------------- -------------- 79.5/124.9 MB 11.5 MB/s eta 0:00:04\n",
      "   ------------------------- -------------- 80.1/124.9 MB 11.5 MB/s eta 0:00:04\n",
      "   ------------------------- -------------- 80.6/124.9 MB 11.7 MB/s eta 0:00:04\n",
      "   -------------------------- ------------- 81.2/124.9 MB 11.9 MB/s eta 0:00:04\n",
      "   -------------------------- ------------- 81.8/124.9 MB 11.9 MB/s eta 0:00:04\n",
      "   -------------------------- ------------- 82.3/124.9 MB 11.7 MB/s eta 0:00:04\n",
      "   -------------------------- ------------- 82.9/124.9 MB 11.9 MB/s eta 0:00:04\n",
      "   -------------------------- ------------- 83.4/124.9 MB 11.7 MB/s eta 0:00:04\n",
      "   -------------------------- ------------- 83.9/124.9 MB 11.9 MB/s eta 0:00:04\n",
      "   --------------------------- ------------ 84.4/124.9 MB 11.7 MB/s eta 0:00:04\n",
      "   --------------------------- ------------ 84.9/124.9 MB 11.7 MB/s eta 0:00:04\n",
      "   --------------------------- ------------ 85.4/124.9 MB 11.7 MB/s eta 0:00:04\n",
      "   --------------------------- ------------ 85.9/124.9 MB 11.7 MB/s eta 0:00:04\n",
      "   --------------------------- ------------ 86.6/124.9 MB 11.7 MB/s eta 0:00:04\n",
      "   --------------------------- ------------ 87.1/124.9 MB 11.7 MB/s eta 0:00:04\n",
      "   --------------------------- ------------ 87.3/124.9 MB 11.7 MB/s eta 0:00:04\n",
      "   ---------------------------- ----------- 87.9/124.9 MB 11.3 MB/s eta 0:00:04\n",
      "   ---------------------------- ----------- 88.7/124.9 MB 11.7 MB/s eta 0:00:04\n",
      "   ---------------------------- ----------- 89.1/124.9 MB 11.5 MB/s eta 0:00:04\n",
      "   ---------------------------- ----------- 89.4/124.9 MB 11.5 MB/s eta 0:00:04\n",
      "   ---------------------------- ----------- 89.8/124.9 MB 11.1 MB/s eta 0:00:04\n",
      "   ---------------------------- ----------- 90.4/124.9 MB 11.1 MB/s eta 0:00:04\n",
      "   ----------------------------- ---------- 90.7/124.9 MB 10.9 MB/s eta 0:00:04\n",
      "   ----------------------------- ---------- 91.1/124.9 MB 10.7 MB/s eta 0:00:04\n",
      "   ----------------------------- ---------- 91.4/124.9 MB 10.4 MB/s eta 0:00:04\n",
      "   ----------------------------- ---------- 91.8/124.9 MB 10.2 MB/s eta 0:00:04\n",
      "   ----------------------------- ---------- 92.1/124.9 MB 10.1 MB/s eta 0:00:04\n",
      "   ----------------------------- ---------- 92.4/124.9 MB 9.9 MB/s eta 0:00:04\n",
      "   ----------------------------- ---------- 92.8/124.9 MB 9.8 MB/s eta 0:00:04\n",
      "   ----------------------------- ---------- 93.2/124.9 MB 9.6 MB/s eta 0:00:04\n",
      "   ----------------------------- ---------- 93.5/124.9 MB 9.5 MB/s eta 0:00:04\n",
      "   ------------------------------ --------- 93.9/124.9 MB 9.4 MB/s eta 0:00:04\n",
      "   ------------------------------ --------- 94.2/124.9 MB 9.2 MB/s eta 0:00:04\n",
      "   ------------------------------ --------- 94.7/124.9 MB 9.1 MB/s eta 0:00:04\n",
      "   ------------------------------ --------- 95.0/124.9 MB 8.8 MB/s eta 0:00:04\n",
      "   ------------------------------ --------- 95.4/124.9 MB 8.8 MB/s eta 0:00:04\n",
      "   ------------------------------ --------- 95.8/124.9 MB 8.8 MB/s eta 0:00:04\n",
      "   ------------------------------ --------- 96.1/124.9 MB 8.6 MB/s eta 0:00:04\n",
      "   ------------------------------ --------- 96.3/124.9 MB 8.6 MB/s eta 0:00:04\n",
      "   ------------------------------ --------- 96.7/124.9 MB 8.4 MB/s eta 0:00:04\n",
      "   ------------------------------- -------- 97.1/124.9 MB 8.3 MB/s eta 0:00:04\n",
      "   ------------------------------- -------- 97.6/124.9 MB 8.5 MB/s eta 0:00:04\n",
      "   ------------------------------- -------- 97.9/124.9 MB 8.2 MB/s eta 0:00:04\n",
      "   ------------------------------- -------- 98.3/124.9 MB 8.1 MB/s eta 0:00:04\n",
      "   ------------------------------- -------- 98.5/124.9 MB 7.7 MB/s eta 0:00:04\n",
      "   ------------------------------- -------- 98.8/124.9 MB 7.5 MB/s eta 0:00:04\n",
      "   ------------------------------- -------- 99.2/124.9 MB 7.5 MB/s eta 0:00:04\n",
      "   ------------------------------- -------- 99.6/124.9 MB 7.4 MB/s eta 0:00:04\n",
      "   ------------------------------- -------- 99.8/124.9 MB 7.7 MB/s eta 0:00:04\n",
      "   -------------------------------- ------- 100.2/124.9 MB 7.4 MB/s eta 0:00:04\n",
      "   -------------------------------- ------- 100.5/124.9 MB 7.3 MB/s eta 0:00:04\n",
      "   -------------------------------- ------- 100.9/124.9 MB 7.4 MB/s eta 0:00:04\n",
      "   -------------------------------- ------- 101.3/124.9 MB 7.4 MB/s eta 0:00:04\n",
      "   -------------------------------- ------- 101.7/124.9 MB 7.4 MB/s eta 0:00:04\n",
      "   -------------------------------- ------- 102.0/124.9 MB 7.4 MB/s eta 0:00:04\n",
      "   -------------------------------- ------- 102.4/124.9 MB 7.4 MB/s eta 0:00:04\n",
      "   -------------------------------- ------- 102.8/124.9 MB 7.4 MB/s eta 0:00:03\n",
      "   --------------------------------- ------ 103.2/124.9 MB 7.4 MB/s eta 0:00:03\n",
      "   --------------------------------- ------ 103.6/124.9 MB 7.4 MB/s eta 0:00:03\n",
      "   --------------------------------- ------ 104.0/124.9 MB 7.5 MB/s eta 0:00:03\n",
      "   --------------------------------- ------ 104.4/124.9 MB 7.6 MB/s eta 0:00:03\n",
      "   --------------------------------- ------ 104.8/124.9 MB 7.6 MB/s eta 0:00:03\n",
      "   --------------------------------- ------ 105.2/124.9 MB 7.6 MB/s eta 0:00:03\n",
      "   --------------------------------- ------ 105.6/124.9 MB 7.6 MB/s eta 0:00:03\n",
      "   --------------------------------- ------ 106.0/124.9 MB 7.7 MB/s eta 0:00:03\n",
      "   ---------------------------------- ----- 106.4/124.9 MB 7.7 MB/s eta 0:00:03\n",
      "   ---------------------------------- ----- 106.8/124.9 MB 7.8 MB/s eta 0:00:03\n",
      "   ---------------------------------- ----- 107.2/124.9 MB 7.9 MB/s eta 0:00:03\n",
      "   ---------------------------------- ----- 107.5/124.9 MB 8.0 MB/s eta 0:00:03\n",
      "   ---------------------------------- ----- 107.9/124.9 MB 8.0 MB/s eta 0:00:03\n",
      "   ---------------------------------- ----- 108.3/124.9 MB 8.0 MB/s eta 0:00:03\n",
      "   ---------------------------------- ----- 108.7/124.9 MB 8.0 MB/s eta 0:00:03\n",
      "   ---------------------------------- ----- 109.1/124.9 MB 8.2 MB/s eta 0:00:02\n",
      "   ----------------------------------- ---- 109.5/124.9 MB 8.3 MB/s eta 0:00:02\n",
      "   ----------------------------------- ---- 109.8/124.9 MB 8.2 MB/s eta 0:00:02\n",
      "   ----------------------------------- ---- 110.2/124.9 MB 8.3 MB/s eta 0:00:02\n",
      "   ----------------------------------- ---- 110.6/124.9 MB 8.3 MB/s eta 0:00:02\n",
      "   ----------------------------------- ---- 110.9/124.9 MB 8.3 MB/s eta 0:00:02\n",
      "   ----------------------------------- ---- 111.3/124.9 MB 8.3 MB/s eta 0:00:02\n",
      "   ----------------------------------- ---- 111.7/124.9 MB 8.3 MB/s eta 0:00:02\n",
      "   ----------------------------------- ---- 112.2/124.9 MB 8.4 MB/s eta 0:00:02\n",
      "   ------------------------------------ --- 112.6/124.9 MB 8.4 MB/s eta 0:00:02\n",
      "   ------------------------------------ --- 113.0/124.9 MB 8.5 MB/s eta 0:00:02\n",
      "   ------------------------------------ --- 113.4/124.9 MB 8.5 MB/s eta 0:00:02\n",
      "   ------------------------------------ --- 113.8/124.9 MB 8.5 MB/s eta 0:00:02\n",
      "   ------------------------------------ --- 114.2/124.9 MB 8.5 MB/s eta 0:00:02\n",
      "   ------------------------------------ --- 114.7/124.9 MB 8.5 MB/s eta 0:00:02\n",
      "   ------------------------------------ --- 115.1/124.9 MB 8.5 MB/s eta 0:00:02\n",
      "   ------------------------------------ --- 115.5/124.9 MB 8.5 MB/s eta 0:00:02\n",
      "   ------------------------------------- -- 115.9/124.9 MB 8.5 MB/s eta 0:00:02\n",
      "   ------------------------------------- -- 116.3/124.9 MB 8.5 MB/s eta 0:00:02\n",
      "   ------------------------------------- -- 116.7/124.9 MB 8.5 MB/s eta 0:00:01\n",
      "   ------------------------------------- -- 117.1/124.9 MB 8.5 MB/s eta 0:00:01\n",
      "   ------------------------------------- -- 117.5/124.9 MB 8.6 MB/s eta 0:00:01\n",
      "   ------------------------------------- -- 117.9/124.9 MB 8.6 MB/s eta 0:00:01\n",
      "   ------------------------------------- -- 118.3/124.9 MB 8.5 MB/s eta 0:00:01\n",
      "   ------------------------------------- -- 118.7/124.9 MB 8.6 MB/s eta 0:00:01\n",
      "   -------------------------------------- - 119.1/124.9 MB 8.6 MB/s eta 0:00:01\n",
      "   -------------------------------------- - 119.5/124.9 MB 8.6 MB/s eta 0:00:01\n",
      "   -------------------------------------- - 119.9/124.9 MB 8.6 MB/s eta 0:00:01\n",
      "   -------------------------------------- - 120.3/124.9 MB 8.6 MB/s eta 0:00:01\n",
      "   -------------------------------------- - 120.7/124.9 MB 8.7 MB/s eta 0:00:01\n",
      "   -------------------------------------- - 121.1/124.9 MB 8.8 MB/s eta 0:00:01\n",
      "   -------------------------------------- - 121.5/124.9 MB 8.7 MB/s eta 0:00:01\n",
      "   ---------------------------------------  121.9/124.9 MB 8.7 MB/s eta 0:00:01\n",
      "   ---------------------------------------  122.4/124.9 MB 8.7 MB/s eta 0:00:01\n",
      "   ---------------------------------------  122.8/124.9 MB 8.7 MB/s eta 0:00:01\n",
      "   ---------------------------------------  123.2/124.9 MB 8.7 MB/s eta 0:00:01\n",
      "   ---------------------------------------  123.6/124.9 MB 8.7 MB/s eta 0:00:01\n",
      "   ---------------------------------------  124.0/124.9 MB 8.7 MB/s eta 0:00:01\n",
      "   ---------------------------------------  124.3/124.9 MB 8.6 MB/s eta 0:00:01\n",
      "   ---------------------------------------  124.8/124.9 MB 8.6 MB/s eta 0:00:01\n",
      "   ---------------------------------------  124.9/124.9 MB 8.7 MB/s eta 0:00:01\n",
      "   ---------------------------------------  124.9/124.9 MB 8.7 MB/s eta 0:00:01\n",
      "   ---------------------------------------  124.9/124.9 MB 8.7 MB/s eta 0:00:01\n",
      "   ---------------------------------------  124.9/124.9 MB 8.7 MB/s eta 0:00:01\n",
      "   ---------------------------------------  124.9/124.9 MB 8.7 MB/s eta 0:00:01\n",
      "   ---------------------------------------  124.9/124.9 MB 8.7 MB/s eta 0:00:01\n",
      "   ---------------------------------------- 124.9/124.9 MB 6.2 MB/s eta 0:00:00\n",
      "Installing collected packages: xgboost\n",
      "Successfully installed xgboost-2.1.4\n"
     ]
    }
   ],
   "source": [
    "#!pip install xgboost"
   ]
  },
  {
   "cell_type": "code",
   "execution_count": 406,
   "metadata": {
    "tags": []
   },
   "outputs": [],
   "source": [
    "import xgboost as xgb"
   ]
  },
  {
   "cell_type": "code",
   "execution_count": 407,
   "metadata": {
    "tags": []
   },
   "outputs": [],
   "source": [
    "DM_train = xgb.DMatrix(data = X_train, label = y_train)\n",
    "DM_test = xgb.DMatrix(data = X_test, label = y_test)"
   ]
  },
  {
   "cell_type": "code",
   "execution_count": 408,
   "metadata": {
    "tags": []
   },
   "outputs": [],
   "source": [
    "from xgboost import XGBRegressor"
   ]
  },
  {
   "cell_type": "code",
   "execution_count": 409,
   "metadata": {
    "tags": []
   },
   "outputs": [],
   "source": [
    "xgb_model = XGBRegressor().fit(X_train, y_train)"
   ]
  },
  {
   "cell_type": "markdown",
   "metadata": {},
   "source": [
    "### Tahmin ve Model Tuning"
   ]
  },
  {
   "cell_type": "code",
   "execution_count": 410,
   "metadata": {
    "tags": []
   },
   "outputs": [
    {
     "data": {
      "text/plain": [
       "366.3863437634965"
      ]
     },
     "execution_count": 410,
     "metadata": {},
     "output_type": "execute_result"
    }
   ],
   "source": [
    "y_pred = xgb_model.predict(X_test)\n",
    "np.sqrt(mean_squared_error(y_test, y_pred))"
   ]
  },
  {
   "cell_type": "code",
   "execution_count": 411,
   "metadata": {
    "tags": []
   },
   "outputs": [],
   "source": [
    "xgb_grid = {\n",
    "     'colsample_bytree': [0.4, 0.5,0.6,0.9,1], \n",
    "     'n_estimators':[100, 200, 500, 1000],\n",
    "     'max_depth': [2,3,4,5,6],\n",
    "     'learning_rate': [0.1, 0.01, 0.5]\n",
    "}\n"
   ]
  },
  {
   "cell_type": "code",
   "execution_count": 412,
   "metadata": {
    "tags": []
   },
   "outputs": [
    {
     "name": "stdout",
     "output_type": "stream",
     "text": [
      "Fitting 10 folds for each of 300 candidates, totalling 3000 fits\n"
     ]
    },
    {
     "data": {
      "text/html": [
       "<style>#sk-container-id-32 {color: black;}#sk-container-id-32 pre{padding: 0;}#sk-container-id-32 div.sk-toggleable {background-color: white;}#sk-container-id-32 label.sk-toggleable__label {cursor: pointer;display: block;width: 100%;margin-bottom: 0;padding: 0.3em;box-sizing: border-box;text-align: center;}#sk-container-id-32 label.sk-toggleable__label-arrow:before {content: \"▸\";float: left;margin-right: 0.25em;color: #696969;}#sk-container-id-32 label.sk-toggleable__label-arrow:hover:before {color: black;}#sk-container-id-32 div.sk-estimator:hover label.sk-toggleable__label-arrow:before {color: black;}#sk-container-id-32 div.sk-toggleable__content {max-height: 0;max-width: 0;overflow: hidden;text-align: left;background-color: #f0f8ff;}#sk-container-id-32 div.sk-toggleable__content pre {margin: 0.2em;color: black;border-radius: 0.25em;background-color: #f0f8ff;}#sk-container-id-32 input.sk-toggleable__control:checked~div.sk-toggleable__content {max-height: 200px;max-width: 100%;overflow: auto;}#sk-container-id-32 input.sk-toggleable__control:checked~label.sk-toggleable__label-arrow:before {content: \"▾\";}#sk-container-id-32 div.sk-estimator input.sk-toggleable__control:checked~label.sk-toggleable__label {background-color: #d4ebff;}#sk-container-id-32 div.sk-label input.sk-toggleable__control:checked~label.sk-toggleable__label {background-color: #d4ebff;}#sk-container-id-32 input.sk-hidden--visually {border: 0;clip: rect(1px 1px 1px 1px);clip: rect(1px, 1px, 1px, 1px);height: 1px;margin: -1px;overflow: hidden;padding: 0;position: absolute;width: 1px;}#sk-container-id-32 div.sk-estimator {font-family: monospace;background-color: #f0f8ff;border: 1px dotted black;border-radius: 0.25em;box-sizing: border-box;margin-bottom: 0.5em;}#sk-container-id-32 div.sk-estimator:hover {background-color: #d4ebff;}#sk-container-id-32 div.sk-parallel-item::after {content: \"\";width: 100%;border-bottom: 1px solid gray;flex-grow: 1;}#sk-container-id-32 div.sk-label:hover label.sk-toggleable__label {background-color: #d4ebff;}#sk-container-id-32 div.sk-serial::before {content: \"\";position: absolute;border-left: 1px solid gray;box-sizing: border-box;top: 0;bottom: 0;left: 50%;z-index: 0;}#sk-container-id-32 div.sk-serial {display: flex;flex-direction: column;align-items: center;background-color: white;padding-right: 0.2em;padding-left: 0.2em;position: relative;}#sk-container-id-32 div.sk-item {position: relative;z-index: 1;}#sk-container-id-32 div.sk-parallel {display: flex;align-items: stretch;justify-content: center;background-color: white;position: relative;}#sk-container-id-32 div.sk-item::before, #sk-container-id-32 div.sk-parallel-item::before {content: \"\";position: absolute;border-left: 1px solid gray;box-sizing: border-box;top: 0;bottom: 0;left: 50%;z-index: -1;}#sk-container-id-32 div.sk-parallel-item {display: flex;flex-direction: column;z-index: 1;position: relative;background-color: white;}#sk-container-id-32 div.sk-parallel-item:first-child::after {align-self: flex-end;width: 50%;}#sk-container-id-32 div.sk-parallel-item:last-child::after {align-self: flex-start;width: 50%;}#sk-container-id-32 div.sk-parallel-item:only-child::after {width: 0;}#sk-container-id-32 div.sk-dashed-wrapped {border: 1px dashed gray;margin: 0 0.4em 0.5em 0.4em;box-sizing: border-box;padding-bottom: 0.4em;background-color: white;}#sk-container-id-32 div.sk-label label {font-family: monospace;font-weight: bold;display: inline-block;line-height: 1.2em;}#sk-container-id-32 div.sk-label-container {text-align: center;}#sk-container-id-32 div.sk-container {/* jupyter's `normalize.less` sets `[hidden] { display: none; }` but bootstrap.min.css set `[hidden] { display: none !important; }` so we also need the `!important` here to be able to override the default hidden behavior on the sphinx rendered scikit-learn.org. See: https://github.com/scikit-learn/scikit-learn/issues/21755 */display: inline-block !important;position: relative;}#sk-container-id-32 div.sk-text-repr-fallback {display: none;}</style><div id=\"sk-container-id-32\" class=\"sk-top-container\"><div class=\"sk-text-repr-fallback\"><pre>GridSearchCV(cv=10,\n",
       "             estimator=XGBRegressor(base_score=None, booster=None,\n",
       "                                    callbacks=None, colsample_bylevel=None,\n",
       "                                    colsample_bynode=None,\n",
       "                                    colsample_bytree=None, device=None,\n",
       "                                    early_stopping_rounds=None,\n",
       "                                    enable_categorical=False, eval_metric=None,\n",
       "                                    feature_types=None, gamma=None,\n",
       "                                    grow_policy=None, importance_type=None,\n",
       "                                    interaction_constraints=None,\n",
       "                                    learning_rate=None,...\n",
       "                                    max_cat_to_onehot=None, max_delta_step=None,\n",
       "                                    max_depth=None, max_leaves=None,\n",
       "                                    min_child_weight=None, missing=nan,\n",
       "                                    monotone_constraints=None,\n",
       "                                    multi_strategy=None, n_estimators=None,\n",
       "                                    n_jobs=None, num_parallel_tree=None,\n",
       "                                    random_state=None, ...),\n",
       "             n_jobs=-1,\n",
       "             param_grid={&#x27;colsample_bytree&#x27;: [0.4, 0.5, 0.6, 0.9, 1],\n",
       "                         &#x27;learning_rate&#x27;: [0.1, 0.01, 0.5],\n",
       "                         &#x27;max_depth&#x27;: [2, 3, 4, 5, 6],\n",
       "                         &#x27;n_estimators&#x27;: [100, 200, 500, 1000]},\n",
       "             verbose=2)</pre><b>In a Jupyter environment, please rerun this cell to show the HTML representation or trust the notebook. <br />On GitHub, the HTML representation is unable to render, please try loading this page with nbviewer.org.</b></div><div class=\"sk-container\" hidden><div class=\"sk-item sk-dashed-wrapped\"><div class=\"sk-label-container\"><div class=\"sk-label sk-toggleable\"><input class=\"sk-toggleable__control sk-hidden--visually\" id=\"sk-estimator-id-56\" type=\"checkbox\" ><label for=\"sk-estimator-id-56\" class=\"sk-toggleable__label sk-toggleable__label-arrow\">GridSearchCV</label><div class=\"sk-toggleable__content\"><pre>GridSearchCV(cv=10,\n",
       "             estimator=XGBRegressor(base_score=None, booster=None,\n",
       "                                    callbacks=None, colsample_bylevel=None,\n",
       "                                    colsample_bynode=None,\n",
       "                                    colsample_bytree=None, device=None,\n",
       "                                    early_stopping_rounds=None,\n",
       "                                    enable_categorical=False, eval_metric=None,\n",
       "                                    feature_types=None, gamma=None,\n",
       "                                    grow_policy=None, importance_type=None,\n",
       "                                    interaction_constraints=None,\n",
       "                                    learning_rate=None,...\n",
       "                                    max_cat_to_onehot=None, max_delta_step=None,\n",
       "                                    max_depth=None, max_leaves=None,\n",
       "                                    min_child_weight=None, missing=nan,\n",
       "                                    monotone_constraints=None,\n",
       "                                    multi_strategy=None, n_estimators=None,\n",
       "                                    n_jobs=None, num_parallel_tree=None,\n",
       "                                    random_state=None, ...),\n",
       "             n_jobs=-1,\n",
       "             param_grid={&#x27;colsample_bytree&#x27;: [0.4, 0.5, 0.6, 0.9, 1],\n",
       "                         &#x27;learning_rate&#x27;: [0.1, 0.01, 0.5],\n",
       "                         &#x27;max_depth&#x27;: [2, 3, 4, 5, 6],\n",
       "                         &#x27;n_estimators&#x27;: [100, 200, 500, 1000]},\n",
       "             verbose=2)</pre></div></div></div><div class=\"sk-parallel\"><div class=\"sk-parallel-item\"><div class=\"sk-item\"><div class=\"sk-label-container\"><div class=\"sk-label sk-toggleable\"><input class=\"sk-toggleable__control sk-hidden--visually\" id=\"sk-estimator-id-57\" type=\"checkbox\" ><label for=\"sk-estimator-id-57\" class=\"sk-toggleable__label sk-toggleable__label-arrow\">estimator: XGBRegressor</label><div class=\"sk-toggleable__content\"><pre>XGBRegressor(base_score=None, booster=None, callbacks=None,\n",
       "             colsample_bylevel=None, colsample_bynode=None,\n",
       "             colsample_bytree=None, device=None, early_stopping_rounds=None,\n",
       "             enable_categorical=False, eval_metric=None, feature_types=None,\n",
       "             gamma=None, grow_policy=None, importance_type=None,\n",
       "             interaction_constraints=None, learning_rate=None, max_bin=None,\n",
       "             max_cat_threshold=None, max_cat_to_onehot=None,\n",
       "             max_delta_step=None, max_depth=None, max_leaves=None,\n",
       "             min_child_weight=None, missing=nan, monotone_constraints=None,\n",
       "             multi_strategy=None, n_estimators=None, n_jobs=None,\n",
       "             num_parallel_tree=None, random_state=None, ...)</pre></div></div></div><div class=\"sk-serial\"><div class=\"sk-item\"><div class=\"sk-estimator sk-toggleable\"><input class=\"sk-toggleable__control sk-hidden--visually\" id=\"sk-estimator-id-58\" type=\"checkbox\" ><label for=\"sk-estimator-id-58\" class=\"sk-toggleable__label sk-toggleable__label-arrow\">XGBRegressor</label><div class=\"sk-toggleable__content\"><pre>XGBRegressor(base_score=None, booster=None, callbacks=None,\n",
       "             colsample_bylevel=None, colsample_bynode=None,\n",
       "             colsample_bytree=None, device=None, early_stopping_rounds=None,\n",
       "             enable_categorical=False, eval_metric=None, feature_types=None,\n",
       "             gamma=None, grow_policy=None, importance_type=None,\n",
       "             interaction_constraints=None, learning_rate=None, max_bin=None,\n",
       "             max_cat_threshold=None, max_cat_to_onehot=None,\n",
       "             max_delta_step=None, max_depth=None, max_leaves=None,\n",
       "             min_child_weight=None, missing=nan, monotone_constraints=None,\n",
       "             multi_strategy=None, n_estimators=None, n_jobs=None,\n",
       "             num_parallel_tree=None, random_state=None, ...)</pre></div></div></div></div></div></div></div></div></div></div>"
      ],
      "text/plain": [
       "GridSearchCV(cv=10,\n",
       "             estimator=XGBRegressor(base_score=None, booster=None,\n",
       "                                    callbacks=None, colsample_bylevel=None,\n",
       "                                    colsample_bynode=None,\n",
       "                                    colsample_bytree=None, device=None,\n",
       "                                    early_stopping_rounds=None,\n",
       "                                    enable_categorical=False, eval_metric=None,\n",
       "                                    feature_types=None, gamma=None,\n",
       "                                    grow_policy=None, importance_type=None,\n",
       "                                    interaction_constraints=None,\n",
       "                                    learning_rate=None,...\n",
       "                                    max_cat_to_onehot=None, max_delta_step=None,\n",
       "                                    max_depth=None, max_leaves=None,\n",
       "                                    min_child_weight=None, missing=nan,\n",
       "                                    monotone_constraints=None,\n",
       "                                    multi_strategy=None, n_estimators=None,\n",
       "                                    n_jobs=None, num_parallel_tree=None,\n",
       "                                    random_state=None, ...),\n",
       "             n_jobs=-1,\n",
       "             param_grid={'colsample_bytree': [0.4, 0.5, 0.6, 0.9, 1],\n",
       "                         'learning_rate': [0.1, 0.01, 0.5],\n",
       "                         'max_depth': [2, 3, 4, 5, 6],\n",
       "                         'n_estimators': [100, 200, 500, 1000]},\n",
       "             verbose=2)"
      ]
     },
     "execution_count": 412,
     "metadata": {},
     "output_type": "execute_result"
    }
   ],
   "source": [
    "xgb = XGBRegressor()\n",
    "\n",
    "xgb_cv = GridSearchCV(xgb, \n",
    "                      param_grid = xgb_grid, \n",
    "                      cv = 10, \n",
    "                      n_jobs = -1,\n",
    "                      verbose = 2)\n",
    "\n",
    "\n",
    "xgb_cv.fit(X_train, y_train)"
   ]
  },
  {
   "cell_type": "code",
   "execution_count": 413,
   "metadata": {
    "tags": []
   },
   "outputs": [
    {
     "data": {
      "text/plain": [
       "{'colsample_bytree': 0.4,\n",
       " 'learning_rate': 0.1,\n",
       " 'max_depth': 6,\n",
       " 'n_estimators': 100}"
      ]
     },
     "execution_count": 413,
     "metadata": {},
     "output_type": "execute_result"
    }
   ],
   "source": [
    "xgb_cv.best_params_"
   ]
  },
  {
   "cell_type": "code",
   "execution_count": 430,
   "metadata": {
    "tags": []
   },
   "outputs": [],
   "source": [
    "xgb_tuned = XGBRegressor(colsample_bytree = 0.4, \n",
    "                         learning_rate = 0.1, \n",
    "                         max_depth = 6, \n",
    "                         n_estimators = 100) \n",
    "\n",
    "xgb_tuned = xgb_tuned.fit(X_train,y_train)"
   ]
  },
  {
   "cell_type": "code",
   "execution_count": 431,
   "metadata": {
    "tags": []
   },
   "outputs": [
    {
     "name": "stdout",
     "output_type": "stream",
     "text": [
      "343.6101991802883\n"
     ]
    },
    {
     "data": {
      "text/plain": [
       "0.454590560982185"
      ]
     },
     "execution_count": 431,
     "metadata": {},
     "output_type": "execute_result"
    }
   ],
   "source": [
    "y_pred = xgb_tuned.predict(X_test)\n",
    "print(np.sqrt(mean_squared_error(y_test, y_pred)))\n",
    "r2_score(y_test,y_pred)"
   ]
  },
  {
   "cell_type": "markdown",
   "metadata": {},
   "source": [
    "## Light GBM"
   ]
  },
  {
   "cell_type": "code",
   "execution_count": 432,
   "metadata": {
    "tags": []
   },
   "outputs": [],
   "source": [
    "hit = pd.read_csv(\"Hitters.csv\")\n",
    "df = hit.copy()\n",
    "df = df.dropna()\n",
    "dms = pd.get_dummies(df[['League', 'Division', 'NewLeague']])\n",
    "y = df[\"Salary\"]\n",
    "X_ = df.drop(['Salary', 'League', 'Division', 'NewLeague'], axis=1).astype('float64')\n",
    "X = pd.concat([X_, dms[['League_N', 'Division_W', 'NewLeague_N']]], axis=1)\n",
    "X_train, X_test, y_train, y_test = train_test_split(X, y, \n",
    "                                                    test_size=0.25, \n",
    "                                                    random_state=42)\n"
   ]
  },
  {
   "cell_type": "code",
   "execution_count": 433,
   "metadata": {
    "collapsed": true,
    "jupyter": {
     "outputs_hidden": true
    },
    "tags": []
   },
   "outputs": [
    {
     "name": "stdout",
     "output_type": "stream",
     "text": [
      "Collecting lightgbm\n",
      "  Obtaining dependency information for lightgbm from https://files.pythonhosted.org/packages/5e/23/f8b28ca248bb629b9e08f877dd2965d1994e1674a03d67cd10c5246da248/lightgbm-4.6.0-py3-none-win_amd64.whl.metadata\n",
      "  Downloading lightgbm-4.6.0-py3-none-win_amd64.whl.metadata (17 kB)\n",
      "Requirement already satisfied: numpy>=1.17.0 in c:\\users\\frkng\\.conda\\lib\\site-packages (from lightgbm) (1.24.3)\n",
      "Requirement already satisfied: scipy in c:\\users\\frkng\\.conda\\lib\\site-packages (from lightgbm) (1.11.1)\n",
      "Downloading lightgbm-4.6.0-py3-none-win_amd64.whl (1.5 MB)\n",
      "   ---------------------------------------- 0.0/1.5 MB ? eta -:--:--\n",
      "   ---------------------------------------- 0.0/1.5 MB ? eta -:--:--\n",
      "   - -------------------------------------- 0.0/1.5 MB 487.6 kB/s eta 0:00:03\n",
      "   --- ------------------------------------ 0.1/1.5 MB 1.2 MB/s eta 0:00:02\n",
      "   -------- ------------------------------- 0.3/1.5 MB 1.9 MB/s eta 0:00:01\n",
      "   ------------ --------------------------- 0.5/1.5 MB 2.2 MB/s eta 0:00:01\n",
      "   ---------------- ----------------------- 0.6/1.5 MB 2.4 MB/s eta 0:00:01\n",
      "   --------------------- ------------------ 0.8/1.5 MB 2.6 MB/s eta 0:00:01\n",
      "   ------------------------- -------------- 0.9/1.5 MB 2.6 MB/s eta 0:00:01\n",
      "   ----------------------------- ---------- 1.1/1.5 MB 2.7 MB/s eta 0:00:01\n",
      "   --------------------------------- ------ 1.2/1.5 MB 2.7 MB/s eta 0:00:01\n",
      "   ------------------------------------- -- 1.4/1.5 MB 2.8 MB/s eta 0:00:01\n",
      "   ---------------------------------------- 1.5/1.5 MB 2.7 MB/s eta 0:00:00\n",
      "Installing collected packages: lightgbm\n",
      "Successfully installed lightgbm-4.6.0\n"
     ]
    }
   ],
   "source": [
    "#!pip install lightgbm"
   ]
  },
  {
   "cell_type": "code",
   "execution_count": 434,
   "metadata": {
    "tags": []
   },
   "outputs": [],
   "source": [
    "from lightgbm import LGBMRegressor"
   ]
  },
  {
   "cell_type": "code",
   "execution_count": null,
   "metadata": {},
   "outputs": [],
   "source": [
    "#conda install -c conda-forge lightgbm"
   ]
  },
  {
   "cell_type": "code",
   "execution_count": 435,
   "metadata": {
    "tags": []
   },
   "outputs": [],
   "source": [
    "from lightgbm import LGBMRegressor"
   ]
  },
  {
   "cell_type": "code",
   "execution_count": 436,
   "metadata": {
    "collapsed": true,
    "jupyter": {
     "outputs_hidden": true
    },
    "tags": []
   },
   "outputs": [
    {
     "name": "stdout",
     "output_type": "stream",
     "text": [
      "[LightGBM] [Info] Auto-choosing row-wise multi-threading, the overhead of testing was 0.000177 seconds.\n",
      "You can set `force_row_wise=true` to remove the overhead.\n",
      "And if memory is not enough, you can set `force_col_wise=true`.\n",
      "[LightGBM] [Info] Total Bins 831\n",
      "[LightGBM] [Info] Number of data points in the train set: 197, number of used features: 19\n",
      "[LightGBM] [Info] Start training from score 543.483442\n",
      "[LightGBM] [Warning] No further splits with positive gain, best gain: -inf\n",
      "[LightGBM] [Warning] No further splits with positive gain, best gain: -inf\n",
      "[LightGBM] [Warning] No further splits with positive gain, best gain: -inf\n",
      "[LightGBM] [Warning] No further splits with positive gain, best gain: -inf\n",
      "[LightGBM] [Warning] No further splits with positive gain, best gain: -inf\n",
      "[LightGBM] [Warning] No further splits with positive gain, best gain: -inf\n",
      "[LightGBM] [Warning] No further splits with positive gain, best gain: -inf\n",
      "[LightGBM] [Warning] No further splits with positive gain, best gain: -inf\n",
      "[LightGBM] [Warning] No further splits with positive gain, best gain: -inf\n",
      "[LightGBM] [Warning] No further splits with positive gain, best gain: -inf\n",
      "[LightGBM] [Warning] No further splits with positive gain, best gain: -inf\n",
      "[LightGBM] [Warning] No further splits with positive gain, best gain: -inf\n",
      "[LightGBM] [Warning] No further splits with positive gain, best gain: -inf\n",
      "[LightGBM] [Warning] No further splits with positive gain, best gain: -inf\n",
      "[LightGBM] [Warning] No further splits with positive gain, best gain: -inf\n",
      "[LightGBM] [Warning] No further splits with positive gain, best gain: -inf\n",
      "[LightGBM] [Warning] No further splits with positive gain, best gain: -inf\n",
      "[LightGBM] [Warning] No further splits with positive gain, best gain: -inf\n",
      "[LightGBM] [Warning] No further splits with positive gain, best gain: -inf\n",
      "[LightGBM] [Warning] No further splits with positive gain, best gain: -inf\n",
      "[LightGBM] [Warning] No further splits with positive gain, best gain: -inf\n",
      "[LightGBM] [Warning] No further splits with positive gain, best gain: -inf\n",
      "[LightGBM] [Warning] No further splits with positive gain, best gain: -inf\n",
      "[LightGBM] [Warning] No further splits with positive gain, best gain: -inf\n",
      "[LightGBM] [Warning] No further splits with positive gain, best gain: -inf\n",
      "[LightGBM] [Warning] No further splits with positive gain, best gain: -inf\n",
      "[LightGBM] [Warning] No further splits with positive gain, best gain: -inf\n",
      "[LightGBM] [Warning] No further splits with positive gain, best gain: -inf\n",
      "[LightGBM] [Warning] No further splits with positive gain, best gain: -inf\n",
      "[LightGBM] [Warning] No further splits with positive gain, best gain: -inf\n",
      "[LightGBM] [Warning] No further splits with positive gain, best gain: -inf\n",
      "[LightGBM] [Warning] No further splits with positive gain, best gain: -inf\n",
      "[LightGBM] [Warning] No further splits with positive gain, best gain: -inf\n",
      "[LightGBM] [Warning] No further splits with positive gain, best gain: -inf\n",
      "[LightGBM] [Warning] No further splits with positive gain, best gain: -inf\n",
      "[LightGBM] [Warning] No further splits with positive gain, best gain: -inf\n",
      "[LightGBM] [Warning] No further splits with positive gain, best gain: -inf\n",
      "[LightGBM] [Warning] No further splits with positive gain, best gain: -inf\n",
      "[LightGBM] [Warning] No further splits with positive gain, best gain: -inf\n",
      "[LightGBM] [Warning] No further splits with positive gain, best gain: -inf\n",
      "[LightGBM] [Warning] No further splits with positive gain, best gain: -inf\n",
      "[LightGBM] [Warning] No further splits with positive gain, best gain: -inf\n",
      "[LightGBM] [Warning] No further splits with positive gain, best gain: -inf\n",
      "[LightGBM] [Warning] No further splits with positive gain, best gain: -inf\n",
      "[LightGBM] [Warning] No further splits with positive gain, best gain: -inf\n",
      "[LightGBM] [Warning] No further splits with positive gain, best gain: -inf\n",
      "[LightGBM] [Warning] No further splits with positive gain, best gain: -inf\n",
      "[LightGBM] [Warning] No further splits with positive gain, best gain: -inf\n",
      "[LightGBM] [Warning] No further splits with positive gain, best gain: -inf\n",
      "[LightGBM] [Warning] No further splits with positive gain, best gain: -inf\n",
      "[LightGBM] [Warning] No further splits with positive gain, best gain: -inf\n",
      "[LightGBM] [Warning] No further splits with positive gain, best gain: -inf\n",
      "[LightGBM] [Warning] No further splits with positive gain, best gain: -inf\n",
      "[LightGBM] [Warning] No further splits with positive gain, best gain: -inf\n",
      "[LightGBM] [Warning] No further splits with positive gain, best gain: -inf\n",
      "[LightGBM] [Warning] No further splits with positive gain, best gain: -inf\n",
      "[LightGBM] [Warning] No further splits with positive gain, best gain: -inf\n",
      "[LightGBM] [Warning] No further splits with positive gain, best gain: -inf\n",
      "[LightGBM] [Warning] No further splits with positive gain, best gain: -inf\n",
      "[LightGBM] [Warning] No further splits with positive gain, best gain: -inf\n",
      "[LightGBM] [Warning] No further splits with positive gain, best gain: -inf\n",
      "[LightGBM] [Warning] No further splits with positive gain, best gain: -inf\n",
      "[LightGBM] [Warning] No further splits with positive gain, best gain: -inf\n",
      "[LightGBM] [Warning] No further splits with positive gain, best gain: -inf\n",
      "[LightGBM] [Warning] No further splits with positive gain, best gain: -inf\n",
      "[LightGBM] [Warning] No further splits with positive gain, best gain: -inf\n",
      "[LightGBM] [Warning] No further splits with positive gain, best gain: -inf\n",
      "[LightGBM] [Warning] No further splits with positive gain, best gain: -inf\n",
      "[LightGBM] [Warning] No further splits with positive gain, best gain: -inf\n",
      "[LightGBM] [Warning] No further splits with positive gain, best gain: -inf\n",
      "[LightGBM] [Warning] No further splits with positive gain, best gain: -inf\n",
      "[LightGBM] [Warning] No further splits with positive gain, best gain: -inf\n",
      "[LightGBM] [Warning] No further splits with positive gain, best gain: -inf\n",
      "[LightGBM] [Warning] No further splits with positive gain, best gain: -inf\n",
      "[LightGBM] [Warning] No further splits with positive gain, best gain: -inf\n",
      "[LightGBM] [Warning] No further splits with positive gain, best gain: -inf\n",
      "[LightGBM] [Warning] No further splits with positive gain, best gain: -inf\n",
      "[LightGBM] [Warning] No further splits with positive gain, best gain: -inf\n",
      "[LightGBM] [Warning] No further splits with positive gain, best gain: -inf\n",
      "[LightGBM] [Warning] No further splits with positive gain, best gain: -inf\n",
      "[LightGBM] [Warning] No further splits with positive gain, best gain: -inf\n",
      "[LightGBM] [Warning] No further splits with positive gain, best gain: -inf\n",
      "[LightGBM] [Warning] No further splits with positive gain, best gain: -inf\n",
      "[LightGBM] [Warning] No further splits with positive gain, best gain: -inf\n",
      "[LightGBM] [Warning] No further splits with positive gain, best gain: -inf\n",
      "[LightGBM] [Warning] No further splits with positive gain, best gain: -inf\n",
      "[LightGBM] [Warning] No further splits with positive gain, best gain: -inf\n",
      "[LightGBM] [Warning] No further splits with positive gain, best gain: -inf\n",
      "[LightGBM] [Warning] No further splits with positive gain, best gain: -inf\n",
      "[LightGBM] [Warning] No further splits with positive gain, best gain: -inf\n",
      "[LightGBM] [Warning] No further splits with positive gain, best gain: -inf\n",
      "[LightGBM] [Warning] No further splits with positive gain, best gain: -inf\n",
      "[LightGBM] [Warning] No further splits with positive gain, best gain: -inf\n",
      "[LightGBM] [Warning] No further splits with positive gain, best gain: -inf\n",
      "[LightGBM] [Warning] No further splits with positive gain, best gain: -inf\n",
      "[LightGBM] [Warning] No further splits with positive gain, best gain: -inf\n",
      "[LightGBM] [Warning] No further splits with positive gain, best gain: -inf\n",
      "[LightGBM] [Warning] No further splits with positive gain, best gain: -inf\n",
      "[LightGBM] [Warning] No further splits with positive gain, best gain: -inf\n",
      "[LightGBM] [Warning] No further splits with positive gain, best gain: -inf\n"
     ]
    }
   ],
   "source": [
    "lgbm = LGBMRegressor()\n",
    "lgbm_model = lgbm.fit(X_train, y_train)"
   ]
  },
  {
   "cell_type": "markdown",
   "metadata": {},
   "source": [
    "### Tahmin ve Model Tuning"
   ]
  },
  {
   "cell_type": "code",
   "execution_count": 437,
   "metadata": {
    "tags": []
   },
   "outputs": [],
   "source": [
    "y_pred = lgbm_model.predict(X_test,\n",
    "                            num_iteration = lgbm_model.best_iteration_)"
   ]
  },
  {
   "cell_type": "code",
   "execution_count": 438,
   "metadata": {
    "tags": []
   },
   "outputs": [
    {
     "data": {
      "text/plain": [
       "363.8712087611089"
      ]
     },
     "execution_count": 438,
     "metadata": {},
     "output_type": "execute_result"
    }
   ],
   "source": [
    "np.sqrt(mean_squared_error(y_test, y_pred))"
   ]
  },
  {
   "cell_type": "code",
   "execution_count": 439,
   "metadata": {
    "tags": []
   },
   "outputs": [],
   "source": [
    "lgbm_grid = {\n",
    "    'colsample_bytree': [0.4, 0.5,0.6,0.9,1],\n",
    "    'learning_rate': [0.01, 0.1, 0.5,1],\n",
    "    'n_estimators': [20, 40, 100, 200, 500,1000],\n",
    "    'max_depth': [1,2,3,4,5,6,7,8] }\n",
    "\n",
    "lgbm = LGBMRegressor()\n",
    "lgbm_cv_model = GridSearchCV(lgbm, lgbm_grid, cv=10, n_jobs = -1, verbose = 2)"
   ]
  },
  {
   "cell_type": "code",
   "execution_count": 440,
   "metadata": {
    "tags": []
   },
   "outputs": [
    {
     "name": "stdout",
     "output_type": "stream",
     "text": [
      "Fitting 10 folds for each of 960 candidates, totalling 9600 fits\n",
      "[LightGBM] [Info] Auto-choosing col-wise multi-threading, the overhead of testing was 0.000169 seconds.\n",
      "You can set `force_col_wise=true` to remove the overhead.\n",
      "[LightGBM] [Info] Total Bins 831\n",
      "[LightGBM] [Info] Number of data points in the train set: 197, number of used features: 19\n",
      "[LightGBM] [Info] Start training from score 543.483442\n",
      "[LightGBM] [Warning] No further splits with positive gain, best gain: -inf\n",
      "[LightGBM] [Warning] No further splits with positive gain, best gain: -inf\n",
      "[LightGBM] [Warning] No further splits with positive gain, best gain: -inf\n",
      "[LightGBM] [Warning] No further splits with positive gain, best gain: -inf\n",
      "[LightGBM] [Warning] No further splits with positive gain, best gain: -inf\n",
      "[LightGBM] [Warning] No further splits with positive gain, best gain: -inf\n",
      "[LightGBM] [Warning] No further splits with positive gain, best gain: -inf\n",
      "[LightGBM] [Warning] No further splits with positive gain, best gain: -inf\n",
      "[LightGBM] [Warning] No further splits with positive gain, best gain: -inf\n",
      "[LightGBM] [Warning] No further splits with positive gain, best gain: -inf\n",
      "[LightGBM] [Warning] No further splits with positive gain, best gain: -inf\n",
      "[LightGBM] [Warning] No further splits with positive gain, best gain: -inf\n",
      "[LightGBM] [Warning] No further splits with positive gain, best gain: -inf\n",
      "[LightGBM] [Warning] No further splits with positive gain, best gain: -inf\n",
      "[LightGBM] [Warning] No further splits with positive gain, best gain: -inf\n",
      "[LightGBM] [Warning] No further splits with positive gain, best gain: -inf\n",
      "[LightGBM] [Warning] No further splits with positive gain, best gain: -inf\n",
      "[LightGBM] [Warning] No further splits with positive gain, best gain: -inf\n",
      "[LightGBM] [Warning] No further splits with positive gain, best gain: -inf\n",
      "[LightGBM] [Warning] No further splits with positive gain, best gain: -inf\n"
     ]
    },
    {
     "data": {
      "text/html": [
       "<style>#sk-container-id-33 {color: black;}#sk-container-id-33 pre{padding: 0;}#sk-container-id-33 div.sk-toggleable {background-color: white;}#sk-container-id-33 label.sk-toggleable__label {cursor: pointer;display: block;width: 100%;margin-bottom: 0;padding: 0.3em;box-sizing: border-box;text-align: center;}#sk-container-id-33 label.sk-toggleable__label-arrow:before {content: \"▸\";float: left;margin-right: 0.25em;color: #696969;}#sk-container-id-33 label.sk-toggleable__label-arrow:hover:before {color: black;}#sk-container-id-33 div.sk-estimator:hover label.sk-toggleable__label-arrow:before {color: black;}#sk-container-id-33 div.sk-toggleable__content {max-height: 0;max-width: 0;overflow: hidden;text-align: left;background-color: #f0f8ff;}#sk-container-id-33 div.sk-toggleable__content pre {margin: 0.2em;color: black;border-radius: 0.25em;background-color: #f0f8ff;}#sk-container-id-33 input.sk-toggleable__control:checked~div.sk-toggleable__content {max-height: 200px;max-width: 100%;overflow: auto;}#sk-container-id-33 input.sk-toggleable__control:checked~label.sk-toggleable__label-arrow:before {content: \"▾\";}#sk-container-id-33 div.sk-estimator input.sk-toggleable__control:checked~label.sk-toggleable__label {background-color: #d4ebff;}#sk-container-id-33 div.sk-label input.sk-toggleable__control:checked~label.sk-toggleable__label {background-color: #d4ebff;}#sk-container-id-33 input.sk-hidden--visually {border: 0;clip: rect(1px 1px 1px 1px);clip: rect(1px, 1px, 1px, 1px);height: 1px;margin: -1px;overflow: hidden;padding: 0;position: absolute;width: 1px;}#sk-container-id-33 div.sk-estimator {font-family: monospace;background-color: #f0f8ff;border: 1px dotted black;border-radius: 0.25em;box-sizing: border-box;margin-bottom: 0.5em;}#sk-container-id-33 div.sk-estimator:hover {background-color: #d4ebff;}#sk-container-id-33 div.sk-parallel-item::after {content: \"\";width: 100%;border-bottom: 1px solid gray;flex-grow: 1;}#sk-container-id-33 div.sk-label:hover label.sk-toggleable__label {background-color: #d4ebff;}#sk-container-id-33 div.sk-serial::before {content: \"\";position: absolute;border-left: 1px solid gray;box-sizing: border-box;top: 0;bottom: 0;left: 50%;z-index: 0;}#sk-container-id-33 div.sk-serial {display: flex;flex-direction: column;align-items: center;background-color: white;padding-right: 0.2em;padding-left: 0.2em;position: relative;}#sk-container-id-33 div.sk-item {position: relative;z-index: 1;}#sk-container-id-33 div.sk-parallel {display: flex;align-items: stretch;justify-content: center;background-color: white;position: relative;}#sk-container-id-33 div.sk-item::before, #sk-container-id-33 div.sk-parallel-item::before {content: \"\";position: absolute;border-left: 1px solid gray;box-sizing: border-box;top: 0;bottom: 0;left: 50%;z-index: -1;}#sk-container-id-33 div.sk-parallel-item {display: flex;flex-direction: column;z-index: 1;position: relative;background-color: white;}#sk-container-id-33 div.sk-parallel-item:first-child::after {align-self: flex-end;width: 50%;}#sk-container-id-33 div.sk-parallel-item:last-child::after {align-self: flex-start;width: 50%;}#sk-container-id-33 div.sk-parallel-item:only-child::after {width: 0;}#sk-container-id-33 div.sk-dashed-wrapped {border: 1px dashed gray;margin: 0 0.4em 0.5em 0.4em;box-sizing: border-box;padding-bottom: 0.4em;background-color: white;}#sk-container-id-33 div.sk-label label {font-family: monospace;font-weight: bold;display: inline-block;line-height: 1.2em;}#sk-container-id-33 div.sk-label-container {text-align: center;}#sk-container-id-33 div.sk-container {/* jupyter's `normalize.less` sets `[hidden] { display: none; }` but bootstrap.min.css set `[hidden] { display: none !important; }` so we also need the `!important` here to be able to override the default hidden behavior on the sphinx rendered scikit-learn.org. See: https://github.com/scikit-learn/scikit-learn/issues/21755 */display: inline-block !important;position: relative;}#sk-container-id-33 div.sk-text-repr-fallback {display: none;}</style><div id=\"sk-container-id-33\" class=\"sk-top-container\"><div class=\"sk-text-repr-fallback\"><pre>GridSearchCV(cv=10, estimator=LGBMRegressor(), n_jobs=-1,\n",
       "             param_grid={&#x27;colsample_bytree&#x27;: [0.4, 0.5, 0.6, 0.9, 1],\n",
       "                         &#x27;learning_rate&#x27;: [0.01, 0.1, 0.5, 1],\n",
       "                         &#x27;max_depth&#x27;: [1, 2, 3, 4, 5, 6, 7, 8],\n",
       "                         &#x27;n_estimators&#x27;: [20, 40, 100, 200, 500, 1000]},\n",
       "             verbose=2)</pre><b>In a Jupyter environment, please rerun this cell to show the HTML representation or trust the notebook. <br />On GitHub, the HTML representation is unable to render, please try loading this page with nbviewer.org.</b></div><div class=\"sk-container\" hidden><div class=\"sk-item sk-dashed-wrapped\"><div class=\"sk-label-container\"><div class=\"sk-label sk-toggleable\"><input class=\"sk-toggleable__control sk-hidden--visually\" id=\"sk-estimator-id-59\" type=\"checkbox\" ><label for=\"sk-estimator-id-59\" class=\"sk-toggleable__label sk-toggleable__label-arrow\">GridSearchCV</label><div class=\"sk-toggleable__content\"><pre>GridSearchCV(cv=10, estimator=LGBMRegressor(), n_jobs=-1,\n",
       "             param_grid={&#x27;colsample_bytree&#x27;: [0.4, 0.5, 0.6, 0.9, 1],\n",
       "                         &#x27;learning_rate&#x27;: [0.01, 0.1, 0.5, 1],\n",
       "                         &#x27;max_depth&#x27;: [1, 2, 3, 4, 5, 6, 7, 8],\n",
       "                         &#x27;n_estimators&#x27;: [20, 40, 100, 200, 500, 1000]},\n",
       "             verbose=2)</pre></div></div></div><div class=\"sk-parallel\"><div class=\"sk-parallel-item\"><div class=\"sk-item\"><div class=\"sk-label-container\"><div class=\"sk-label sk-toggleable\"><input class=\"sk-toggleable__control sk-hidden--visually\" id=\"sk-estimator-id-60\" type=\"checkbox\" ><label for=\"sk-estimator-id-60\" class=\"sk-toggleable__label sk-toggleable__label-arrow\">estimator: LGBMRegressor</label><div class=\"sk-toggleable__content\"><pre>LGBMRegressor()</pre></div></div></div><div class=\"sk-serial\"><div class=\"sk-item\"><div class=\"sk-estimator sk-toggleable\"><input class=\"sk-toggleable__control sk-hidden--visually\" id=\"sk-estimator-id-61\" type=\"checkbox\" ><label for=\"sk-estimator-id-61\" class=\"sk-toggleable__label sk-toggleable__label-arrow\">LGBMRegressor</label><div class=\"sk-toggleable__content\"><pre>LGBMRegressor()</pre></div></div></div></div></div></div></div></div></div></div>"
      ],
      "text/plain": [
       "GridSearchCV(cv=10, estimator=LGBMRegressor(), n_jobs=-1,\n",
       "             param_grid={'colsample_bytree': [0.4, 0.5, 0.6, 0.9, 1],\n",
       "                         'learning_rate': [0.01, 0.1, 0.5, 1],\n",
       "                         'max_depth': [1, 2, 3, 4, 5, 6, 7, 8],\n",
       "                         'n_estimators': [20, 40, 100, 200, 500, 1000]},\n",
       "             verbose=2)"
      ]
     },
     "execution_count": 440,
     "metadata": {},
     "output_type": "execute_result"
    }
   ],
   "source": [
    "lgbm_cv_model.fit(X_train, y_train)"
   ]
  },
  {
   "cell_type": "code",
   "execution_count": 441,
   "metadata": {
    "tags": []
   },
   "outputs": [
    {
     "data": {
      "text/plain": [
       "{'colsample_bytree': 0.5,\n",
       " 'learning_rate': 0.1,\n",
       " 'max_depth': 6,\n",
       " 'n_estimators': 20}"
      ]
     },
     "execution_count": 441,
     "metadata": {},
     "output_type": "execute_result"
    }
   ],
   "source": [
    "lgbm_cv_model.best_params_"
   ]
  },
  {
   "cell_type": "code",
   "execution_count": 443,
   "metadata": {
    "tags": []
   },
   "outputs": [
    {
     "name": "stdout",
     "output_type": "stream",
     "text": [
      "[LightGBM] [Info] Auto-choosing col-wise multi-threading, the overhead of testing was 0.000136 seconds.\n",
      "You can set `force_col_wise=true` to remove the overhead.\n",
      "[LightGBM] [Info] Total Bins 831\n",
      "[LightGBM] [Info] Number of data points in the train set: 197, number of used features: 19\n",
      "[LightGBM] [Info] Start training from score 543.483442\n",
      "[LightGBM] [Warning] No further splits with positive gain, best gain: -inf\n",
      "[LightGBM] [Warning] No further splits with positive gain, best gain: -inf\n",
      "[LightGBM] [Warning] No further splits with positive gain, best gain: -inf\n",
      "[LightGBM] [Warning] No further splits with positive gain, best gain: -inf\n",
      "[LightGBM] [Warning] No further splits with positive gain, best gain: -inf\n",
      "[LightGBM] [Warning] No further splits with positive gain, best gain: -inf\n",
      "[LightGBM] [Warning] No further splits with positive gain, best gain: -inf\n",
      "[LightGBM] [Warning] No further splits with positive gain, best gain: -inf\n",
      "[LightGBM] [Warning] No further splits with positive gain, best gain: -inf\n",
      "[LightGBM] [Warning] No further splits with positive gain, best gain: -inf\n",
      "[LightGBM] [Warning] No further splits with positive gain, best gain: -inf\n",
      "[LightGBM] [Warning] No further splits with positive gain, best gain: -inf\n",
      "[LightGBM] [Warning] No further splits with positive gain, best gain: -inf\n",
      "[LightGBM] [Warning] No further splits with positive gain, best gain: -inf\n",
      "[LightGBM] [Warning] No further splits with positive gain, best gain: -inf\n",
      "[LightGBM] [Warning] No further splits with positive gain, best gain: -inf\n",
      "[LightGBM] [Warning] No further splits with positive gain, best gain: -inf\n",
      "[LightGBM] [Warning] No further splits with positive gain, best gain: -inf\n",
      "[LightGBM] [Warning] No further splits with positive gain, best gain: -inf\n",
      "[LightGBM] [Warning] No further splits with positive gain, best gain: -inf\n"
     ]
    }
   ],
   "source": [
    "lgbm_tuned = LGBMRegressor(learning_rate = 0.1,\n",
    "                           max_depth = 6,\n",
    "                           n_estimators = 20,\n",
    "                          colsample_bytree = 0.5)\n",
    "\n",
    "lgbm_tuned = lgbm_tuned.fit(X_train,y_train)"
   ]
  },
  {
   "cell_type": "code",
   "execution_count": 444,
   "metadata": {
    "tags": []
   },
   "outputs": [],
   "source": [
    "y_pred = lgbm_tuned.predict(X_test)"
   ]
  },
  {
   "cell_type": "code",
   "execution_count": 445,
   "metadata": {
    "tags": []
   },
   "outputs": [
    {
     "data": {
      "text/plain": [
       "375.6085209015434"
      ]
     },
     "execution_count": 445,
     "metadata": {},
     "output_type": "execute_result"
    }
   ],
   "source": [
    "np.sqrt(mean_squared_error(y_test, y_pred))"
   ]
  },
  {
   "cell_type": "markdown",
   "metadata": {},
   "source": [
    "## CatBoost"
   ]
  },
  {
   "cell_type": "code",
   "execution_count": 446,
   "metadata": {
    "tags": []
   },
   "outputs": [],
   "source": [
    "hit = pd.read_csv(\"Hitters.csv\")\n",
    "df = hit.copy()\n",
    "df = df.dropna()\n",
    "dms = pd.get_dummies(df[['League', 'Division', 'NewLeague']])\n",
    "y = df[\"Salary\"]\n",
    "X_ = df.drop(['Salary', 'League', 'Division', 'NewLeague'], axis=1).astype('float64')\n",
    "X = pd.concat([X_, dms[['League_N', 'Division_W', 'NewLeague_N']]], axis=1)\n",
    "X_train, X_test, y_train, y_test = train_test_split(X, y,\n",
    "                                                    test_size=0.25,\n",
    "                                                    random_state=42)\n"
   ]
  },
  {
   "cell_type": "code",
   "execution_count": 447,
   "metadata": {
    "collapsed": true,
    "jupyter": {
     "outputs_hidden": true
    },
    "tags": []
   },
   "outputs": [
    {
     "name": "stdout",
     "output_type": "stream",
     "text": [
      "Collecting catboost\n",
      "  Obtaining dependency information for catboost from https://files.pythonhosted.org/packages/1c/e1/78e635a1e5f0066bd02a1ecfd658ad09fe30d275c65c2d0dd76fe253e648/catboost-1.2.7-cp311-cp311-win_amd64.whl.metadata\n",
      "  Downloading catboost-1.2.7-cp311-cp311-win_amd64.whl.metadata (1.2 kB)\n",
      "Collecting graphviz (from catboost)\n",
      "  Obtaining dependency information for graphviz from https://files.pythonhosted.org/packages/00/be/d59db2d1d52697c6adc9eacaf50e8965b6345cc143f671e1ed068818d5cf/graphviz-0.20.3-py3-none-any.whl.metadata\n",
      "  Downloading graphviz-0.20.3-py3-none-any.whl.metadata (12 kB)\n",
      "Requirement already satisfied: matplotlib in c:\\users\\frkng\\.conda\\lib\\site-packages (from catboost) (3.7.2)\n",
      "Requirement already satisfied: numpy<2.0,>=1.16.0 in c:\\users\\frkng\\.conda\\lib\\site-packages (from catboost) (1.24.3)\n",
      "Requirement already satisfied: pandas>=0.24 in c:\\users\\frkng\\.conda\\lib\\site-packages (from catboost) (2.0.3)\n",
      "Requirement already satisfied: scipy in c:\\users\\frkng\\.conda\\lib\\site-packages (from catboost) (1.11.1)\n",
      "Requirement already satisfied: plotly in c:\\users\\frkng\\.conda\\lib\\site-packages (from catboost) (5.9.0)\n",
      "Requirement already satisfied: six in c:\\users\\frkng\\.conda\\lib\\site-packages (from catboost) (1.16.0)\n",
      "Requirement already satisfied: python-dateutil>=2.8.2 in c:\\users\\frkng\\.conda\\lib\\site-packages (from pandas>=0.24->catboost) (2.8.2)\n",
      "Requirement already satisfied: pytz>=2020.1 in c:\\users\\frkng\\.conda\\lib\\site-packages (from pandas>=0.24->catboost) (2023.3.post1)\n",
      "Requirement already satisfied: tzdata>=2022.1 in c:\\users\\frkng\\.conda\\lib\\site-packages (from pandas>=0.24->catboost) (2023.3)\n",
      "Requirement already satisfied: contourpy>=1.0.1 in c:\\users\\frkng\\.conda\\lib\\site-packages (from matplotlib->catboost) (1.0.5)\n",
      "Requirement already satisfied: cycler>=0.10 in c:\\users\\frkng\\.conda\\lib\\site-packages (from matplotlib->catboost) (0.11.0)\n",
      "Requirement already satisfied: fonttools>=4.22.0 in c:\\users\\frkng\\.conda\\lib\\site-packages (from matplotlib->catboost) (4.25.0)\n",
      "Requirement already satisfied: kiwisolver>=1.0.1 in c:\\users\\frkng\\.conda\\lib\\site-packages (from matplotlib->catboost) (1.4.4)\n",
      "Requirement already satisfied: packaging>=20.0 in c:\\users\\frkng\\.conda\\lib\\site-packages (from matplotlib->catboost) (23.1)\n",
      "Requirement already satisfied: pillow>=6.2.0 in c:\\users\\frkng\\.conda\\lib\\site-packages (from matplotlib->catboost) (9.4.0)\n",
      "Requirement already satisfied: pyparsing<3.1,>=2.3.1 in c:\\users\\frkng\\.conda\\lib\\site-packages (from matplotlib->catboost) (3.0.9)\n",
      "Requirement already satisfied: tenacity>=6.2.0 in c:\\users\\frkng\\.conda\\lib\\site-packages (from plotly->catboost) (8.2.2)\n",
      "Downloading catboost-1.2.7-cp311-cp311-win_amd64.whl (101.7 MB)\n",
      "   ---------------------------------------- 0.0/101.7 MB ? eta -:--:--\n",
      "   ---------------------------------------- 0.0/101.7 MB ? eta -:--:--\n",
      "   ---------------------------------------- 0.0/101.7 MB 330.3 kB/s eta 0:05:08\n",
      "   ---------------------------------------- 0.1/101.7 MB 469.7 kB/s eta 0:03:37\n",
      "   ---------------------------------------- 0.1/101.7 MB 722.1 kB/s eta 0:02:21\n",
      "   ---------------------------------------- 0.3/101.7 MB 1.2 MB/s eta 0:01:24\n",
      "   ---------------------------------------- 0.4/101.7 MB 1.6 MB/s eta 0:01:04\n",
      "   ---------------------------------------- 0.6/101.7 MB 1.9 MB/s eta 0:00:54\n",
      "   ---------------------------------------- 0.7/101.7 MB 2.1 MB/s eta 0:00:50\n",
      "   ---------------------------------------- 0.9/101.7 MB 2.2 MB/s eta 0:00:46\n",
      "   ---------------------------------------- 1.0/101.7 MB 2.3 MB/s eta 0:00:44\n",
      "   ---------------------------------------- 1.2/101.7 MB 2.4 MB/s eta 0:00:42\n",
      "    --------------------------------------- 1.3/101.7 MB 2.5 MB/s eta 0:00:41\n",
      "    --------------------------------------- 1.5/101.7 MB 2.6 MB/s eta 0:00:40\n",
      "    --------------------------------------- 1.6/101.7 MB 2.6 MB/s eta 0:00:39\n",
      "    --------------------------------------- 1.8/101.7 MB 2.7 MB/s eta 0:00:38\n",
      "    --------------------------------------- 1.9/101.7 MB 2.7 MB/s eta 0:00:38\n",
      "    --------------------------------------- 2.1/101.7 MB 2.7 MB/s eta 0:00:37\n",
      "    --------------------------------------- 2.2/101.7 MB 2.7 MB/s eta 0:00:37\n",
      "    --------------------------------------- 2.4/101.7 MB 2.8 MB/s eta 0:00:36\n",
      "   - -------------------------------------- 2.5/101.7 MB 2.8 MB/s eta 0:00:36\n",
      "   - -------------------------------------- 2.7/101.7 MB 2.8 MB/s eta 0:00:36\n",
      "   - -------------------------------------- 2.9/101.7 MB 2.8 MB/s eta 0:00:35\n",
      "   - -------------------------------------- 3.0/101.7 MB 2.9 MB/s eta 0:00:35\n",
      "   - -------------------------------------- 3.2/101.7 MB 2.9 MB/s eta 0:00:35\n",
      "   - -------------------------------------- 3.3/101.7 MB 2.9 MB/s eta 0:00:35\n",
      "   - -------------------------------------- 3.5/101.7 MB 2.9 MB/s eta 0:00:34\n",
      "   - -------------------------------------- 3.6/101.7 MB 2.9 MB/s eta 0:00:34\n",
      "   - -------------------------------------- 3.7/101.7 MB 2.9 MB/s eta 0:00:34\n",
      "   - -------------------------------------- 3.9/101.7 MB 3.0 MB/s eta 0:00:34\n",
      "   - -------------------------------------- 4.1/101.7 MB 3.0 MB/s eta 0:00:34\n",
      "   - -------------------------------------- 4.2/101.7 MB 3.0 MB/s eta 0:00:33\n",
      "   - -------------------------------------- 4.4/101.7 MB 3.0 MB/s eta 0:00:33\n",
      "   - -------------------------------------- 4.5/101.7 MB 3.0 MB/s eta 0:00:33\n",
      "   - -------------------------------------- 4.7/101.7 MB 3.0 MB/s eta 0:00:33\n",
      "   - -------------------------------------- 4.8/101.7 MB 3.0 MB/s eta 0:00:33\n",
      "   - -------------------------------------- 5.0/101.7 MB 3.0 MB/s eta 0:00:33\n",
      "   -- ------------------------------------- 5.1/101.7 MB 3.0 MB/s eta 0:00:33\n",
      "   -- ------------------------------------- 5.3/101.7 MB 3.0 MB/s eta 0:00:33\n",
      "   -- ------------------------------------- 5.3/101.7 MB 3.0 MB/s eta 0:00:33\n",
      "   -- ------------------------------------- 5.3/101.7 MB 3.0 MB/s eta 0:00:33\n",
      "   -- ------------------------------------- 5.3/101.7 MB 3.0 MB/s eta 0:00:33\n",
      "   -- ------------------------------------- 5.3/101.7 MB 3.0 MB/s eta 0:00:33\n",
      "   -- ------------------------------------- 5.3/101.7 MB 3.0 MB/s eta 0:00:33\n",
      "   -- ------------------------------------- 5.3/101.7 MB 2.6 MB/s eta 0:00:37\n",
      "   -- ------------------------------------- 5.7/101.7 MB 2.8 MB/s eta 0:00:35\n",
      "   -- ------------------------------------- 5.8/101.7 MB 2.7 MB/s eta 0:00:36\n",
      "   -- ------------------------------------- 5.9/101.7 MB 2.7 MB/s eta 0:00:36\n",
      "   -- ------------------------------------- 6.0/101.7 MB 2.7 MB/s eta 0:00:36\n",
      "   -- ------------------------------------- 6.0/101.7 MB 2.7 MB/s eta 0:00:36\n",
      "   -- ------------------------------------- 6.0/101.7 MB 2.7 MB/s eta 0:00:36\n",
      "   -- ------------------------------------- 6.0/101.7 MB 2.7 MB/s eta 0:00:36\n",
      "   -- ------------------------------------- 6.0/101.7 MB 2.7 MB/s eta 0:00:36\n",
      "   -- ------------------------------------- 6.0/101.7 MB 2.7 MB/s eta 0:00:36\n",
      "   -- ------------------------------------- 6.1/101.7 MB 2.5 MB/s eta 0:00:39\n",
      "   -- ------------------------------------- 6.1/101.7 MB 2.4 MB/s eta 0:00:40\n",
      "   -- ------------------------------------- 6.5/101.7 MB 2.5 MB/s eta 0:00:38\n",
      "   -- ------------------------------------- 6.9/101.7 MB 2.6 MB/s eta 0:00:37\n",
      "   -- ------------------------------------- 7.0/101.7 MB 2.6 MB/s eta 0:00:37\n",
      "   -- ------------------------------------- 7.1/101.7 MB 2.6 MB/s eta 0:00:37\n",
      "   -- ------------------------------------- 7.3/101.7 MB 2.6 MB/s eta 0:00:36\n",
      "   -- ------------------------------------- 7.5/101.7 MB 2.6 MB/s eta 0:00:36\n",
      "   -- ------------------------------------- 7.6/101.7 MB 2.7 MB/s eta 0:00:36\n",
      "   --- ------------------------------------ 7.7/101.7 MB 2.6 MB/s eta 0:00:36\n",
      "   --- ------------------------------------ 7.9/101.7 MB 2.7 MB/s eta 0:00:36\n",
      "   --- ------------------------------------ 8.0/101.7 MB 2.7 MB/s eta 0:00:36\n",
      "   --- ------------------------------------ 8.2/101.7 MB 2.7 MB/s eta 0:00:36\n",
      "   --- ------------------------------------ 8.3/101.7 MB 2.7 MB/s eta 0:00:35\n",
      "   --- ------------------------------------ 8.4/101.7 MB 2.7 MB/s eta 0:00:35\n",
      "   --- ------------------------------------ 8.6/101.7 MB 2.7 MB/s eta 0:00:35\n",
      "   --- ------------------------------------ 8.7/101.7 MB 2.7 MB/s eta 0:00:35\n",
      "   --- ------------------------------------ 8.9/101.7 MB 2.7 MB/s eta 0:00:35\n",
      "   --- ------------------------------------ 9.0/101.7 MB 2.7 MB/s eta 0:00:35\n",
      "   --- ------------------------------------ 9.1/101.7 MB 2.7 MB/s eta 0:00:35\n",
      "   --- ------------------------------------ 9.3/101.7 MB 2.7 MB/s eta 0:00:35\n",
      "   --- ------------------------------------ 9.4/101.7 MB 2.7 MB/s eta 0:00:34\n",
      "   --- ------------------------------------ 9.6/101.7 MB 2.7 MB/s eta 0:00:34\n",
      "   --- ------------------------------------ 9.7/101.7 MB 2.7 MB/s eta 0:00:34\n",
      "   --- ------------------------------------ 9.9/101.7 MB 2.7 MB/s eta 0:00:34\n",
      "   --- ------------------------------------ 10.0/101.7 MB 2.7 MB/s eta 0:00:34\n",
      "   --- ------------------------------------ 10.1/101.7 MB 2.7 MB/s eta 0:00:34\n",
      "   ---- ----------------------------------- 10.3/101.7 MB 2.8 MB/s eta 0:00:33\n",
      "   ---- ----------------------------------- 10.4/101.7 MB 2.8 MB/s eta 0:00:33\n",
      "   ---- ----------------------------------- 10.6/101.7 MB 2.8 MB/s eta 0:00:33\n",
      "   ---- ----------------------------------- 10.7/101.7 MB 2.8 MB/s eta 0:00:33\n",
      "   ---- ----------------------------------- 10.9/101.7 MB 2.8 MB/s eta 0:00:33\n",
      "   ---- ----------------------------------- 11.0/101.7 MB 2.8 MB/s eta 0:00:33\n",
      "   ---- ----------------------------------- 11.1/101.7 MB 2.8 MB/s eta 0:00:33\n",
      "   ---- ----------------------------------- 11.3/101.7 MB 2.8 MB/s eta 0:00:33\n",
      "   ---- ----------------------------------- 11.5/101.7 MB 2.8 MB/s eta 0:00:32\n",
      "   ---- ----------------------------------- 11.7/101.7 MB 2.8 MB/s eta 0:00:33\n",
      "   ---- ----------------------------------- 11.8/101.7 MB 2.8 MB/s eta 0:00:33\n",
      "   ---- ----------------------------------- 11.9/101.7 MB 2.8 MB/s eta 0:00:33\n",
      "   ---- ----------------------------------- 12.1/101.7 MB 2.8 MB/s eta 0:00:33\n",
      "   ---- ----------------------------------- 12.2/101.7 MB 2.8 MB/s eta 0:00:32\n",
      "   ---- ----------------------------------- 12.4/101.7 MB 2.8 MB/s eta 0:00:33\n",
      "   ---- ----------------------------------- 12.5/101.7 MB 2.8 MB/s eta 0:00:32\n",
      "   ---- ----------------------------------- 12.7/101.7 MB 2.8 MB/s eta 0:00:32\n",
      "   ----- ---------------------------------- 12.8/101.7 MB 2.8 MB/s eta 0:00:32\n",
      "   ----- ---------------------------------- 13.0/101.7 MB 2.8 MB/s eta 0:00:32\n",
      "   ----- ---------------------------------- 13.1/101.7 MB 2.8 MB/s eta 0:00:32\n",
      "   ----- ---------------------------------- 13.3/101.7 MB 2.8 MB/s eta 0:00:32\n",
      "   ----- ---------------------------------- 13.5/101.7 MB 2.8 MB/s eta 0:00:32\n",
      "   ----- ---------------------------------- 13.6/101.7 MB 2.8 MB/s eta 0:00:32\n",
      "   ----- ---------------------------------- 13.8/101.7 MB 2.8 MB/s eta 0:00:32\n",
      "   ----- ---------------------------------- 13.9/101.7 MB 2.8 MB/s eta 0:00:32\n",
      "   ----- ---------------------------------- 14.0/101.7 MB 2.8 MB/s eta 0:00:32\n",
      "   ----- ---------------------------------- 14.2/101.7 MB 2.8 MB/s eta 0:00:32\n",
      "   ----- ---------------------------------- 14.3/101.7 MB 2.8 MB/s eta 0:00:32\n",
      "   ----- ---------------------------------- 14.5/101.7 MB 2.8 MB/s eta 0:00:32\n",
      "   ----- ---------------------------------- 14.6/101.7 MB 2.8 MB/s eta 0:00:32\n",
      "   ----- ---------------------------------- 14.7/101.7 MB 2.8 MB/s eta 0:00:32\n",
      "   ----- ---------------------------------- 14.9/101.7 MB 2.8 MB/s eta 0:00:32\n",
      "   ----- ---------------------------------- 15.1/101.7 MB 2.8 MB/s eta 0:00:32\n",
      "   ----- ---------------------------------- 15.2/101.7 MB 2.8 MB/s eta 0:00:32\n",
      "   ------ --------------------------------- 15.4/101.7 MB 2.8 MB/s eta 0:00:32\n",
      "   ------ --------------------------------- 15.5/101.7 MB 2.8 MB/s eta 0:00:32\n",
      "   ------ --------------------------------- 15.6/101.7 MB 2.9 MB/s eta 0:00:30\n",
      "   ------ --------------------------------- 15.8/101.7 MB 2.9 MB/s eta 0:00:30\n",
      "   ------ --------------------------------- 15.9/101.7 MB 2.9 MB/s eta 0:00:30\n",
      "   ------ --------------------------------- 16.1/101.7 MB 2.9 MB/s eta 0:00:30\n",
      "   ------ --------------------------------- 16.2/101.7 MB 2.9 MB/s eta 0:00:30\n",
      "   ------ --------------------------------- 16.3/101.7 MB 3.2 MB/s eta 0:00:27\n",
      "   ------ --------------------------------- 16.5/101.7 MB 3.1 MB/s eta 0:00:28\n",
      "   ------ --------------------------------- 16.6/101.7 MB 3.1 MB/s eta 0:00:28\n",
      "   ------ --------------------------------- 16.8/101.7 MB 3.1 MB/s eta 0:00:28\n",
      "   ------ --------------------------------- 16.9/101.7 MB 3.1 MB/s eta 0:00:28\n",
      "   ------ --------------------------------- 17.0/101.7 MB 3.0 MB/s eta 0:00:28\n",
      "   ------ --------------------------------- 17.2/101.7 MB 3.0 MB/s eta 0:00:28\n",
      "   ------ --------------------------------- 17.3/101.7 MB 3.1 MB/s eta 0:00:28\n",
      "   ------ --------------------------------- 17.5/101.7 MB 3.0 MB/s eta 0:00:28\n",
      "   ------ --------------------------------- 17.6/101.7 MB 3.0 MB/s eta 0:00:28\n",
      "   ------ --------------------------------- 17.8/101.7 MB 3.0 MB/s eta 0:00:28\n",
      "   ------- -------------------------------- 17.9/101.7 MB 3.0 MB/s eta 0:00:28\n",
      "   ------- -------------------------------- 18.1/101.7 MB 3.0 MB/s eta 0:00:28\n",
      "   ------- -------------------------------- 18.2/101.7 MB 3.0 MB/s eta 0:00:28\n",
      "   ------- -------------------------------- 18.4/101.7 MB 3.0 MB/s eta 0:00:28\n",
      "   ------- -------------------------------- 18.5/101.7 MB 3.0 MB/s eta 0:00:28\n",
      "   ------- -------------------------------- 18.6/101.7 MB 3.0 MB/s eta 0:00:28\n",
      "   ------- -------------------------------- 18.8/101.7 MB 3.0 MB/s eta 0:00:28\n",
      "   ------- -------------------------------- 18.9/101.7 MB 3.0 MB/s eta 0:00:28\n",
      "   ------- -------------------------------- 19.0/101.7 MB 3.0 MB/s eta 0:00:28\n",
      "   ------- -------------------------------- 19.2/101.7 MB 3.0 MB/s eta 0:00:28\n",
      "   ------- -------------------------------- 19.3/101.7 MB 3.0 MB/s eta 0:00:28\n",
      "   ------- -------------------------------- 19.5/101.7 MB 3.1 MB/s eta 0:00:27\n",
      "   ------- -------------------------------- 19.6/101.7 MB 3.0 MB/s eta 0:00:27\n",
      "   ------- -------------------------------- 19.7/101.7 MB 3.0 MB/s eta 0:00:27\n",
      "   ------- -------------------------------- 19.8/101.7 MB 3.0 MB/s eta 0:00:28\n",
      "   ------- -------------------------------- 19.8/101.7 MB 3.0 MB/s eta 0:00:28\n",
      "   ------- -------------------------------- 19.8/101.7 MB 3.0 MB/s eta 0:00:28\n",
      "   ------- -------------------------------- 20.0/101.7 MB 3.0 MB/s eta 0:00:28\n",
      "   ------- -------------------------------- 20.1/101.7 MB 2.9 MB/s eta 0:00:28\n",
      "   ------- -------------------------------- 20.3/101.7 MB 2.9 MB/s eta 0:00:28\n",
      "   -------- ------------------------------- 20.4/101.7 MB 2.9 MB/s eta 0:00:28\n",
      "   -------- ------------------------------- 20.4/101.7 MB 2.9 MB/s eta 0:00:28\n",
      "   -------- ------------------------------- 20.5/101.7 MB 2.9 MB/s eta 0:00:28\n",
      "   -------- ------------------------------- 20.6/101.7 MB 2.9 MB/s eta 0:00:28\n",
      "   -------- ------------------------------- 20.7/101.7 MB 2.9 MB/s eta 0:00:29\n",
      "   -------- ------------------------------- 20.8/101.7 MB 2.9 MB/s eta 0:00:29\n",
      "   -------- ------------------------------- 20.9/101.7 MB 2.8 MB/s eta 0:00:29\n",
      "   -------- ------------------------------- 21.0/101.7 MB 2.8 MB/s eta 0:00:29\n",
      "   -------- ------------------------------- 21.1/101.7 MB 2.8 MB/s eta 0:00:29\n",
      "   -------- ------------------------------- 21.2/101.7 MB 2.8 MB/s eta 0:00:29\n",
      "   -------- ------------------------------- 21.2/101.7 MB 2.8 MB/s eta 0:00:29\n",
      "   -------- ------------------------------- 21.3/101.7 MB 2.8 MB/s eta 0:00:29\n",
      "   -------- ------------------------------- 21.4/101.7 MB 2.8 MB/s eta 0:00:30\n",
      "   -------- ------------------------------- 21.5/101.7 MB 2.8 MB/s eta 0:00:30\n",
      "   -------- ------------------------------- 21.6/101.7 MB 2.7 MB/s eta 0:00:30\n",
      "   -------- ------------------------------- 21.7/101.7 MB 2.7 MB/s eta 0:00:30\n",
      "   -------- ------------------------------- 21.8/101.7 MB 2.7 MB/s eta 0:00:30\n",
      "   -------- ------------------------------- 21.9/101.7 MB 2.7 MB/s eta 0:00:30\n",
      "   -------- ------------------------------- 22.0/101.7 MB 2.7 MB/s eta 0:00:30\n",
      "   -------- ------------------------------- 22.1/101.7 MB 2.7 MB/s eta 0:00:30\n",
      "   -------- ------------------------------- 22.2/101.7 MB 2.7 MB/s eta 0:00:30\n",
      "   -------- ------------------------------- 22.3/101.7 MB 2.7 MB/s eta 0:00:30\n",
      "   -------- ------------------------------- 22.4/101.7 MB 2.7 MB/s eta 0:00:30\n",
      "   -------- ------------------------------- 22.5/101.7 MB 2.7 MB/s eta 0:00:30\n",
      "   -------- ------------------------------- 22.7/101.7 MB 2.7 MB/s eta 0:00:30\n",
      "   -------- ------------------------------- 22.8/101.7 MB 2.7 MB/s eta 0:00:30\n",
      "   -------- ------------------------------- 22.9/101.7 MB 2.6 MB/s eta 0:00:30\n",
      "   --------- ------------------------------ 23.0/101.7 MB 2.6 MB/s eta 0:00:30\n",
      "   --------- ------------------------------ 23.1/101.7 MB 2.6 MB/s eta 0:00:30\n",
      "   --------- ------------------------------ 23.2/101.7 MB 2.6 MB/s eta 0:00:30\n",
      "   --------- ------------------------------ 23.3/101.7 MB 2.6 MB/s eta 0:00:31\n",
      "   --------- ------------------------------ 23.4/101.7 MB 2.6 MB/s eta 0:00:31\n",
      "   --------- ------------------------------ 23.5/101.7 MB 2.6 MB/s eta 0:00:31\n",
      "   --------- ------------------------------ 23.6/101.7 MB 2.6 MB/s eta 0:00:31\n",
      "   --------- ------------------------------ 23.7/101.7 MB 2.6 MB/s eta 0:00:31\n",
      "   --------- ------------------------------ 23.8/101.7 MB 2.6 MB/s eta 0:00:31\n",
      "   --------- ------------------------------ 24.0/101.7 MB 2.6 MB/s eta 0:00:31\n",
      "   --------- ------------------------------ 24.1/101.7 MB 2.6 MB/s eta 0:00:31\n",
      "   --------- ------------------------------ 24.2/101.7 MB 2.6 MB/s eta 0:00:31\n",
      "   --------- ------------------------------ 24.3/101.7 MB 2.6 MB/s eta 0:00:31\n",
      "   --------- ------------------------------ 24.5/101.7 MB 2.5 MB/s eta 0:00:31\n",
      "   --------- ------------------------------ 24.6/101.7 MB 2.5 MB/s eta 0:00:31\n",
      "   --------- ------------------------------ 24.7/101.7 MB 2.5 MB/s eta 0:00:31\n",
      "   --------- ------------------------------ 24.8/101.7 MB 2.5 MB/s eta 0:00:31\n",
      "   --------- ------------------------------ 24.9/101.7 MB 2.5 MB/s eta 0:00:31\n",
      "   --------- ------------------------------ 25.0/101.7 MB 2.5 MB/s eta 0:00:31\n",
      "   --------- ------------------------------ 25.2/101.7 MB 2.5 MB/s eta 0:00:31\n",
      "   --------- ------------------------------ 25.3/101.7 MB 2.5 MB/s eta 0:00:31\n",
      "   ---------- ----------------------------- 25.5/101.7 MB 2.5 MB/s eta 0:00:31\n",
      "   ---------- ----------------------------- 25.6/101.7 MB 2.5 MB/s eta 0:00:31\n",
      "   ---------- ----------------------------- 25.7/101.7 MB 2.5 MB/s eta 0:00:31\n",
      "   ---------- ----------------------------- 25.8/101.7 MB 2.5 MB/s eta 0:00:31\n",
      "   ---------- ----------------------------- 26.0/101.7 MB 2.5 MB/s eta 0:00:31\n",
      "   ---------- ----------------------------- 26.1/101.7 MB 2.5 MB/s eta 0:00:31\n",
      "   ---------- ----------------------------- 26.3/101.7 MB 2.5 MB/s eta 0:00:31\n",
      "   ---------- ----------------------------- 26.4/101.7 MB 2.5 MB/s eta 0:00:30\n",
      "   ---------- ----------------------------- 26.6/101.7 MB 2.5 MB/s eta 0:00:30\n",
      "   ---------- ----------------------------- 26.7/101.7 MB 2.5 MB/s eta 0:00:30\n",
      "   ---------- ----------------------------- 26.8/101.7 MB 2.5 MB/s eta 0:00:30\n",
      "   ---------- ----------------------------- 27.0/101.7 MB 2.5 MB/s eta 0:00:30\n",
      "   ---------- ----------------------------- 27.1/101.7 MB 2.5 MB/s eta 0:00:30\n",
      "   ---------- ----------------------------- 27.3/101.7 MB 2.5 MB/s eta 0:00:30\n",
      "   ---------- ----------------------------- 27.4/101.7 MB 2.5 MB/s eta 0:00:30\n",
      "   ---------- ----------------------------- 27.5/101.7 MB 2.5 MB/s eta 0:00:30\n",
      "   ---------- ----------------------------- 27.6/101.7 MB 2.5 MB/s eta 0:00:30\n",
      "   ---------- ----------------------------- 27.8/101.7 MB 2.5 MB/s eta 0:00:30\n",
      "   ---------- ----------------------------- 27.9/101.7 MB 2.5 MB/s eta 0:00:30\n",
      "   ----------- ---------------------------- 28.1/101.7 MB 2.5 MB/s eta 0:00:30\n",
      "   ----------- ---------------------------- 28.2/101.7 MB 2.5 MB/s eta 0:00:30\n",
      "   ----------- ---------------------------- 28.4/101.7 MB 2.5 MB/s eta 0:00:30\n",
      "   ----------- ---------------------------- 28.5/101.7 MB 2.5 MB/s eta 0:00:30\n",
      "   ----------- ---------------------------- 28.7/101.7 MB 2.5 MB/s eta 0:00:30\n",
      "   ----------- ---------------------------- 28.8/101.7 MB 2.5 MB/s eta 0:00:30\n",
      "   ----------- ---------------------------- 28.9/101.7 MB 2.5 MB/s eta 0:00:30\n",
      "   ----------- ---------------------------- 29.0/101.7 MB 2.5 MB/s eta 0:00:30\n",
      "   ----------- ---------------------------- 29.2/101.7 MB 2.5 MB/s eta 0:00:30\n",
      "   ----------- ---------------------------- 29.3/101.7 MB 2.5 MB/s eta 0:00:29\n",
      "   ----------- ---------------------------- 29.5/101.7 MB 2.5 MB/s eta 0:00:29\n",
      "   ----------- ---------------------------- 29.6/101.7 MB 2.5 MB/s eta 0:00:29\n",
      "   ----------- ---------------------------- 29.7/101.7 MB 2.5 MB/s eta 0:00:29\n",
      "   ----------- ---------------------------- 29.9/101.7 MB 2.5 MB/s eta 0:00:29\n",
      "   ----------- ---------------------------- 30.0/101.7 MB 2.6 MB/s eta 0:00:28\n",
      "   ----------- ---------------------------- 30.1/101.7 MB 2.6 MB/s eta 0:00:28\n",
      "   ----------- ---------------------------- 30.3/101.7 MB 2.6 MB/s eta 0:00:28\n",
      "   ----------- ---------------------------- 30.5/101.7 MB 2.5 MB/s eta 0:00:28\n",
      "   ------------ --------------------------- 30.6/101.7 MB 2.6 MB/s eta 0:00:28\n",
      "   ------------ --------------------------- 30.8/101.7 MB 2.6 MB/s eta 0:00:28\n",
      "   ------------ --------------------------- 30.9/101.7 MB 2.6 MB/s eta 0:00:28\n",
      "   ------------ --------------------------- 31.0/101.7 MB 2.6 MB/s eta 0:00:27\n",
      "   ------------ --------------------------- 31.2/101.7 MB 2.6 MB/s eta 0:00:27\n",
      "   ------------ --------------------------- 31.3/101.7 MB 2.7 MB/s eta 0:00:27\n",
      "   ------------ --------------------------- 31.4/101.7 MB 2.7 MB/s eta 0:00:27\n",
      "   ------------ --------------------------- 31.6/101.7 MB 2.7 MB/s eta 0:00:26\n",
      "   ------------ --------------------------- 31.7/101.7 MB 2.7 MB/s eta 0:00:26\n",
      "   ------------ --------------------------- 31.9/101.7 MB 2.8 MB/s eta 0:00:26\n",
      "   ------------ --------------------------- 32.0/101.7 MB 2.8 MB/s eta 0:00:26\n",
      "   ------------ --------------------------- 32.2/101.7 MB 2.8 MB/s eta 0:00:26\n",
      "   ------------ --------------------------- 32.3/101.7 MB 2.8 MB/s eta 0:00:25\n",
      "   ------------ --------------------------- 32.4/101.7 MB 2.8 MB/s eta 0:00:25\n",
      "   ------------ --------------------------- 32.6/101.7 MB 2.8 MB/s eta 0:00:25\n",
      "   ------------ --------------------------- 32.7/101.7 MB 2.8 MB/s eta 0:00:25\n",
      "   ------------ --------------------------- 32.9/101.7 MB 2.8 MB/s eta 0:00:25\n",
      "   ------------ --------------------------- 33.0/101.7 MB 2.8 MB/s eta 0:00:25\n",
      "   ------------- -------------------------- 33.1/101.7 MB 2.8 MB/s eta 0:00:25\n",
      "   ------------- -------------------------- 33.3/101.7 MB 2.9 MB/s eta 0:00:24\n",
      "   ------------- -------------------------- 33.3/101.7 MB 2.8 MB/s eta 0:00:25\n",
      "   ------------- -------------------------- 33.3/101.7 MB 2.8 MB/s eta 0:00:25\n",
      "   ------------- -------------------------- 33.4/101.7 MB 2.8 MB/s eta 0:00:25\n",
      "   ------------- -------------------------- 33.6/101.7 MB 2.8 MB/s eta 0:00:25\n",
      "   ------------- -------------------------- 33.7/101.7 MB 2.8 MB/s eta 0:00:25\n",
      "   ------------- -------------------------- 33.8/101.7 MB 2.8 MB/s eta 0:00:25\n",
      "   ------------- -------------------------- 33.8/101.7 MB 2.8 MB/s eta 0:00:25\n",
      "   ------------- -------------------------- 33.9/101.7 MB 2.8 MB/s eta 0:00:25\n",
      "   ------------- -------------------------- 34.0/101.7 MB 2.8 MB/s eta 0:00:25\n",
      "   ------------- -------------------------- 34.1/101.7 MB 2.8 MB/s eta 0:00:25\n",
      "   ------------- -------------------------- 34.2/101.7 MB 2.8 MB/s eta 0:00:25\n",
      "   ------------- -------------------------- 34.3/101.7 MB 2.8 MB/s eta 0:00:25\n",
      "   ------------- -------------------------- 34.3/101.7 MB 2.7 MB/s eta 0:00:25\n",
      "   ------------- -------------------------- 34.4/101.7 MB 2.7 MB/s eta 0:00:25\n",
      "   ------------- -------------------------- 34.5/101.7 MB 2.7 MB/s eta 0:00:25\n",
      "   ------------- -------------------------- 34.6/101.7 MB 2.7 MB/s eta 0:00:25\n",
      "   ------------- -------------------------- 34.7/101.7 MB 2.7 MB/s eta 0:00:25\n",
      "   ------------- -------------------------- 34.8/101.7 MB 2.7 MB/s eta 0:00:25\n",
      "   ------------- -------------------------- 34.8/101.7 MB 2.7 MB/s eta 0:00:25\n",
      "   ------------- -------------------------- 34.9/101.7 MB 2.7 MB/s eta 0:00:25\n",
      "   ------------- -------------------------- 35.0/101.7 MB 2.7 MB/s eta 0:00:26\n",
      "   ------------- -------------------------- 35.1/101.7 MB 2.6 MB/s eta 0:00:26\n",
      "   ------------- -------------------------- 35.2/101.7 MB 2.6 MB/s eta 0:00:26\n",
      "   ------------- -------------------------- 35.3/101.7 MB 2.6 MB/s eta 0:00:26\n",
      "   ------------- -------------------------- 35.4/101.7 MB 2.6 MB/s eta 0:00:26\n",
      "   ------------- -------------------------- 35.5/101.7 MB 2.6 MB/s eta 0:00:26\n",
      "   -------------- ------------------------- 35.6/101.7 MB 2.6 MB/s eta 0:00:26\n",
      "   -------------- ------------------------- 35.7/101.7 MB 2.6 MB/s eta 0:00:26\n",
      "   -------------- ------------------------- 35.8/101.7 MB 2.6 MB/s eta 0:00:26\n",
      "   -------------- ------------------------- 35.9/101.7 MB 2.6 MB/s eta 0:00:26\n",
      "   -------------- ------------------------- 36.1/101.7 MB 2.6 MB/s eta 0:00:26\n",
      "   -------------- ------------------------- 36.1/101.7 MB 2.6 MB/s eta 0:00:26\n",
      "   -------------- ------------------------- 36.3/101.7 MB 2.6 MB/s eta 0:00:26\n",
      "   -------------- ------------------------- 36.4/101.7 MB 2.6 MB/s eta 0:00:26\n",
      "   -------------- ------------------------- 36.4/101.7 MB 2.5 MB/s eta 0:00:26\n",
      "   -------------- ------------------------- 36.6/101.7 MB 2.5 MB/s eta 0:00:26\n",
      "   -------------- ------------------------- 36.7/101.7 MB 2.5 MB/s eta 0:00:26\n",
      "   -------------- ------------------------- 36.8/101.7 MB 2.5 MB/s eta 0:00:26\n",
      "   -------------- ------------------------- 36.9/101.7 MB 2.5 MB/s eta 0:00:26\n",
      "   -------------- ------------------------- 37.0/101.7 MB 2.5 MB/s eta 0:00:26\n",
      "   -------------- ------------------------- 37.1/101.7 MB 2.5 MB/s eta 0:00:26\n",
      "   -------------- ------------------------- 37.2/101.7 MB 2.5 MB/s eta 0:00:26\n",
      "   -------------- ------------------------- 37.3/101.7 MB 2.5 MB/s eta 0:00:26\n",
      "   -------------- ------------------------- 37.4/101.7 MB 2.5 MB/s eta 0:00:26\n",
      "   -------------- ------------------------- 37.5/101.7 MB 2.5 MB/s eta 0:00:26\n",
      "   -------------- ------------------------- 37.6/101.7 MB 2.5 MB/s eta 0:00:26\n",
      "   -------------- ------------------------- 37.8/101.7 MB 2.5 MB/s eta 0:00:26\n",
      "   -------------- ------------------------- 37.9/101.7 MB 2.5 MB/s eta 0:00:26\n",
      "   -------------- ------------------------- 38.0/101.7 MB 2.5 MB/s eta 0:00:26\n",
      "   -------------- ------------------------- 38.1/101.7 MB 2.5 MB/s eta 0:00:26\n",
      "   --------------- ------------------------ 38.2/101.7 MB 2.5 MB/s eta 0:00:26\n",
      "   --------------- ------------------------ 38.3/101.7 MB 2.5 MB/s eta 0:00:26\n",
      "   --------------- ------------------------ 38.5/101.7 MB 2.5 MB/s eta 0:00:26\n",
      "   --------------- ------------------------ 38.6/101.7 MB 2.4 MB/s eta 0:00:26\n",
      "   --------------- ------------------------ 38.7/101.7 MB 2.4 MB/s eta 0:00:26\n",
      "   --------------- ------------------------ 38.8/101.7 MB 2.4 MB/s eta 0:00:26\n",
      "   --------------- ------------------------ 38.9/101.7 MB 2.4 MB/s eta 0:00:26\n",
      "   --------------- ------------------------ 39.1/101.7 MB 2.4 MB/s eta 0:00:26\n",
      "   --------------- ------------------------ 39.2/101.7 MB 2.4 MB/s eta 0:00:26\n",
      "   --------------- ------------------------ 39.3/101.7 MB 2.4 MB/s eta 0:00:26\n",
      "   --------------- ------------------------ 39.4/101.7 MB 2.4 MB/s eta 0:00:26\n",
      "   --------------- ------------------------ 39.6/101.7 MB 2.4 MB/s eta 0:00:26\n",
      "   --------------- ------------------------ 39.7/101.7 MB 2.4 MB/s eta 0:00:26\n",
      "   --------------- ------------------------ 39.8/101.7 MB 2.4 MB/s eta 0:00:26\n",
      "   --------------- ------------------------ 40.0/101.7 MB 2.4 MB/s eta 0:00:26\n",
      "   --------------- ------------------------ 40.1/101.7 MB 2.4 MB/s eta 0:00:26\n",
      "   --------------- ------------------------ 40.2/101.7 MB 2.4 MB/s eta 0:00:26\n",
      "   --------------- ------------------------ 40.3/101.7 MB 2.4 MB/s eta 0:00:26\n",
      "   --------------- ------------------------ 40.5/101.7 MB 2.4 MB/s eta 0:00:26\n",
      "   --------------- ------------------------ 40.6/101.7 MB 2.4 MB/s eta 0:00:26\n",
      "   ---------------- ----------------------- 40.7/101.7 MB 2.4 MB/s eta 0:00:26\n",
      "   ---------------- ----------------------- 40.9/101.7 MB 2.4 MB/s eta 0:00:26\n",
      "   ---------------- ----------------------- 41.0/101.7 MB 2.4 MB/s eta 0:00:26\n",
      "   ---------------- ----------------------- 41.2/101.7 MB 2.4 MB/s eta 0:00:25\n",
      "   ---------------- ----------------------- 41.3/101.7 MB 2.4 MB/s eta 0:00:26\n",
      "   ---------------- ----------------------- 41.4/101.7 MB 2.4 MB/s eta 0:00:25\n",
      "   ---------------- ----------------------- 41.6/101.7 MB 2.4 MB/s eta 0:00:25\n",
      "   ---------------- ----------------------- 41.7/101.7 MB 2.4 MB/s eta 0:00:25\n",
      "   ---------------- ----------------------- 41.8/101.7 MB 2.4 MB/s eta 0:00:25\n",
      "   ---------------- ----------------------- 42.0/101.7 MB 2.4 MB/s eta 0:00:25\n",
      "   ---------------- ----------------------- 42.1/101.7 MB 2.4 MB/s eta 0:00:25\n",
      "   ---------------- ----------------------- 42.3/101.7 MB 2.4 MB/s eta 0:00:25\n",
      "   ---------------- ----------------------- 42.4/101.7 MB 2.4 MB/s eta 0:00:25\n",
      "   ---------------- ----------------------- 42.5/101.7 MB 2.4 MB/s eta 0:00:25\n",
      "   ---------------- ----------------------- 42.7/101.7 MB 2.4 MB/s eta 0:00:25\n",
      "   ---------------- ----------------------- 42.8/101.7 MB 2.4 MB/s eta 0:00:25\n",
      "   ---------------- ----------------------- 42.9/101.7 MB 2.4 MB/s eta 0:00:25\n",
      "   ---------------- ----------------------- 43.1/101.7 MB 2.4 MB/s eta 0:00:25\n",
      "   ----------------- ---------------------- 43.2/101.7 MB 2.4 MB/s eta 0:00:25\n",
      "   ----------------- ---------------------- 43.4/101.7 MB 2.4 MB/s eta 0:00:25\n",
      "   ----------------- ---------------------- 43.5/101.7 MB 2.4 MB/s eta 0:00:25\n",
      "   ----------------- ---------------------- 43.7/101.7 MB 2.5 MB/s eta 0:00:24\n",
      "   ----------------- ---------------------- 43.8/101.7 MB 2.5 MB/s eta 0:00:24\n",
      "   ----------------- ---------------------- 44.0/101.7 MB 2.5 MB/s eta 0:00:24\n",
      "   ----------------- ---------------------- 44.1/101.7 MB 2.5 MB/s eta 0:00:24\n",
      "   ----------------- ---------------------- 44.2/101.7 MB 2.5 MB/s eta 0:00:23\n",
      "   ----------------- ---------------------- 44.4/101.7 MB 2.5 MB/s eta 0:00:23\n",
      "   ----------------- ---------------------- 44.5/101.7 MB 2.6 MB/s eta 0:00:23\n",
      "   ----------------- ---------------------- 44.6/101.7 MB 2.6 MB/s eta 0:00:23\n",
      "   ----------------- ---------------------- 44.8/101.7 MB 2.6 MB/s eta 0:00:22\n",
      "   ----------------- ---------------------- 44.9/101.7 MB 2.6 MB/s eta 0:00:22\n",
      "   ----------------- ---------------------- 45.1/101.7 MB 2.7 MB/s eta 0:00:22\n",
      "   ----------------- ---------------------- 45.2/101.7 MB 2.7 MB/s eta 0:00:22\n",
      "   ----------------- ---------------------- 45.4/101.7 MB 2.7 MB/s eta 0:00:22\n",
      "   ----------------- ---------------------- 45.5/101.7 MB 2.7 MB/s eta 0:00:21\n",
      "   ----------------- ---------------------- 45.6/101.7 MB 2.7 MB/s eta 0:00:21\n",
      "   ----------------- ---------------------- 45.8/101.7 MB 2.7 MB/s eta 0:00:21\n",
      "   ------------------ --------------------- 45.9/101.7 MB 2.7 MB/s eta 0:00:21\n",
      "   ------------------ --------------------- 46.1/101.7 MB 2.7 MB/s eta 0:00:21\n",
      "   ------------------ --------------------- 46.2/101.7 MB 2.8 MB/s eta 0:00:21\n",
      "   ------------------ --------------------- 46.3/101.7 MB 2.8 MB/s eta 0:00:21\n",
      "   ------------------ --------------------- 46.4/101.7 MB 2.8 MB/s eta 0:00:20\n",
      "   ------------------ --------------------- 46.4/101.7 MB 2.8 MB/s eta 0:00:20\n",
      "   ------------------ --------------------- 46.4/101.7 MB 2.8 MB/s eta 0:00:20\n",
      "   ------------------ --------------------- 46.5/101.7 MB 2.7 MB/s eta 0:00:21\n",
      "   ------------------ --------------------- 46.5/101.7 MB 2.7 MB/s eta 0:00:21\n",
      "   ------------------ --------------------- 46.7/101.7 MB 2.7 MB/s eta 0:00:21\n",
      "   ------------------ --------------------- 46.8/101.7 MB 2.7 MB/s eta 0:00:21\n",
      "   ------------------ --------------------- 46.9/101.7 MB 2.7 MB/s eta 0:00:21\n",
      "   ------------------ --------------------- 47.0/101.7 MB 2.7 MB/s eta 0:00:21\n",
      "   ------------------ --------------------- 47.0/101.7 MB 2.7 MB/s eta 0:00:21\n",
      "   ------------------ --------------------- 47.1/101.7 MB 2.7 MB/s eta 0:00:21\n",
      "   ------------------ --------------------- 47.2/101.7 MB 2.6 MB/s eta 0:00:21\n",
      "   ------------------ --------------------- 47.2/101.7 MB 2.6 MB/s eta 0:00:21\n",
      "   ------------------ --------------------- 47.3/101.7 MB 2.6 MB/s eta 0:00:21\n",
      "   ------------------ --------------------- 47.3/101.7 MB 2.6 MB/s eta 0:00:22\n",
      "   ------------------ --------------------- 47.4/101.7 MB 2.6 MB/s eta 0:00:22\n",
      "   ------------------ --------------------- 47.4/101.7 MB 2.6 MB/s eta 0:00:22\n",
      "   ------------------ --------------------- 47.5/101.7 MB 2.5 MB/s eta 0:00:22\n",
      "   ------------------ --------------------- 47.6/101.7 MB 2.5 MB/s eta 0:00:22\n",
      "   ------------------ --------------------- 47.6/101.7 MB 2.5 MB/s eta 0:00:22\n",
      "   ------------------ --------------------- 47.7/101.7 MB 2.5 MB/s eta 0:00:22\n",
      "   ------------------ --------------------- 47.7/101.7 MB 2.5 MB/s eta 0:00:22\n",
      "   ------------------ --------------------- 47.8/101.7 MB 2.5 MB/s eta 0:00:22\n",
      "   ------------------ --------------------- 47.9/101.7 MB 2.5 MB/s eta 0:00:22\n",
      "   ------------------ --------------------- 47.9/101.7 MB 2.5 MB/s eta 0:00:22\n",
      "   ------------------ --------------------- 48.0/101.7 MB 2.4 MB/s eta 0:00:22\n",
      "   ------------------ --------------------- 48.1/101.7 MB 2.4 MB/s eta 0:00:23\n",
      "   ------------------ --------------------- 48.1/101.7 MB 2.4 MB/s eta 0:00:23\n",
      "   ------------------ --------------------- 48.2/101.7 MB 2.4 MB/s eta 0:00:23\n",
      "   ------------------ --------------------- 48.3/101.7 MB 2.4 MB/s eta 0:00:23\n",
      "   ------------------- -------------------- 48.3/101.7 MB 2.4 MB/s eta 0:00:23\n",
      "   ------------------- -------------------- 48.4/101.7 MB 2.4 MB/s eta 0:00:23\n",
      "   ------------------- -------------------- 48.5/101.7 MB 2.4 MB/s eta 0:00:23\n",
      "   ------------------- -------------------- 48.5/101.7 MB 2.4 MB/s eta 0:00:23\n",
      "   ------------------- -------------------- 48.6/101.7 MB 2.3 MB/s eta 0:00:23\n",
      "   ------------------- -------------------- 48.7/101.7 MB 2.3 MB/s eta 0:00:23\n",
      "   ------------------- -------------------- 48.7/101.7 MB 2.3 MB/s eta 0:00:23\n",
      "   ------------------- -------------------- 48.8/101.7 MB 2.3 MB/s eta 0:00:23\n",
      "   ------------------- -------------------- 48.9/101.7 MB 2.3 MB/s eta 0:00:24\n",
      "   ------------------- -------------------- 48.9/101.7 MB 2.3 MB/s eta 0:00:24\n",
      "   ------------------- -------------------- 49.0/101.7 MB 2.3 MB/s eta 0:00:24\n",
      "   ------------------- -------------------- 49.1/101.7 MB 2.3 MB/s eta 0:00:24\n",
      "   ------------------- -------------------- 49.1/101.7 MB 2.3 MB/s eta 0:00:24\n",
      "   ------------------- -------------------- 49.2/101.7 MB 2.2 MB/s eta 0:00:24\n",
      "   ------------------- -------------------- 49.3/101.7 MB 2.2 MB/s eta 0:00:24\n",
      "   ------------------- -------------------- 49.4/101.7 MB 2.2 MB/s eta 0:00:24\n",
      "   ------------------- -------------------- 49.5/101.7 MB 2.2 MB/s eta 0:00:24\n",
      "   ------------------- -------------------- 49.6/101.7 MB 2.2 MB/s eta 0:00:24\n",
      "   ------------------- -------------------- 49.6/101.7 MB 2.2 MB/s eta 0:00:24\n",
      "   ------------------- -------------------- 49.7/101.7 MB 2.2 MB/s eta 0:00:24\n",
      "   ------------------- -------------------- 49.8/101.7 MB 2.2 MB/s eta 0:00:24\n",
      "   ------------------- -------------------- 49.9/101.7 MB 2.2 MB/s eta 0:00:24\n",
      "   ------------------- -------------------- 50.0/101.7 MB 2.2 MB/s eta 0:00:24\n",
      "   ------------------- -------------------- 50.1/101.7 MB 2.2 MB/s eta 0:00:24\n",
      "   ------------------- -------------------- 50.2/101.7 MB 2.2 MB/s eta 0:00:24\n",
      "   ------------------- -------------------- 50.3/101.7 MB 2.1 MB/s eta 0:00:24\n",
      "   ------------------- -------------------- 50.4/101.7 MB 2.1 MB/s eta 0:00:24\n",
      "   ------------------- -------------------- 50.5/101.7 MB 2.1 MB/s eta 0:00:25\n",
      "   ------------------- -------------------- 50.6/101.7 MB 2.1 MB/s eta 0:00:24\n",
      "   ------------------- -------------------- 50.7/101.7 MB 2.1 MB/s eta 0:00:25\n",
      "   ------------------- -------------------- 50.8/101.7 MB 2.1 MB/s eta 0:00:25\n",
      "   -------------------- ------------------- 50.9/101.7 MB 2.1 MB/s eta 0:00:25\n",
      "   -------------------- ------------------- 51.0/101.7 MB 2.1 MB/s eta 0:00:25\n",
      "   -------------------- ------------------- 51.1/101.7 MB 2.1 MB/s eta 0:00:24\n",
      "   -------------------- ------------------- 51.2/101.7 MB 2.1 MB/s eta 0:00:25\n",
      "   -------------------- ------------------- 51.3/101.7 MB 2.1 MB/s eta 0:00:25\n",
      "   -------------------- ------------------- 51.4/101.7 MB 2.1 MB/s eta 0:00:25\n",
      "   -------------------- ------------------- 51.5/101.7 MB 2.1 MB/s eta 0:00:25\n",
      "   -------------------- ------------------- 51.6/101.7 MB 2.1 MB/s eta 0:00:25\n",
      "   -------------------- ------------------- 51.7/101.7 MB 2.1 MB/s eta 0:00:25\n",
      "   -------------------- ------------------- 51.8/101.7 MB 2.1 MB/s eta 0:00:25\n",
      "   -------------------- ------------------- 51.9/101.7 MB 2.1 MB/s eta 0:00:25\n",
      "   -------------------- ------------------- 52.0/101.7 MB 2.1 MB/s eta 0:00:25\n",
      "   -------------------- ------------------- 52.2/101.7 MB 2.1 MB/s eta 0:00:25\n",
      "   -------------------- ------------------- 52.3/101.7 MB 2.1 MB/s eta 0:00:25\n",
      "   -------------------- ------------------- 52.4/101.7 MB 2.1 MB/s eta 0:00:25\n",
      "   -------------------- ------------------- 52.5/101.7 MB 2.0 MB/s eta 0:00:25\n",
      "   -------------------- ------------------- 52.6/101.7 MB 2.0 MB/s eta 0:00:25\n",
      "   -------------------- ------------------- 52.7/101.7 MB 2.0 MB/s eta 0:00:25\n",
      "   -------------------- ------------------- 52.8/101.7 MB 2.0 MB/s eta 0:00:25\n",
      "   -------------------- ------------------- 52.9/101.7 MB 2.0 MB/s eta 0:00:24\n",
      "   -------------------- ------------------- 53.1/101.7 MB 2.0 MB/s eta 0:00:24\n",
      "   -------------------- ------------------- 53.2/101.7 MB 2.0 MB/s eta 0:00:24\n",
      "   -------------------- ------------------- 53.3/101.7 MB 2.0 MB/s eta 0:00:24\n",
      "   -------------------- ------------------- 53.4/101.7 MB 2.0 MB/s eta 0:00:24\n",
      "   --------------------- ------------------ 53.5/101.7 MB 2.0 MB/s eta 0:00:24\n",
      "   --------------------- ------------------ 53.7/101.7 MB 2.0 MB/s eta 0:00:24\n",
      "   --------------------- ------------------ 53.8/101.7 MB 2.0 MB/s eta 0:00:24\n",
      "   --------------------- ------------------ 53.9/101.7 MB 2.0 MB/s eta 0:00:24\n",
      "   --------------------- ------------------ 54.0/101.7 MB 2.0 MB/s eta 0:00:24\n",
      "   --------------------- ------------------ 54.1/101.7 MB 2.0 MB/s eta 0:00:24\n",
      "   --------------------- ------------------ 54.2/101.7 MB 2.0 MB/s eta 0:00:24\n",
      "   --------------------- ------------------ 54.3/101.7 MB 2.0 MB/s eta 0:00:24\n",
      "   --------------------- ------------------ 54.4/101.7 MB 2.0 MB/s eta 0:00:24\n",
      "   --------------------- ------------------ 54.5/101.7 MB 2.0 MB/s eta 0:00:24\n",
      "   --------------------- ------------------ 54.6/101.7 MB 2.0 MB/s eta 0:00:24\n",
      "   --------------------- ------------------ 54.7/101.7 MB 2.0 MB/s eta 0:00:24\n",
      "   --------------------- ------------------ 54.9/101.7 MB 2.0 MB/s eta 0:00:24\n",
      "   --------------------- ------------------ 55.0/101.7 MB 2.0 MB/s eta 0:00:24\n",
      "   --------------------- ------------------ 55.1/101.7 MB 2.0 MB/s eta 0:00:24\n",
      "   --------------------- ------------------ 55.2/101.7 MB 2.0 MB/s eta 0:00:24\n",
      "   --------------------- ------------------ 55.3/101.7 MB 2.0 MB/s eta 0:00:24\n",
      "   --------------------- ------------------ 55.4/101.7 MB 1.9 MB/s eta 0:00:24\n",
      "   --------------------- ------------------ 55.5/101.7 MB 1.9 MB/s eta 0:00:24\n",
      "   --------------------- ------------------ 55.6/101.7 MB 1.9 MB/s eta 0:00:24\n",
      "   --------------------- ------------------ 55.7/101.7 MB 1.9 MB/s eta 0:00:24\n",
      "   --------------------- ------------------ 55.8/101.7 MB 1.9 MB/s eta 0:00:24\n",
      "   --------------------- ------------------ 55.9/101.7 MB 1.9 MB/s eta 0:00:24\n",
      "   ---------------------- ----------------- 56.0/101.7 MB 1.9 MB/s eta 0:00:24\n",
      "   ---------------------- ----------------- 56.1/101.7 MB 1.9 MB/s eta 0:00:24\n",
      "   ---------------------- ----------------- 56.2/101.7 MB 1.9 MB/s eta 0:00:24\n",
      "   ---------------------- ----------------- 56.4/101.7 MB 1.9 MB/s eta 0:00:24\n",
      "   ---------------------- ----------------- 56.4/101.7 MB 1.9 MB/s eta 0:00:24\n",
      "   ---------------------- ----------------- 56.5/101.7 MB 1.9 MB/s eta 0:00:24\n",
      "   ---------------------- ----------------- 56.7/101.7 MB 1.9 MB/s eta 0:00:24\n",
      "   ---------------------- ----------------- 56.8/101.7 MB 2.0 MB/s eta 0:00:23\n",
      "   ---------------------- ----------------- 56.9/101.7 MB 1.9 MB/s eta 0:00:24\n",
      "   ---------------------- ----------------- 57.0/101.7 MB 2.0 MB/s eta 0:00:23\n",
      "   ---------------------- ----------------- 57.1/101.7 MB 2.0 MB/s eta 0:00:23\n",
      "   ---------------------- ----------------- 57.2/101.7 MB 1.9 MB/s eta 0:00:23\n",
      "   ---------------------- ----------------- 57.3/101.7 MB 2.0 MB/s eta 0:00:23\n",
      "   ---------------------- ----------------- 57.4/101.7 MB 2.0 MB/s eta 0:00:23\n",
      "   ---------------------- ----------------- 57.5/101.7 MB 2.0 MB/s eta 0:00:23\n",
      "   ---------------------- ----------------- 57.6/101.7 MB 2.0 MB/s eta 0:00:22\n",
      "   ---------------------- ----------------- 57.7/101.7 MB 2.0 MB/s eta 0:00:22\n",
      "   ---------------------- ----------------- 57.8/101.7 MB 2.0 MB/s eta 0:00:22\n",
      "   ---------------------- ----------------- 57.9/101.7 MB 2.1 MB/s eta 0:00:22\n",
      "   ---------------------- ----------------- 58.0/101.7 MB 2.1 MB/s eta 0:00:22\n",
      "   ---------------------- ----------------- 58.1/101.7 MB 2.1 MB/s eta 0:00:21\n",
      "   ---------------------- ----------------- 58.2/101.7 MB 2.1 MB/s eta 0:00:21\n",
      "   ---------------------- ----------------- 58.3/101.7 MB 2.1 MB/s eta 0:00:21\n",
      "   ---------------------- ----------------- 58.4/101.7 MB 2.1 MB/s eta 0:00:21\n",
      "   ----------------------- ---------------- 58.6/101.7 MB 2.1 MB/s eta 0:00:21\n",
      "   ----------------------- ---------------- 58.7/101.7 MB 2.1 MB/s eta 0:00:21\n",
      "   ----------------------- ---------------- 58.8/101.7 MB 2.2 MB/s eta 0:00:20\n",
      "   ----------------------- ---------------- 59.0/101.7 MB 2.2 MB/s eta 0:00:20\n",
      "   ----------------------- ---------------- 59.1/101.7 MB 2.2 MB/s eta 0:00:20\n",
      "   ----------------------- ---------------- 59.2/101.7 MB 2.2 MB/s eta 0:00:19\n",
      "   ----------------------- ---------------- 59.4/101.7 MB 2.3 MB/s eta 0:00:19\n",
      "   ----------------------- ---------------- 59.5/101.7 MB 2.3 MB/s eta 0:00:19\n",
      "   ----------------------- ---------------- 59.6/101.7 MB 2.3 MB/s eta 0:00:19\n",
      "   ----------------------- ---------------- 59.8/101.7 MB 2.3 MB/s eta 0:00:18\n",
      "   ----------------------- ---------------- 59.9/101.7 MB 2.3 MB/s eta 0:00:18\n",
      "   ----------------------- ---------------- 60.0/101.7 MB 2.4 MB/s eta 0:00:18\n",
      "   ----------------------- ---------------- 60.2/101.7 MB 2.4 MB/s eta 0:00:18\n",
      "   ----------------------- ---------------- 60.3/101.7 MB 2.4 MB/s eta 0:00:18\n",
      "   ----------------------- ---------------- 60.5/101.7 MB 2.4 MB/s eta 0:00:18\n",
      "   ----------------------- ---------------- 60.6/101.7 MB 2.4 MB/s eta 0:00:18\n",
      "   ----------------------- ---------------- 60.8/101.7 MB 2.4 MB/s eta 0:00:17\n",
      "   ----------------------- ---------------- 60.9/101.7 MB 2.4 MB/s eta 0:00:17\n",
      "   ------------------------ --------------- 61.1/101.7 MB 2.5 MB/s eta 0:00:17\n",
      "   ------------------------ --------------- 61.2/101.7 MB 2.5 MB/s eta 0:00:17\n",
      "   ------------------------ --------------- 61.3/101.7 MB 2.5 MB/s eta 0:00:17\n",
      "   ------------------------ --------------- 61.5/101.7 MB 2.5 MB/s eta 0:00:17\n",
      "   ------------------------ --------------- 61.6/101.7 MB 2.5 MB/s eta 0:00:17\n",
      "   ------------------------ --------------- 61.8/101.7 MB 2.5 MB/s eta 0:00:16\n",
      "   ------------------------ --------------- 61.9/101.7 MB 2.5 MB/s eta 0:00:16\n",
      "   ------------------------ --------------- 62.0/101.7 MB 2.5 MB/s eta 0:00:16\n",
      "   ------------------------ --------------- 62.2/101.7 MB 2.5 MB/s eta 0:00:16\n",
      "   ------------------------ --------------- 62.3/101.7 MB 2.5 MB/s eta 0:00:16\n",
      "   ------------------------ --------------- 62.5/101.7 MB 2.5 MB/s eta 0:00:16\n",
      "   ------------------------ --------------- 62.6/101.7 MB 2.5 MB/s eta 0:00:16\n",
      "   ------------------------ --------------- 62.8/101.7 MB 2.6 MB/s eta 0:00:16\n",
      "   ------------------------ --------------- 63.0/101.7 MB 2.6 MB/s eta 0:00:16\n",
      "   ------------------------ --------------- 63.1/101.7 MB 2.6 MB/s eta 0:00:15\n",
      "   ------------------------ --------------- 63.2/101.7 MB 2.6 MB/s eta 0:00:15\n",
      "   ------------------------ --------------- 63.4/101.7 MB 2.6 MB/s eta 0:00:15\n",
      "   ------------------------ --------------- 63.5/101.7 MB 2.6 MB/s eta 0:00:15\n",
      "   ------------------------- -------------- 63.7/101.7 MB 2.6 MB/s eta 0:00:15\n",
      "   ------------------------- -------------- 63.8/101.7 MB 2.6 MB/s eta 0:00:15\n",
      "   ------------------------- -------------- 63.9/101.7 MB 2.6 MB/s eta 0:00:15\n",
      "   ------------------------- -------------- 64.1/101.7 MB 2.6 MB/s eta 0:00:15\n",
      "   ------------------------- -------------- 64.2/101.7 MB 2.6 MB/s eta 0:00:15\n",
      "   ------------------------- -------------- 64.4/101.7 MB 2.6 MB/s eta 0:00:15\n",
      "   ------------------------- -------------- 64.5/101.7 MB 2.7 MB/s eta 0:00:15\n",
      "   ------------------------- -------------- 64.6/101.7 MB 2.7 MB/s eta 0:00:15\n",
      "   ------------------------- -------------- 64.7/101.7 MB 2.7 MB/s eta 0:00:14\n",
      "   ------------------------- -------------- 64.8/101.7 MB 2.7 MB/s eta 0:00:14\n",
      "   ------------------------- -------------- 65.0/101.7 MB 2.7 MB/s eta 0:00:14\n",
      "   ------------------------- -------------- 65.0/101.7 MB 2.7 MB/s eta 0:00:14\n",
      "   ------------------------- -------------- 65.0/101.7 MB 2.7 MB/s eta 0:00:14\n",
      "   ------------------------- -------------- 65.3/101.7 MB 2.7 MB/s eta 0:00:14\n",
      "   ------------------------- -------------- 65.4/101.7 MB 2.7 MB/s eta 0:00:14\n",
      "   ------------------------- -------------- 65.5/101.7 MB 2.7 MB/s eta 0:00:14\n",
      "   ------------------------- -------------- 65.6/101.7 MB 2.7 MB/s eta 0:00:14\n",
      "   ------------------------- -------------- 65.8/101.7 MB 2.7 MB/s eta 0:00:14\n",
      "   ------------------------- -------------- 65.9/101.7 MB 2.7 MB/s eta 0:00:14\n",
      "   ------------------------- -------------- 66.0/101.7 MB 2.7 MB/s eta 0:00:14\n",
      "   ------------------------- -------------- 66.1/101.7 MB 2.7 MB/s eta 0:00:14\n",
      "   -------------------------- ------------- 66.2/101.7 MB 2.7 MB/s eta 0:00:14\n",
      "   -------------------------- ------------- 66.3/101.7 MB 2.7 MB/s eta 0:00:14\n",
      "   -------------------------- ------------- 66.4/101.7 MB 2.7 MB/s eta 0:00:14\n",
      "   -------------------------- ------------- 66.5/101.7 MB 2.7 MB/s eta 0:00:14\n",
      "   -------------------------- ------------- 66.7/101.7 MB 2.7 MB/s eta 0:00:14\n",
      "   -------------------------- ------------- 66.8/101.7 MB 2.7 MB/s eta 0:00:13\n",
      "   -------------------------- ------------- 66.9/101.7 MB 2.7 MB/s eta 0:00:13\n",
      "   -------------------------- ------------- 67.0/101.7 MB 2.7 MB/s eta 0:00:13\n",
      "   -------------------------- ------------- 67.1/101.7 MB 2.7 MB/s eta 0:00:13\n",
      "   -------------------------- ------------- 67.2/101.7 MB 2.7 MB/s eta 0:00:13\n",
      "   -------------------------- ------------- 67.3/101.7 MB 2.7 MB/s eta 0:00:13\n",
      "   -------------------------- ------------- 67.5/101.7 MB 2.7 MB/s eta 0:00:13\n",
      "   -------------------------- ------------- 67.6/101.7 MB 2.7 MB/s eta 0:00:13\n",
      "   -------------------------- ------------- 67.8/101.7 MB 2.7 MB/s eta 0:00:13\n",
      "   -------------------------- ------------- 67.9/101.7 MB 2.7 MB/s eta 0:00:13\n",
      "   -------------------------- ------------- 68.0/101.7 MB 2.8 MB/s eta 0:00:13\n",
      "   -------------------------- ------------- 68.2/101.7 MB 2.8 MB/s eta 0:00:13\n",
      "   -------------------------- ------------- 68.3/101.7 MB 2.8 MB/s eta 0:00:13\n",
      "   -------------------------- ------------- 68.4/101.7 MB 2.8 MB/s eta 0:00:13\n",
      "   -------------------------- ------------- 68.6/101.7 MB 2.8 MB/s eta 0:00:12\n",
      "   --------------------------- ------------ 68.7/101.7 MB 2.8 MB/s eta 0:00:12\n",
      "   --------------------------- ------------ 68.9/101.7 MB 2.8 MB/s eta 0:00:12\n",
      "   --------------------------- ------------ 69.0/101.7 MB 2.8 MB/s eta 0:00:12\n",
      "   --------------------------- ------------ 69.1/101.7 MB 2.8 MB/s eta 0:00:12\n",
      "   --------------------------- ------------ 69.3/101.7 MB 2.8 MB/s eta 0:00:12\n",
      "   --------------------------- ------------ 69.4/101.7 MB 2.8 MB/s eta 0:00:12\n",
      "   --------------------------- ------------ 69.5/101.7 MB 2.8 MB/s eta 0:00:12\n",
      "   --------------------------- ------------ 69.7/101.7 MB 2.8 MB/s eta 0:00:12\n",
      "   --------------------------- ------------ 69.8/101.7 MB 2.8 MB/s eta 0:00:12\n",
      "   --------------------------- ------------ 69.9/101.7 MB 2.8 MB/s eta 0:00:12\n",
      "   --------------------------- ------------ 70.1/101.7 MB 2.8 MB/s eta 0:00:12\n",
      "   --------------------------- ------------ 70.2/101.7 MB 2.8 MB/s eta 0:00:12\n",
      "   --------------------------- ------------ 70.4/101.7 MB 2.8 MB/s eta 0:00:12\n",
      "   --------------------------- ------------ 70.5/101.7 MB 2.8 MB/s eta 0:00:12\n",
      "   --------------------------- ------------ 70.7/101.7 MB 2.8 MB/s eta 0:00:12\n",
      "   --------------------------- ------------ 70.8/101.7 MB 2.8 MB/s eta 0:00:12\n",
      "   --------------------------- ------------ 70.9/101.7 MB 2.8 MB/s eta 0:00:11\n",
      "   --------------------------- ------------ 71.1/101.7 MB 2.8 MB/s eta 0:00:11\n",
      "   ---------------------------- ----------- 71.2/101.7 MB 2.8 MB/s eta 0:00:11\n",
      "   ---------------------------- ----------- 71.4/101.7 MB 2.8 MB/s eta 0:00:11\n",
      "   ---------------------------- ----------- 71.5/101.7 MB 2.8 MB/s eta 0:00:11\n",
      "   ---------------------------- ----------- 71.6/101.7 MB 2.8 MB/s eta 0:00:11\n",
      "   ---------------------------- ----------- 71.8/101.7 MB 2.8 MB/s eta 0:00:11\n",
      "   ---------------------------- ----------- 71.9/101.7 MB 2.8 MB/s eta 0:00:11\n",
      "   ---------------------------- ----------- 72.1/101.7 MB 2.8 MB/s eta 0:00:11\n",
      "   ---------------------------- ----------- 72.2/101.7 MB 2.8 MB/s eta 0:00:11\n",
      "   ---------------------------- ----------- 72.3/101.7 MB 2.8 MB/s eta 0:00:11\n",
      "   ---------------------------- ----------- 72.5/101.7 MB 2.8 MB/s eta 0:00:11\n",
      "   ---------------------------- ----------- 72.6/101.7 MB 2.8 MB/s eta 0:00:11\n",
      "   ---------------------------- ----------- 72.8/101.7 MB 2.8 MB/s eta 0:00:11\n",
      "   ---------------------------- ----------- 72.9/101.7 MB 2.8 MB/s eta 0:00:11\n",
      "   ---------------------------- ----------- 73.1/101.7 MB 2.8 MB/s eta 0:00:11\n",
      "   ---------------------------- ----------- 73.2/101.7 MB 2.8 MB/s eta 0:00:11\n",
      "   ---------------------------- ----------- 73.3/101.7 MB 2.8 MB/s eta 0:00:11\n",
      "   ---------------------------- ----------- 73.5/101.7 MB 2.8 MB/s eta 0:00:11\n",
      "   ---------------------------- ----------- 73.6/101.7 MB 2.8 MB/s eta 0:00:11\n",
      "   ----------------------------- ---------- 73.8/101.7 MB 2.8 MB/s eta 0:00:10\n",
      "   ----------------------------- ---------- 73.9/101.7 MB 2.8 MB/s eta 0:00:10\n",
      "   ----------------------------- ---------- 74.0/101.7 MB 2.8 MB/s eta 0:00:10\n",
      "   ----------------------------- ---------- 74.2/101.7 MB 2.8 MB/s eta 0:00:10\n",
      "   ----------------------------- ---------- 74.3/101.7 MB 2.8 MB/s eta 0:00:10\n",
      "   ----------------------------- ---------- 74.5/101.7 MB 2.8 MB/s eta 0:00:10\n",
      "   ----------------------------- ---------- 74.6/101.7 MB 2.8 MB/s eta 0:00:10\n",
      "   ----------------------------- ---------- 74.8/101.7 MB 2.8 MB/s eta 0:00:10\n",
      "   ----------------------------- ---------- 74.9/101.7 MB 2.8 MB/s eta 0:00:10\n",
      "   ----------------------------- ---------- 75.0/101.7 MB 2.8 MB/s eta 0:00:10\n",
      "   ----------------------------- ---------- 75.2/101.7 MB 2.8 MB/s eta 0:00:10\n",
      "   ----------------------------- ---------- 75.3/101.7 MB 2.9 MB/s eta 0:00:10\n",
      "   ----------------------------- ---------- 75.5/101.7 MB 2.9 MB/s eta 0:00:10\n",
      "   ----------------------------- ---------- 75.6/101.7 MB 2.9 MB/s eta 0:00:10\n",
      "   ----------------------------- ---------- 75.8/101.7 MB 2.9 MB/s eta 0:00:10\n",
      "   ----------------------------- ---------- 75.9/101.7 MB 2.9 MB/s eta 0:00:09\n",
      "   ----------------------------- ---------- 76.0/101.7 MB 2.9 MB/s eta 0:00:09\n",
      "   ----------------------------- ---------- 76.2/101.7 MB 2.9 MB/s eta 0:00:09\n",
      "   ------------------------------ --------- 76.3/101.7 MB 2.9 MB/s eta 0:00:09\n",
      "   ------------------------------ --------- 76.4/101.7 MB 2.9 MB/s eta 0:00:09\n",
      "   ------------------------------ --------- 76.6/101.7 MB 2.9 MB/s eta 0:00:09\n",
      "   ------------------------------ --------- 76.7/101.7 MB 2.9 MB/s eta 0:00:09\n",
      "   ------------------------------ --------- 76.9/101.7 MB 2.9 MB/s eta 0:00:09\n",
      "   ------------------------------ --------- 77.0/101.7 MB 3.0 MB/s eta 0:00:09\n",
      "   ------------------------------ --------- 77.1/101.7 MB 3.0 MB/s eta 0:00:09\n",
      "   ------------------------------ --------- 77.3/101.7 MB 3.0 MB/s eta 0:00:09\n",
      "   ------------------------------ --------- 77.4/101.7 MB 3.0 MB/s eta 0:00:09\n",
      "   ------------------------------ --------- 77.6/101.7 MB 3.0 MB/s eta 0:00:09\n",
      "   ------------------------------ --------- 77.7/101.7 MB 3.0 MB/s eta 0:00:08\n",
      "   ------------------------------ --------- 77.9/101.7 MB 3.0 MB/s eta 0:00:08\n",
      "   ------------------------------ --------- 78.0/101.7 MB 3.0 MB/s eta 0:00:08\n",
      "   ------------------------------ --------- 78.1/101.7 MB 3.0 MB/s eta 0:00:08\n",
      "   ------------------------------ --------- 78.3/101.7 MB 3.0 MB/s eta 0:00:08\n",
      "   ------------------------------ --------- 78.4/101.7 MB 3.0 MB/s eta 0:00:08\n",
      "   ------------------------------ --------- 78.6/101.7 MB 3.0 MB/s eta 0:00:08\n",
      "   ------------------------------ --------- 78.7/101.7 MB 3.0 MB/s eta 0:00:08\n",
      "   ------------------------------ --------- 78.8/101.7 MB 3.0 MB/s eta 0:00:08\n",
      "   ------------------------------- -------- 79.0/101.7 MB 3.0 MB/s eta 0:00:08\n",
      "   ------------------------------- -------- 79.1/101.7 MB 3.0 MB/s eta 0:00:08\n",
      "   ------------------------------- -------- 79.3/101.7 MB 3.0 MB/s eta 0:00:08\n",
      "   ------------------------------- -------- 79.4/101.7 MB 3.0 MB/s eta 0:00:08\n",
      "   ------------------------------- -------- 79.6/101.7 MB 3.0 MB/s eta 0:00:08\n",
      "   ------------------------------- -------- 79.7/101.7 MB 3.0 MB/s eta 0:00:08\n",
      "   ------------------------------- -------- 79.8/101.7 MB 3.0 MB/s eta 0:00:08\n",
      "   ------------------------------- -------- 80.0/101.7 MB 3.0 MB/s eta 0:00:08\n",
      "   ------------------------------- -------- 80.0/101.7 MB 3.0 MB/s eta 0:00:08\n",
      "   ------------------------------- -------- 80.0/101.7 MB 3.0 MB/s eta 0:00:08\n",
      "   ------------------------------- -------- 80.2/101.7 MB 3.0 MB/s eta 0:00:08\n",
      "   ------------------------------- -------- 80.4/101.7 MB 3.0 MB/s eta 0:00:08\n",
      "   ------------------------------- -------- 80.5/101.7 MB 3.0 MB/s eta 0:00:08\n",
      "   ------------------------------- -------- 80.6/101.7 MB 3.0 MB/s eta 0:00:08\n",
      "   ------------------------------- -------- 80.7/101.7 MB 3.0 MB/s eta 0:00:08\n",
      "   ------------------------------- -------- 80.9/101.7 MB 3.0 MB/s eta 0:00:08\n",
      "   ------------------------------- -------- 81.0/101.7 MB 2.9 MB/s eta 0:00:08\n",
      "   ------------------------------- -------- 81.1/101.7 MB 2.9 MB/s eta 0:00:08\n",
      "   ------------------------------- -------- 81.2/101.7 MB 2.9 MB/s eta 0:00:07\n",
      "   ------------------------------- -------- 81.3/101.7 MB 2.9 MB/s eta 0:00:07\n",
      "   -------------------------------- ------- 81.4/101.7 MB 2.9 MB/s eta 0:00:07\n",
      "   -------------------------------- ------- 81.5/101.7 MB 2.9 MB/s eta 0:00:07\n",
      "   -------------------------------- ------- 81.6/101.7 MB 2.9 MB/s eta 0:00:07\n",
      "   -------------------------------- ------- 81.7/101.7 MB 2.9 MB/s eta 0:00:07\n",
      "   -------------------------------- ------- 81.9/101.7 MB 2.9 MB/s eta 0:00:07\n",
      "   -------------------------------- ------- 82.0/101.7 MB 2.9 MB/s eta 0:00:07\n",
      "   -------------------------------- ------- 82.1/101.7 MB 2.9 MB/s eta 0:00:07\n",
      "   -------------------------------- ------- 82.2/101.7 MB 2.8 MB/s eta 0:00:07\n",
      "   -------------------------------- ------- 82.3/101.7 MB 2.8 MB/s eta 0:00:07\n",
      "   -------------------------------- ------- 82.4/101.7 MB 2.8 MB/s eta 0:00:07\n",
      "   -------------------------------- ------- 82.6/101.7 MB 2.8 MB/s eta 0:00:07\n",
      "   -------------------------------- ------- 82.7/101.7 MB 2.8 MB/s eta 0:00:07\n",
      "   -------------------------------- ------- 82.8/101.7 MB 2.8 MB/s eta 0:00:07\n",
      "   -------------------------------- ------- 83.0/101.7 MB 2.8 MB/s eta 0:00:07\n",
      "   -------------------------------- ------- 83.1/101.7 MB 2.8 MB/s eta 0:00:07\n",
      "   -------------------------------- ------- 83.3/101.7 MB 2.8 MB/s eta 0:00:07\n",
      "   -------------------------------- ------- 83.4/101.7 MB 2.8 MB/s eta 0:00:07\n",
      "   -------------------------------- ------- 83.5/101.7 MB 2.8 MB/s eta 0:00:07\n",
      "   -------------------------------- ------- 83.7/101.7 MB 2.8 MB/s eta 0:00:07\n",
      "   -------------------------------- ------- 83.8/101.7 MB 2.8 MB/s eta 0:00:07\n",
      "   -------------------------------- ------- 83.9/101.7 MB 2.8 MB/s eta 0:00:07\n",
      "   --------------------------------- ------ 84.1/101.7 MB 2.8 MB/s eta 0:00:07\n",
      "   --------------------------------- ------ 84.2/101.7 MB 2.8 MB/s eta 0:00:07\n",
      "   --------------------------------- ------ 84.4/101.7 MB 2.8 MB/s eta 0:00:07\n",
      "   --------------------------------- ------ 84.5/101.7 MB 2.8 MB/s eta 0:00:07\n",
      "   --------------------------------- ------ 84.6/101.7 MB 2.8 MB/s eta 0:00:07\n",
      "   --------------------------------- ------ 84.8/101.7 MB 2.8 MB/s eta 0:00:06\n",
      "   --------------------------------- ------ 84.9/101.7 MB 2.8 MB/s eta 0:00:06\n",
      "   --------------------------------- ------ 85.1/101.7 MB 2.8 MB/s eta 0:00:06\n",
      "   --------------------------------- ------ 85.1/101.7 MB 2.8 MB/s eta 0:00:06\n",
      "   --------------------------------- ------ 85.3/101.7 MB 2.8 MB/s eta 0:00:06\n",
      "   --------------------------------- ------ 85.4/101.7 MB 2.8 MB/s eta 0:00:06\n",
      "   --------------------------------- ------ 85.6/101.7 MB 2.8 MB/s eta 0:00:06\n",
      "   --------------------------------- ------ 85.7/101.7 MB 2.8 MB/s eta 0:00:06\n",
      "   --------------------------------- ------ 85.8/101.7 MB 2.8 MB/s eta 0:00:06\n",
      "   --------------------------------- ------ 86.0/101.7 MB 2.8 MB/s eta 0:00:06\n",
      "   --------------------------------- ------ 86.1/101.7 MB 2.8 MB/s eta 0:00:06\n",
      "   --------------------------------- ------ 86.3/101.7 MB 2.8 MB/s eta 0:00:06\n",
      "   --------------------------------- ------ 86.4/101.7 MB 2.8 MB/s eta 0:00:06\n",
      "   ---------------------------------- ----- 86.5/101.7 MB 2.8 MB/s eta 0:00:06\n",
      "   ---------------------------------- ----- 86.7/101.7 MB 2.8 MB/s eta 0:00:06\n",
      "   ---------------------------------- ----- 86.8/101.7 MB 2.8 MB/s eta 0:00:06\n",
      "   ---------------------------------- ----- 87.0/101.7 MB 2.8 MB/s eta 0:00:06\n",
      "   ---------------------------------- ----- 87.1/101.7 MB 2.8 MB/s eta 0:00:06\n",
      "   ---------------------------------- ----- 87.2/101.7 MB 2.8 MB/s eta 0:00:06\n",
      "   ---------------------------------- ----- 87.4/101.7 MB 2.8 MB/s eta 0:00:06\n",
      "   ---------------------------------- ----- 87.5/101.7 MB 2.8 MB/s eta 0:00:06\n",
      "   ---------------------------------- ----- 87.7/101.7 MB 2.8 MB/s eta 0:00:05\n",
      "   ---------------------------------- ----- 87.8/101.7 MB 2.8 MB/s eta 0:00:05\n",
      "   ---------------------------------- ----- 88.0/101.7 MB 2.8 MB/s eta 0:00:05\n",
      "   ---------------------------------- ----- 88.1/101.7 MB 2.8 MB/s eta 0:00:05\n",
      "   ---------------------------------- ----- 88.2/101.7 MB 2.8 MB/s eta 0:00:05\n",
      "   ---------------------------------- ----- 88.4/101.7 MB 2.8 MB/s eta 0:00:05\n",
      "   ---------------------------------- ----- 88.5/101.7 MB 2.8 MB/s eta 0:00:05\n",
      "   ---------------------------------- ----- 88.7/101.7 MB 2.8 MB/s eta 0:00:05\n",
      "   ---------------------------------- ----- 88.8/101.7 MB 2.8 MB/s eta 0:00:05\n",
      "   ---------------------------------- ----- 89.0/101.7 MB 2.8 MB/s eta 0:00:05\n",
      "   ----------------------------------- ---- 89.1/101.7 MB 2.8 MB/s eta 0:00:05\n",
      "   ----------------------------------- ---- 89.2/101.7 MB 2.8 MB/s eta 0:00:05\n",
      "   ----------------------------------- ---- 89.4/101.7 MB 2.8 MB/s eta 0:00:05\n",
      "   ----------------------------------- ---- 89.5/101.7 MB 2.8 MB/s eta 0:00:05\n",
      "   ----------------------------------- ---- 89.7/101.7 MB 2.8 MB/s eta 0:00:05\n",
      "   ----------------------------------- ---- 89.8/101.7 MB 2.8 MB/s eta 0:00:05\n",
      "   ----------------------------------- ---- 90.0/101.7 MB 2.8 MB/s eta 0:00:05\n",
      "   ----------------------------------- ---- 90.1/101.7 MB 2.8 MB/s eta 0:00:05\n",
      "   ----------------------------------- ---- 90.3/101.7 MB 2.8 MB/s eta 0:00:05\n",
      "   ----------------------------------- ---- 90.4/101.7 MB 2.9 MB/s eta 0:00:04\n",
      "   ----------------------------------- ---- 90.5/101.7 MB 2.8 MB/s eta 0:00:04\n",
      "   ----------------------------------- ---- 90.7/101.7 MB 2.8 MB/s eta 0:00:04\n",
      "   ----------------------------------- ---- 90.8/101.7 MB 2.9 MB/s eta 0:00:04\n",
      "   ----------------------------------- ---- 91.0/101.7 MB 2.9 MB/s eta 0:00:04\n",
      "   ----------------------------------- ---- 91.1/101.7 MB 2.9 MB/s eta 0:00:04\n",
      "   ----------------------------------- ---- 91.2/101.7 MB 2.9 MB/s eta 0:00:04\n",
      "   ----------------------------------- ---- 91.4/101.7 MB 2.9 MB/s eta 0:00:04\n",
      "   ----------------------------------- ---- 91.5/101.7 MB 2.9 MB/s eta 0:00:04\n",
      "   ------------------------------------ --- 91.7/101.7 MB 2.9 MB/s eta 0:00:04\n",
      "   ------------------------------------ --- 91.8/101.7 MB 2.9 MB/s eta 0:00:04\n",
      "   ------------------------------------ --- 92.0/101.7 MB 2.9 MB/s eta 0:00:04\n",
      "   ------------------------------------ --- 92.1/101.7 MB 2.9 MB/s eta 0:00:04\n",
      "   ------------------------------------ --- 92.2/101.7 MB 3.0 MB/s eta 0:00:04\n",
      "   ------------------------------------ --- 92.4/101.7 MB 3.0 MB/s eta 0:00:04\n",
      "   ------------------------------------ --- 92.5/101.7 MB 3.0 MB/s eta 0:00:04\n",
      "   ------------------------------------ --- 92.6/101.7 MB 3.0 MB/s eta 0:00:04\n",
      "   ------------------------------------ --- 92.8/101.7 MB 3.0 MB/s eta 0:00:03\n",
      "   ------------------------------------ --- 92.9/101.7 MB 3.0 MB/s eta 0:00:03\n",
      "   ------------------------------------ --- 93.1/101.7 MB 3.0 MB/s eta 0:00:03\n",
      "   ------------------------------------ --- 93.2/101.7 MB 3.0 MB/s eta 0:00:03\n",
      "   ------------------------------------ --- 93.3/101.7 MB 3.0 MB/s eta 0:00:03\n",
      "   ------------------------------------ --- 93.5/101.7 MB 3.0 MB/s eta 0:00:03\n",
      "   ------------------------------------ --- 93.6/101.7 MB 3.0 MB/s eta 0:00:03\n",
      "   ------------------------------------ --- 93.8/101.7 MB 3.0 MB/s eta 0:00:03\n",
      "   ------------------------------------ --- 93.9/101.7 MB 3.0 MB/s eta 0:00:03\n",
      "   ------------------------------------ --- 94.0/101.7 MB 3.0 MB/s eta 0:00:03\n",
      "   ------------------------------------- -- 94.2/101.7 MB 3.0 MB/s eta 0:00:03\n",
      "   ------------------------------------- -- 94.3/101.7 MB 3.0 MB/s eta 0:00:03\n",
      "   ------------------------------------- -- 94.5/101.7 MB 3.0 MB/s eta 0:00:03\n",
      "   ------------------------------------- -- 94.6/101.7 MB 3.0 MB/s eta 0:00:03\n",
      "   ------------------------------------- -- 94.8/101.7 MB 3.0 MB/s eta 0:00:03\n",
      "   ------------------------------------- -- 94.9/101.7 MB 3.0 MB/s eta 0:00:03\n",
      "   ------------------------------------- -- 94.9/101.7 MB 3.0 MB/s eta 0:00:03\n",
      "   ------------------------------------- -- 94.9/101.7 MB 3.0 MB/s eta 0:00:03\n",
      "   ------------------------------------- -- 94.9/101.7 MB 3.0 MB/s eta 0:00:03\n",
      "   ------------------------------------- -- 94.9/101.7 MB 2.9 MB/s eta 0:00:03\n",
      "   ------------------------------------- -- 95.0/101.7 MB 2.8 MB/s eta 0:00:03\n",
      "   ------------------------------------- -- 95.1/101.7 MB 2.8 MB/s eta 0:00:03\n",
      "   ------------------------------------- -- 95.1/101.7 MB 2.8 MB/s eta 0:00:03\n",
      "   ------------------------------------- -- 95.3/101.7 MB 2.8 MB/s eta 0:00:03\n",
      "   ------------------------------------- -- 95.4/101.7 MB 2.8 MB/s eta 0:00:03\n",
      "   ------------------------------------- -- 95.5/101.7 MB 2.8 MB/s eta 0:00:03\n",
      "   ------------------------------------- -- 95.6/101.7 MB 2.8 MB/s eta 0:00:03\n",
      "   ------------------------------------- -- 95.7/101.7 MB 2.8 MB/s eta 0:00:03\n",
      "   ------------------------------------- -- 95.8/101.7 MB 2.8 MB/s eta 0:00:03\n",
      "   ------------------------------------- -- 95.8/101.7 MB 2.7 MB/s eta 0:00:03\n",
      "   ------------------------------------- -- 95.9/101.7 MB 2.7 MB/s eta 0:00:03\n",
      "   ------------------------------------- -- 96.0/101.7 MB 2.7 MB/s eta 0:00:03\n",
      "   ------------------------------------- -- 96.1/101.7 MB 2.7 MB/s eta 0:00:03\n",
      "   ------------------------------------- -- 96.1/101.7 MB 2.7 MB/s eta 0:00:03\n",
      "   ------------------------------------- -- 96.2/101.7 MB 2.7 MB/s eta 0:00:03\n",
      "   ------------------------------------- -- 96.2/101.7 MB 2.6 MB/s eta 0:00:03\n",
      "   ------------------------------------- -- 96.3/101.7 MB 2.6 MB/s eta 0:00:03\n",
      "   ------------------------------------- -- 96.4/101.7 MB 2.6 MB/s eta 0:00:03\n",
      "   ------------------------------------- -- 96.5/101.7 MB 2.6 MB/s eta 0:00:03\n",
      "   ------------------------------------- -- 96.5/101.7 MB 2.6 MB/s eta 0:00:03\n",
      "   ------------------------------------- -- 96.6/101.7 MB 2.6 MB/s eta 0:00:02\n",
      "   -------------------------------------- - 96.7/101.7 MB 2.6 MB/s eta 0:00:02\n",
      "   -------------------------------------- - 96.8/101.7 MB 2.5 MB/s eta 0:00:02\n",
      "   -------------------------------------- - 96.8/101.7 MB 2.5 MB/s eta 0:00:02\n",
      "   -------------------------------------- - 96.9/101.7 MB 2.5 MB/s eta 0:00:02\n",
      "   -------------------------------------- - 97.0/101.7 MB 2.5 MB/s eta 0:00:02\n",
      "   -------------------------------------- - 97.1/101.7 MB 2.5 MB/s eta 0:00:02\n",
      "   -------------------------------------- - 97.2/101.7 MB 2.5 MB/s eta 0:00:02\n",
      "   -------------------------------------- - 97.3/101.7 MB 2.5 MB/s eta 0:00:02\n",
      "   -------------------------------------- - 97.4/101.7 MB 2.5 MB/s eta 0:00:02\n",
      "   -------------------------------------- - 97.4/101.7 MB 2.5 MB/s eta 0:00:02\n",
      "   -------------------------------------- - 97.5/101.7 MB 2.4 MB/s eta 0:00:02\n",
      "   -------------------------------------- - 97.6/101.7 MB 2.4 MB/s eta 0:00:02\n",
      "   -------------------------------------- - 97.7/101.7 MB 2.4 MB/s eta 0:00:02\n",
      "   -------------------------------------- - 97.8/101.7 MB 2.4 MB/s eta 0:00:02\n",
      "   -------------------------------------- - 97.9/101.7 MB 2.4 MB/s eta 0:00:02\n",
      "   -------------------------------------- - 98.0/101.7 MB 2.4 MB/s eta 0:00:02\n",
      "   -------------------------------------- - 98.1/101.7 MB 2.4 MB/s eta 0:00:02\n",
      "   -------------------------------------- - 98.2/101.7 MB 2.4 MB/s eta 0:00:02\n",
      "   -------------------------------------- - 98.2/101.7 MB 2.4 MB/s eta 0:00:02\n",
      "   -------------------------------------- - 98.3/101.7 MB 2.4 MB/s eta 0:00:02\n",
      "   -------------------------------------- - 98.4/101.7 MB 2.3 MB/s eta 0:00:02\n",
      "   -------------------------------------- - 98.5/101.7 MB 2.3 MB/s eta 0:00:02\n",
      "   -------------------------------------- - 98.6/101.7 MB 2.3 MB/s eta 0:00:02\n",
      "   -------------------------------------- - 98.7/101.7 MB 2.3 MB/s eta 0:00:02\n",
      "   -------------------------------------- - 98.8/101.7 MB 2.3 MB/s eta 0:00:02\n",
      "   -------------------------------------- - 98.9/101.7 MB 2.3 MB/s eta 0:00:02\n",
      "   -------------------------------------- - 99.0/101.7 MB 2.3 MB/s eta 0:00:02\n",
      "   -------------------------------------- - 99.1/101.7 MB 2.3 MB/s eta 0:00:02\n",
      "   ---------------------------------------  99.2/101.7 MB 2.3 MB/s eta 0:00:02\n",
      "   ---------------------------------------  99.3/101.7 MB 2.3 MB/s eta 0:00:02\n",
      "   ---------------------------------------  99.4/101.7 MB 2.3 MB/s eta 0:00:02\n",
      "   ---------------------------------------  99.5/101.7 MB 2.3 MB/s eta 0:00:01\n",
      "   ---------------------------------------  99.6/101.7 MB 2.3 MB/s eta 0:00:01\n",
      "   ---------------------------------------  99.7/101.7 MB 2.3 MB/s eta 0:00:01\n",
      "   ---------------------------------------  99.9/101.7 MB 2.3 MB/s eta 0:00:01\n",
      "   ---------------------------------------  100.0/101.7 MB 2.2 MB/s eta 0:00:01\n",
      "   ---------------------------------------  100.1/101.7 MB 2.2 MB/s eta 0:00:01\n",
      "   ---------------------------------------  100.2/101.7 MB 2.2 MB/s eta 0:00:01\n",
      "   ---------------------------------------  100.3/101.7 MB 2.2 MB/s eta 0:00:01\n",
      "   ---------------------------------------  100.4/101.7 MB 2.2 MB/s eta 0:00:01\n",
      "   ---------------------------------------  100.5/101.7 MB 2.2 MB/s eta 0:00:01\n",
      "   ---------------------------------------  100.6/101.7 MB 2.2 MB/s eta 0:00:01\n",
      "   ---------------------------------------  100.7/101.7 MB 2.2 MB/s eta 0:00:01\n",
      "   ---------------------------------------  100.8/101.7 MB 2.2 MB/s eta 0:00:01\n",
      "   ---------------------------------------  100.9/101.7 MB 2.2 MB/s eta 0:00:01\n",
      "   ---------------------------------------  101.0/101.7 MB 2.2 MB/s eta 0:00:01\n",
      "   ---------------------------------------  101.2/101.7 MB 2.2 MB/s eta 0:00:01\n",
      "   ---------------------------------------  101.3/101.7 MB 2.2 MB/s eta 0:00:01\n",
      "   ---------------------------------------  101.4/101.7 MB 2.2 MB/s eta 0:00:01\n",
      "   ---------------------------------------  101.5/101.7 MB 2.2 MB/s eta 0:00:01\n",
      "   ---------------------------------------  101.7/101.7 MB 2.2 MB/s eta 0:00:01\n",
      "   ---------------------------------------  101.7/101.7 MB 2.2 MB/s eta 0:00:01\n",
      "   ---------------------------------------  101.7/101.7 MB 2.2 MB/s eta 0:00:01\n",
      "   ---------------------------------------  101.7/101.7 MB 2.2 MB/s eta 0:00:01\n",
      "   ---------------------------------------  101.7/101.7 MB 2.2 MB/s eta 0:00:01\n",
      "   ---------------------------------------  101.7/101.7 MB 2.2 MB/s eta 0:00:01\n",
      "   ---------------------------------------  101.7/101.7 MB 2.2 MB/s eta 0:00:01\n",
      "   ---------------------------------------- 101.7/101.7 MB 2.0 MB/s eta 0:00:00\n",
      "Downloading graphviz-0.20.3-py3-none-any.whl (47 kB)\n",
      "   ---------------------------------------- 0.0/47.1 kB ? eta -:--:--\n",
      "   ---------------------------------------- 47.1/47.1 kB 2.5 MB/s eta 0:00:00\n",
      "Installing collected packages: graphviz, catboost\n",
      "Successfully installed catboost-1.2.7 graphviz-0.20.3\n"
     ]
    }
   ],
   "source": [
    "#!pip install catboost"
   ]
  },
  {
   "cell_type": "code",
   "execution_count": 448,
   "metadata": {
    "tags": []
   },
   "outputs": [],
   "source": [
    "from catboost import CatBoostRegressor"
   ]
  },
  {
   "cell_type": "code",
   "execution_count": 449,
   "metadata": {
    "collapsed": true,
    "jupyter": {
     "outputs_hidden": true
    },
    "tags": []
   },
   "outputs": [
    {
     "name": "stdout",
     "output_type": "stream",
     "text": [
      "Learning rate set to 0.031674\n",
      "0:\tlearn: 437.6430699\ttotal: 142ms\tremaining: 2m 22s\n",
      "1:\tlearn: 431.3923642\ttotal: 146ms\tremaining: 1m 12s\n",
      "2:\tlearn: 424.8820360\ttotal: 150ms\tremaining: 49.7s\n",
      "3:\tlearn: 418.2514904\ttotal: 152ms\tremaining: 38s\n",
      "4:\tlearn: 412.6394021\ttotal: 155ms\tremaining: 30.8s\n",
      "5:\tlearn: 406.6247020\ttotal: 157ms\tremaining: 26s\n",
      "6:\tlearn: 400.5321206\ttotal: 158ms\tremaining: 22.5s\n",
      "7:\tlearn: 394.6683437\ttotal: 160ms\tremaining: 19.8s\n",
      "8:\tlearn: 388.2496484\ttotal: 162ms\tremaining: 17.8s\n",
      "9:\tlearn: 382.9448842\ttotal: 164ms\tremaining: 16.2s\n",
      "10:\tlearn: 377.2600080\ttotal: 165ms\tremaining: 14.9s\n",
      "11:\tlearn: 372.4829606\ttotal: 167ms\tremaining: 13.8s\n",
      "12:\tlearn: 366.6823437\ttotal: 169ms\tremaining: 12.8s\n",
      "13:\tlearn: 362.6076230\ttotal: 170ms\tremaining: 12s\n",
      "14:\tlearn: 358.0107745\ttotal: 172ms\tremaining: 11.3s\n",
      "15:\tlearn: 353.2802665\ttotal: 173ms\tremaining: 10.7s\n",
      "16:\tlearn: 348.5646265\ttotal: 175ms\tremaining: 10.1s\n",
      "17:\tlearn: 343.6407912\ttotal: 178ms\tremaining: 9.69s\n",
      "18:\tlearn: 339.2363847\ttotal: 180ms\tremaining: 9.28s\n",
      "19:\tlearn: 334.3431252\ttotal: 181ms\tremaining: 8.88s\n",
      "20:\tlearn: 330.3247028\ttotal: 183ms\tremaining: 8.53s\n",
      "21:\tlearn: 326.6118334\ttotal: 185ms\tremaining: 8.21s\n",
      "22:\tlearn: 322.7759981\ttotal: 186ms\tremaining: 7.91s\n",
      "23:\tlearn: 318.9511822\ttotal: 188ms\tremaining: 7.64s\n",
      "24:\tlearn: 315.4216253\ttotal: 189ms\tremaining: 7.39s\n",
      "25:\tlearn: 311.3551377\ttotal: 191ms\tremaining: 7.16s\n",
      "26:\tlearn: 308.1492371\ttotal: 193ms\tremaining: 6.95s\n",
      "27:\tlearn: 304.7284729\ttotal: 194ms\tremaining: 6.75s\n",
      "28:\tlearn: 301.3893204\ttotal: 196ms\tremaining: 6.56s\n",
      "29:\tlearn: 298.2080758\ttotal: 197ms\tremaining: 6.38s\n",
      "30:\tlearn: 295.6878398\ttotal: 199ms\tremaining: 6.22s\n",
      "31:\tlearn: 292.3912243\ttotal: 201ms\tremaining: 6.07s\n",
      "32:\tlearn: 289.6345744\ttotal: 203ms\tremaining: 5.94s\n",
      "33:\tlearn: 287.2158711\ttotal: 205ms\tremaining: 5.82s\n",
      "34:\tlearn: 284.3879081\ttotal: 207ms\tremaining: 5.7s\n",
      "35:\tlearn: 281.7994818\ttotal: 209ms\tremaining: 5.59s\n",
      "36:\tlearn: 279.2028261\ttotal: 210ms\tremaining: 5.47s\n",
      "37:\tlearn: 276.5821160\ttotal: 212ms\tremaining: 5.36s\n",
      "38:\tlearn: 273.8890894\ttotal: 213ms\tremaining: 5.25s\n",
      "39:\tlearn: 271.1681677\ttotal: 215ms\tremaining: 5.15s\n",
      "40:\tlearn: 269.0159531\ttotal: 216ms\tremaining: 5.06s\n",
      "41:\tlearn: 266.3601804\ttotal: 218ms\tremaining: 4.97s\n",
      "42:\tlearn: 263.8608958\ttotal: 219ms\tremaining: 4.88s\n",
      "43:\tlearn: 261.1405566\ttotal: 221ms\tremaining: 4.8s\n",
      "44:\tlearn: 258.9314736\ttotal: 223ms\tremaining: 4.73s\n",
      "45:\tlearn: 256.3885577\ttotal: 225ms\tremaining: 4.66s\n",
      "46:\tlearn: 254.2857349\ttotal: 226ms\tremaining: 4.58s\n",
      "47:\tlearn: 252.2347121\ttotal: 228ms\tremaining: 4.51s\n",
      "48:\tlearn: 250.1779367\ttotal: 229ms\tremaining: 4.45s\n",
      "49:\tlearn: 248.2687430\ttotal: 231ms\tremaining: 4.38s\n",
      "50:\tlearn: 246.3685582\ttotal: 232ms\tremaining: 4.32s\n",
      "51:\tlearn: 244.8719988\ttotal: 234ms\tremaining: 4.26s\n",
      "52:\tlearn: 242.7348892\ttotal: 236ms\tremaining: 4.21s\n",
      "53:\tlearn: 241.1611112\ttotal: 237ms\tremaining: 4.15s\n",
      "54:\tlearn: 239.4819462\ttotal: 239ms\tremaining: 4.1s\n",
      "55:\tlearn: 237.3877895\ttotal: 240ms\tremaining: 4.05s\n",
      "56:\tlearn: 235.7619262\ttotal: 242ms\tremaining: 4s\n",
      "57:\tlearn: 233.9604804\ttotal: 244ms\tremaining: 3.96s\n",
      "58:\tlearn: 232.4948011\ttotal: 245ms\tremaining: 3.91s\n",
      "59:\tlearn: 230.6283304\ttotal: 247ms\tremaining: 3.87s\n",
      "60:\tlearn: 228.9920307\ttotal: 248ms\tremaining: 3.82s\n",
      "61:\tlearn: 227.5197637\ttotal: 250ms\tremaining: 3.78s\n",
      "62:\tlearn: 226.0561213\ttotal: 252ms\tremaining: 3.74s\n",
      "63:\tlearn: 224.3484762\ttotal: 254ms\tremaining: 3.71s\n",
      "64:\tlearn: 223.0652023\ttotal: 255ms\tremaining: 3.67s\n",
      "65:\tlearn: 221.6608069\ttotal: 257ms\tremaining: 3.63s\n",
      "66:\tlearn: 220.2445284\ttotal: 259ms\tremaining: 3.6s\n",
      "67:\tlearn: 219.0044262\ttotal: 260ms\tremaining: 3.57s\n",
      "68:\tlearn: 217.4624313\ttotal: 262ms\tremaining: 3.54s\n",
      "69:\tlearn: 216.0502248\ttotal: 264ms\tremaining: 3.5s\n",
      "70:\tlearn: 214.5361705\ttotal: 265ms\tremaining: 3.47s\n",
      "71:\tlearn: 213.1812509\ttotal: 267ms\tremaining: 3.44s\n",
      "72:\tlearn: 211.7399390\ttotal: 269ms\tremaining: 3.41s\n",
      "73:\tlearn: 210.5557639\ttotal: 270ms\tremaining: 3.38s\n",
      "74:\tlearn: 209.4242283\ttotal: 272ms\tremaining: 3.35s\n",
      "75:\tlearn: 208.4366109\ttotal: 274ms\tremaining: 3.33s\n",
      "76:\tlearn: 207.4514860\ttotal: 275ms\tremaining: 3.3s\n",
      "77:\tlearn: 206.1912213\ttotal: 277ms\tremaining: 3.27s\n",
      "78:\tlearn: 205.2585316\ttotal: 278ms\tremaining: 3.25s\n",
      "79:\tlearn: 203.8747879\ttotal: 280ms\tremaining: 3.22s\n",
      "80:\tlearn: 202.5993031\ttotal: 282ms\tremaining: 3.19s\n",
      "81:\tlearn: 201.4719061\ttotal: 283ms\tremaining: 3.17s\n",
      "82:\tlearn: 200.2871874\ttotal: 285ms\tremaining: 3.15s\n",
      "83:\tlearn: 199.1074683\ttotal: 287ms\tremaining: 3.13s\n",
      "84:\tlearn: 197.8511342\ttotal: 288ms\tremaining: 3.1s\n",
      "85:\tlearn: 196.8788042\ttotal: 290ms\tremaining: 3.08s\n",
      "86:\tlearn: 195.9815130\ttotal: 292ms\tremaining: 3.06s\n",
      "87:\tlearn: 195.0807956\ttotal: 293ms\tremaining: 3.04s\n",
      "88:\tlearn: 193.9775466\ttotal: 295ms\tremaining: 3.02s\n",
      "89:\tlearn: 192.8810426\ttotal: 296ms\tremaining: 3s\n",
      "90:\tlearn: 192.5363626\ttotal: 299ms\tremaining: 2.98s\n",
      "91:\tlearn: 191.3259849\ttotal: 300ms\tremaining: 2.96s\n",
      "92:\tlearn: 190.3650025\ttotal: 302ms\tremaining: 2.94s\n",
      "93:\tlearn: 189.3255643\ttotal: 304ms\tremaining: 2.93s\n",
      "94:\tlearn: 188.2433480\ttotal: 305ms\tremaining: 2.91s\n",
      "95:\tlearn: 187.2786096\ttotal: 307ms\tremaining: 2.89s\n",
      "96:\tlearn: 186.1284681\ttotal: 308ms\tremaining: 2.87s\n",
      "97:\tlearn: 185.0190872\ttotal: 310ms\tremaining: 2.85s\n",
      "98:\tlearn: 184.2888024\ttotal: 312ms\tremaining: 2.84s\n",
      "99:\tlearn: 183.3111217\ttotal: 314ms\tremaining: 2.82s\n",
      "100:\tlearn: 182.2519940\ttotal: 315ms\tremaining: 2.81s\n",
      "101:\tlearn: 181.0186200\ttotal: 317ms\tremaining: 2.79s\n",
      "102:\tlearn: 179.9672344\ttotal: 319ms\tremaining: 2.77s\n",
      "103:\tlearn: 178.9776753\ttotal: 320ms\tremaining: 2.76s\n",
      "104:\tlearn: 178.2445101\ttotal: 322ms\tremaining: 2.74s\n",
      "105:\tlearn: 177.4055906\ttotal: 324ms\tremaining: 2.73s\n",
      "106:\tlearn: 176.2405445\ttotal: 325ms\tremaining: 2.71s\n",
      "107:\tlearn: 175.1813091\ttotal: 327ms\tremaining: 2.7s\n",
      "108:\tlearn: 174.5537682\ttotal: 329ms\tremaining: 2.69s\n",
      "109:\tlearn: 173.8231890\ttotal: 331ms\tremaining: 2.68s\n",
      "110:\tlearn: 172.9324461\ttotal: 333ms\tremaining: 2.66s\n",
      "111:\tlearn: 172.0019421\ttotal: 334ms\tremaining: 2.65s\n",
      "112:\tlearn: 171.2945678\ttotal: 336ms\tremaining: 2.63s\n",
      "113:\tlearn: 170.4815313\ttotal: 337ms\tremaining: 2.62s\n",
      "114:\tlearn: 169.9491294\ttotal: 339ms\tremaining: 2.61s\n",
      "115:\tlearn: 169.2483859\ttotal: 341ms\tremaining: 2.6s\n",
      "116:\tlearn: 168.7342383\ttotal: 343ms\tremaining: 2.58s\n",
      "117:\tlearn: 168.1837140\ttotal: 344ms\tremaining: 2.57s\n",
      "118:\tlearn: 167.1222358\ttotal: 346ms\tremaining: 2.56s\n",
      "119:\tlearn: 166.3472734\ttotal: 348ms\tremaining: 2.55s\n",
      "120:\tlearn: 165.5330342\ttotal: 349ms\tremaining: 2.54s\n",
      "121:\tlearn: 164.8476246\ttotal: 351ms\tremaining: 2.52s\n",
      "122:\tlearn: 164.2399797\ttotal: 352ms\tremaining: 2.51s\n",
      "123:\tlearn: 164.0121571\ttotal: 354ms\tremaining: 2.5s\n",
      "124:\tlearn: 162.9794212\ttotal: 356ms\tremaining: 2.49s\n",
      "125:\tlearn: 162.2095741\ttotal: 357ms\tremaining: 2.48s\n",
      "126:\tlearn: 161.1695920\ttotal: 359ms\tremaining: 2.47s\n",
      "127:\tlearn: 160.3516612\ttotal: 361ms\tremaining: 2.46s\n",
      "128:\tlearn: 159.1596356\ttotal: 364ms\tremaining: 2.46s\n",
      "129:\tlearn: 158.5354394\ttotal: 366ms\tremaining: 2.45s\n",
      "130:\tlearn: 157.5922383\ttotal: 368ms\tremaining: 2.44s\n",
      "131:\tlearn: 156.9689796\ttotal: 370ms\tremaining: 2.43s\n",
      "132:\tlearn: 156.4170623\ttotal: 371ms\tremaining: 2.42s\n",
      "133:\tlearn: 156.1222595\ttotal: 373ms\tremaining: 2.41s\n",
      "134:\tlearn: 155.5996569\ttotal: 375ms\tremaining: 2.4s\n",
      "135:\tlearn: 154.8990155\ttotal: 377ms\tremaining: 2.4s\n",
      "136:\tlearn: 154.3704896\ttotal: 379ms\tremaining: 2.39s\n",
      "137:\tlearn: 153.8560012\ttotal: 381ms\tremaining: 2.38s\n",
      "138:\tlearn: 153.2399938\ttotal: 382ms\tremaining: 2.37s\n",
      "139:\tlearn: 152.2142414\ttotal: 384ms\tremaining: 2.36s\n",
      "140:\tlearn: 151.5976950\ttotal: 386ms\tremaining: 2.35s\n",
      "141:\tlearn: 151.4426506\ttotal: 388ms\tremaining: 2.35s\n",
      "142:\tlearn: 150.8467135\ttotal: 390ms\tremaining: 2.34s\n",
      "143:\tlearn: 150.0175883\ttotal: 392ms\tremaining: 2.33s\n",
      "144:\tlearn: 149.6327647\ttotal: 394ms\tremaining: 2.32s\n",
      "145:\tlearn: 148.9265718\ttotal: 396ms\tremaining: 2.31s\n",
      "146:\tlearn: 148.4460764\ttotal: 397ms\tremaining: 2.3s\n",
      "147:\tlearn: 147.8108318\ttotal: 399ms\tremaining: 2.29s\n",
      "148:\tlearn: 147.2766525\ttotal: 400ms\tremaining: 2.28s\n",
      "149:\tlearn: 146.8537279\ttotal: 402ms\tremaining: 2.27s\n",
      "150:\tlearn: 146.0227438\ttotal: 403ms\tremaining: 2.27s\n",
      "151:\tlearn: 145.5603059\ttotal: 405ms\tremaining: 2.26s\n",
      "152:\tlearn: 145.0318400\ttotal: 406ms\tremaining: 2.25s\n",
      "153:\tlearn: 144.6082188\ttotal: 408ms\tremaining: 2.24s\n",
      "154:\tlearn: 144.2070501\ttotal: 409ms\tremaining: 2.23s\n",
      "155:\tlearn: 143.8060676\ttotal: 411ms\tremaining: 2.22s\n",
      "156:\tlearn: 143.3819707\ttotal: 412ms\tremaining: 2.21s\n",
      "157:\tlearn: 143.0764402\ttotal: 414ms\tremaining: 2.21s\n",
      "158:\tlearn: 142.4609449\ttotal: 415ms\tremaining: 2.2s\n",
      "159:\tlearn: 142.3321970\ttotal: 417ms\tremaining: 2.19s\n",
      "160:\tlearn: 141.9044208\ttotal: 419ms\tremaining: 2.18s\n",
      "161:\tlearn: 141.4544471\ttotal: 420ms\tremaining: 2.17s\n",
      "162:\tlearn: 140.9391569\ttotal: 422ms\tremaining: 2.17s\n",
      "163:\tlearn: 140.3413557\ttotal: 424ms\tremaining: 2.16s\n",
      "164:\tlearn: 139.7992277\ttotal: 425ms\tremaining: 2.15s\n",
      "165:\tlearn: 139.3139418\ttotal: 427ms\tremaining: 2.14s\n",
      "166:\tlearn: 139.1617594\ttotal: 428ms\tremaining: 2.14s\n",
      "167:\tlearn: 138.8837397\ttotal: 430ms\tremaining: 2.13s\n",
      "168:\tlearn: 138.6951410\ttotal: 432ms\tremaining: 2.12s\n",
      "169:\tlearn: 138.0167618\ttotal: 434ms\tremaining: 2.12s\n",
      "170:\tlearn: 137.7020324\ttotal: 435ms\tremaining: 2.11s\n",
      "171:\tlearn: 137.1976478\ttotal: 437ms\tremaining: 2.1s\n",
      "172:\tlearn: 136.6670434\ttotal: 438ms\tremaining: 2.09s\n",
      "173:\tlearn: 136.4670074\ttotal: 440ms\tremaining: 2.09s\n",
      "174:\tlearn: 136.0663779\ttotal: 441ms\tremaining: 2.08s\n",
      "175:\tlearn: 135.9542221\ttotal: 443ms\tremaining: 2.07s\n",
      "176:\tlearn: 135.6178437\ttotal: 444ms\tremaining: 2.06s\n",
      "177:\tlearn: 134.6062854\ttotal: 446ms\tremaining: 2.06s\n",
      "178:\tlearn: 134.5063344\ttotal: 447ms\tremaining: 2.05s\n",
      "179:\tlearn: 133.9371247\ttotal: 448ms\tremaining: 2.04s\n",
      "180:\tlearn: 133.8431589\ttotal: 449ms\tremaining: 2.03s\n",
      "181:\tlearn: 133.4293648\ttotal: 451ms\tremaining: 2.02s\n",
      "182:\tlearn: 133.2065999\ttotal: 452ms\tremaining: 2.02s\n",
      "183:\tlearn: 132.9235113\ttotal: 454ms\tremaining: 2.01s\n",
      "184:\tlearn: 132.6695944\ttotal: 455ms\tremaining: 2s\n",
      "185:\tlearn: 132.3135234\ttotal: 457ms\tremaining: 2s\n",
      "186:\tlearn: 132.2233433\ttotal: 458ms\tremaining: 1.99s\n",
      "187:\tlearn: 132.0628764\ttotal: 459ms\tremaining: 1.98s\n",
      "188:\tlearn: 131.8624217\ttotal: 461ms\tremaining: 1.98s\n",
      "189:\tlearn: 131.3846390\ttotal: 463ms\tremaining: 1.97s\n",
      "190:\tlearn: 131.0638781\ttotal: 465ms\tremaining: 1.97s\n",
      "191:\tlearn: 130.4721276\ttotal: 467ms\tremaining: 1.96s\n",
      "192:\tlearn: 129.9910319\ttotal: 469ms\tremaining: 1.96s\n",
      "193:\tlearn: 129.7074214\ttotal: 470ms\tremaining: 1.95s\n",
      "194:\tlearn: 129.0491404\ttotal: 472ms\tremaining: 1.95s\n",
      "195:\tlearn: 128.6928621\ttotal: 474ms\tremaining: 1.94s\n",
      "196:\tlearn: 128.5117514\ttotal: 476ms\tremaining: 1.94s\n",
      "197:\tlearn: 128.4035709\ttotal: 477ms\tremaining: 1.93s\n",
      "198:\tlearn: 127.9924182\ttotal: 479ms\tremaining: 1.93s\n",
      "199:\tlearn: 127.7690317\ttotal: 481ms\tremaining: 1.92s\n",
      "200:\tlearn: 127.6252249\ttotal: 483ms\tremaining: 1.92s\n",
      "201:\tlearn: 127.4951417\ttotal: 484ms\tremaining: 1.91s\n",
      "202:\tlearn: 127.0315349\ttotal: 486ms\tremaining: 1.91s\n",
      "203:\tlearn: 126.7791475\ttotal: 488ms\tremaining: 1.9s\n",
      "204:\tlearn: 126.4903107\ttotal: 490ms\tremaining: 1.9s\n",
      "205:\tlearn: 126.0664803\ttotal: 491ms\tremaining: 1.89s\n",
      "206:\tlearn: 125.3934071\ttotal: 493ms\tremaining: 1.89s\n",
      "207:\tlearn: 125.0899622\ttotal: 495ms\tremaining: 1.89s\n",
      "208:\tlearn: 124.7757310\ttotal: 497ms\tremaining: 1.88s\n",
      "209:\tlearn: 124.5475960\ttotal: 498ms\tremaining: 1.87s\n",
      "210:\tlearn: 124.1962887\ttotal: 500ms\tremaining: 1.87s\n",
      "211:\tlearn: 123.9686937\ttotal: 502ms\tremaining: 1.86s\n",
      "212:\tlearn: 123.0280048\ttotal: 504ms\tremaining: 1.86s\n",
      "213:\tlearn: 122.5447141\ttotal: 505ms\tremaining: 1.86s\n",
      "214:\tlearn: 122.1785305\ttotal: 507ms\tremaining: 1.85s\n",
      "215:\tlearn: 121.4403560\ttotal: 509ms\tremaining: 1.85s\n",
      "216:\tlearn: 120.8269584\ttotal: 510ms\tremaining: 1.84s\n",
      "217:\tlearn: 120.2399329\ttotal: 512ms\tremaining: 1.84s\n",
      "218:\tlearn: 119.4852557\ttotal: 514ms\tremaining: 1.83s\n",
      "219:\tlearn: 119.2094151\ttotal: 515ms\tremaining: 1.83s\n",
      "220:\tlearn: 119.0417229\ttotal: 517ms\tremaining: 1.82s\n",
      "221:\tlearn: 118.9557915\ttotal: 519ms\tremaining: 1.82s\n",
      "222:\tlearn: 118.3082421\ttotal: 520ms\tremaining: 1.81s\n",
      "223:\tlearn: 117.7364211\ttotal: 522ms\tremaining: 1.81s\n",
      "224:\tlearn: 117.6324235\ttotal: 524ms\tremaining: 1.8s\n",
      "225:\tlearn: 117.2879743\ttotal: 525ms\tremaining: 1.8s\n",
      "226:\tlearn: 117.0422612\ttotal: 527ms\tremaining: 1.79s\n",
      "227:\tlearn: 116.8001379\ttotal: 529ms\tremaining: 1.79s\n",
      "228:\tlearn: 116.4854978\ttotal: 530ms\tremaining: 1.78s\n",
      "229:\tlearn: 115.7559740\ttotal: 533ms\tremaining: 1.78s\n",
      "230:\tlearn: 115.1896271\ttotal: 534ms\tremaining: 1.78s\n",
      "231:\tlearn: 114.9666291\ttotal: 536ms\tremaining: 1.77s\n",
      "232:\tlearn: 114.1239318\ttotal: 537ms\tremaining: 1.77s\n",
      "233:\tlearn: 113.9964466\ttotal: 540ms\tremaining: 1.77s\n",
      "234:\tlearn: 113.8912592\ttotal: 542ms\tremaining: 1.76s\n",
      "235:\tlearn: 113.4606970\ttotal: 543ms\tremaining: 1.76s\n",
      "236:\tlearn: 113.0958922\ttotal: 545ms\tremaining: 1.75s\n",
      "237:\tlearn: 113.0091361\ttotal: 546ms\tremaining: 1.75s\n",
      "238:\tlearn: 112.7657197\ttotal: 548ms\tremaining: 1.74s\n",
      "239:\tlearn: 112.2315070\ttotal: 550ms\tremaining: 1.74s\n",
      "240:\tlearn: 111.9507125\ttotal: 551ms\tremaining: 1.74s\n",
      "241:\tlearn: 111.7384492\ttotal: 553ms\tremaining: 1.73s\n",
      "242:\tlearn: 111.0693763\ttotal: 555ms\tremaining: 1.73s\n",
      "243:\tlearn: 110.3499926\ttotal: 556ms\tremaining: 1.72s\n",
      "244:\tlearn: 110.2316231\ttotal: 558ms\tremaining: 1.72s\n",
      "245:\tlearn: 109.6985998\ttotal: 559ms\tremaining: 1.71s\n",
      "246:\tlearn: 109.4279824\ttotal: 561ms\tremaining: 1.71s\n",
      "247:\tlearn: 109.1466762\ttotal: 563ms\tremaining: 1.71s\n",
      "248:\tlearn: 108.9628542\ttotal: 564ms\tremaining: 1.7s\n",
      "249:\tlearn: 108.7268676\ttotal: 566ms\tremaining: 1.7s\n",
      "250:\tlearn: 108.0921190\ttotal: 567ms\tremaining: 1.69s\n",
      "251:\tlearn: 107.6167844\ttotal: 569ms\tremaining: 1.69s\n",
      "252:\tlearn: 106.9716563\ttotal: 570ms\tremaining: 1.68s\n",
      "253:\tlearn: 106.4272485\ttotal: 572ms\tremaining: 1.68s\n",
      "254:\tlearn: 106.2032614\ttotal: 573ms\tremaining: 1.67s\n",
      "255:\tlearn: 105.5756794\ttotal: 575ms\tremaining: 1.67s\n",
      "256:\tlearn: 105.4918649\ttotal: 577ms\tremaining: 1.67s\n",
      "257:\tlearn: 105.2466976\ttotal: 579ms\tremaining: 1.66s\n",
      "258:\tlearn: 105.0461428\ttotal: 580ms\tremaining: 1.66s\n",
      "259:\tlearn: 104.5887628\ttotal: 582ms\tremaining: 1.66s\n",
      "260:\tlearn: 104.1305873\ttotal: 583ms\tremaining: 1.65s\n",
      "261:\tlearn: 103.5527158\ttotal: 585ms\tremaining: 1.65s\n",
      "262:\tlearn: 103.0334823\ttotal: 587ms\tremaining: 1.64s\n",
      "263:\tlearn: 102.6732388\ttotal: 588ms\tremaining: 1.64s\n",
      "264:\tlearn: 102.4678728\ttotal: 590ms\tremaining: 1.64s\n",
      "265:\tlearn: 101.9608852\ttotal: 592ms\tremaining: 1.63s\n",
      "266:\tlearn: 101.4449668\ttotal: 594ms\tremaining: 1.63s\n",
      "267:\tlearn: 100.9647899\ttotal: 596ms\tremaining: 1.63s\n",
      "268:\tlearn: 100.4376357\ttotal: 597ms\tremaining: 1.62s\n",
      "269:\tlearn: 100.1038322\ttotal: 599ms\tremaining: 1.62s\n",
      "270:\tlearn: 99.8991183\ttotal: 601ms\tremaining: 1.62s\n",
      "271:\tlearn: 99.4016031\ttotal: 603ms\tremaining: 1.61s\n",
      "272:\tlearn: 98.9231252\ttotal: 604ms\tremaining: 1.61s\n",
      "273:\tlearn: 98.5734863\ttotal: 606ms\tremaining: 1.6s\n",
      "274:\tlearn: 98.3333355\ttotal: 608ms\tremaining: 1.6s\n",
      "275:\tlearn: 97.9164082\ttotal: 609ms\tremaining: 1.6s\n",
      "276:\tlearn: 97.3911203\ttotal: 611ms\tremaining: 1.59s\n",
      "277:\tlearn: 96.9317789\ttotal: 612ms\tremaining: 1.59s\n",
      "278:\tlearn: 96.6243997\ttotal: 614ms\tremaining: 1.58s\n",
      "279:\tlearn: 96.3288821\ttotal: 616ms\tremaining: 1.58s\n",
      "280:\tlearn: 95.8579534\ttotal: 617ms\tremaining: 1.58s\n",
      "281:\tlearn: 95.4136026\ttotal: 619ms\tremaining: 1.58s\n",
      "282:\tlearn: 95.3442077\ttotal: 621ms\tremaining: 1.57s\n",
      "283:\tlearn: 95.1166584\ttotal: 622ms\tremaining: 1.57s\n",
      "284:\tlearn: 94.8017360\ttotal: 624ms\tremaining: 1.56s\n",
      "285:\tlearn: 94.5863908\ttotal: 625ms\tremaining: 1.56s\n",
      "286:\tlearn: 94.4111694\ttotal: 627ms\tremaining: 1.56s\n",
      "287:\tlearn: 94.2678024\ttotal: 628ms\tremaining: 1.55s\n",
      "288:\tlearn: 93.7753419\ttotal: 630ms\tremaining: 1.55s\n",
      "289:\tlearn: 93.3772710\ttotal: 631ms\tremaining: 1.54s\n",
      "290:\tlearn: 92.8750904\ttotal: 634ms\tremaining: 1.54s\n",
      "291:\tlearn: 92.6654794\ttotal: 635ms\tremaining: 1.54s\n",
      "292:\tlearn: 92.2659876\ttotal: 637ms\tremaining: 1.54s\n",
      "293:\tlearn: 92.0282495\ttotal: 638ms\tremaining: 1.53s\n",
      "294:\tlearn: 91.8288855\ttotal: 640ms\tremaining: 1.53s\n",
      "295:\tlearn: 91.6752612\ttotal: 641ms\tremaining: 1.52s\n",
      "296:\tlearn: 91.2561883\ttotal: 642ms\tremaining: 1.52s\n",
      "297:\tlearn: 91.0227123\ttotal: 644ms\tremaining: 1.52s\n",
      "298:\tlearn: 90.8392142\ttotal: 645ms\tremaining: 1.51s\n",
      "299:\tlearn: 90.6853014\ttotal: 647ms\tremaining: 1.51s\n",
      "300:\tlearn: 90.5986761\ttotal: 649ms\tremaining: 1.51s\n",
      "301:\tlearn: 90.2180036\ttotal: 650ms\tremaining: 1.5s\n",
      "302:\tlearn: 89.8313622\ttotal: 652ms\tremaining: 1.5s\n",
      "303:\tlearn: 89.6872837\ttotal: 653ms\tremaining: 1.5s\n",
      "304:\tlearn: 89.3853276\ttotal: 654ms\tremaining: 1.49s\n",
      "305:\tlearn: 88.9459206\ttotal: 656ms\tremaining: 1.49s\n",
      "306:\tlearn: 88.7258770\ttotal: 657ms\tremaining: 1.48s\n",
      "307:\tlearn: 88.5374358\ttotal: 659ms\tremaining: 1.48s\n",
      "308:\tlearn: 88.0624447\ttotal: 660ms\tremaining: 1.48s\n",
      "309:\tlearn: 87.7942692\ttotal: 662ms\tremaining: 1.47s\n",
      "310:\tlearn: 87.6354184\ttotal: 663ms\tremaining: 1.47s\n",
      "311:\tlearn: 87.4879486\ttotal: 665ms\tremaining: 1.47s\n",
      "312:\tlearn: 87.0294739\ttotal: 666ms\tremaining: 1.46s\n",
      "313:\tlearn: 86.6746221\ttotal: 667ms\tremaining: 1.46s\n",
      "314:\tlearn: 86.2792146\ttotal: 669ms\tremaining: 1.45s\n",
      "315:\tlearn: 86.2127070\ttotal: 670ms\tremaining: 1.45s\n",
      "316:\tlearn: 86.1507368\ttotal: 671ms\tremaining: 1.45s\n",
      "317:\tlearn: 85.7089141\ttotal: 673ms\tremaining: 1.44s\n",
      "318:\tlearn: 85.6035137\ttotal: 674ms\tremaining: 1.44s\n",
      "319:\tlearn: 85.3587988\ttotal: 676ms\tremaining: 1.44s\n",
      "320:\tlearn: 84.9660906\ttotal: 678ms\tremaining: 1.43s\n",
      "321:\tlearn: 84.5474713\ttotal: 679ms\tremaining: 1.43s\n",
      "322:\tlearn: 84.1996852\ttotal: 680ms\tremaining: 1.43s\n",
      "323:\tlearn: 84.0654282\ttotal: 682ms\tremaining: 1.42s\n",
      "324:\tlearn: 83.7937327\ttotal: 683ms\tremaining: 1.42s\n",
      "325:\tlearn: 83.5064288\ttotal: 685ms\tremaining: 1.42s\n",
      "326:\tlearn: 83.3997655\ttotal: 686ms\tremaining: 1.41s\n",
      "327:\tlearn: 83.2958622\ttotal: 687ms\tremaining: 1.41s\n",
      "328:\tlearn: 82.9877578\ttotal: 689ms\tremaining: 1.4s\n",
      "329:\tlearn: 82.6286638\ttotal: 690ms\tremaining: 1.4s\n",
      "330:\tlearn: 82.2827132\ttotal: 692ms\tremaining: 1.4s\n",
      "331:\tlearn: 82.0895251\ttotal: 693ms\tremaining: 1.39s\n",
      "332:\tlearn: 82.0130649\ttotal: 694ms\tremaining: 1.39s\n",
      "333:\tlearn: 81.6771734\ttotal: 696ms\tremaining: 1.39s\n",
      "334:\tlearn: 81.3519124\ttotal: 697ms\tremaining: 1.38s\n",
      "335:\tlearn: 81.0170326\ttotal: 699ms\tremaining: 1.38s\n",
      "336:\tlearn: 80.6917886\ttotal: 700ms\tremaining: 1.38s\n",
      "337:\tlearn: 80.3455177\ttotal: 701ms\tremaining: 1.37s\n",
      "338:\tlearn: 80.0260727\ttotal: 703ms\tremaining: 1.37s\n",
      "339:\tlearn: 79.9154748\ttotal: 704ms\tremaining: 1.37s\n",
      "340:\tlearn: 79.7813079\ttotal: 706ms\tremaining: 1.36s\n",
      "341:\tlearn: 79.3513293\ttotal: 707ms\tremaining: 1.36s\n",
      "342:\tlearn: 78.8666019\ttotal: 709ms\tremaining: 1.36s\n",
      "343:\tlearn: 78.7959013\ttotal: 710ms\tremaining: 1.35s\n",
      "344:\tlearn: 78.7081334\ttotal: 711ms\tremaining: 1.35s\n",
      "345:\tlearn: 78.3354931\ttotal: 713ms\tremaining: 1.35s\n",
      "346:\tlearn: 77.9475067\ttotal: 714ms\tremaining: 1.34s\n",
      "347:\tlearn: 77.8910420\ttotal: 715ms\tremaining: 1.34s\n",
      "348:\tlearn: 77.5461672\ttotal: 717ms\tremaining: 1.34s\n",
      "349:\tlearn: 77.3717101\ttotal: 718ms\tremaining: 1.33s\n",
      "350:\tlearn: 77.0729657\ttotal: 720ms\tremaining: 1.33s\n",
      "351:\tlearn: 76.7699287\ttotal: 721ms\tremaining: 1.33s\n",
      "352:\tlearn: 76.6029759\ttotal: 723ms\tremaining: 1.32s\n",
      "353:\tlearn: 76.1642615\ttotal: 724ms\tremaining: 1.32s\n",
      "354:\tlearn: 76.1202523\ttotal: 725ms\tremaining: 1.32s\n",
      "355:\tlearn: 75.9487132\ttotal: 727ms\tremaining: 1.31s\n",
      "356:\tlearn: 75.6748479\ttotal: 728ms\tremaining: 1.31s\n",
      "357:\tlearn: 75.4290864\ttotal: 730ms\tremaining: 1.31s\n",
      "358:\tlearn: 75.0463849\ttotal: 731ms\tremaining: 1.3s\n",
      "359:\tlearn: 74.9902381\ttotal: 733ms\tremaining: 1.3s\n",
      "360:\tlearn: 74.5243875\ttotal: 734ms\tremaining: 1.3s\n",
      "361:\tlearn: 74.1913065\ttotal: 735ms\tremaining: 1.29s\n",
      "362:\tlearn: 73.8413359\ttotal: 737ms\tremaining: 1.29s\n",
      "363:\tlearn: 73.7602119\ttotal: 738ms\tremaining: 1.29s\n",
      "364:\tlearn: 73.3278135\ttotal: 740ms\tremaining: 1.29s\n",
      "365:\tlearn: 72.9524336\ttotal: 741ms\tremaining: 1.28s\n",
      "366:\tlearn: 72.6791856\ttotal: 743ms\tremaining: 1.28s\n",
      "367:\tlearn: 72.4333577\ttotal: 744ms\tremaining: 1.28s\n",
      "368:\tlearn: 72.1672937\ttotal: 745ms\tremaining: 1.27s\n",
      "369:\tlearn: 71.9070276\ttotal: 747ms\tremaining: 1.27s\n",
      "370:\tlearn: 71.5496196\ttotal: 748ms\tremaining: 1.27s\n",
      "371:\tlearn: 71.3161902\ttotal: 750ms\tremaining: 1.26s\n",
      "372:\tlearn: 71.1259191\ttotal: 751ms\tremaining: 1.26s\n",
      "373:\tlearn: 70.9889962\ttotal: 753ms\tremaining: 1.26s\n",
      "374:\tlearn: 70.7417966\ttotal: 754ms\tremaining: 1.26s\n",
      "375:\tlearn: 70.4931174\ttotal: 755ms\tremaining: 1.25s\n",
      "376:\tlearn: 70.3300576\ttotal: 757ms\tremaining: 1.25s\n",
      "377:\tlearn: 69.9233248\ttotal: 758ms\tremaining: 1.25s\n",
      "378:\tlearn: 69.6261005\ttotal: 760ms\tremaining: 1.24s\n",
      "379:\tlearn: 69.3989708\ttotal: 761ms\tremaining: 1.24s\n",
      "380:\tlearn: 69.0085387\ttotal: 763ms\tremaining: 1.24s\n",
      "381:\tlearn: 68.7604153\ttotal: 765ms\tremaining: 1.24s\n",
      "382:\tlearn: 68.4602767\ttotal: 766ms\tremaining: 1.23s\n",
      "383:\tlearn: 68.1005452\ttotal: 768ms\tremaining: 1.23s\n",
      "384:\tlearn: 68.0540467\ttotal: 769ms\tremaining: 1.23s\n",
      "385:\tlearn: 67.8972753\ttotal: 771ms\tremaining: 1.23s\n",
      "386:\tlearn: 67.5389629\ttotal: 772ms\tremaining: 1.22s\n",
      "387:\tlearn: 67.2390178\ttotal: 774ms\tremaining: 1.22s\n",
      "388:\tlearn: 67.0279888\ttotal: 775ms\tremaining: 1.22s\n",
      "389:\tlearn: 66.8375919\ttotal: 776ms\tremaining: 1.21s\n",
      "390:\tlearn: 66.4118315\ttotal: 778ms\tremaining: 1.21s\n",
      "391:\tlearn: 66.3642690\ttotal: 779ms\tremaining: 1.21s\n",
      "392:\tlearn: 66.1673138\ttotal: 781ms\tremaining: 1.21s\n",
      "393:\tlearn: 66.0177482\ttotal: 782ms\tremaining: 1.2s\n",
      "394:\tlearn: 65.8018038\ttotal: 784ms\tremaining: 1.2s\n",
      "395:\tlearn: 65.6886505\ttotal: 785ms\tremaining: 1.2s\n",
      "396:\tlearn: 65.6120185\ttotal: 786ms\tremaining: 1.19s\n",
      "397:\tlearn: 65.5746662\ttotal: 788ms\tremaining: 1.19s\n",
      "398:\tlearn: 65.2974851\ttotal: 789ms\tremaining: 1.19s\n",
      "399:\tlearn: 65.2464764\ttotal: 791ms\tremaining: 1.19s\n",
      "400:\tlearn: 65.1241314\ttotal: 792ms\tremaining: 1.18s\n",
      "401:\tlearn: 65.0515740\ttotal: 793ms\tremaining: 1.18s\n",
      "402:\tlearn: 64.8089636\ttotal: 795ms\tremaining: 1.18s\n",
      "403:\tlearn: 64.5992230\ttotal: 796ms\tremaining: 1.17s\n",
      "404:\tlearn: 64.2907010\ttotal: 798ms\tremaining: 1.17s\n",
      "405:\tlearn: 64.1568642\ttotal: 799ms\tremaining: 1.17s\n",
      "406:\tlearn: 63.8279106\ttotal: 800ms\tremaining: 1.17s\n",
      "407:\tlearn: 63.5558565\ttotal: 802ms\tremaining: 1.16s\n",
      "408:\tlearn: 63.3865445\ttotal: 803ms\tremaining: 1.16s\n",
      "409:\tlearn: 63.2752408\ttotal: 805ms\tremaining: 1.16s\n",
      "410:\tlearn: 63.1070190\ttotal: 806ms\tremaining: 1.16s\n",
      "411:\tlearn: 62.7868376\ttotal: 808ms\tremaining: 1.15s\n",
      "412:\tlearn: 62.5345803\ttotal: 809ms\tremaining: 1.15s\n",
      "413:\tlearn: 62.2729058\ttotal: 810ms\tremaining: 1.15s\n",
      "414:\tlearn: 61.9850985\ttotal: 812ms\tremaining: 1.14s\n",
      "415:\tlearn: 61.7784164\ttotal: 813ms\tremaining: 1.14s\n",
      "416:\tlearn: 61.7431976\ttotal: 815ms\tremaining: 1.14s\n",
      "417:\tlearn: 61.4309964\ttotal: 816ms\tremaining: 1.14s\n",
      "418:\tlearn: 61.3513660\ttotal: 818ms\tremaining: 1.13s\n",
      "419:\tlearn: 61.1253739\ttotal: 819ms\tremaining: 1.13s\n",
      "420:\tlearn: 61.0742571\ttotal: 820ms\tremaining: 1.13s\n",
      "421:\tlearn: 61.0390980\ttotal: 822ms\tremaining: 1.13s\n",
      "422:\tlearn: 61.0095757\ttotal: 823ms\tremaining: 1.12s\n",
      "423:\tlearn: 60.6843255\ttotal: 825ms\tremaining: 1.12s\n",
      "424:\tlearn: 60.4045551\ttotal: 826ms\tremaining: 1.12s\n",
      "425:\tlearn: 60.3649587\ttotal: 827ms\tremaining: 1.11s\n",
      "426:\tlearn: 60.3315828\ttotal: 829ms\tremaining: 1.11s\n",
      "427:\tlearn: 60.1047027\ttotal: 830ms\tremaining: 1.11s\n",
      "428:\tlearn: 59.9170736\ttotal: 832ms\tremaining: 1.11s\n",
      "429:\tlearn: 59.6875648\ttotal: 833ms\tremaining: 1.1s\n",
      "430:\tlearn: 59.6662150\ttotal: 835ms\tremaining: 1.1s\n",
      "431:\tlearn: 59.4208112\ttotal: 836ms\tremaining: 1.1s\n",
      "432:\tlearn: 59.2358034\ttotal: 838ms\tremaining: 1.1s\n",
      "433:\tlearn: 58.9818868\ttotal: 839ms\tremaining: 1.09s\n",
      "434:\tlearn: 58.7089433\ttotal: 841ms\tremaining: 1.09s\n",
      "435:\tlearn: 58.5898817\ttotal: 842ms\tremaining: 1.09s\n",
      "436:\tlearn: 58.5425342\ttotal: 844ms\tremaining: 1.09s\n",
      "437:\tlearn: 58.2884605\ttotal: 846ms\tremaining: 1.08s\n",
      "438:\tlearn: 58.2643873\ttotal: 847ms\tremaining: 1.08s\n",
      "439:\tlearn: 58.2330868\ttotal: 848ms\tremaining: 1.08s\n",
      "440:\tlearn: 57.9676592\ttotal: 850ms\tremaining: 1.08s\n",
      "441:\tlearn: 57.7670212\ttotal: 851ms\tremaining: 1.07s\n",
      "442:\tlearn: 57.5322464\ttotal: 853ms\tremaining: 1.07s\n",
      "443:\tlearn: 57.2771620\ttotal: 854ms\tremaining: 1.07s\n",
      "444:\tlearn: 57.0227885\ttotal: 855ms\tremaining: 1.07s\n",
      "445:\tlearn: 56.7616770\ttotal: 857ms\tremaining: 1.06s\n",
      "446:\tlearn: 56.7367450\ttotal: 859ms\tremaining: 1.06s\n",
      "447:\tlearn: 56.6715001\ttotal: 861ms\tremaining: 1.06s\n",
      "448:\tlearn: 56.4881346\ttotal: 862ms\tremaining: 1.06s\n",
      "449:\tlearn: 56.3749776\ttotal: 864ms\tremaining: 1.06s\n",
      "450:\tlearn: 56.2172319\ttotal: 866ms\tremaining: 1.05s\n",
      "451:\tlearn: 55.9461925\ttotal: 868ms\tremaining: 1.05s\n",
      "452:\tlearn: 55.8884270\ttotal: 870ms\tremaining: 1.05s\n",
      "453:\tlearn: 55.7987432\ttotal: 871ms\tremaining: 1.05s\n",
      "454:\tlearn: 55.7376337\ttotal: 872ms\tremaining: 1.04s\n",
      "455:\tlearn: 55.5150595\ttotal: 874ms\tremaining: 1.04s\n",
      "456:\tlearn: 55.4819680\ttotal: 877ms\tremaining: 1.04s\n",
      "457:\tlearn: 55.1719919\ttotal: 879ms\tremaining: 1.04s\n",
      "458:\tlearn: 55.1295759\ttotal: 880ms\tremaining: 1.04s\n",
      "459:\tlearn: 55.0856302\ttotal: 882ms\tremaining: 1.03s\n",
      "460:\tlearn: 54.8056235\ttotal: 883ms\tremaining: 1.03s\n",
      "461:\tlearn: 54.4030407\ttotal: 885ms\tremaining: 1.03s\n",
      "462:\tlearn: 54.3308204\ttotal: 886ms\tremaining: 1.03s\n",
      "463:\tlearn: 54.0283724\ttotal: 887ms\tremaining: 1.02s\n",
      "464:\tlearn: 53.9962714\ttotal: 890ms\tremaining: 1.02s\n",
      "465:\tlearn: 53.8149476\ttotal: 892ms\tremaining: 1.02s\n",
      "466:\tlearn: 53.7806209\ttotal: 893ms\tremaining: 1.02s\n",
      "467:\tlearn: 53.7585727\ttotal: 895ms\tremaining: 1.02s\n",
      "468:\tlearn: 53.5042777\ttotal: 896ms\tremaining: 1.01s\n",
      "469:\tlearn: 53.3257034\ttotal: 898ms\tremaining: 1.01s\n",
      "470:\tlearn: 53.0801119\ttotal: 899ms\tremaining: 1.01s\n",
      "471:\tlearn: 53.0136550\ttotal: 901ms\tremaining: 1.01s\n",
      "472:\tlearn: 52.9408930\ttotal: 902ms\tremaining: 1s\n",
      "473:\tlearn: 52.7089062\ttotal: 904ms\tremaining: 1s\n",
      "474:\tlearn: 52.6819781\ttotal: 907ms\tremaining: 1s\n",
      "475:\tlearn: 52.5065568\ttotal: 909ms\tremaining: 1s\n",
      "476:\tlearn: 52.3688770\ttotal: 910ms\tremaining: 998ms\n",
      "477:\tlearn: 52.2402473\ttotal: 912ms\tremaining: 996ms\n",
      "478:\tlearn: 52.1406517\ttotal: 914ms\tremaining: 994ms\n",
      "479:\tlearn: 52.1107144\ttotal: 915ms\tremaining: 991ms\n",
      "480:\tlearn: 51.9239449\ttotal: 917ms\tremaining: 989ms\n",
      "481:\tlearn: 51.7096820\ttotal: 918ms\tremaining: 987ms\n",
      "482:\tlearn: 51.6266918\ttotal: 922ms\tremaining: 987ms\n",
      "483:\tlearn: 51.5969797\ttotal: 924ms\tremaining: 985ms\n",
      "484:\tlearn: 51.4480162\ttotal: 925ms\tremaining: 983ms\n",
      "485:\tlearn: 51.2269261\ttotal: 927ms\tremaining: 981ms\n",
      "486:\tlearn: 50.9904632\ttotal: 929ms\tremaining: 978ms\n",
      "487:\tlearn: 50.9342043\ttotal: 931ms\tremaining: 976ms\n",
      "488:\tlearn: 50.8423680\ttotal: 932ms\tremaining: 974ms\n",
      "489:\tlearn: 50.7269788\ttotal: 935ms\tremaining: 973ms\n",
      "490:\tlearn: 50.5384699\ttotal: 938ms\tremaining: 972ms\n",
      "491:\tlearn: 50.5047793\ttotal: 940ms\tremaining: 970ms\n",
      "492:\tlearn: 50.3234448\ttotal: 941ms\tremaining: 968ms\n",
      "493:\tlearn: 50.1653421\ttotal: 943ms\tremaining: 966ms\n",
      "494:\tlearn: 49.9835558\ttotal: 945ms\tremaining: 964ms\n",
      "495:\tlearn: 49.8884283\ttotal: 946ms\tremaining: 962ms\n",
      "496:\tlearn: 49.6217364\ttotal: 949ms\tremaining: 960ms\n",
      "497:\tlearn: 49.5268562\ttotal: 952ms\tremaining: 960ms\n",
      "498:\tlearn: 49.3078402\ttotal: 954ms\tremaining: 958ms\n",
      "499:\tlearn: 49.2571676\ttotal: 956ms\tremaining: 956ms\n",
      "500:\tlearn: 49.2173141\ttotal: 958ms\tremaining: 954ms\n",
      "501:\tlearn: 48.9813103\ttotal: 960ms\tremaining: 952ms\n",
      "502:\tlearn: 48.8304542\ttotal: 962ms\tremaining: 950ms\n",
      "503:\tlearn: 48.7430936\ttotal: 964ms\tremaining: 948ms\n",
      "504:\tlearn: 48.5493989\ttotal: 967ms\tremaining: 948ms\n",
      "505:\tlearn: 48.5134839\ttotal: 970ms\tremaining: 947ms\n",
      "506:\tlearn: 48.3516141\ttotal: 972ms\tremaining: 945ms\n",
      "507:\tlearn: 48.0631542\ttotal: 974ms\tremaining: 943ms\n",
      "508:\tlearn: 47.8591880\ttotal: 975ms\tremaining: 941ms\n",
      "509:\tlearn: 47.7182444\ttotal: 978ms\tremaining: 939ms\n",
      "510:\tlearn: 47.6301870\ttotal: 979ms\tremaining: 937ms\n",
      "511:\tlearn: 47.4767324\ttotal: 982ms\tremaining: 936ms\n",
      "512:\tlearn: 47.2822625\ttotal: 984ms\tremaining: 934ms\n",
      "513:\tlearn: 47.1022658\ttotal: 986ms\tremaining: 932ms\n",
      "514:\tlearn: 47.0536181\ttotal: 987ms\tremaining: 930ms\n",
      "515:\tlearn: 47.0249559\ttotal: 989ms\tremaining: 927ms\n",
      "516:\tlearn: 46.8789720\ttotal: 991ms\tremaining: 926ms\n",
      "517:\tlearn: 46.7133769\ttotal: 992ms\tremaining: 923ms\n",
      "518:\tlearn: 46.5157986\ttotal: 994ms\tremaining: 921ms\n",
      "519:\tlearn: 46.3630405\ttotal: 996ms\tremaining: 919ms\n",
      "520:\tlearn: 46.1730188\ttotal: 998ms\tremaining: 918ms\n",
      "521:\tlearn: 46.1360908\ttotal: 1s\tremaining: 916ms\n",
      "522:\tlearn: 45.9652487\ttotal: 1s\tremaining: 914ms\n",
      "523:\tlearn: 45.8122703\ttotal: 1s\tremaining: 911ms\n",
      "524:\tlearn: 45.4984451\ttotal: 1s\tremaining: 909ms\n",
      "525:\tlearn: 45.3161076\ttotal: 1.01s\tremaining: 907ms\n",
      "526:\tlearn: 45.2802854\ttotal: 1.01s\tremaining: 905ms\n",
      "527:\tlearn: 45.2448275\ttotal: 1.01s\tremaining: 903ms\n",
      "528:\tlearn: 45.0816321\ttotal: 1.01s\tremaining: 901ms\n",
      "529:\tlearn: 44.9794319\ttotal: 1.01s\tremaining: 899ms\n",
      "530:\tlearn: 44.6832140\ttotal: 1.01s\tremaining: 897ms\n",
      "531:\tlearn: 44.4460046\ttotal: 1.02s\tremaining: 895ms\n",
      "532:\tlearn: 44.2118287\ttotal: 1.02s\tremaining: 893ms\n",
      "533:\tlearn: 44.0693524\ttotal: 1.02s\tremaining: 891ms\n",
      "534:\tlearn: 43.7781614\ttotal: 1.02s\tremaining: 889ms\n",
      "535:\tlearn: 43.5541731\ttotal: 1.02s\tremaining: 887ms\n",
      "536:\tlearn: 43.5134866\ttotal: 1.02s\tremaining: 884ms\n",
      "537:\tlearn: 43.3609810\ttotal: 1.03s\tremaining: 883ms\n",
      "538:\tlearn: 43.1828364\ttotal: 1.03s\tremaining: 881ms\n",
      "539:\tlearn: 43.1681810\ttotal: 1.03s\tremaining: 878ms\n",
      "540:\tlearn: 43.0597548\ttotal: 1.03s\tremaining: 876ms\n",
      "541:\tlearn: 43.0399237\ttotal: 1.03s\tremaining: 874ms\n",
      "542:\tlearn: 42.7955247\ttotal: 1.03s\tremaining: 872ms\n",
      "543:\tlearn: 42.5339065\ttotal: 1.04s\tremaining: 869ms\n",
      "544:\tlearn: 42.4295635\ttotal: 1.04s\tremaining: 867ms\n",
      "545:\tlearn: 42.2338376\ttotal: 1.04s\tremaining: 865ms\n",
      "546:\tlearn: 42.0124060\ttotal: 1.04s\tremaining: 864ms\n",
      "547:\tlearn: 41.8255183\ttotal: 1.04s\tremaining: 862ms\n",
      "548:\tlearn: 41.6388681\ttotal: 1.05s\tremaining: 859ms\n",
      "549:\tlearn: 41.4001270\ttotal: 1.05s\tremaining: 857ms\n",
      "550:\tlearn: 41.1013528\ttotal: 1.05s\tremaining: 855ms\n",
      "551:\tlearn: 41.0100295\ttotal: 1.05s\tremaining: 853ms\n",
      "552:\tlearn: 40.9906076\ttotal: 1.05s\tremaining: 851ms\n",
      "553:\tlearn: 40.8809109\ttotal: 1.05s\tremaining: 849ms\n",
      "554:\tlearn: 40.7831302\ttotal: 1.05s\tremaining: 846ms\n",
      "555:\tlearn: 40.7317763\ttotal: 1.06s\tremaining: 845ms\n",
      "556:\tlearn: 40.6321710\ttotal: 1.06s\tremaining: 843ms\n",
      "557:\tlearn: 40.4475073\ttotal: 1.06s\tremaining: 841ms\n",
      "558:\tlearn: 40.2859957\ttotal: 1.06s\tremaining: 839ms\n",
      "559:\tlearn: 40.0262057\ttotal: 1.06s\tremaining: 837ms\n",
      "560:\tlearn: 39.9326350\ttotal: 1.07s\tremaining: 835ms\n",
      "561:\tlearn: 39.8735956\ttotal: 1.07s\tremaining: 832ms\n",
      "562:\tlearn: 39.7083019\ttotal: 1.07s\tremaining: 830ms\n",
      "563:\tlearn: 39.5379855\ttotal: 1.07s\tremaining: 828ms\n",
      "564:\tlearn: 39.3451301\ttotal: 1.07s\tremaining: 827ms\n",
      "565:\tlearn: 39.2041273\ttotal: 1.07s\tremaining: 825ms\n",
      "566:\tlearn: 38.9870162\ttotal: 1.08s\tremaining: 823ms\n",
      "567:\tlearn: 38.8638040\ttotal: 1.08s\tremaining: 821ms\n",
      "568:\tlearn: 38.7752116\ttotal: 1.08s\tremaining: 819ms\n",
      "569:\tlearn: 38.6530297\ttotal: 1.08s\tremaining: 817ms\n",
      "570:\tlearn: 38.5505372\ttotal: 1.08s\tremaining: 815ms\n",
      "571:\tlearn: 38.5134486\ttotal: 1.08s\tremaining: 813ms\n",
      "572:\tlearn: 38.3680902\ttotal: 1.09s\tremaining: 811ms\n",
      "573:\tlearn: 38.1897295\ttotal: 1.09s\tremaining: 810ms\n",
      "574:\tlearn: 38.1083536\ttotal: 1.09s\tremaining: 808ms\n",
      "575:\tlearn: 37.9229216\ttotal: 1.09s\tremaining: 806ms\n",
      "576:\tlearn: 37.8377087\ttotal: 1.1s\tremaining: 804ms\n",
      "577:\tlearn: 37.7966900\ttotal: 1.1s\tremaining: 802ms\n",
      "578:\tlearn: 37.6700761\ttotal: 1.1s\tremaining: 799ms\n",
      "579:\tlearn: 37.6355177\ttotal: 1.1s\tremaining: 797ms\n",
      "580:\tlearn: 37.4648199\ttotal: 1.1s\tremaining: 795ms\n",
      "581:\tlearn: 37.2959505\ttotal: 1.1s\tremaining: 793ms\n",
      "582:\tlearn: 37.1423961\ttotal: 1.11s\tremaining: 791ms\n",
      "583:\tlearn: 36.9297315\ttotal: 1.11s\tremaining: 789ms\n",
      "584:\tlearn: 36.8850382\ttotal: 1.11s\tremaining: 787ms\n",
      "585:\tlearn: 36.7546519\ttotal: 1.11s\tremaining: 785ms\n",
      "586:\tlearn: 36.7377554\ttotal: 1.11s\tremaining: 783ms\n",
      "587:\tlearn: 36.6899102\ttotal: 1.11s\tremaining: 781ms\n",
      "588:\tlearn: 36.5617094\ttotal: 1.12s\tremaining: 779ms\n",
      "589:\tlearn: 36.4272921\ttotal: 1.12s\tremaining: 778ms\n",
      "590:\tlearn: 36.2657889\ttotal: 1.12s\tremaining: 776ms\n",
      "591:\tlearn: 36.2539345\ttotal: 1.12s\tremaining: 773ms\n",
      "592:\tlearn: 36.2314399\ttotal: 1.12s\tremaining: 771ms\n",
      "593:\tlearn: 36.0683824\ttotal: 1.13s\tremaining: 769ms\n",
      "594:\tlearn: 35.9283095\ttotal: 1.13s\tremaining: 767ms\n",
      "595:\tlearn: 35.7968288\ttotal: 1.13s\tremaining: 765ms\n",
      "596:\tlearn: 35.7223423\ttotal: 1.13s\tremaining: 763ms\n",
      "597:\tlearn: 35.5848854\ttotal: 1.13s\tremaining: 761ms\n",
      "598:\tlearn: 35.4754344\ttotal: 1.14s\tremaining: 760ms\n",
      "599:\tlearn: 35.3533890\ttotal: 1.14s\tremaining: 758ms\n",
      "600:\tlearn: 35.2201505\ttotal: 1.14s\tremaining: 757ms\n",
      "601:\tlearn: 35.0873272\ttotal: 1.14s\tremaining: 755ms\n",
      "602:\tlearn: 35.0461873\ttotal: 1.14s\tremaining: 753ms\n",
      "603:\tlearn: 34.9273071\ttotal: 1.14s\tremaining: 751ms\n",
      "604:\tlearn: 34.8162855\ttotal: 1.15s\tremaining: 749ms\n",
      "605:\tlearn: 34.7130059\ttotal: 1.15s\tremaining: 747ms\n",
      "606:\tlearn: 34.5585617\ttotal: 1.15s\tremaining: 745ms\n",
      "607:\tlearn: 34.4611907\ttotal: 1.15s\tremaining: 743ms\n",
      "608:\tlearn: 34.4326546\ttotal: 1.15s\tremaining: 741ms\n",
      "609:\tlearn: 34.2846979\ttotal: 1.16s\tremaining: 739ms\n",
      "610:\tlearn: 34.1734501\ttotal: 1.16s\tremaining: 737ms\n",
      "611:\tlearn: 34.0230965\ttotal: 1.16s\tremaining: 735ms\n",
      "612:\tlearn: 33.8282501\ttotal: 1.16s\tremaining: 733ms\n",
      "613:\tlearn: 33.7746747\ttotal: 1.16s\tremaining: 731ms\n",
      "614:\tlearn: 33.7068386\ttotal: 1.17s\tremaining: 730ms\n",
      "615:\tlearn: 33.5780800\ttotal: 1.17s\tremaining: 727ms\n",
      "616:\tlearn: 33.4695325\ttotal: 1.17s\tremaining: 725ms\n",
      "617:\tlearn: 33.3463443\ttotal: 1.17s\tremaining: 723ms\n",
      "618:\tlearn: 33.2877395\ttotal: 1.17s\tremaining: 721ms\n",
      "619:\tlearn: 33.2418826\ttotal: 1.17s\tremaining: 719ms\n",
      "620:\tlearn: 33.1045465\ttotal: 1.17s\tremaining: 716ms\n",
      "621:\tlearn: 32.9400639\ttotal: 1.18s\tremaining: 714ms\n",
      "622:\tlearn: 32.8996970\ttotal: 1.18s\tremaining: 712ms\n",
      "623:\tlearn: 32.7429487\ttotal: 1.18s\tremaining: 711ms\n",
      "624:\tlearn: 32.6132355\ttotal: 1.18s\tremaining: 709ms\n",
      "625:\tlearn: 32.4714976\ttotal: 1.18s\tremaining: 706ms\n",
      "626:\tlearn: 32.4320448\ttotal: 1.18s\tremaining: 704ms\n",
      "627:\tlearn: 32.2628258\ttotal: 1.19s\tremaining: 702ms\n",
      "628:\tlearn: 32.2038569\ttotal: 1.19s\tremaining: 700ms\n",
      "629:\tlearn: 32.0940738\ttotal: 1.19s\tremaining: 698ms\n",
      "630:\tlearn: 32.0068495\ttotal: 1.19s\tremaining: 696ms\n",
      "631:\tlearn: 31.9053748\ttotal: 1.19s\tremaining: 694ms\n",
      "632:\tlearn: 31.7715772\ttotal: 1.19s\tremaining: 692ms\n",
      "633:\tlearn: 31.6687835\ttotal: 1.2s\tremaining: 690ms\n",
      "634:\tlearn: 31.6368050\ttotal: 1.2s\tremaining: 688ms\n",
      "635:\tlearn: 31.5709628\ttotal: 1.2s\tremaining: 686ms\n",
      "636:\tlearn: 31.4052213\ttotal: 1.2s\tremaining: 684ms\n",
      "637:\tlearn: 31.2452229\ttotal: 1.2s\tremaining: 682ms\n",
      "638:\tlearn: 31.1221828\ttotal: 1.2s\tremaining: 680ms\n",
      "639:\tlearn: 31.0853500\ttotal: 1.2s\tremaining: 677ms\n",
      "640:\tlearn: 30.9167355\ttotal: 1.21s\tremaining: 675ms\n",
      "641:\tlearn: 30.8667253\ttotal: 1.21s\tremaining: 673ms\n",
      "642:\tlearn: 30.7427129\ttotal: 1.21s\tremaining: 672ms\n",
      "643:\tlearn: 30.5748228\ttotal: 1.21s\tremaining: 670ms\n",
      "644:\tlearn: 30.5080592\ttotal: 1.21s\tremaining: 667ms\n",
      "645:\tlearn: 30.3444228\ttotal: 1.21s\tremaining: 665ms\n",
      "646:\tlearn: 30.1858385\ttotal: 1.22s\tremaining: 663ms\n",
      "647:\tlearn: 30.1481951\ttotal: 1.22s\tremaining: 661ms\n",
      "648:\tlearn: 30.1139150\ttotal: 1.22s\tremaining: 659ms\n",
      "649:\tlearn: 30.0147177\ttotal: 1.22s\tremaining: 657ms\n",
      "650:\tlearn: 29.8610501\ttotal: 1.22s\tremaining: 655ms\n",
      "651:\tlearn: 29.7793561\ttotal: 1.22s\tremaining: 653ms\n",
      "652:\tlearn: 29.6870188\ttotal: 1.23s\tremaining: 651ms\n",
      "653:\tlearn: 29.6229921\ttotal: 1.23s\tremaining: 649ms\n",
      "654:\tlearn: 29.5806823\ttotal: 1.23s\tremaining: 647ms\n",
      "655:\tlearn: 29.4903496\ttotal: 1.23s\tremaining: 645ms\n",
      "656:\tlearn: 29.4011642\ttotal: 1.23s\tremaining: 643ms\n",
      "657:\tlearn: 29.3880977\ttotal: 1.23s\tremaining: 641ms\n",
      "658:\tlearn: 29.2615919\ttotal: 1.23s\tremaining: 639ms\n",
      "659:\tlearn: 29.1004727\ttotal: 1.24s\tremaining: 636ms\n",
      "660:\tlearn: 29.0530692\ttotal: 1.24s\tremaining: 634ms\n",
      "661:\tlearn: 28.9863628\ttotal: 1.24s\tremaining: 633ms\n",
      "662:\tlearn: 28.8714304\ttotal: 1.24s\tremaining: 631ms\n",
      "663:\tlearn: 28.7331979\ttotal: 1.24s\tremaining: 629ms\n",
      "664:\tlearn: 28.6366801\ttotal: 1.24s\tremaining: 627ms\n",
      "665:\tlearn: 28.5716341\ttotal: 1.25s\tremaining: 625ms\n",
      "666:\tlearn: 28.4974876\ttotal: 1.25s\tremaining: 622ms\n",
      "667:\tlearn: 28.4112710\ttotal: 1.25s\tremaining: 620ms\n",
      "668:\tlearn: 28.2984651\ttotal: 1.25s\tremaining: 618ms\n",
      "669:\tlearn: 28.1339510\ttotal: 1.25s\tremaining: 616ms\n",
      "670:\tlearn: 28.1075789\ttotal: 1.25s\tremaining: 614ms\n",
      "671:\tlearn: 28.0922293\ttotal: 1.25s\tremaining: 612ms\n",
      "672:\tlearn: 27.9723760\ttotal: 1.26s\tremaining: 610ms\n",
      "673:\tlearn: 27.9055283\ttotal: 1.26s\tremaining: 608ms\n",
      "674:\tlearn: 27.8205243\ttotal: 1.26s\tremaining: 606ms\n",
      "675:\tlearn: 27.8084834\ttotal: 1.26s\tremaining: 604ms\n",
      "676:\tlearn: 27.7891840\ttotal: 1.26s\tremaining: 602ms\n",
      "677:\tlearn: 27.6730952\ttotal: 1.26s\tremaining: 600ms\n",
      "678:\tlearn: 27.6094279\ttotal: 1.26s\tremaining: 598ms\n",
      "679:\tlearn: 27.5709406\ttotal: 1.27s\tremaining: 596ms\n",
      "680:\tlearn: 27.5062932\ttotal: 1.27s\tremaining: 594ms\n",
      "681:\tlearn: 27.4149358\ttotal: 1.27s\tremaining: 593ms\n",
      "682:\tlearn: 27.3480578\ttotal: 1.27s\tremaining: 591ms\n",
      "683:\tlearn: 27.2546632\ttotal: 1.27s\tremaining: 588ms\n",
      "684:\tlearn: 27.1581242\ttotal: 1.27s\tremaining: 586ms\n",
      "685:\tlearn: 27.1291330\ttotal: 1.28s\tremaining: 584ms\n",
      "686:\tlearn: 27.0589760\ttotal: 1.28s\tremaining: 582ms\n",
      "687:\tlearn: 26.9207571\ttotal: 1.28s\tremaining: 580ms\n",
      "688:\tlearn: 26.8046340\ttotal: 1.28s\tremaining: 578ms\n",
      "689:\tlearn: 26.7346039\ttotal: 1.28s\tremaining: 576ms\n",
      "690:\tlearn: 26.6359238\ttotal: 1.28s\tremaining: 575ms\n",
      "691:\tlearn: 26.5458163\ttotal: 1.29s\tremaining: 573ms\n",
      "692:\tlearn: 26.5287024\ttotal: 1.29s\tremaining: 571ms\n",
      "693:\tlearn: 26.4436127\ttotal: 1.29s\tremaining: 569ms\n",
      "694:\tlearn: 26.3860996\ttotal: 1.29s\tremaining: 567ms\n",
      "695:\tlearn: 26.3271824\ttotal: 1.29s\tremaining: 565ms\n",
      "696:\tlearn: 26.1929180\ttotal: 1.29s\tremaining: 563ms\n",
      "697:\tlearn: 26.0989501\ttotal: 1.29s\tremaining: 561ms\n",
      "698:\tlearn: 26.0348052\ttotal: 1.3s\tremaining: 558ms\n",
      "699:\tlearn: 25.9715846\ttotal: 1.3s\tremaining: 557ms\n",
      "700:\tlearn: 25.8624783\ttotal: 1.3s\tremaining: 555ms\n",
      "701:\tlearn: 25.8020332\ttotal: 1.3s\tremaining: 553ms\n",
      "702:\tlearn: 25.7940141\ttotal: 1.3s\tremaining: 551ms\n",
      "703:\tlearn: 25.6937173\ttotal: 1.3s\tremaining: 549ms\n",
      "704:\tlearn: 25.6133995\ttotal: 1.31s\tremaining: 547ms\n",
      "705:\tlearn: 25.5272559\ttotal: 1.31s\tremaining: 545ms\n",
      "706:\tlearn: 25.5087600\ttotal: 1.31s\tremaining: 543ms\n",
      "707:\tlearn: 25.3506858\ttotal: 1.31s\tremaining: 541ms\n",
      "708:\tlearn: 25.3314352\ttotal: 1.31s\tremaining: 539ms\n",
      "709:\tlearn: 25.3263712\ttotal: 1.31s\tremaining: 537ms\n",
      "710:\tlearn: 25.2377772\ttotal: 1.32s\tremaining: 535ms\n",
      "711:\tlearn: 25.1296003\ttotal: 1.32s\tremaining: 533ms\n",
      "712:\tlearn: 25.1138661\ttotal: 1.32s\tremaining: 531ms\n",
      "713:\tlearn: 25.0606164\ttotal: 1.32s\tremaining: 529ms\n",
      "714:\tlearn: 24.9701122\ttotal: 1.32s\tremaining: 527ms\n",
      "715:\tlearn: 24.9266980\ttotal: 1.32s\tremaining: 525ms\n",
      "716:\tlearn: 24.8355245\ttotal: 1.32s\tremaining: 523ms\n",
      "717:\tlearn: 24.7892595\ttotal: 1.33s\tremaining: 521ms\n",
      "718:\tlearn: 24.7784156\ttotal: 1.33s\tremaining: 519ms\n",
      "719:\tlearn: 24.7204068\ttotal: 1.33s\tremaining: 517ms\n",
      "720:\tlearn: 24.6868946\ttotal: 1.33s\tremaining: 516ms\n",
      "721:\tlearn: 24.5835248\ttotal: 1.33s\tremaining: 514ms\n",
      "722:\tlearn: 24.4605667\ttotal: 1.34s\tremaining: 512ms\n",
      "723:\tlearn: 24.3780491\ttotal: 1.34s\tremaining: 510ms\n",
      "724:\tlearn: 24.3695387\ttotal: 1.34s\tremaining: 508ms\n",
      "725:\tlearn: 24.2713928\ttotal: 1.34s\tremaining: 506ms\n",
      "726:\tlearn: 24.2564573\ttotal: 1.34s\tremaining: 504ms\n",
      "727:\tlearn: 24.1259045\ttotal: 1.34s\tremaining: 502ms\n",
      "728:\tlearn: 24.0410925\ttotal: 1.35s\tremaining: 501ms\n",
      "729:\tlearn: 23.9454740\ttotal: 1.35s\tremaining: 499ms\n",
      "730:\tlearn: 23.9293944\ttotal: 1.35s\tremaining: 497ms\n",
      "731:\tlearn: 23.8408373\ttotal: 1.35s\tremaining: 495ms\n",
      "732:\tlearn: 23.7301307\ttotal: 1.35s\tremaining: 493ms\n",
      "733:\tlearn: 23.6751178\ttotal: 1.35s\tremaining: 491ms\n",
      "734:\tlearn: 23.5518474\ttotal: 1.35s\tremaining: 489ms\n",
      "735:\tlearn: 23.5054838\ttotal: 1.36s\tremaining: 487ms\n",
      "736:\tlearn: 23.4781040\ttotal: 1.36s\tremaining: 485ms\n",
      "737:\tlearn: 23.3774725\ttotal: 1.36s\tremaining: 483ms\n",
      "738:\tlearn: 23.3081022\ttotal: 1.36s\tremaining: 482ms\n",
      "739:\tlearn: 23.2915892\ttotal: 1.36s\tremaining: 480ms\n",
      "740:\tlearn: 23.2095735\ttotal: 1.37s\tremaining: 478ms\n",
      "741:\tlearn: 23.1588315\ttotal: 1.37s\tremaining: 476ms\n",
      "742:\tlearn: 23.1197993\ttotal: 1.37s\tremaining: 474ms\n",
      "743:\tlearn: 23.0327780\ttotal: 1.37s\tremaining: 472ms\n",
      "744:\tlearn: 22.9759480\ttotal: 1.37s\tremaining: 470ms\n",
      "745:\tlearn: 22.8751423\ttotal: 1.37s\tremaining: 468ms\n",
      "746:\tlearn: 22.7768127\ttotal: 1.38s\tremaining: 466ms\n",
      "747:\tlearn: 22.6474970\ttotal: 1.38s\tremaining: 464ms\n",
      "748:\tlearn: 22.5780525\ttotal: 1.38s\tremaining: 462ms\n",
      "749:\tlearn: 22.5338308\ttotal: 1.38s\tremaining: 460ms\n",
      "750:\tlearn: 22.4330276\ttotal: 1.38s\tremaining: 458ms\n",
      "751:\tlearn: 22.4193891\ttotal: 1.38s\tremaining: 456ms\n",
      "752:\tlearn: 22.4093040\ttotal: 1.39s\tremaining: 454ms\n",
      "753:\tlearn: 22.3758979\ttotal: 1.39s\tremaining: 452ms\n",
      "754:\tlearn: 22.3560173\ttotal: 1.39s\tremaining: 450ms\n",
      "755:\tlearn: 22.3264261\ttotal: 1.39s\tremaining: 449ms\n",
      "756:\tlearn: 22.2796605\ttotal: 1.39s\tremaining: 447ms\n",
      "757:\tlearn: 22.2253439\ttotal: 1.39s\tremaining: 445ms\n",
      "758:\tlearn: 22.1636409\ttotal: 1.4s\tremaining: 443ms\n",
      "759:\tlearn: 22.1078491\ttotal: 1.4s\tremaining: 441ms\n",
      "760:\tlearn: 22.0275756\ttotal: 1.4s\tremaining: 439ms\n",
      "761:\tlearn: 22.0174143\ttotal: 1.4s\tremaining: 437ms\n",
      "762:\tlearn: 21.9887391\ttotal: 1.4s\tremaining: 435ms\n",
      "763:\tlearn: 21.9746733\ttotal: 1.4s\tremaining: 433ms\n",
      "764:\tlearn: 21.9529216\ttotal: 1.4s\tremaining: 431ms\n",
      "765:\tlearn: 21.8767644\ttotal: 1.41s\tremaining: 430ms\n",
      "766:\tlearn: 21.8668039\ttotal: 1.41s\tremaining: 428ms\n",
      "767:\tlearn: 21.8008688\ttotal: 1.41s\tremaining: 426ms\n",
      "768:\tlearn: 21.7612208\ttotal: 1.41s\tremaining: 424ms\n",
      "769:\tlearn: 21.6977978\ttotal: 1.41s\tremaining: 422ms\n",
      "770:\tlearn: 21.6870461\ttotal: 1.41s\tremaining: 420ms\n",
      "771:\tlearn: 21.6599780\ttotal: 1.42s\tremaining: 418ms\n",
      "772:\tlearn: 21.5522064\ttotal: 1.42s\tremaining: 416ms\n",
      "773:\tlearn: 21.5426327\ttotal: 1.42s\tremaining: 414ms\n",
      "774:\tlearn: 21.4391089\ttotal: 1.42s\tremaining: 413ms\n",
      "775:\tlearn: 21.4042993\ttotal: 1.42s\tremaining: 411ms\n",
      "776:\tlearn: 21.3284836\ttotal: 1.43s\tremaining: 409ms\n",
      "777:\tlearn: 21.3163774\ttotal: 1.43s\tremaining: 407ms\n",
      "778:\tlearn: 21.2708416\ttotal: 1.43s\tremaining: 405ms\n",
      "779:\tlearn: 21.2056943\ttotal: 1.43s\tremaining: 403ms\n",
      "780:\tlearn: 21.1434774\ttotal: 1.44s\tremaining: 403ms\n",
      "781:\tlearn: 21.0672473\ttotal: 1.44s\tremaining: 401ms\n",
      "782:\tlearn: 20.9629645\ttotal: 1.44s\tremaining: 400ms\n",
      "783:\tlearn: 20.9522537\ttotal: 1.44s\tremaining: 398ms\n",
      "784:\tlearn: 20.9252425\ttotal: 1.45s\tremaining: 396ms\n",
      "785:\tlearn: 20.8576799\ttotal: 1.45s\tremaining: 394ms\n",
      "786:\tlearn: 20.7922970\ttotal: 1.45s\tremaining: 392ms\n",
      "787:\tlearn: 20.7802134\ttotal: 1.45s\tremaining: 390ms\n",
      "788:\tlearn: 20.7125213\ttotal: 1.45s\tremaining: 389ms\n",
      "789:\tlearn: 20.7000005\ttotal: 1.45s\tremaining: 387ms\n",
      "790:\tlearn: 20.6366378\ttotal: 1.46s\tremaining: 385ms\n",
      "791:\tlearn: 20.6170923\ttotal: 1.46s\tremaining: 383ms\n",
      "792:\tlearn: 20.5485950\ttotal: 1.46s\tremaining: 381ms\n",
      "793:\tlearn: 20.5212323\ttotal: 1.46s\tremaining: 379ms\n",
      "794:\tlearn: 20.5004347\ttotal: 1.46s\tremaining: 377ms\n",
      "795:\tlearn: 20.4884649\ttotal: 1.46s\tremaining: 375ms\n",
      "796:\tlearn: 20.3727007\ttotal: 1.47s\tremaining: 374ms\n",
      "797:\tlearn: 20.2776166\ttotal: 1.47s\tremaining: 372ms\n",
      "798:\tlearn: 20.2690965\ttotal: 1.47s\tremaining: 370ms\n",
      "799:\tlearn: 20.2166634\ttotal: 1.47s\tremaining: 368ms\n",
      "800:\tlearn: 20.1160179\ttotal: 1.47s\tremaining: 366ms\n",
      "801:\tlearn: 20.0642268\ttotal: 1.48s\tremaining: 364ms\n",
      "802:\tlearn: 20.0323601\ttotal: 1.48s\tremaining: 363ms\n",
      "803:\tlearn: 19.9485334\ttotal: 1.48s\tremaining: 361ms\n",
      "804:\tlearn: 19.9071725\ttotal: 1.48s\tremaining: 359ms\n",
      "805:\tlearn: 19.8943564\ttotal: 1.48s\tremaining: 357ms\n",
      "806:\tlearn: 19.7804687\ttotal: 1.49s\tremaining: 355ms\n",
      "807:\tlearn: 19.7343406\ttotal: 1.49s\tremaining: 353ms\n",
      "808:\tlearn: 19.6963930\ttotal: 1.49s\tremaining: 352ms\n",
      "809:\tlearn: 19.6705675\ttotal: 1.49s\tremaining: 350ms\n",
      "810:\tlearn: 19.6382933\ttotal: 1.49s\tremaining: 348ms\n",
      "811:\tlearn: 19.5889191\ttotal: 1.49s\tremaining: 346ms\n",
      "812:\tlearn: 19.5638487\ttotal: 1.5s\tremaining: 344ms\n",
      "813:\tlearn: 19.4926424\ttotal: 1.5s\tremaining: 342ms\n",
      "814:\tlearn: 19.3961396\ttotal: 1.5s\tremaining: 340ms\n",
      "815:\tlearn: 19.3880242\ttotal: 1.5s\tremaining: 338ms\n",
      "816:\tlearn: 19.2808372\ttotal: 1.5s\tremaining: 337ms\n",
      "817:\tlearn: 19.1712815\ttotal: 1.5s\tremaining: 335ms\n",
      "818:\tlearn: 19.0909823\ttotal: 1.5s\tremaining: 333ms\n",
      "819:\tlearn: 18.9993504\ttotal: 1.51s\tremaining: 331ms\n",
      "820:\tlearn: 18.9773399\ttotal: 1.51s\tremaining: 329ms\n",
      "821:\tlearn: 18.8989735\ttotal: 1.51s\tremaining: 327ms\n",
      "822:\tlearn: 18.8275176\ttotal: 1.51s\tremaining: 325ms\n",
      "823:\tlearn: 18.8092278\ttotal: 1.51s\tremaining: 323ms\n",
      "824:\tlearn: 18.7938447\ttotal: 1.51s\tremaining: 322ms\n",
      "825:\tlearn: 18.7871267\ttotal: 1.52s\tremaining: 320ms\n",
      "826:\tlearn: 18.7299674\ttotal: 1.52s\tremaining: 318ms\n",
      "827:\tlearn: 18.6808264\ttotal: 1.52s\tremaining: 316ms\n",
      "828:\tlearn: 18.5984875\ttotal: 1.52s\tremaining: 314ms\n",
      "829:\tlearn: 18.5170088\ttotal: 1.52s\tremaining: 312ms\n",
      "830:\tlearn: 18.4707382\ttotal: 1.53s\tremaining: 310ms\n",
      "831:\tlearn: 18.4368619\ttotal: 1.53s\tremaining: 309ms\n",
      "832:\tlearn: 18.3683191\ttotal: 1.53s\tremaining: 307ms\n",
      "833:\tlearn: 18.3295058\ttotal: 1.53s\tremaining: 305ms\n",
      "834:\tlearn: 18.2587263\ttotal: 1.53s\tremaining: 303ms\n",
      "835:\tlearn: 18.2103679\ttotal: 1.53s\tremaining: 301ms\n",
      "836:\tlearn: 18.1781032\ttotal: 1.54s\tremaining: 299ms\n",
      "837:\tlearn: 18.0746921\ttotal: 1.54s\tremaining: 297ms\n",
      "838:\tlearn: 18.0131984\ttotal: 1.54s\tremaining: 295ms\n",
      "839:\tlearn: 17.9510877\ttotal: 1.54s\tremaining: 294ms\n",
      "840:\tlearn: 17.8893536\ttotal: 1.54s\tremaining: 292ms\n",
      "841:\tlearn: 17.8813583\ttotal: 1.55s\tremaining: 290ms\n",
      "842:\tlearn: 17.8129857\ttotal: 1.55s\tremaining: 288ms\n",
      "843:\tlearn: 17.7981202\ttotal: 1.55s\tremaining: 286ms\n",
      "844:\tlearn: 17.7414627\ttotal: 1.55s\tremaining: 285ms\n",
      "845:\tlearn: 17.7255534\ttotal: 1.55s\tremaining: 283ms\n",
      "846:\tlearn: 17.6965545\ttotal: 1.55s\tremaining: 281ms\n",
      "847:\tlearn: 17.6499397\ttotal: 1.56s\tremaining: 279ms\n",
      "848:\tlearn: 17.6133852\ttotal: 1.56s\tremaining: 277ms\n",
      "849:\tlearn: 17.5621620\ttotal: 1.56s\tremaining: 275ms\n",
      "850:\tlearn: 17.5064049\ttotal: 1.56s\tremaining: 274ms\n",
      "851:\tlearn: 17.4643467\ttotal: 1.56s\tremaining: 272ms\n",
      "852:\tlearn: 17.4569544\ttotal: 1.57s\tremaining: 270ms\n",
      "853:\tlearn: 17.3731897\ttotal: 1.57s\tremaining: 268ms\n",
      "854:\tlearn: 17.3313609\ttotal: 1.57s\tremaining: 266ms\n",
      "855:\tlearn: 17.2781582\ttotal: 1.57s\tremaining: 265ms\n",
      "856:\tlearn: 17.2283433\ttotal: 1.57s\tremaining: 263ms\n",
      "857:\tlearn: 17.1944614\ttotal: 1.58s\tremaining: 261ms\n",
      "858:\tlearn: 17.1573393\ttotal: 1.58s\tremaining: 259ms\n",
      "859:\tlearn: 17.0975067\ttotal: 1.58s\tremaining: 257ms\n",
      "860:\tlearn: 17.0462043\ttotal: 1.58s\tremaining: 256ms\n",
      "861:\tlearn: 17.0118805\ttotal: 1.58s\tremaining: 254ms\n",
      "862:\tlearn: 17.0045195\ttotal: 1.59s\tremaining: 252ms\n",
      "863:\tlearn: 16.9528999\ttotal: 1.59s\tremaining: 250ms\n",
      "864:\tlearn: 16.9270632\ttotal: 1.59s\tremaining: 249ms\n",
      "865:\tlearn: 16.8915252\ttotal: 1.59s\tremaining: 247ms\n",
      "866:\tlearn: 16.7946576\ttotal: 1.6s\tremaining: 245ms\n",
      "867:\tlearn: 16.7737222\ttotal: 1.6s\tremaining: 243ms\n",
      "868:\tlearn: 16.7192509\ttotal: 1.6s\tremaining: 241ms\n",
      "869:\tlearn: 16.7138388\ttotal: 1.6s\tremaining: 240ms\n",
      "870:\tlearn: 16.6877768\ttotal: 1.61s\tremaining: 238ms\n",
      "871:\tlearn: 16.6265748\ttotal: 1.61s\tremaining: 236ms\n",
      "872:\tlearn: 16.5641199\ttotal: 1.61s\tremaining: 235ms\n",
      "873:\tlearn: 16.4935111\ttotal: 1.61s\tremaining: 233ms\n",
      "874:\tlearn: 16.4250863\ttotal: 1.62s\tremaining: 231ms\n",
      "875:\tlearn: 16.3566947\ttotal: 1.62s\tremaining: 229ms\n",
      "876:\tlearn: 16.2731185\ttotal: 1.62s\tremaining: 228ms\n",
      "877:\tlearn: 16.2207923\ttotal: 1.63s\tremaining: 226ms\n",
      "878:\tlearn: 16.2073108\ttotal: 1.63s\tremaining: 224ms\n",
      "879:\tlearn: 16.1336576\ttotal: 1.63s\tremaining: 222ms\n",
      "880:\tlearn: 16.0994139\ttotal: 1.63s\tremaining: 220ms\n",
      "881:\tlearn: 16.0720217\ttotal: 1.63s\tremaining: 218ms\n",
      "882:\tlearn: 16.0192163\ttotal: 1.64s\tremaining: 217ms\n",
      "883:\tlearn: 16.0021989\ttotal: 1.64s\tremaining: 215ms\n",
      "884:\tlearn: 15.9003005\ttotal: 1.64s\tremaining: 213ms\n",
      "885:\tlearn: 15.8685768\ttotal: 1.64s\tremaining: 211ms\n",
      "886:\tlearn: 15.7757199\ttotal: 1.64s\tremaining: 209ms\n",
      "887:\tlearn: 15.7280015\ttotal: 1.65s\tremaining: 208ms\n",
      "888:\tlearn: 15.7037867\ttotal: 1.65s\tremaining: 206ms\n",
      "889:\tlearn: 15.6876254\ttotal: 1.65s\tremaining: 204ms\n",
      "890:\tlearn: 15.6002589\ttotal: 1.65s\tremaining: 202ms\n",
      "891:\tlearn: 15.5663914\ttotal: 1.65s\tremaining: 200ms\n",
      "892:\tlearn: 15.4827503\ttotal: 1.66s\tremaining: 198ms\n",
      "893:\tlearn: 15.4422647\ttotal: 1.66s\tremaining: 196ms\n",
      "894:\tlearn: 15.4230904\ttotal: 1.66s\tremaining: 195ms\n",
      "895:\tlearn: 15.3907978\ttotal: 1.66s\tremaining: 193ms\n",
      "896:\tlearn: 15.3022423\ttotal: 1.66s\tremaining: 191ms\n",
      "897:\tlearn: 15.2770800\ttotal: 1.66s\tremaining: 189ms\n",
      "898:\tlearn: 15.2708396\ttotal: 1.67s\tremaining: 187ms\n",
      "899:\tlearn: 15.2217814\ttotal: 1.67s\tremaining: 185ms\n",
      "900:\tlearn: 15.2150872\ttotal: 1.67s\tremaining: 184ms\n",
      "901:\tlearn: 15.1938758\ttotal: 1.67s\tremaining: 182ms\n",
      "902:\tlearn: 15.1087389\ttotal: 1.67s\tremaining: 180ms\n",
      "903:\tlearn: 15.0270836\ttotal: 1.67s\tremaining: 178ms\n",
      "904:\tlearn: 14.9579009\ttotal: 1.68s\tremaining: 176ms\n",
      "905:\tlearn: 14.9321713\ttotal: 1.68s\tremaining: 174ms\n",
      "906:\tlearn: 14.9254894\ttotal: 1.68s\tremaining: 172ms\n",
      "907:\tlearn: 14.8662999\ttotal: 1.68s\tremaining: 170ms\n",
      "908:\tlearn: 14.7969088\ttotal: 1.68s\tremaining: 169ms\n",
      "909:\tlearn: 14.7187437\ttotal: 1.69s\tremaining: 167ms\n",
      "910:\tlearn: 14.6594229\ttotal: 1.69s\tremaining: 165ms\n",
      "911:\tlearn: 14.6109629\ttotal: 1.69s\tremaining: 163ms\n",
      "912:\tlearn: 14.5833869\ttotal: 1.69s\tremaining: 161ms\n",
      "913:\tlearn: 14.5677206\ttotal: 1.69s\tremaining: 159ms\n",
      "914:\tlearn: 14.5260964\ttotal: 1.69s\tremaining: 157ms\n",
      "915:\tlearn: 14.4838792\ttotal: 1.69s\tremaining: 155ms\n",
      "916:\tlearn: 14.4614097\ttotal: 1.7s\tremaining: 154ms\n",
      "917:\tlearn: 14.4432212\ttotal: 1.7s\tremaining: 152ms\n",
      "918:\tlearn: 14.4363977\ttotal: 1.7s\tremaining: 150ms\n",
      "919:\tlearn: 14.3740822\ttotal: 1.7s\tremaining: 148ms\n",
      "920:\tlearn: 14.3363459\ttotal: 1.7s\tremaining: 146ms\n",
      "921:\tlearn: 14.2862425\ttotal: 1.7s\tremaining: 144ms\n",
      "922:\tlearn: 14.2195191\ttotal: 1.71s\tremaining: 142ms\n",
      "923:\tlearn: 14.1752422\ttotal: 1.71s\tremaining: 140ms\n",
      "924:\tlearn: 14.1582897\ttotal: 1.71s\tremaining: 139ms\n",
      "925:\tlearn: 14.0892518\ttotal: 1.71s\tremaining: 137ms\n",
      "926:\tlearn: 14.0163904\ttotal: 1.71s\tremaining: 135ms\n",
      "927:\tlearn: 13.9674906\ttotal: 1.72s\tremaining: 133ms\n",
      "928:\tlearn: 13.9421041\ttotal: 1.72s\tremaining: 131ms\n",
      "929:\tlearn: 13.9264108\ttotal: 1.72s\tremaining: 129ms\n",
      "930:\tlearn: 13.8953443\ttotal: 1.72s\tremaining: 127ms\n",
      "931:\tlearn: 13.8514821\ttotal: 1.72s\tremaining: 126ms\n",
      "932:\tlearn: 13.8317730\ttotal: 1.72s\tremaining: 124ms\n",
      "933:\tlearn: 13.7980615\ttotal: 1.72s\tremaining: 122ms\n",
      "934:\tlearn: 13.7252551\ttotal: 1.73s\tremaining: 120ms\n",
      "935:\tlearn: 13.6867475\ttotal: 1.73s\tremaining: 118ms\n",
      "936:\tlearn: 13.6663164\ttotal: 1.73s\tremaining: 116ms\n",
      "937:\tlearn: 13.6108173\ttotal: 1.73s\tremaining: 114ms\n",
      "938:\tlearn: 13.5827380\ttotal: 1.73s\tremaining: 113ms\n",
      "939:\tlearn: 13.5211246\ttotal: 1.73s\tremaining: 111ms\n",
      "940:\tlearn: 13.4752089\ttotal: 1.74s\tremaining: 109ms\n",
      "941:\tlearn: 13.4283115\ttotal: 1.74s\tremaining: 107ms\n",
      "942:\tlearn: 13.3912327\ttotal: 1.74s\tremaining: 105ms\n",
      "943:\tlearn: 13.3593766\ttotal: 1.74s\tremaining: 103ms\n",
      "944:\tlearn: 13.3015250\ttotal: 1.74s\tremaining: 101ms\n",
      "945:\tlearn: 13.2587480\ttotal: 1.74s\tremaining: 99.5ms\n",
      "946:\tlearn: 13.1949436\ttotal: 1.75s\tremaining: 97.7ms\n",
      "947:\tlearn: 13.1552441\ttotal: 1.75s\tremaining: 95.8ms\n",
      "948:\tlearn: 13.0700947\ttotal: 1.75s\tremaining: 93.9ms\n",
      "949:\tlearn: 13.0460884\ttotal: 1.75s\tremaining: 92.1ms\n",
      "950:\tlearn: 13.0315972\ttotal: 1.75s\tremaining: 90.2ms\n",
      "951:\tlearn: 12.9964111\ttotal: 1.75s\tremaining: 88.4ms\n",
      "952:\tlearn: 12.9757139\ttotal: 1.75s\tremaining: 86.5ms\n",
      "953:\tlearn: 12.9120533\ttotal: 1.76s\tremaining: 84.7ms\n",
      "954:\tlearn: 12.8776679\ttotal: 1.76s\tremaining: 82.8ms\n",
      "955:\tlearn: 12.8703243\ttotal: 1.76s\tremaining: 81ms\n",
      "956:\tlearn: 12.8058615\ttotal: 1.76s\tremaining: 79.1ms\n",
      "957:\tlearn: 12.7637381\ttotal: 1.76s\tremaining: 77.3ms\n",
      "958:\tlearn: 12.7517063\ttotal: 1.76s\tremaining: 75.4ms\n",
      "959:\tlearn: 12.7382108\ttotal: 1.76s\tremaining: 73.6ms\n",
      "960:\tlearn: 12.6881713\ttotal: 1.77s\tremaining: 71.7ms\n",
      "961:\tlearn: 12.6728317\ttotal: 1.77s\tremaining: 69.9ms\n",
      "962:\tlearn: 12.6386609\ttotal: 1.77s\tremaining: 68ms\n",
      "963:\tlearn: 12.5837642\ttotal: 1.77s\tremaining: 66.2ms\n",
      "964:\tlearn: 12.5689789\ttotal: 1.77s\tremaining: 64.3ms\n",
      "965:\tlearn: 12.5362136\ttotal: 1.77s\tremaining: 62.5ms\n",
      "966:\tlearn: 12.5186020\ttotal: 1.78s\tremaining: 60.6ms\n",
      "967:\tlearn: 12.4787889\ttotal: 1.78s\tremaining: 58.8ms\n",
      "968:\tlearn: 12.4463866\ttotal: 1.78s\tremaining: 57ms\n",
      "969:\tlearn: 12.3919484\ttotal: 1.78s\tremaining: 55.1ms\n",
      "970:\tlearn: 12.3583173\ttotal: 1.78s\tremaining: 53.3ms\n",
      "971:\tlearn: 12.3430204\ttotal: 1.78s\tremaining: 51.4ms\n",
      "972:\tlearn: 12.3036135\ttotal: 1.79s\tremaining: 49.6ms\n",
      "973:\tlearn: 12.2785886\ttotal: 1.79s\tremaining: 47.8ms\n",
      "974:\tlearn: 12.2424148\ttotal: 1.79s\tremaining: 45.9ms\n",
      "975:\tlearn: 12.2287225\ttotal: 1.79s\tremaining: 44.1ms\n",
      "976:\tlearn: 12.1894056\ttotal: 1.79s\tremaining: 42.2ms\n",
      "977:\tlearn: 12.1399699\ttotal: 1.79s\tremaining: 40.4ms\n",
      "978:\tlearn: 12.1165698\ttotal: 1.8s\tremaining: 38.5ms\n",
      "979:\tlearn: 12.1084930\ttotal: 1.8s\tremaining: 36.7ms\n",
      "980:\tlearn: 12.1041455\ttotal: 1.8s\tremaining: 34.9ms\n",
      "981:\tlearn: 12.0749440\ttotal: 1.8s\tremaining: 33ms\n",
      "982:\tlearn: 12.0676323\ttotal: 1.8s\tremaining: 31.2ms\n",
      "983:\tlearn: 12.0253491\ttotal: 1.8s\tremaining: 29.4ms\n",
      "984:\tlearn: 11.9725269\ttotal: 1.81s\tremaining: 27.5ms\n",
      "985:\tlearn: 11.9344239\ttotal: 1.81s\tremaining: 25.7ms\n",
      "986:\tlearn: 11.8870660\ttotal: 1.81s\tremaining: 23.8ms\n",
      "987:\tlearn: 11.8411099\ttotal: 1.81s\tremaining: 22ms\n",
      "988:\tlearn: 11.7973602\ttotal: 1.81s\tremaining: 20.2ms\n",
      "989:\tlearn: 11.7514376\ttotal: 1.81s\tremaining: 18.3ms\n",
      "990:\tlearn: 11.7232746\ttotal: 1.81s\tremaining: 16.5ms\n",
      "991:\tlearn: 11.6852796\ttotal: 1.82s\tremaining: 14.7ms\n",
      "992:\tlearn: 11.6463794\ttotal: 1.82s\tremaining: 12.8ms\n",
      "993:\tlearn: 11.6106308\ttotal: 1.82s\tremaining: 11ms\n",
      "994:\tlearn: 11.5731961\ttotal: 1.82s\tremaining: 9.16ms\n",
      "995:\tlearn: 11.5417359\ttotal: 1.82s\tremaining: 7.33ms\n",
      "996:\tlearn: 11.5167117\ttotal: 1.83s\tremaining: 5.5ms\n",
      "997:\tlearn: 11.4745232\ttotal: 1.83s\tremaining: 3.66ms\n",
      "998:\tlearn: 11.4604481\ttotal: 1.83s\tremaining: 1.83ms\n",
      "999:\tlearn: 11.4510502\ttotal: 1.83s\tremaining: 0us\n"
     ]
    }
   ],
   "source": [
    "catb = CatBoostRegressor()\n",
    "catb_model = catb.fit(X_train, y_train)"
   ]
  },
  {
   "cell_type": "markdown",
   "metadata": {},
   "source": [
    "### Tahmin ve Model Tuning"
   ]
  },
  {
   "cell_type": "code",
   "execution_count": 450,
   "metadata": {
    "tags": []
   },
   "outputs": [
    {
     "data": {
      "text/plain": [
       "351.194631344607"
      ]
     },
     "execution_count": 450,
     "metadata": {},
     "output_type": "execute_result"
    }
   ],
   "source": [
    "y_pred = catb_model.predict(X_test)\n",
    "np.sqrt(mean_squared_error(y_test, y_pred))"
   ]
  },
  {
   "cell_type": "code",
   "execution_count": 451,
   "metadata": {
    "tags": []
   },
   "outputs": [],
   "source": [
    "catb_grid = {\n",
    "    'iterations': [200,500,1000,2000],\n",
    "    'learning_rate': [0.01, 0.03, 0.05, 0.1],\n",
    "    'depth': [3,4,5,6,7,8] }"
   ]
  },
  {
   "cell_type": "code",
   "execution_count": 452,
   "metadata": {
    "tags": []
   },
   "outputs": [],
   "source": [
    "catb = CatBoostRegressor()\n",
    "catb_cv_model = GridSearchCV(catb, catb_grid, cv=5, n_jobs = -1, verbose = 2)"
   ]
  },
  {
   "cell_type": "code",
   "execution_count": 453,
   "metadata": {
    "collapsed": true,
    "jupyter": {
     "outputs_hidden": true
    },
    "tags": []
   },
   "outputs": [
    {
     "name": "stdout",
     "output_type": "stream",
     "text": [
      "Fitting 5 folds for each of 96 candidates, totalling 480 fits\n"
     ]
    },
    {
     "ename": "KeyboardInterrupt",
     "evalue": "",
     "output_type": "error",
     "traceback": [
      "\u001b[1;31m---------------------------------------------------------------------------\u001b[0m",
      "\u001b[1;31mKeyboardInterrupt\u001b[0m                         Traceback (most recent call last)",
      "Cell \u001b[1;32mIn[453], line 1\u001b[0m\n\u001b[1;32m----> 1\u001b[0m catb_cv_model\u001b[38;5;241m.\u001b[39mfit(X_train, y_train)\n",
      "File \u001b[1;32m~\\.conda\\Lib\\site-packages\\sklearn\\base.py:1151\u001b[0m, in \u001b[0;36m_fit_context.<locals>.decorator.<locals>.wrapper\u001b[1;34m(estimator, *args, **kwargs)\u001b[0m\n\u001b[0;32m   1144\u001b[0m     estimator\u001b[38;5;241m.\u001b[39m_validate_params()\n\u001b[0;32m   1146\u001b[0m \u001b[38;5;28;01mwith\u001b[39;00m config_context(\n\u001b[0;32m   1147\u001b[0m     skip_parameter_validation\u001b[38;5;241m=\u001b[39m(\n\u001b[0;32m   1148\u001b[0m         prefer_skip_nested_validation \u001b[38;5;129;01mor\u001b[39;00m global_skip_validation\n\u001b[0;32m   1149\u001b[0m     )\n\u001b[0;32m   1150\u001b[0m ):\n\u001b[1;32m-> 1151\u001b[0m     \u001b[38;5;28;01mreturn\u001b[39;00m fit_method(estimator, \u001b[38;5;241m*\u001b[39margs, \u001b[38;5;241m*\u001b[39m\u001b[38;5;241m*\u001b[39mkwargs)\n",
      "File \u001b[1;32m~\\.conda\\Lib\\site-packages\\sklearn\\model_selection\\_search.py:898\u001b[0m, in \u001b[0;36mBaseSearchCV.fit\u001b[1;34m(self, X, y, groups, **fit_params)\u001b[0m\n\u001b[0;32m    892\u001b[0m     results \u001b[38;5;241m=\u001b[39m \u001b[38;5;28mself\u001b[39m\u001b[38;5;241m.\u001b[39m_format_results(\n\u001b[0;32m    893\u001b[0m         all_candidate_params, n_splits, all_out, all_more_results\n\u001b[0;32m    894\u001b[0m     )\n\u001b[0;32m    896\u001b[0m     \u001b[38;5;28;01mreturn\u001b[39;00m results\n\u001b[1;32m--> 898\u001b[0m \u001b[38;5;28mself\u001b[39m\u001b[38;5;241m.\u001b[39m_run_search(evaluate_candidates)\n\u001b[0;32m    900\u001b[0m \u001b[38;5;66;03m# multimetric is determined here because in the case of a callable\u001b[39;00m\n\u001b[0;32m    901\u001b[0m \u001b[38;5;66;03m# self.scoring the return type is only known after calling\u001b[39;00m\n\u001b[0;32m    902\u001b[0m first_test_score \u001b[38;5;241m=\u001b[39m all_out[\u001b[38;5;241m0\u001b[39m][\u001b[38;5;124m\"\u001b[39m\u001b[38;5;124mtest_scores\u001b[39m\u001b[38;5;124m\"\u001b[39m]\n",
      "File \u001b[1;32m~\\.conda\\Lib\\site-packages\\sklearn\\model_selection\\_search.py:1419\u001b[0m, in \u001b[0;36mGridSearchCV._run_search\u001b[1;34m(self, evaluate_candidates)\u001b[0m\n\u001b[0;32m   1417\u001b[0m \u001b[38;5;28;01mdef\u001b[39;00m \u001b[38;5;21m_run_search\u001b[39m(\u001b[38;5;28mself\u001b[39m, evaluate_candidates):\n\u001b[0;32m   1418\u001b[0m \u001b[38;5;250m    \u001b[39m\u001b[38;5;124;03m\"\"\"Search all candidates in param_grid\"\"\"\u001b[39;00m\n\u001b[1;32m-> 1419\u001b[0m     evaluate_candidates(ParameterGrid(\u001b[38;5;28mself\u001b[39m\u001b[38;5;241m.\u001b[39mparam_grid))\n",
      "File \u001b[1;32m~\\.conda\\Lib\\site-packages\\sklearn\\model_selection\\_search.py:845\u001b[0m, in \u001b[0;36mBaseSearchCV.fit.<locals>.evaluate_candidates\u001b[1;34m(candidate_params, cv, more_results)\u001b[0m\n\u001b[0;32m    837\u001b[0m \u001b[38;5;28;01mif\u001b[39;00m \u001b[38;5;28mself\u001b[39m\u001b[38;5;241m.\u001b[39mverbose \u001b[38;5;241m>\u001b[39m \u001b[38;5;241m0\u001b[39m:\n\u001b[0;32m    838\u001b[0m     \u001b[38;5;28mprint\u001b[39m(\n\u001b[0;32m    839\u001b[0m         \u001b[38;5;124m\"\u001b[39m\u001b[38;5;124mFitting \u001b[39m\u001b[38;5;132;01m{0}\u001b[39;00m\u001b[38;5;124m folds for each of \u001b[39m\u001b[38;5;132;01m{1}\u001b[39;00m\u001b[38;5;124m candidates,\u001b[39m\u001b[38;5;124m\"\u001b[39m\n\u001b[0;32m    840\u001b[0m         \u001b[38;5;124m\"\u001b[39m\u001b[38;5;124m totalling \u001b[39m\u001b[38;5;132;01m{2}\u001b[39;00m\u001b[38;5;124m fits\u001b[39m\u001b[38;5;124m\"\u001b[39m\u001b[38;5;241m.\u001b[39mformat(\n\u001b[0;32m    841\u001b[0m             n_splits, n_candidates, n_candidates \u001b[38;5;241m*\u001b[39m n_splits\n\u001b[0;32m    842\u001b[0m         )\n\u001b[0;32m    843\u001b[0m     )\n\u001b[1;32m--> 845\u001b[0m out \u001b[38;5;241m=\u001b[39m parallel(\n\u001b[0;32m    846\u001b[0m     delayed(_fit_and_score)(\n\u001b[0;32m    847\u001b[0m         clone(base_estimator),\n\u001b[0;32m    848\u001b[0m         X,\n\u001b[0;32m    849\u001b[0m         y,\n\u001b[0;32m    850\u001b[0m         train\u001b[38;5;241m=\u001b[39mtrain,\n\u001b[0;32m    851\u001b[0m         test\u001b[38;5;241m=\u001b[39mtest,\n\u001b[0;32m    852\u001b[0m         parameters\u001b[38;5;241m=\u001b[39mparameters,\n\u001b[0;32m    853\u001b[0m         split_progress\u001b[38;5;241m=\u001b[39m(split_idx, n_splits),\n\u001b[0;32m    854\u001b[0m         candidate_progress\u001b[38;5;241m=\u001b[39m(cand_idx, n_candidates),\n\u001b[0;32m    855\u001b[0m         \u001b[38;5;241m*\u001b[39m\u001b[38;5;241m*\u001b[39mfit_and_score_kwargs,\n\u001b[0;32m    856\u001b[0m     )\n\u001b[0;32m    857\u001b[0m     \u001b[38;5;28;01mfor\u001b[39;00m (cand_idx, parameters), (split_idx, (train, test)) \u001b[38;5;129;01min\u001b[39;00m product(\n\u001b[0;32m    858\u001b[0m         \u001b[38;5;28menumerate\u001b[39m(candidate_params), \u001b[38;5;28menumerate\u001b[39m(cv\u001b[38;5;241m.\u001b[39msplit(X, y, groups))\n\u001b[0;32m    859\u001b[0m     )\n\u001b[0;32m    860\u001b[0m )\n\u001b[0;32m    862\u001b[0m \u001b[38;5;28;01mif\u001b[39;00m \u001b[38;5;28mlen\u001b[39m(out) \u001b[38;5;241m<\u001b[39m \u001b[38;5;241m1\u001b[39m:\n\u001b[0;32m    863\u001b[0m     \u001b[38;5;28;01mraise\u001b[39;00m \u001b[38;5;167;01mValueError\u001b[39;00m(\n\u001b[0;32m    864\u001b[0m         \u001b[38;5;124m\"\u001b[39m\u001b[38;5;124mNo fits were performed. \u001b[39m\u001b[38;5;124m\"\u001b[39m\n\u001b[0;32m    865\u001b[0m         \u001b[38;5;124m\"\u001b[39m\u001b[38;5;124mWas the CV iterator empty? \u001b[39m\u001b[38;5;124m\"\u001b[39m\n\u001b[0;32m    866\u001b[0m         \u001b[38;5;124m\"\u001b[39m\u001b[38;5;124mWere there no candidates?\u001b[39m\u001b[38;5;124m\"\u001b[39m\n\u001b[0;32m    867\u001b[0m     )\n",
      "File \u001b[1;32m~\\.conda\\Lib\\site-packages\\sklearn\\utils\\parallel.py:65\u001b[0m, in \u001b[0;36mParallel.__call__\u001b[1;34m(self, iterable)\u001b[0m\n\u001b[0;32m     60\u001b[0m config \u001b[38;5;241m=\u001b[39m get_config()\n\u001b[0;32m     61\u001b[0m iterable_with_config \u001b[38;5;241m=\u001b[39m (\n\u001b[0;32m     62\u001b[0m     (_with_config(delayed_func, config), args, kwargs)\n\u001b[0;32m     63\u001b[0m     \u001b[38;5;28;01mfor\u001b[39;00m delayed_func, args, kwargs \u001b[38;5;129;01min\u001b[39;00m iterable\n\u001b[0;32m     64\u001b[0m )\n\u001b[1;32m---> 65\u001b[0m \u001b[38;5;28;01mreturn\u001b[39;00m \u001b[38;5;28msuper\u001b[39m()\u001b[38;5;241m.\u001b[39m\u001b[38;5;21m__call__\u001b[39m(iterable_with_config)\n",
      "File \u001b[1;32m~\\.conda\\Lib\\site-packages\\joblib\\parallel.py:1098\u001b[0m, in \u001b[0;36mParallel.__call__\u001b[1;34m(self, iterable)\u001b[0m\n\u001b[0;32m   1095\u001b[0m     \u001b[38;5;28mself\u001b[39m\u001b[38;5;241m.\u001b[39m_iterating \u001b[38;5;241m=\u001b[39m \u001b[38;5;28;01mFalse\u001b[39;00m\n\u001b[0;32m   1097\u001b[0m \u001b[38;5;28;01mwith\u001b[39;00m \u001b[38;5;28mself\u001b[39m\u001b[38;5;241m.\u001b[39m_backend\u001b[38;5;241m.\u001b[39mretrieval_context():\n\u001b[1;32m-> 1098\u001b[0m     \u001b[38;5;28mself\u001b[39m\u001b[38;5;241m.\u001b[39mretrieve()\n\u001b[0;32m   1099\u001b[0m \u001b[38;5;66;03m# Make sure that we get a last message telling us we are done\u001b[39;00m\n\u001b[0;32m   1100\u001b[0m elapsed_time \u001b[38;5;241m=\u001b[39m time\u001b[38;5;241m.\u001b[39mtime() \u001b[38;5;241m-\u001b[39m \u001b[38;5;28mself\u001b[39m\u001b[38;5;241m.\u001b[39m_start_time\n",
      "File \u001b[1;32m~\\.conda\\Lib\\site-packages\\joblib\\parallel.py:975\u001b[0m, in \u001b[0;36mParallel.retrieve\u001b[1;34m(self)\u001b[0m\n\u001b[0;32m    973\u001b[0m \u001b[38;5;28;01mtry\u001b[39;00m:\n\u001b[0;32m    974\u001b[0m     \u001b[38;5;28;01mif\u001b[39;00m \u001b[38;5;28mgetattr\u001b[39m(\u001b[38;5;28mself\u001b[39m\u001b[38;5;241m.\u001b[39m_backend, \u001b[38;5;124m'\u001b[39m\u001b[38;5;124msupports_timeout\u001b[39m\u001b[38;5;124m'\u001b[39m, \u001b[38;5;28;01mFalse\u001b[39;00m):\n\u001b[1;32m--> 975\u001b[0m         \u001b[38;5;28mself\u001b[39m\u001b[38;5;241m.\u001b[39m_output\u001b[38;5;241m.\u001b[39mextend(job\u001b[38;5;241m.\u001b[39mget(timeout\u001b[38;5;241m=\u001b[39m\u001b[38;5;28mself\u001b[39m\u001b[38;5;241m.\u001b[39mtimeout))\n\u001b[0;32m    976\u001b[0m     \u001b[38;5;28;01melse\u001b[39;00m:\n\u001b[0;32m    977\u001b[0m         \u001b[38;5;28mself\u001b[39m\u001b[38;5;241m.\u001b[39m_output\u001b[38;5;241m.\u001b[39mextend(job\u001b[38;5;241m.\u001b[39mget())\n",
      "File \u001b[1;32m~\\.conda\\Lib\\site-packages\\joblib\\_parallel_backends.py:567\u001b[0m, in \u001b[0;36mLokyBackend.wrap_future_result\u001b[1;34m(future, timeout)\u001b[0m\n\u001b[0;32m    564\u001b[0m \u001b[38;5;250m\u001b[39m\u001b[38;5;124;03m\"\"\"Wrapper for Future.result to implement the same behaviour as\u001b[39;00m\n\u001b[0;32m    565\u001b[0m \u001b[38;5;124;03mAsyncResults.get from multiprocessing.\"\"\"\u001b[39;00m\n\u001b[0;32m    566\u001b[0m \u001b[38;5;28;01mtry\u001b[39;00m:\n\u001b[1;32m--> 567\u001b[0m     \u001b[38;5;28;01mreturn\u001b[39;00m future\u001b[38;5;241m.\u001b[39mresult(timeout\u001b[38;5;241m=\u001b[39mtimeout)\n\u001b[0;32m    568\u001b[0m \u001b[38;5;28;01mexcept\u001b[39;00m CfTimeoutError \u001b[38;5;28;01mas\u001b[39;00m e:\n\u001b[0;32m    569\u001b[0m     \u001b[38;5;28;01mraise\u001b[39;00m \u001b[38;5;167;01mTimeoutError\u001b[39;00m \u001b[38;5;28;01mfrom\u001b[39;00m \u001b[38;5;21;01me\u001b[39;00m\n",
      "File \u001b[1;32m~\\.conda\\Lib\\concurrent\\futures\\_base.py:451\u001b[0m, in \u001b[0;36mFuture.result\u001b[1;34m(self, timeout)\u001b[0m\n\u001b[0;32m    448\u001b[0m \u001b[38;5;28;01melif\u001b[39;00m \u001b[38;5;28mself\u001b[39m\u001b[38;5;241m.\u001b[39m_state \u001b[38;5;241m==\u001b[39m FINISHED:\n\u001b[0;32m    449\u001b[0m     \u001b[38;5;28;01mreturn\u001b[39;00m \u001b[38;5;28mself\u001b[39m\u001b[38;5;241m.\u001b[39m__get_result()\n\u001b[1;32m--> 451\u001b[0m \u001b[38;5;28mself\u001b[39m\u001b[38;5;241m.\u001b[39m_condition\u001b[38;5;241m.\u001b[39mwait(timeout)\n\u001b[0;32m    453\u001b[0m \u001b[38;5;28;01mif\u001b[39;00m \u001b[38;5;28mself\u001b[39m\u001b[38;5;241m.\u001b[39m_state \u001b[38;5;129;01min\u001b[39;00m [CANCELLED, CANCELLED_AND_NOTIFIED]:\n\u001b[0;32m    454\u001b[0m     \u001b[38;5;28;01mraise\u001b[39;00m CancelledError()\n",
      "File \u001b[1;32m~\\.conda\\Lib\\threading.py:320\u001b[0m, in \u001b[0;36mCondition.wait\u001b[1;34m(self, timeout)\u001b[0m\n\u001b[0;32m    318\u001b[0m \u001b[38;5;28;01mtry\u001b[39;00m:    \u001b[38;5;66;03m# restore state no matter what (e.g., KeyboardInterrupt)\u001b[39;00m\n\u001b[0;32m    319\u001b[0m     \u001b[38;5;28;01mif\u001b[39;00m timeout \u001b[38;5;129;01mis\u001b[39;00m \u001b[38;5;28;01mNone\u001b[39;00m:\n\u001b[1;32m--> 320\u001b[0m         waiter\u001b[38;5;241m.\u001b[39macquire()\n\u001b[0;32m    321\u001b[0m         gotit \u001b[38;5;241m=\u001b[39m \u001b[38;5;28;01mTrue\u001b[39;00m\n\u001b[0;32m    322\u001b[0m     \u001b[38;5;28;01melse\u001b[39;00m:\n",
      "\u001b[1;31mKeyboardInterrupt\u001b[0m: "
     ]
    }
   ],
   "source": [
    "catb_cv_model.fit(X_train, y_train)"
   ]
  },
  {
   "cell_type": "code",
   "execution_count": 454,
   "metadata": {
    "collapsed": true,
    "jupyter": {
     "outputs_hidden": true
    },
    "tags": []
   },
   "outputs": [
    {
     "ename": "AttributeError",
     "evalue": "'GridSearchCV' object has no attribute 'best_params_'",
     "output_type": "error",
     "traceback": [
      "\u001b[1;31m---------------------------------------------------------------------------\u001b[0m",
      "\u001b[1;31mAttributeError\u001b[0m                            Traceback (most recent call last)",
      "Cell \u001b[1;32mIn[454], line 1\u001b[0m\n\u001b[1;32m----> 1\u001b[0m catb_cv_model\u001b[38;5;241m.\u001b[39mbest_params_\n",
      "\u001b[1;31mAttributeError\u001b[0m: 'GridSearchCV' object has no attribute 'best_params_'"
     ]
    }
   ],
   "source": [
    "catb_cv_model.best_params_"
   ]
  },
  {
   "cell_type": "code",
   "execution_count": null,
   "metadata": {},
   "outputs": [],
   "source": [
    "catb_tuned = CatBoostRegressor(iterations = 200,\n",
    "                               learning_rate = 0.01,\n",
    "                               depth = 8)\n",
    "\n",
    "catb_tuned = catb_tuned.fit(X_train,y_train)"
   ]
  },
  {
   "cell_type": "code",
   "execution_count": null,
   "metadata": {},
   "outputs": [],
   "source": [
    "y_pred = catb_tuned.predict(X_test)\n",
    "np.sqrt(mean_squared_error(y_test, y_pred))"
   ]
  },
  {
   "cell_type": "code",
   "execution_count": null,
   "metadata": {},
   "outputs": [],
   "source": []
  }
 ],
 "metadata": {
  "kernelspec": {
   "display_name": "Python 3 (ipykernel)",
   "language": "python",
   "name": "python3"
  },
  "language_info": {
   "codemirror_mode": {
    "name": "ipython",
    "version": 3
   },
   "file_extension": ".py",
   "mimetype": "text/x-python",
   "name": "python",
   "nbconvert_exporter": "python",
   "pygments_lexer": "ipython3",
   "version": "3.11.5"
  }
 },
 "nbformat": 4,
 "nbformat_minor": 4
}
